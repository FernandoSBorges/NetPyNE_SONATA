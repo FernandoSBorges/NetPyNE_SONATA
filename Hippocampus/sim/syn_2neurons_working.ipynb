{
 "cells": [
  {
   "cell_type": "markdown",
   "metadata": {
    "id": "fLaOhjgEEWBf"
   },
   "source": [
    "# Input-output properties cells"
   ]
  },
  {
   "cell_type": "code",
   "execution_count": 1,
   "metadata": {
    "colab": {
     "base_uri": "https://localhost:8080/"
    },
    "id": "2MNhcCA1EqmS",
    "outputId": "3d160344-9f7e-4480-80ce-98b60590f0d3"
   },
   "outputs": [],
   "source": [
    "# !git clone https://github.com/FernandoSBorges/CA1_netpyne.git"
   ]
  },
  {
   "cell_type": "code",
   "execution_count": 2,
   "metadata": {
    "colab": {
     "base_uri": "https://localhost:8080/"
    },
    "id": "A1V7DJgeFED9",
    "outputId": "e4057c64-3ee2-4766-bdf9-03f5755cd669"
   },
   "outputs": [
    {
     "data": {
      "text/plain": [
       "'/home/fernando/CA1_netpyne/sim'"
      ]
     },
     "execution_count": 2,
     "metadata": {},
     "output_type": "execute_result"
    }
   ],
   "source": [
    "pwd"
   ]
  },
  {
   "cell_type": "code",
   "execution_count": 3,
   "metadata": {
    "id": "CyYkiSyfEWBj"
   },
   "outputs": [],
   "source": [
    "import numpy as np\n",
    "import os\n",
    "import pandas as pd\n",
    "import matplotlib.pyplot as plt"
   ]
  },
  {
   "cell_type": "code",
   "execution_count": 4,
   "metadata": {
    "id": "atqn9gogEWBm"
   },
   "outputs": [],
   "source": [
    "CircuitPath = '/home/fernando/CA1_netpyne/info/data-bbp/20191017/'\n",
    "BioName = CircuitPath + 'bioname/'\n",
    "Atlas = CircuitPath + 'atlas/'\n",
    "MorphologyPath = CircuitPath + 'morphologies/swc/'\n",
    "CellLibraryFile = CircuitPath + 'sonata/nodes/nodes_hippocampus.h5'\n",
    "METypePath = CircuitPath + 'emodels/20190402/hoc/'\n",
    "MEComboInfoFile = CircuitPath + 'emodels/20190402/mecombo_emodel.tsv'\n",
    "UserTargetFile = CircuitPath + 'user.target'\n",
    "StartTargetFile = CircuitPath + 'start.target'"
   ]
  },
  {
   "cell_type": "code",
   "execution_count": 5,
   "metadata": {
    "colab": {
     "base_uri": "https://localhost:8080/"
    },
    "id": "fW94aweXIFrn",
    "outputId": "b7e394ef-60fc-401a-fb41-1c483782b5d6"
   },
   "outputs": [],
   "source": [
    "# !pip install bluepysnap"
   ]
  },
  {
   "cell_type": "code",
   "execution_count": 6,
   "metadata": {
    "colab": {
     "base_uri": "https://localhost:8080/"
    },
    "id": "DP1E1e8vipYR",
    "outputId": "3960c55e-a152-4f08-b0b7-6e30e59e63eb"
   },
   "outputs": [],
   "source": [
    "# !pip install neuron\n",
    "# !pip install netpyne"
   ]
  },
  {
   "cell_type": "code",
   "execution_count": 7,
   "metadata": {
    "id": "zje0rMpeEWCg"
   },
   "outputs": [],
   "source": [
    "from bluepysnap import Circuit\n",
    "from bluepysnap.bbp import Cell\n",
    "circuit_path = CircuitPath + 'circuit_config.json'\n",
    "circuit = Circuit(circuit_path)\n",
    "cells = circuit.nodes[\"hippocampus_neurons\"]\n",
    "cells_projections = circuit.nodes[\"hippocampus_projections\"]\n",
    "nodesinfo = cells.get()\n",
    "nodesinfo_projections = cells_projections.get()"
   ]
  },
  {
   "cell_type": "code",
   "execution_count": 8,
   "metadata": {
    "colab": {
     "base_uri": "https://localhost:8080/",
     "height": 573
    },
    "id": "RgmjIN8oEWCi",
    "outputId": "faf105c7-32b5-49f8-9602-510dfa501fdd"
   },
   "outputs": [
    {
     "data": {
      "text/html": [
       "<div>\n",
       "<style scoped>\n",
       "    .dataframe tbody tr th:only-of-type {\n",
       "        vertical-align: middle;\n",
       "    }\n",
       "\n",
       "    .dataframe tbody tr th {\n",
       "        vertical-align: top;\n",
       "    }\n",
       "\n",
       "    .dataframe thead th {\n",
       "        text-align: right;\n",
       "    }\n",
       "</style>\n",
       "<table border=\"1\" class=\"dataframe\">\n",
       "  <thead>\n",
       "    <tr style=\"text-align: right;\">\n",
       "      <th></th>\n",
       "      <th>etype</th>\n",
       "      <th>layer</th>\n",
       "      <th>model_template</th>\n",
       "      <th>model_type</th>\n",
       "      <th>morph_class</th>\n",
       "      <th>morphology</th>\n",
       "      <th>mtype</th>\n",
       "      <th>region</th>\n",
       "      <th>rotation_angle_xaxis</th>\n",
       "      <th>rotation_angle_yaxis</th>\n",
       "      <th>rotation_angle_zaxis</th>\n",
       "      <th>synapse_class</th>\n",
       "      <th>x</th>\n",
       "      <th>y</th>\n",
       "      <th>z</th>\n",
       "      <th>@dynamics:holding_current</th>\n",
       "      <th>@dynamics:threshold_current</th>\n",
       "    </tr>\n",
       "  </thead>\n",
       "  <tbody>\n",
       "    <tr>\n",
       "      <th>0</th>\n",
       "      <td>bAC</td>\n",
       "      <td>SLM</td>\n",
       "      <td>hoc:CA1_int_bAC_011127HP1_2019032911561</td>\n",
       "      <td>biophysical</td>\n",
       "      <td>INT</td>\n",
       "      <td>011127HP1_-_Scale_x1.000_y0.850_z1.000</td>\n",
       "      <td>SLM_PPA</td>\n",
       "      <td>mc5;SLM</td>\n",
       "      <td>-0.000000</td>\n",
       "      <td>0.306704</td>\n",
       "      <td>-0.000000</td>\n",
       "      <td>INH</td>\n",
       "      <td>409.446689</td>\n",
       "      <td>525.218483</td>\n",
       "      <td>1074.146619</td>\n",
       "      <td>0.028962</td>\n",
       "      <td>0.224609</td>\n",
       "    </tr>\n",
       "    <tr>\n",
       "      <th>1</th>\n",
       "      <td>bAC</td>\n",
       "      <td>SLM</td>\n",
       "      <td>hoc:CA1_int_bAC_011127HP1_2019032911561</td>\n",
       "      <td>biophysical</td>\n",
       "      <td>INT</td>\n",
       "      <td>011127HP1_-_Scale_x1.000_y0.850_z1.000</td>\n",
       "      <td>SLM_PPA</td>\n",
       "      <td>mc3;SLM</td>\n",
       "      <td>-3.141593</td>\n",
       "      <td>1.051681</td>\n",
       "      <td>-3.141593</td>\n",
       "      <td>INH</td>\n",
       "      <td>692.961402</td>\n",
       "      <td>511.187277</td>\n",
       "      <td>573.179832</td>\n",
       "      <td>0.028962</td>\n",
       "      <td>0.224609</td>\n",
       "    </tr>\n",
       "    <tr>\n",
       "      <th>2</th>\n",
       "      <td>bAC</td>\n",
       "      <td>SLM</td>\n",
       "      <td>hoc:CA1_int_bAC_011127HP1_2019032911561</td>\n",
       "      <td>biophysical</td>\n",
       "      <td>INT</td>\n",
       "      <td>011127HP1_-_Scale_x1.000_y0.850_z1.000</td>\n",
       "      <td>SLM_PPA</td>\n",
       "      <td>mc6;SLM</td>\n",
       "      <td>-3.141593</td>\n",
       "      <td>1.393882</td>\n",
       "      <td>-3.141593</td>\n",
       "      <td>INH</td>\n",
       "      <td>624.142630</td>\n",
       "      <td>520.641475</td>\n",
       "      <td>976.924721</td>\n",
       "      <td>0.028962</td>\n",
       "      <td>0.224609</td>\n",
       "    </tr>\n",
       "    <tr>\n",
       "      <th>3</th>\n",
       "      <td>cAC</td>\n",
       "      <td>SR</td>\n",
       "      <td>hoc:CA1_int_cAC_990611HP2_2019032816214</td>\n",
       "      <td>biophysical</td>\n",
       "      <td>INT</td>\n",
       "      <td>990611HP2</td>\n",
       "      <td>SR_SCA</td>\n",
       "      <td>mc5;SR</td>\n",
       "      <td>-3.141593</td>\n",
       "      <td>0.347655</td>\n",
       "      <td>-3.141593</td>\n",
       "      <td>INH</td>\n",
       "      <td>430.543380</td>\n",
       "      <td>411.999965</td>\n",
       "      <td>1180.185218</td>\n",
       "      <td>0.005140</td>\n",
       "      <td>0.341797</td>\n",
       "    </tr>\n",
       "    <tr>\n",
       "      <th>4</th>\n",
       "      <td>cAC</td>\n",
       "      <td>SR</td>\n",
       "      <td>hoc:CA1_int_cAC_990611HP2_2019032816214</td>\n",
       "      <td>biophysical</td>\n",
       "      <td>INT</td>\n",
       "      <td>990611HP2_-_Scale_x1.000_y1.050_z1.000</td>\n",
       "      <td>SR_SCA</td>\n",
       "      <td>mc5;SR</td>\n",
       "      <td>-0.000000</td>\n",
       "      <td>0.137277</td>\n",
       "      <td>-0.000000</td>\n",
       "      <td>INH</td>\n",
       "      <td>427.936977</td>\n",
       "      <td>302.239247</td>\n",
       "      <td>1013.453517</td>\n",
       "      <td>0.004947</td>\n",
       "      <td>0.341797</td>\n",
       "    </tr>\n",
       "    <tr>\n",
       "      <th>...</th>\n",
       "      <td>...</td>\n",
       "      <td>...</td>\n",
       "      <td>...</td>\n",
       "      <td>...</td>\n",
       "      <td>...</td>\n",
       "      <td>...</td>\n",
       "      <td>...</td>\n",
       "      <td>...</td>\n",
       "      <td>...</td>\n",
       "      <td>...</td>\n",
       "      <td>...</td>\n",
       "      <td>...</td>\n",
       "      <td>...</td>\n",
       "      <td>...</td>\n",
       "      <td>...</td>\n",
       "      <td>...</td>\n",
       "      <td>...</td>\n",
       "    </tr>\n",
       "    <tr>\n",
       "      <th>18193</th>\n",
       "      <td>cNAC</td>\n",
       "      <td>SO</td>\n",
       "      <td>hoc:CA1_int_cNAC_970717D_2019030718251</td>\n",
       "      <td>biophysical</td>\n",
       "      <td>INT</td>\n",
       "      <td>980120A</td>\n",
       "      <td>SO_BP</td>\n",
       "      <td>mc3;SO</td>\n",
       "      <td>-3.141593</td>\n",
       "      <td>1.303866</td>\n",
       "      <td>-3.141593</td>\n",
       "      <td>INH</td>\n",
       "      <td>771.381002</td>\n",
       "      <td>37.274531</td>\n",
       "      <td>231.992286</td>\n",
       "      <td>-0.011643</td>\n",
       "      <td>0.302734</td>\n",
       "    </tr>\n",
       "    <tr>\n",
       "      <th>18194</th>\n",
       "      <td>cNAC</td>\n",
       "      <td>SO</td>\n",
       "      <td>hoc:CA1_int_cNAC_970911C_2019030512040</td>\n",
       "      <td>biophysical</td>\n",
       "      <td>INT</td>\n",
       "      <td>980120A_-_Scale_x1.000_y1.150_z1.000</td>\n",
       "      <td>SO_BP</td>\n",
       "      <td>mc3;SO</td>\n",
       "      <td>0.000000</td>\n",
       "      <td>-1.070015</td>\n",
       "      <td>0.000000</td>\n",
       "      <td>INH</td>\n",
       "      <td>666.970306</td>\n",
       "      <td>58.551145</td>\n",
       "      <td>396.539067</td>\n",
       "      <td>-0.044198</td>\n",
       "      <td>0.449219</td>\n",
       "    </tr>\n",
       "    <tr>\n",
       "      <th>18195</th>\n",
       "      <td>cNAC</td>\n",
       "      <td>SO</td>\n",
       "      <td>hoc:CA1_int_cNAC_970911C_2019030512040</td>\n",
       "      <td>biophysical</td>\n",
       "      <td>INT</td>\n",
       "      <td>980120A_-_Scale_x1.000_y0.850_z1.000_-_Clone_0</td>\n",
       "      <td>SO_BP</td>\n",
       "      <td>mc0;SO</td>\n",
       "      <td>-3.141593</td>\n",
       "      <td>1.267531</td>\n",
       "      <td>-3.141593</td>\n",
       "      <td>INH</td>\n",
       "      <td>505.811537</td>\n",
       "      <td>130.131875</td>\n",
       "      <td>182.700052</td>\n",
       "      <td>-0.044335</td>\n",
       "      <td>0.439453</td>\n",
       "    </tr>\n",
       "    <tr>\n",
       "      <th>18196</th>\n",
       "      <td>cNAC</td>\n",
       "      <td>SO</td>\n",
       "      <td>hoc:CA1_int_cNAC_990111HP2_2019032915570</td>\n",
       "      <td>biophysical</td>\n",
       "      <td>INT</td>\n",
       "      <td>980120A_-_Scale_x1.000_y1.150_z1.000</td>\n",
       "      <td>SO_BP</td>\n",
       "      <td>mc4;SO</td>\n",
       "      <td>-0.000000</td>\n",
       "      <td>0.815231</td>\n",
       "      <td>-0.000000</td>\n",
       "      <td>INH</td>\n",
       "      <td>-68.542249</td>\n",
       "      <td>57.960736</td>\n",
       "      <td>940.564725</td>\n",
       "      <td>-0.001224</td>\n",
       "      <td>0.371094</td>\n",
       "    </tr>\n",
       "    <tr>\n",
       "      <th>18197</th>\n",
       "      <td>cNAC</td>\n",
       "      <td>SO</td>\n",
       "      <td>hoc:CA1_int_cNAC_970509HP2_2019030511562</td>\n",
       "      <td>biophysical</td>\n",
       "      <td>INT</td>\n",
       "      <td>980120A_-_Scale_x1.000_y1.150_z1.000</td>\n",
       "      <td>SO_BP</td>\n",
       "      <td>mc5;SO</td>\n",
       "      <td>-0.000000</td>\n",
       "      <td>0.121097</td>\n",
       "      <td>-0.000000</td>\n",
       "      <td>INH</td>\n",
       "      <td>222.667008</td>\n",
       "      <td>90.924602</td>\n",
       "      <td>902.060798</td>\n",
       "      <td>-0.057650</td>\n",
       "      <td>0.527344</td>\n",
       "    </tr>\n",
       "  </tbody>\n",
       "</table>\n",
       "<p>18198 rows × 17 columns</p>\n",
       "</div>"
      ],
      "text/plain": [
       "      etype layer                            model_template   model_type  \\\n",
       "0       bAC   SLM   hoc:CA1_int_bAC_011127HP1_2019032911561  biophysical   \n",
       "1       bAC   SLM   hoc:CA1_int_bAC_011127HP1_2019032911561  biophysical   \n",
       "2       bAC   SLM   hoc:CA1_int_bAC_011127HP1_2019032911561  biophysical   \n",
       "3       cAC    SR   hoc:CA1_int_cAC_990611HP2_2019032816214  biophysical   \n",
       "4       cAC    SR   hoc:CA1_int_cAC_990611HP2_2019032816214  biophysical   \n",
       "...     ...   ...                                       ...          ...   \n",
       "18193  cNAC    SO    hoc:CA1_int_cNAC_970717D_2019030718251  biophysical   \n",
       "18194  cNAC    SO    hoc:CA1_int_cNAC_970911C_2019030512040  biophysical   \n",
       "18195  cNAC    SO    hoc:CA1_int_cNAC_970911C_2019030512040  biophysical   \n",
       "18196  cNAC    SO  hoc:CA1_int_cNAC_990111HP2_2019032915570  biophysical   \n",
       "18197  cNAC    SO  hoc:CA1_int_cNAC_970509HP2_2019030511562  biophysical   \n",
       "\n",
       "      morph_class                                      morphology    mtype  \\\n",
       "0             INT          011127HP1_-_Scale_x1.000_y0.850_z1.000  SLM_PPA   \n",
       "1             INT          011127HP1_-_Scale_x1.000_y0.850_z1.000  SLM_PPA   \n",
       "2             INT          011127HP1_-_Scale_x1.000_y0.850_z1.000  SLM_PPA   \n",
       "3             INT                                       990611HP2   SR_SCA   \n",
       "4             INT          990611HP2_-_Scale_x1.000_y1.050_z1.000   SR_SCA   \n",
       "...           ...                                             ...      ...   \n",
       "18193         INT                                         980120A    SO_BP   \n",
       "18194         INT            980120A_-_Scale_x1.000_y1.150_z1.000    SO_BP   \n",
       "18195         INT  980120A_-_Scale_x1.000_y0.850_z1.000_-_Clone_0    SO_BP   \n",
       "18196         INT            980120A_-_Scale_x1.000_y1.150_z1.000    SO_BP   \n",
       "18197         INT            980120A_-_Scale_x1.000_y1.150_z1.000    SO_BP   \n",
       "\n",
       "        region  rotation_angle_xaxis  rotation_angle_yaxis  \\\n",
       "0      mc5;SLM             -0.000000              0.306704   \n",
       "1      mc3;SLM             -3.141593              1.051681   \n",
       "2      mc6;SLM             -3.141593              1.393882   \n",
       "3       mc5;SR             -3.141593              0.347655   \n",
       "4       mc5;SR             -0.000000              0.137277   \n",
       "...        ...                   ...                   ...   \n",
       "18193   mc3;SO             -3.141593              1.303866   \n",
       "18194   mc3;SO              0.000000             -1.070015   \n",
       "18195   mc0;SO             -3.141593              1.267531   \n",
       "18196   mc4;SO             -0.000000              0.815231   \n",
       "18197   mc5;SO             -0.000000              0.121097   \n",
       "\n",
       "       rotation_angle_zaxis synapse_class           x           y  \\\n",
       "0                 -0.000000           INH  409.446689  525.218483   \n",
       "1                 -3.141593           INH  692.961402  511.187277   \n",
       "2                 -3.141593           INH  624.142630  520.641475   \n",
       "3                 -3.141593           INH  430.543380  411.999965   \n",
       "4                 -0.000000           INH  427.936977  302.239247   \n",
       "...                     ...           ...         ...         ...   \n",
       "18193             -3.141593           INH  771.381002   37.274531   \n",
       "18194              0.000000           INH  666.970306   58.551145   \n",
       "18195             -3.141593           INH  505.811537  130.131875   \n",
       "18196             -0.000000           INH  -68.542249   57.960736   \n",
       "18197             -0.000000           INH  222.667008   90.924602   \n",
       "\n",
       "                 z  @dynamics:holding_current  @dynamics:threshold_current  \n",
       "0      1074.146619                   0.028962                     0.224609  \n",
       "1       573.179832                   0.028962                     0.224609  \n",
       "2       976.924721                   0.028962                     0.224609  \n",
       "3      1180.185218                   0.005140                     0.341797  \n",
       "4      1013.453517                   0.004947                     0.341797  \n",
       "...            ...                        ...                          ...  \n",
       "18193   231.992286                  -0.011643                     0.302734  \n",
       "18194   396.539067                  -0.044198                     0.449219  \n",
       "18195   182.700052                  -0.044335                     0.439453  \n",
       "18196   940.564725                  -0.001224                     0.371094  \n",
       "18197   902.060798                  -0.057650                     0.527344  \n",
       "\n",
       "[18198 rows x 17 columns]"
      ]
     },
     "execution_count": 8,
     "metadata": {},
     "output_type": "execute_result"
    }
   ],
   "source": [
    "nodesinfo"
   ]
  },
  {
   "cell_type": "code",
   "execution_count": 9,
   "metadata": {
    "colab": {
     "base_uri": "https://localhost:8080/",
     "height": 422
    },
    "id": "udYTHOsCRsYl",
    "outputId": "dae541ad-c882-4fb1-f3f5-edb9bcb8893d"
   },
   "outputs": [
    {
     "data": {
      "text/html": [
       "<div>\n",
       "<style scoped>\n",
       "    .dataframe tbody tr th:only-of-type {\n",
       "        vertical-align: middle;\n",
       "    }\n",
       "\n",
       "    .dataframe tbody tr th {\n",
       "        vertical-align: top;\n",
       "    }\n",
       "\n",
       "    .dataframe thead th {\n",
       "        text-align: right;\n",
       "    }\n",
       "</style>\n",
       "<table border=\"1\" class=\"dataframe\">\n",
       "  <thead>\n",
       "    <tr style=\"text-align: right;\">\n",
       "      <th></th>\n",
       "      <th>etype</th>\n",
       "      <th>layer</th>\n",
       "      <th>model_template</th>\n",
       "      <th>model_type</th>\n",
       "      <th>morph_class</th>\n",
       "      <th>morphology</th>\n",
       "      <th>mtype</th>\n",
       "      <th>region</th>\n",
       "      <th>rotation_angle_xaxis</th>\n",
       "      <th>rotation_angle_yaxis</th>\n",
       "      <th>rotation_angle_zaxis</th>\n",
       "      <th>synapse_class</th>\n",
       "      <th>x</th>\n",
       "      <th>y</th>\n",
       "      <th>z</th>\n",
       "      <th>@dynamics:holding_current</th>\n",
       "      <th>@dynamics:threshold_current</th>\n",
       "    </tr>\n",
       "  </thead>\n",
       "  <tbody>\n",
       "    <tr>\n",
       "      <th>18038</th>\n",
       "      <td>cAC</td>\n",
       "      <td>SO</td>\n",
       "      <td>hoc:CA1_int_cAC_011017HP2_2019032814552</td>\n",
       "      <td>biophysical</td>\n",
       "      <td>INT</td>\n",
       "      <td>011017HP2_height_15</td>\n",
       "      <td>SO_OLM</td>\n",
       "      <td>mc4;SO</td>\n",
       "      <td>-3.141593</td>\n",
       "      <td>-0.278184</td>\n",
       "      <td>-3.141593</td>\n",
       "      <td>INH</td>\n",
       "      <td>155.454900</td>\n",
       "      <td>122.981872</td>\n",
       "      <td>888.681658</td>\n",
       "      <td>-0.045443</td>\n",
       "      <td>0.292969</td>\n",
       "    </tr>\n",
       "    <tr>\n",
       "      <th>18039</th>\n",
       "      <td>cAC</td>\n",
       "      <td>SO</td>\n",
       "      <td>hoc:CA1_int_cAC_011017HP2_2019032814552</td>\n",
       "      <td>biophysical</td>\n",
       "      <td>INT</td>\n",
       "      <td>011017HP2_height_150</td>\n",
       "      <td>SO_OLM</td>\n",
       "      <td>mc5;SO</td>\n",
       "      <td>-0.000000</td>\n",
       "      <td>1.511316</td>\n",
       "      <td>-0.000000</td>\n",
       "      <td>INH</td>\n",
       "      <td>399.040890</td>\n",
       "      <td>5.274382</td>\n",
       "      <td>1126.319073</td>\n",
       "      <td>-0.045443</td>\n",
       "      <td>0.292969</td>\n",
       "    </tr>\n",
       "    <tr>\n",
       "      <th>18040</th>\n",
       "      <td>cAC</td>\n",
       "      <td>SO</td>\n",
       "      <td>hoc:CA1_int_cAC_011017HP2_2019032814552</td>\n",
       "      <td>biophysical</td>\n",
       "      <td>INT</td>\n",
       "      <td>011017HP2_height_150</td>\n",
       "      <td>SO_OLM</td>\n",
       "      <td>mc3;SO</td>\n",
       "      <td>-3.141593</td>\n",
       "      <td>-0.036900</td>\n",
       "      <td>-3.141593</td>\n",
       "      <td>INH</td>\n",
       "      <td>708.144090</td>\n",
       "      <td>56.298760</td>\n",
       "      <td>547.607180</td>\n",
       "      <td>-0.045443</td>\n",
       "      <td>0.292969</td>\n",
       "    </tr>\n",
       "    <tr>\n",
       "      <th>18041</th>\n",
       "      <td>cAC</td>\n",
       "      <td>SO</td>\n",
       "      <td>hoc:CA1_int_cAC_011017HP2_2019032814552</td>\n",
       "      <td>biophysical</td>\n",
       "      <td>INT</td>\n",
       "      <td>011017HP2</td>\n",
       "      <td>SO_OLM</td>\n",
       "      <td>mc5;SO</td>\n",
       "      <td>-0.000000</td>\n",
       "      <td>0.160389</td>\n",
       "      <td>-0.000000</td>\n",
       "      <td>INH</td>\n",
       "      <td>389.542873</td>\n",
       "      <td>64.128969</td>\n",
       "      <td>1194.040136</td>\n",
       "      <td>-0.045443</td>\n",
       "      <td>0.292969</td>\n",
       "    </tr>\n",
       "    <tr>\n",
       "      <th>18042</th>\n",
       "      <td>cAC</td>\n",
       "      <td>SO</td>\n",
       "      <td>hoc:CA1_int_cAC_011017HP2_2019032814552</td>\n",
       "      <td>biophysical</td>\n",
       "      <td>INT</td>\n",
       "      <td>011017HP2</td>\n",
       "      <td>SO_OLM</td>\n",
       "      <td>mc3;SO</td>\n",
       "      <td>-0.000000</td>\n",
       "      <td>0.066779</td>\n",
       "      <td>-0.000000</td>\n",
       "      <td>INH</td>\n",
       "      <td>749.955623</td>\n",
       "      <td>82.504618</td>\n",
       "      <td>229.293817</td>\n",
       "      <td>-0.045443</td>\n",
       "      <td>0.292969</td>\n",
       "    </tr>\n",
       "    <tr>\n",
       "      <th>...</th>\n",
       "      <td>...</td>\n",
       "      <td>...</td>\n",
       "      <td>...</td>\n",
       "      <td>...</td>\n",
       "      <td>...</td>\n",
       "      <td>...</td>\n",
       "      <td>...</td>\n",
       "      <td>...</td>\n",
       "      <td>...</td>\n",
       "      <td>...</td>\n",
       "      <td>...</td>\n",
       "      <td>...</td>\n",
       "      <td>...</td>\n",
       "      <td>...</td>\n",
       "      <td>...</td>\n",
       "      <td>...</td>\n",
       "      <td>...</td>\n",
       "    </tr>\n",
       "    <tr>\n",
       "      <th>18121</th>\n",
       "      <td>cAC</td>\n",
       "      <td>SO</td>\n",
       "      <td>hoc:CA1_int_cAC_011017HP2_2019032814552</td>\n",
       "      <td>biophysical</td>\n",
       "      <td>INT</td>\n",
       "      <td>011017HP2_height_15</td>\n",
       "      <td>SO_OLM</td>\n",
       "      <td>mc6;SO</td>\n",
       "      <td>-3.141593</td>\n",
       "      <td>-0.693980</td>\n",
       "      <td>-3.141593</td>\n",
       "      <td>INH</td>\n",
       "      <td>778.957044</td>\n",
       "      <td>166.642150</td>\n",
       "      <td>848.857523</td>\n",
       "      <td>-0.045443</td>\n",
       "      <td>0.292969</td>\n",
       "    </tr>\n",
       "    <tr>\n",
       "      <th>18122</th>\n",
       "      <td>cAC</td>\n",
       "      <td>SO</td>\n",
       "      <td>hoc:CA1_int_cAC_011017HP2_2019032814552</td>\n",
       "      <td>biophysical</td>\n",
       "      <td>INT</td>\n",
       "      <td>011017HP2_height_150</td>\n",
       "      <td>SO_OLM</td>\n",
       "      <td>mc4;SO</td>\n",
       "      <td>-0.000000</td>\n",
       "      <td>0.763293</td>\n",
       "      <td>-0.000000</td>\n",
       "      <td>INH</td>\n",
       "      <td>-84.140585</td>\n",
       "      <td>43.955751</td>\n",
       "      <td>702.858575</td>\n",
       "      <td>-0.045443</td>\n",
       "      <td>0.292969</td>\n",
       "    </tr>\n",
       "    <tr>\n",
       "      <th>18123</th>\n",
       "      <td>cAC</td>\n",
       "      <td>SO</td>\n",
       "      <td>hoc:CA1_int_cAC_011017HP2_2019032814552</td>\n",
       "      <td>biophysical</td>\n",
       "      <td>INT</td>\n",
       "      <td>011017HP2_height_15</td>\n",
       "      <td>SO_OLM</td>\n",
       "      <td>mc4;SO</td>\n",
       "      <td>0.000000</td>\n",
       "      <td>-0.261246</td>\n",
       "      <td>0.000000</td>\n",
       "      <td>INH</td>\n",
       "      <td>-87.055036</td>\n",
       "      <td>146.738908</td>\n",
       "      <td>802.859823</td>\n",
       "      <td>-0.045443</td>\n",
       "      <td>0.292969</td>\n",
       "    </tr>\n",
       "    <tr>\n",
       "      <th>18124</th>\n",
       "      <td>cAC</td>\n",
       "      <td>SO</td>\n",
       "      <td>hoc:CA1_int_cAC_011017HP2_2019032814552</td>\n",
       "      <td>biophysical</td>\n",
       "      <td>INT</td>\n",
       "      <td>011017HP2_height_150</td>\n",
       "      <td>SO_OLM</td>\n",
       "      <td>mc1;SO</td>\n",
       "      <td>-3.141593</td>\n",
       "      <td>1.447884</td>\n",
       "      <td>-3.141593</td>\n",
       "      <td>INH</td>\n",
       "      <td>2.936487</td>\n",
       "      <td>27.242508</td>\n",
       "      <td>442.872543</td>\n",
       "      <td>-0.045443</td>\n",
       "      <td>0.292969</td>\n",
       "    </tr>\n",
       "    <tr>\n",
       "      <th>18125</th>\n",
       "      <td>cAC</td>\n",
       "      <td>SO</td>\n",
       "      <td>hoc:CA1_int_cAC_011017HP2_2019032814552</td>\n",
       "      <td>biophysical</td>\n",
       "      <td>INT</td>\n",
       "      <td>011017HP2_height_15</td>\n",
       "      <td>SO_OLM</td>\n",
       "      <td>mc1;SO</td>\n",
       "      <td>0.000000</td>\n",
       "      <td>-1.190234</td>\n",
       "      <td>0.000000</td>\n",
       "      <td>INH</td>\n",
       "      <td>-74.438749</td>\n",
       "      <td>151.947965</td>\n",
       "      <td>471.052835</td>\n",
       "      <td>-0.045443</td>\n",
       "      <td>0.292969</td>\n",
       "    </tr>\n",
       "  </tbody>\n",
       "</table>\n",
       "<p>88 rows × 17 columns</p>\n",
       "</div>"
      ],
      "text/plain": [
       "      etype layer                           model_template   model_type  \\\n",
       "18038   cAC    SO  hoc:CA1_int_cAC_011017HP2_2019032814552  biophysical   \n",
       "18039   cAC    SO  hoc:CA1_int_cAC_011017HP2_2019032814552  biophysical   \n",
       "18040   cAC    SO  hoc:CA1_int_cAC_011017HP2_2019032814552  biophysical   \n",
       "18041   cAC    SO  hoc:CA1_int_cAC_011017HP2_2019032814552  biophysical   \n",
       "18042   cAC    SO  hoc:CA1_int_cAC_011017HP2_2019032814552  biophysical   \n",
       "...     ...   ...                                      ...          ...   \n",
       "18121   cAC    SO  hoc:CA1_int_cAC_011017HP2_2019032814552  biophysical   \n",
       "18122   cAC    SO  hoc:CA1_int_cAC_011017HP2_2019032814552  biophysical   \n",
       "18123   cAC    SO  hoc:CA1_int_cAC_011017HP2_2019032814552  biophysical   \n",
       "18124   cAC    SO  hoc:CA1_int_cAC_011017HP2_2019032814552  biophysical   \n",
       "18125   cAC    SO  hoc:CA1_int_cAC_011017HP2_2019032814552  biophysical   \n",
       "\n",
       "      morph_class            morphology   mtype  region  rotation_angle_xaxis  \\\n",
       "18038         INT   011017HP2_height_15  SO_OLM  mc4;SO             -3.141593   \n",
       "18039         INT  011017HP2_height_150  SO_OLM  mc5;SO             -0.000000   \n",
       "18040         INT  011017HP2_height_150  SO_OLM  mc3;SO             -3.141593   \n",
       "18041         INT             011017HP2  SO_OLM  mc5;SO             -0.000000   \n",
       "18042         INT             011017HP2  SO_OLM  mc3;SO             -0.000000   \n",
       "...           ...                   ...     ...     ...                   ...   \n",
       "18121         INT   011017HP2_height_15  SO_OLM  mc6;SO             -3.141593   \n",
       "18122         INT  011017HP2_height_150  SO_OLM  mc4;SO             -0.000000   \n",
       "18123         INT   011017HP2_height_15  SO_OLM  mc4;SO              0.000000   \n",
       "18124         INT  011017HP2_height_150  SO_OLM  mc1;SO             -3.141593   \n",
       "18125         INT   011017HP2_height_15  SO_OLM  mc1;SO              0.000000   \n",
       "\n",
       "       rotation_angle_yaxis  rotation_angle_zaxis synapse_class           x  \\\n",
       "18038             -0.278184             -3.141593           INH  155.454900   \n",
       "18039              1.511316             -0.000000           INH  399.040890   \n",
       "18040             -0.036900             -3.141593           INH  708.144090   \n",
       "18041              0.160389             -0.000000           INH  389.542873   \n",
       "18042              0.066779             -0.000000           INH  749.955623   \n",
       "...                     ...                   ...           ...         ...   \n",
       "18121             -0.693980             -3.141593           INH  778.957044   \n",
       "18122              0.763293             -0.000000           INH  -84.140585   \n",
       "18123             -0.261246              0.000000           INH  -87.055036   \n",
       "18124              1.447884             -3.141593           INH    2.936487   \n",
       "18125             -1.190234              0.000000           INH  -74.438749   \n",
       "\n",
       "                y            z  @dynamics:holding_current  \\\n",
       "18038  122.981872   888.681658                  -0.045443   \n",
       "18039    5.274382  1126.319073                  -0.045443   \n",
       "18040   56.298760   547.607180                  -0.045443   \n",
       "18041   64.128969  1194.040136                  -0.045443   \n",
       "18042   82.504618   229.293817                  -0.045443   \n",
       "...           ...          ...                        ...   \n",
       "18121  166.642150   848.857523                  -0.045443   \n",
       "18122   43.955751   702.858575                  -0.045443   \n",
       "18123  146.738908   802.859823                  -0.045443   \n",
       "18124   27.242508   442.872543                  -0.045443   \n",
       "18125  151.947965   471.052835                  -0.045443   \n",
       "\n",
       "       @dynamics:threshold_current  \n",
       "18038                     0.292969  \n",
       "18039                     0.292969  \n",
       "18040                     0.292969  \n",
       "18041                     0.292969  \n",
       "18042                     0.292969  \n",
       "...                            ...  \n",
       "18121                     0.292969  \n",
       "18122                     0.292969  \n",
       "18123                     0.292969  \n",
       "18124                     0.292969  \n",
       "18125                     0.292969  \n",
       "\n",
       "[88 rows x 17 columns]"
      ]
     },
     "execution_count": 9,
     "metadata": {},
     "output_type": "execute_result"
    }
   ],
   "source": [
    "nodesinfo[nodesinfo['mtype'] == 'SO_OLM']"
   ]
  },
  {
   "cell_type": "code",
   "execution_count": 10,
   "metadata": {
    "colab": {
     "base_uri": "https://localhost:8080/"
    },
    "id": "6-Y9YseGEWCr",
    "outputId": "730e115b-1258-45c0-9d23-8ea16eba0544"
   },
   "outputs": [],
   "source": [
    "# !nrnivmodl mod/"
   ]
  },
  {
   "cell_type": "markdown",
   "metadata": {},
   "source": [
    "# Exploring the Lists"
   ]
  },
  {
   "cell_type": "code",
   "execution_count": 11,
   "metadata": {},
   "outputs": [],
   "source": [
    "hoclist = list(cells.property_values(Cell.MODEL_TEMPLATE))\n",
    "Morpholist = list(cells.property_values(Cell.MORPHOLOGY))\n",
    "Mtypelist = list(cells.property_values(Cell.MTYPE))"
   ]
  },
  {
   "cell_type": "code",
   "execution_count": 12,
   "metadata": {},
   "outputs": [
    {
     "data": {
      "text/plain": [
       "['SLM_PPA',\n",
       " 'SP_Ivy',\n",
       " 'SP_CCKBC',\n",
       " 'SO_Tri',\n",
       " 'SP_PC',\n",
       " 'SP_PVBC',\n",
       " 'SR_SCA',\n",
       " 'SO_BP',\n",
       " 'SP_AA',\n",
       " 'SP_BS',\n",
       " 'SO_OLM',\n",
       " 'SO_BS']"
      ]
     },
     "execution_count": 12,
     "metadata": {},
     "output_type": "execute_result"
    }
   ],
   "source": [
    "Mtypelist"
   ]
  },
  {
   "cell_type": "markdown",
   "metadata": {},
   "source": [
    "# NetPyNE"
   ]
  },
  {
   "cell_type": "code",
   "execution_count": 13,
   "metadata": {},
   "outputs": [],
   "source": [
    "from netpyne import specs, sim   \n",
    "\n",
    "# Network parameters\n",
    "netParams = specs.NetParams()  # object of class NetParams to store the network parameters"
   ]
  },
  {
   "cell_type": "code",
   "execution_count": 14,
   "metadata": {},
   "outputs": [
    {
     "name": "stdout",
     "output_type": "stream",
     "text": [
      "SO_OLM_cAC_mc5 \n",
      " 18041 mc5 SO_OLM \n",
      " hoc = CA1_int_cAC_011017HP2_2019032814552 \n",
      " swc = 011017HP2.swc\n"
     ]
    }
   ],
   "source": [
    "gid = 18041\n",
    "MorphoName = nodesinfo['morphology'][gid] + '.swc'\n",
    "hocName = nodesinfo['model_template'][gid][4:]  \n",
    "mcName = nodesinfo['region'][gid][:3]  \n",
    "Mtype = nodesinfo['mtype'][gid]\n",
    "cellName = nodesinfo['mtype'][gid] + '_' + nodesinfo['etype'][gid] + '_' + nodesinfo['region'][gid][:3]\n",
    "MEName = nodesinfo['mtype'][gid] + '_' + nodesinfo['etype'][gid]\n",
    "MorphohocName = nodesinfo['morphology'][gid] + '__' + nodesinfo['model_template'][gid][4:]    \n",
    "\n",
    "print('%s \\n %d %s %s \\n hoc = %s \\n swc = %s' % (cellName,gid,mcName,Mtype,hocName,MorphoName))"
   ]
  },
  {
   "cell_type": "code",
   "execution_count": 15,
   "metadata": {},
   "outputs": [
    {
     "name": "stdout",
     "output_type": "stream",
     "text": [
      "SP_PC_cACpyr_mc1 \n",
      " 14000 mc1 SP_PC \n",
      " hoc = CA1_pyr_cACpyr_mpg141216_A_idA_2019030513333 \n",
      " swc = dend-oh140521_B0_Rat_idC_axon-mpg141017_a1-2_idC_-_Scale_x1.000_y0.900_z1.000_-_Clone_9.swc\n"
     ]
    }
   ],
   "source": [
    "gid = 14000\n",
    "MorphoName = nodesinfo['morphology'][gid] + '.swc'\n",
    "hocName = nodesinfo['model_template'][gid][4:]  \n",
    "mcName = nodesinfo['region'][gid][:3]  \n",
    "Mtype = nodesinfo['mtype'][gid]\n",
    "cellName = nodesinfo['mtype'][gid] + '_' + nodesinfo['etype'][gid] + '_' + nodesinfo['region'][gid][:3]\n",
    "MEName = nodesinfo['mtype'][gid] + '_' + nodesinfo['etype'][gid]\n",
    "MorphohocName = nodesinfo['morphology'][gid] + '__' + nodesinfo['model_template'][gid][4:]    \n",
    "\n",
    "print('%s \\n %d %s %s \\n hoc = %s \\n swc = %s' % (cellName,gid,mcName,Mtype,hocName,MorphoName))"
   ]
  },
  {
   "cell_type": "code",
   "execution_count": 16,
   "metadata": {},
   "outputs": [],
   "source": [
    "for gid in [14000,18041]:\n",
    "    MorphoName = nodesinfo['morphology'][gid] + '.swc'\n",
    "    hocName = nodesinfo['model_template'][gid][4:]  \n",
    "    if cellName == nodesinfo['mtype'][gid] + '_' + nodesinfo['etype'][gid] + '_' + nodesinfo['region'][gid][:3]:\n",
    "        cellName = nodesinfo['mtype'][gid] + '_' + nodesinfo['etype'][gid] + '_' + nodesinfo['region'][gid][:3] + '_2'\n",
    "    else:  \n",
    "        cellName = nodesinfo['mtype'][gid] + '_' + nodesinfo['etype'][gid] + '_' + nodesinfo['region'][gid][:3]\n",
    "    \n",
    "    cellRule = netParams.importCellParams(label=cellName, somaAtOrigin=False,\n",
    "        conds={'cellType': cellName, 'cellModel': 'HH_full'},\n",
    "        fileName='cellwrapper.py',\n",
    "        cellName='loadCell',\n",
    "        cellInstance = True,\n",
    "        cellArgs={'hocName': hocName, 'MorphoName': MorphoName})\n",
    "    netParams.renameCellParamsSec(label=cellName, oldSec='soma_0', newSec='soma')"
   ]
  },
  {
   "cell_type": "code",
   "execution_count": 17,
   "metadata": {},
   "outputs": [
    {
     "data": {
      "text/plain": [
       "odict_keys(['SP_PC_cACpyr_mc1_2', 'SO_OLM_cAC_mc5'])"
      ]
     },
     "execution_count": 17,
     "metadata": {},
     "output_type": "execute_result"
    }
   ],
   "source": [
    "# netParams.cellParams[cellName]\n",
    "netParams.cellParams.keys()"
   ]
  },
  {
   "cell_type": "code",
   "execution_count": 18,
   "metadata": {},
   "outputs": [],
   "source": [
    "netParams.popParams['SP_PC_cACpyr'] = {'cellType': 'SP_PC_cACpyr_mc1_2', 'numCells': 1, 'cellModel': 'HH_full'}\n",
    "netParams.popParams['SO_OLM_cAC'] = {'cellType': 'SO_OLM_cAC_mc5', 'numCells': 1, 'cellModel': 'HH_full'}"
   ]
  },
  {
   "cell_type": "markdown",
   "metadata": {},
   "source": [
    "## LOAD PHYS FROM FILES"
   ]
  },
  {
   "cell_type": "code",
   "execution_count": 34,
   "metadata": {},
   "outputs": [],
   "source": [
    "for pre in Mtypelist:\n",
    "    for post in Mtypelist:\n",
    "        proj = '%s:%s' % (pre,post)"
   ]
  },
  {
   "cell_type": "code",
   "execution_count": null,
   "metadata": {},
   "outputs": [],
   "source": [
    "with open('physiology/physiology_synTypes.dat') as physiology_file:\n",
    "    physiology_content = physiology_file.read()\n",
    "\n",
    "parameters_name = {}   \n",
    "ConnTypeNumber = -1  \n",
    "parameters_syn = {}\n",
    "syntypes = {}\n",
    "for line in physiology_content.split('\\n')[:-1]:    \n",
    "    if ConnTypeNumber < 0:\n",
    "        n2 = 0\n",
    "        parameters_list = line.split()   \n",
    "        for parameter in parameters_list:\n",
    "            parameters_name[n2] = str(parameter)\n",
    "            n2 = n2 + 1   \n",
    "    else:\n",
    "        n2 = 0\n",
    "        parameters_list = line.split()   \n",
    "        for parameter in parameters_list:\n",
    "            if n2 == 0:\n",
    "                parameters_syn[parameters_name[n2],ConnTypeNumber] = int(parameter)\n",
    "                syntypes[ConnTypeNumber] = int(parameter)\n",
    "            elif n2 > 10:\n",
    "                parameters_syn[parameters_name[n2],ConnTypeNumber] = str(parameter)                \n",
    "            else:\n",
    "                parameters_syn[parameters_name[n2],ConnTypeNumber] = float(parameter)\n",
    "            n2 = n2 + 1\n",
    "                \n",
    "    ConnTypeNumber = ConnTypeNumber + 1"
   ]
  },
  {
   "cell_type": "code",
   "execution_count": null,
   "metadata": {},
   "outputs": [],
   "source": [
    "physColumnNames = [parameters_name[x] for x in parameters_name]\n",
    "dfS6 = pd.DataFrame(index=syntypes, columns=physColumnNames)\n",
    "for syntype in syntypes:\n",
    "    for name in physColumnNames:    \n",
    "        dfS6.loc[syntype][name] = parameters_syn[name,syntype]\n",
    "dfS6"
   ]
  },
  {
   "cell_type": "code",
   "execution_count": null,
   "metadata": {},
   "outputs": [],
   "source": [
    "#EXC\n",
    "for pre in Mtypelist:\n",
    "    for post in Mtypelist:\n",
    "        proj = '%s:%s' % (pre,post)\n",
    "        if proj in listofprojections:\n",
    "            netParams.synMechParams[proj]= {'mod':'DetAMPANMDA', 'tau_r_AMPA':puxardopandasissovcsabefazer[pre][post], 'tau_d_AMPA':3.0, 'e':0.0, 'tau_r_NMDA': 9.0, 'tau_d_NMDA': 61.0, 'Use': 0.5,'Dep': 671.0, 'Fac': 17.0, 'NMDA_ratio': 1.22, 'gmax': 0.0006}\n",
    "#INH\n",
    "for pre in Mtypelist:\n",
    "    for post in Mtypelist:\n",
    "        proj = '%s:%s' % (pre,post)\n",
    "        if proj in listofprojections:\n",
    "            netParams.synMechParams[proj]= {'mod':'DetGABAAB', 'tau_r_AMPA':0.2, 'tau_d_AMPA':3.0, 'e':0.0, 'tau_r_NMDA': 9.0, 'tau_d_NMDA': 61.0, 'Use': 0.5,'Dep': 671.0, 'Fac': 17.0, 'NMDA_ratio': 1.22, 'gmax': 0.0006}\n"
   ]
  },
  {
   "cell_type": "code",
   "execution_count": null,
   "metadata": {},
   "outputs": [],
   "source": [
    "# #Pre-syn: PC\n",
    "# netParams.synMechParams['PC_PC']= {'mod':'DetAMPANMDA', 'tau_r_AMPA':0.2, 'tau_d_AMPA':3.0, 'e':0.0, 'tau_r_NMDA': 9.0, 'tau_d_NMDA': 61.0, 'Use': 0.5,'Dep': 671.0, 'Fac': 17.0, 'NMDA_ratio': 1.22, 'gmax': 0.0006}\n",
    "# netParams.synMechParams['PC_BC']= {'mod':'DetAMPANMDA', 'tau_r_AMPA':0.2, 'tau_d_AMPA':4.12, 'e':0.0, 'tau_r_NMDA': 9.0, 'tau_d_NMDA': 100.0, 'Use': 0.23,'Dep': 410.0, 'Fac': 10.0, 'NMDA_ratio': 1.22, 'gmax': 0.002}\n",
    "# netParams.synMechParams['PC_AAC']= {'mod':'DetAMPANMDA', 'tau_r_AMPA':0.2, 'tau_d_AMPA':4.12, 'e':0.0, 'tau_r_NMDA': 9.0, 'tau_d_NMDA': 100.0, 'Use': 0.23,'Dep': 410, 'Fac': 10.0, 'NMDA_ratio': 1.22, 'gmax': 0.00235}\n",
    "# netParams.synMechParams['PC_BSC']= {'mod':'DetAMPANMDA', 'tau_r_AMPA':0.2, 'tau_d_AMPA':4.12, 'e':0.0, 'tau_r_NMDA': 9.0, 'tau_d_NMDA': 100.0, 'Use': 0.23,'Dep': 410, 'Fac': 10.0, 'NMDA_ratio': 1.22, 'gmax': 0.00165}\n",
    "# netParams.synMechParams['PC_OLM']= {'mod':'DetAMPANMDA', 'tau_r_AMPA':0.2, 'tau_d_AMPA':1.7, 'e':0.0, 'tau_r_NMDA': 9.0, 'tau_d_NMDA': 100.0, 'Use': 0.09,'Dep': 138, 'Fac': 670.0, 'NMDA_ratio': 1.22, 'gmax': 0.0008}\n",
    "# #Pre-syn: BC\n",
    "# netParams.synMechParams['BC_PC']={'mod':'DetGABAAB', 'tau_r_GABAA':0.2, 'tau_d_GABAA':4.12, 'e_GABAA':-80.0, 'tau_r_GABAB':35.0, 'tau_d_GABAB':100.0, 'e_GABAB':-97.0, 'Use': 0.26, 'Dep': 965.0, 'Fac': 8.6, 'GABAB_ratio': 0, 'gmax': 0.00215}\n",
    "# netParams.synMechParams['BC_BC']={'mod':'DetGABAAB', 'tau_r_GABAA':0.2, 'tau_d_GABAA':4.67, 'e_GABAA':-80.0, 'tau_r_GABAB':35.0, 'tau_d_GABAB':100.0, 'e_GABAB':-97.0, 'Use': 0.26, 'Dep': 930.0, 'Fac': 1.6, 'GABAB_ratio': 0, 'gmax': 0.0045}\n",
    "# netParams.synMechParams['BC_BSC']={'mod':'DetGABAAB', 'tau_r_GABAA':0.2, 'tau_d_GABAA':4.5, 'e_GABAA':-75.0, 'tau_r_GABAB':35.0, 'tau_d_GABAB':100.0, 'e_GABAB':-75.0, 'Use': 0.26, 'Dep': 930.0, 'Fac': 1.6, 'GABAB_ratio': 0, 'gmax': 0.0045}\n",
    "# netParams.synMechParams['BC_OLM']={'mod':'DetGABAAB', 'tau_r_GABAA':0.2, 'tau_d_GABAA':4.5, 'e_GABAA':-75.0, 'tau_r_GABAB':35.0, 'tau_d_GABAB':100.0, 'e_GABAB':-75.0, 'Use': 0.11, 'Dep': 930.0, 'Fac': 1.6, 'GABAB_ratio': 0, 'gmax': 0.0045}\n",
    "# #Pre-syn: AAC\n",
    "# netParams.synMechParams['AAC_PC']={'mod':'DetGABAAB', 'tau_r_GABAA':0.2, 'tau_d_GABAA':11.2, 'e_GABAA':-75.0, 'tau_r_GABAB':35.0, 'tau_d_GABAB':100.0, 'e_GABAB':-75.0, 'Use': 0.1, 'Dep': 1278, 'Fac': 10, 'GABAB_ratio': 0, 'gmax': 0.0024}\n",
    "# #Pre-syn: BSC\n",
    "# netParams.synMechParams['BSC_PC']={'mod':'DetGABAAB', 'tau_r_GABAA':0.2, 'tau_d_GABAA':16.1, 'e_GABAA':-75.0, 'tau_r_GABAB':35.0, 'tau_d_GABAB':100.0, 'e_GABAB':-75.0, 'Use': 0.13, 'Dep': 1122.0, 'Fac': 9.3, 'GABAB_ratio': 0, 'gmax': 0.0016}\n",
    "# netParams.synMechParams['BSC_BSC']={'mod':'DetGABAAB', 'tau_r_GABAA':0.2, 'tau_d_GABAA':4.5, 'e_GABAA':-75.0, 'tau_r_GABAB':35.0, 'tau_d_GABAB':100.0, 'e_GABAB':-75.0, 'Use': 0.11, 'Dep': 930.0, 'Fac': 1.6, 'GABAB_ratio': 0, 'gmax': 0.0045}\n",
    "# netParams.synMechParams['BSC_BC']={'mod':'DetGABAAB', 'tau_r_GABAA':0.2, 'tau_d_GABAA':4.5, 'e_GABAA':-75.0, 'tau_r_GABAB':35.0, 'tau_d_GABAB':100.0, 'e_GABAB':-75.0, 'Use': 0.11, 'Dep': 930.0, 'Fac': 1.6, 'GABAB_ratio': 0, 'gmax': 0.0045}\n",
    "# #Pre-syn: OLM\n",
    "# netParams.synMechParams['OLM_PC']={'mod':'DetGABAAB', 'tau_r_GABAA':0.2, 'tau_d_GABAA':8.3, 'e_GABAA':-75.0, 'tau_r_GABAB':35.0, 'tau_d_GABAB':100.0, 'e_GABAB':-75.0, 'Use': 0.3, 'Dep': 1250.0, 'Fac': 2, 'GABAB_ratio': 0, 'gmax': 0.0014}"
   ]
  },
  {
   "cell_type": "code",
   "execution_count": null,
   "metadata": {},
   "outputs": [],
   "source": [
    "#------------------------------------------------------------------------------\n",
    "# load data from S1 conn pre-processing file \n",
    "#------------------------------------------------------------------------------\n",
    "with open('conn/conn.pkl', 'rb') as fileObj: connData = pickle.load(fileObj)\n",
    "\n",
    "synperconnNumber = connData['synperconnNumber']\n",
    "decay = connData['decay']\n",
    "gsyn = connData['gsyn']\n",
    "use = connData['use']\n",
    "decay = ...\n",
    "            \n",
    "#             gsyn[pre][post] = parameters_syn['gsyn',conn]\n",
    "#             gsynStd[pre][post] =  parameters_syn['gsynStd',conn]\n",
    "#             decay[pre][post] =  parameters_syn['decay',conn]  'tau_d_AMPA':3.0  'tau_d_GABAA'\n",
    "#             decayStd[pre][post] =parameters_syn['decayStd',conn]\n",
    "#             use[pre][post] = parameters_syn['use',conn]\n",
    "#             useStd[pre][post] = parameters_syn['useStd',conn]\n",
    "#             dep[pre][post] = parameters_syn['dep',conn]\n",
    "#             depStd[pre][post] =parameters_syn['depStd',conn]\n",
    "#             fac[pre][post] = parameters_syn['fac',conn]\n",
    "#             facStd[pre][post] = parameters_syn['facStd',conn]\n",
    "#             stypes[pre][post] = parameters_syn['s-types',conn]\n",
    "#             EItype[pre][post] = parameters_syn['type',conn]"
   ]
  },
  {
   "cell_type": "code",
   "execution_count": 19,
   "metadata": {},
   "outputs": [],
   "source": [
    "#------------------------------------------------------------------------------\n",
    "# SYNAPTIC MECHANISMS\t\n",
    "#------------------------------------------------------------------------------\n",
    "#Pre-syn: PC\n",
    "# netParams.synMechParams['PC_PC']= {'mod':'DetAMPANMDA', 'tau_r_AMPA':0.2, 'tau_d_AMPA':3.0, 'e':0.0, \n",
    "#                                    'tau_r_NMDA': 9.0, 'tau_d_NMDA': 61.0, 'Use': 0.5,'Dep': 671.0, \n",
    "#                                    'Fac': 17.0, 'NMDA_ratio': 1.22}\n",
    "# netParams.synMechParams['PC_BC']= {'mod':'DetAMPANMDA', 'tau_r_AMPA':0.2, 'tau_d_AMPA':4.12, 'e':0.0, \n",
    "#                                    'tau_r_NMDA': 9.0, 'tau_d_NMDA': 100.0, 'Use': 0.23,'Dep': 410.0, \n",
    "#                                    'Fac': 10.0, 'NMDA_ratio': 1.22}\n",
    "# netParams.synMechParams['PC_OLM']= {'mod':'DetAMPANMDA', 'tau_r_AMPA':0.2, 'tau_d_AMPA':1.7, 'e':0.0, \n",
    "#                                     'tau_r_NMDA': 9.0, 'tau_d_NMDA': 100.0, 'Use': 0.09,'Dep': 138, \n",
    "#                                     'Fac': 670.0, 'NMDA_ratio': 1.22} #, 'gmax': 0.0008\n",
    "\n",
    "netParams.synMechParams['PC_OLM'] = {'mod': 'DetAMPANMDA', \n",
    "                                     #'mod': 'ProbAMPANMDA_EMS', 'Nrrp': 1,\n",
    "                                     'tau_d_AMPA': 1.7, \n",
    "                                          'tau_d_NMDA': 148.5, #'gmax': 0.0008, \n",
    "                                          #'tau_r_AMPA': 0.1, 'tau_r_NMDA': 10.0,\n",
    "                                          'Use': 0.09, \n",
    "                                          'Dep': 138.0, \n",
    "                                          'Fac': 670.0, 'NMDA_ratio': 1.22}\n",
    "\n",
    "\n",
    "netParams.synMechParams['OLM_PC']={'mod':'DetGABAAB', \n",
    "                                   'tau_d_GABAA':8.3, 'e_GABAA':-75.0,\n",
    "                                   'Use': 0.3, \n",
    "                                   'Dep': 1250.0, \n",
    "                                   'Fac': 2, 'GABAB_ratio': 0} \n",
    "\n",
    "#, 'gmax': 0.0014, 'tau_r_GABAA':0.2, 'tau_r_GABAB':35.0, 'tau_d_GABAB':100.0, 'e_GABAB':-75.0, "
   ]
  },
  {
   "cell_type": "code",
   "execution_count": 20,
   "metadata": {},
   "outputs": [],
   "source": [
    "#------------------------------------------------------------------------------\n",
    "#\tNETWORK CONNECTIONS\t\n",
    "#------------------------------------------------------------------------------\n",
    "\n",
    "#EXC\n",
    "# for pre in ['SP_PC_cACpyr']:\n",
    "# \tfor post in ['SO_OLM_cAC']:\n",
    "# \t\tnetParams.connParams[pre + '->' + post] = {\n",
    "# \t\t\t'preConds': {'pop': pre},\n",
    "# \t\t\t'postConds': {'pop': post},\n",
    "# \t\t\t# 'sec': postsynDict[postsynList[i]],\n",
    "# \t\t\t'synsPerConn': 2,\n",
    "# \t\t\t'synMech': 'PC_OLM',\n",
    "# \t\t\t'weight': 1.5,\n",
    "# \t\t\t'delay': 0.5\n",
    "# \t\t\t}\n",
    "# \t\tif post=='SP_PC_cACpyr_mc2_0':\n",
    "# \t\t\tnetParams.connParams[pre + '->' + post]['synMech'] = 'PC_PC'\n",
    "\n",
    "#INH\n",
    "for pre in ['SO_OLM_cAC']:\n",
    "\tfor post in ['SP_PC_cACpyr']:\n",
    "\t\tnetParams.connParams[pre + '->' + post] = {\n",
    "\t\t\t'preConds': {'pop': pre},\n",
    "\t\t\t'postConds': {'pop': post},\n",
    "\t\t\t# 'sec': postsynDict[postsynList[i]],\n",
    "\t\t\t'synsPerConn': 8,\n",
    "\t\t\t'synMech': 'OLM_PC',\n",
    "\t\t\t'weight': 1.5,\n",
    "\t\t\t'delay': 0.5\n",
    "\t\t\t}"
   ]
  },
  {
   "cell_type": "code",
   "execution_count": 21,
   "metadata": {},
   "outputs": [],
   "source": [
    "# Options\n",
    "durationstim = 800.0\n",
    "delaystim = 100.0\n",
    "timesimulation = 1000.0\n",
    "ampstim =  [-0.8, -0.6, -0.2, 0.2 ,0.4, 0.6 , 0.8, 1.0]\n",
    "step_number = 6\n",
    "netParams.stimSourceParams['Input'] = {'type': 'IClamp', 'del': delaystim, 'dur': durationstim, 'amp': ampstim[step_number]}\n",
    "\n",
    "netParams.stimTargetParams['Input->all'] = {'source': 'Input', 'sec':'soma', 'loc': 0.5, 'conds': {'pop':'SO_OLM_cAC'}}"
   ]
  },
  {
   "cell_type": "code",
   "execution_count": 22,
   "metadata": {},
   "outputs": [],
   "source": [
    "## cfg  \n",
    "cfg = specs.SimConfig()\t\t\t\t\t            # object of class SimConfig to store simulation configuration\n",
    "cfg.duration = timesimulation \t\t\t\t\t\t            # Duration of the simulation, in ms\n",
    "cfg.dt = 0.01\t\t\t\t\t\t\t\t                # Internal integration timestep to use\n",
    "cfg.verbose = False\t\t\t\t\t\t\t                # Show detailed messages \n",
    "cfg.recordTraces = {'V_soma':{'sec':'soma','loc':0.5,'var':'v'}}  # Dict with traces to record\n",
    "cfg.recordStep = 0.01 \t\t\t\n",
    "cfg.filename = 'model_inh'  \t\t\t# Set file output name\n",
    "cfg.saveJson = False\n",
    "cfg.analysis['plotTraces'] = {'include': [0, 1], 'timeRange': [0,1000], 'saveFig': True, 'showFig': True, 'figSize':(12,4)} # , 'ylim': [-90,30] Plot recorded traces for this list of cells\n",
    "# cfg.analysis['plotShape'] = {'includePre': [0, 1],'includePre': [0, 1], 'saveFig': True, 'showFig': True, 'figSize':(12,12)}\n",
    "cfg.hParams['celsius'] = 34.0"
   ]
  },
  {
   "cell_type": "code",
   "execution_count": 23,
   "metadata": {},
   "outputs": [
    {
     "name": "stdout",
     "output_type": "stream",
     "text": [
      "\n",
      "Start time:  2021-07-30 17:24:31.911788\n"
     ]
    },
    {
     "data": {
      "text/plain": [
       "{SP_PC_cACpyr: <netpyne.network.pop.Pop object at 0x7f0c97a18d50>, SO_OLM_cAC: <netpyne.network.pop.Pop object at 0x7f0c97a1c210>}"
      ]
     },
     "execution_count": 23,
     "metadata": {},
     "output_type": "execute_result"
    }
   ],
   "source": [
    "sim.initialize(\n",
    "    simConfig = cfg, \t\n",
    "    netParams = netParams)  \t\t\t\t# create network object and set cfg and net params\n",
    "sim.net.createPops()               \t\t\t# instantiate network populations"
   ]
  },
  {
   "cell_type": "code",
   "execution_count": 24,
   "metadata": {},
   "outputs": [
    {
     "name": "stdout",
     "output_type": "stream",
     "text": [
      "\n",
      "Creating network of 2 cell populations on 1 hosts...\n",
      "  Number of cells on node 0: 2 \n",
      "  Done; cell creation time = 0.28 s.\n"
     ]
    },
    {
     "data": {
      "text/plain": [
       "[compartCell_SP_PC_cACpyr_mc1_2_HH_full_0,\n",
       " compartCell_SO_OLM_cAC_mc5_HH_full_1]"
      ]
     },
     "execution_count": 24,
     "metadata": {},
     "output_type": "execute_result"
    }
   ],
   "source": [
    "sim.net.createCells()              \t\t\t# instantiate network cells based on defined populations"
   ]
  },
  {
   "cell_type": "code",
   "execution_count": 25,
   "metadata": {
    "scrolled": true
   },
   "outputs": [
    {
     "name": "stdout",
     "output_type": "stream",
     "text": [
      "Making connections...\n",
      "  Number of connections on node 0: 1 \n",
      "  Number of synaptic contacts on node 0: 8 \n",
      "  Done; cell connection time = 0.00 s.\n"
     ]
    },
    {
     "data": {
      "text/plain": [
       "[[{preGid: 1, sec: 'soma', loc: 0.0625, synMech: 'OLM_PC', weight: 1.5, delay: 0.5, label: 'SO_OLM_cAC->SP_PC_cACpyr', hObj: NetCon[0]},\n",
       "  {preGid: 1, sec: 'soma', loc: 0.1875, synMech: 'OLM_PC', weight: 1.5, delay: 0.5, label: 'SO_OLM_cAC->SP_PC_cACpyr', hObj: NetCon[1]},\n",
       "  {preGid: 1, sec: 'soma', loc: 0.3125, synMech: 'OLM_PC', weight: 1.5, delay: 0.5, label: 'SO_OLM_cAC->SP_PC_cACpyr', hObj: NetCon[2]},\n",
       "  {preGid: 1, sec: 'soma', loc: 0.4375, synMech: 'OLM_PC', weight: 1.5, delay: 0.5, label: 'SO_OLM_cAC->SP_PC_cACpyr', hObj: NetCon[3]},\n",
       "  {preGid: 1, sec: 'soma', loc: 0.5625, synMech: 'OLM_PC', weight: 1.5, delay: 0.5, label: 'SO_OLM_cAC->SP_PC_cACpyr', hObj: NetCon[4]},\n",
       "  {preGid: 1, sec: 'soma', loc: 0.6875, synMech: 'OLM_PC', weight: 1.5, delay: 0.5, label: 'SO_OLM_cAC->SP_PC_cACpyr', hObj: NetCon[5]},\n",
       "  {preGid: 1, sec: 'soma', loc: 0.8125, synMech: 'OLM_PC', weight: 1.5, delay: 0.5, label: 'SO_OLM_cAC->SP_PC_cACpyr', hObj: NetCon[6]},\n",
       "  {preGid: 1, sec: 'soma', loc: 0.9375, synMech: 'OLM_PC', weight: 1.5, delay: 0.5, label: 'SO_OLM_cAC->SP_PC_cACpyr', hObj: NetCon[7]}],\n",
       " []]"
      ]
     },
     "execution_count": 25,
     "metadata": {},
     "output_type": "execute_result"
    }
   ],
   "source": [
    "sim.net.connectCells()            \t\t\t# create connections between cells based on params"
   ]
  },
  {
   "cell_type": "code",
   "execution_count": 26,
   "metadata": {},
   "outputs": [
    {
     "name": "stdout",
     "output_type": "stream",
     "text": [
      "Adding stims...\n",
      "  Number of stims on node 0: 1 \n",
      "  Done; cell stims creation time = 0.00 s.\n"
     ]
    },
    {
     "data": {
      "text/plain": [
       "[[],\n",
       " [{label: 'Input->all', source: 'Input', sec: 'soma', loc: 0.5, type: 'IClamp', del: 100.0, dur: 800.0, amp: 0.8, hObj: IClamp[0]}]]"
      ]
     },
     "execution_count": 26,
     "metadata": {},
     "output_type": "execute_result"
    }
   ],
   "source": [
    "sim.net.addStims() \t\t\t\t\t\t\t# add network stimulation"
   ]
  },
  {
   "cell_type": "code",
   "execution_count": 27,
   "metadata": {},
   "outputs": [
    {
     "name": "stdout",
     "output_type": "stream",
     "text": [
      "Recording 2 traces of 1 types on node 0\n"
     ]
    },
    {
     "data": {
      "text/plain": [
       "{spkt: Vector[22106], spkid: Vector[22107], V_soma: {cell_0: Vector[22108], cell_1: Vector[22109]}, t: Vector[22110], _repr_mimebundle_: {}}"
      ]
     },
     "execution_count": 27,
     "metadata": {},
     "output_type": "execute_result"
    }
   ],
   "source": [
    "sim.setupRecording()              \t\t\t# setup variables to record for each cell (spikes, V traces, etc)"
   ]
  },
  {
   "cell_type": "code",
   "execution_count": 28,
   "metadata": {},
   "outputs": [
    {
     "name": "stdout",
     "output_type": "stream",
     "text": [
      "\n",
      "Running simulation for 1000.0 ms...\n",
      "  Done; run time = 330.29 s; real-time ratio: 0.00.\n"
     ]
    }
   ],
   "source": [
    "sim.runSim()                      \t\t\t# run parallel Neuron simulation  "
   ]
  },
  {
   "cell_type": "code",
   "execution_count": 29,
   "metadata": {},
   "outputs": [
    {
     "name": "stdout",
     "output_type": "stream",
     "text": [
      "\n",
      "Gathering data...\n",
      "  Done; gather time = 0.22 s.\n",
      "\n",
      "Analyzing...\n",
      "  Cells: 2\n",
      "  Connections: 1 (0.50 per cell)\n",
      "  Synaptic contacts: 8 (4.00 per cell)\n",
      "  Spikes: 15 (7.50 Hz)\n",
      "  Simulated time: 1.0 s; 1 workers\n",
      "  Run time: 330.29 s\n"
     ]
    }
   ],
   "source": [
    "sim.gatherData();                  \t\t\t# gather spiking data and cell info from each node"
   ]
  },
  {
   "cell_type": "code",
   "execution_count": 30,
   "metadata": {},
   "outputs": [
    {
     "name": "stdout",
     "output_type": "stream",
     "text": [
      "  Done; saving time = 0.02 s.\n",
      "Plotting recorded cell traces ... cell\n"
     ]
    },
    {
     "data": {
      "image/png": "[encoded data removed]",
      "text/plain": [
       "<Figure size 864x288 with 1 Axes>"
      ]
     },
     "metadata": {
      "needs_background": "light"
     },
     "output_type": "display_data"
    },
    {
     "data": {
      "image/png": "[encoded data removed]",
      "text/plain": [
       "<Figure size 864x288 with 1 Axes>"
      ]
     },
     "metadata": {
      "needs_background": "light"
     },
     "output_type": "display_data"
    },
    {
     "name": "stdout",
     "output_type": "stream",
     "text": [
      "  Done; plotting time = 0.36 s\n",
      "\n",
      "Total time = 331.68 s\n",
      "\n",
      "End time:  2021-07-30 17:30:03.592164\n"
     ]
    }
   ],
   "source": [
    "sim.saveData()                    \t\t\t# save params, cell info and sim output to file (pickle,mat,txt,etc)#\n",
    "sim.analysis.plotData()         \t\t\t# plot spike raster etc"
   ]
  },
  {
   "cell_type": "code",
   "execution_count": 31,
   "metadata": {},
   "outputs": [
    {
     "name": "stdout",
     "output_type": "stream",
     "text": [
      "Plotting connectivity matrix...\n"
     ]
    },
    {
     "data": {
      "image/png": "[encoded data removed]",
      "text/plain": [
       "<Figure size 576x576 with 2 Axes>"
      ]
     },
     "metadata": {
      "needs_background": "light"
     },
     "output_type": "display_data"
    },
    {
     "data": {
      "text/plain": [
       "(<Figure size 576x576 with 2 Axes>,\n",
       " {'connMatrix': array([[ 0.,  0., -0.],\n",
       "         [96.,  0., -0.],\n",
       "         [ 0.,  0.,  0.]]),\n",
       "  'feature': 'strength',\n",
       "  'groupBy': 'pop',\n",
       "  'includePre': ['all'],\n",
       "  'includePost': ['all']})"
      ]
     },
     "execution_count": 31,
     "metadata": {},
     "output_type": "execute_result"
    }
   ],
   "source": [
    "sim.analysis.plotConn(graphType='matrix', saveFig=False)"
   ]
  },
  {
   "cell_type": "code",
   "execution_count": 32,
   "metadata": {
    "id": "GAKTsysQrUI_"
   },
   "outputs": [
    {
     "name": "stdout",
     "output_type": "stream",
     "text": [
      "Plotting 2D representation of network cell locations and connections...\n"
     ]
    },
    {
     "data": {
      "image/png": "[encoded data removed]",
      "text/plain": [
       "<Figure size 864x864 with 1 Axes>"
      ]
     },
     "metadata": {
      "needs_background": "light"
     },
     "output_type": "display_data"
    },
    {
     "data": {
      "text/plain": [
       "(<Figure size 864x864 with 1 Axes>,\n",
       " {'include': ['allCells'],\n",
       "  'posX': [35.83531143706401, 95.00422943499773],\n",
       "  'posY': [39.84944342173416, 84.98437598231612],\n",
       "  'posXpre': 95.00422943499773,\n",
       "  'posXpost': 35.83531143706401,\n",
       "  'posYpre': 84.98437598231612,\n",
       "  'posYpost': 39.84944342173416})"
      ]
     },
     "execution_count": 32,
     "metadata": {},
     "output_type": "execute_result"
    }
   ],
   "source": [
    "sim.analysis.plot2Dnet(showConns=True)"
   ]
  }
 ],
 "metadata": {
  "colab": {
   "collapsed_sections": [],
   "name": "NetProject.ipynb",
   "provenance": []
  },
  "kernelspec": {
   "display_name": "Python 3 (ipykernel)",
   "language": "python",
   "name": "python3"
  },
  "language_info": {
   "codemirror_mode": {
    "name": "ipython",
    "version": 3
   },
   "file_extension": ".py",
   "mimetype": "text/x-python",
   "name": "python",
   "nbconvert_exporter": "python",
   "pygments_lexer": "ipython3",
   "version": "3.8.16"
  }
 },
 "nbformat": 4,
 "nbformat_minor": 4
}
