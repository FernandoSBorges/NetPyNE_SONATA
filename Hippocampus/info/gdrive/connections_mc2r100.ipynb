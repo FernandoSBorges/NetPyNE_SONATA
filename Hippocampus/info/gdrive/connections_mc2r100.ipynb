{
 "cells": [
  {
   "cell_type": "code",
   "execution_count": null,
   "id": "9SwzxCWrQHl3",
   "metadata": {
    "id": "9SwzxCWrQHl3"
   },
   "outputs": [],
   "source": [
    "import os\n",
    "from google.colab import drive"
   ]
  },
  {
   "cell_type": "code",
   "execution_count": null,
   "id": "ez1ICBSTjkiY",
   "metadata": {
    "colab": {
     "base_uri": "https://localhost:8080/"
    },
    "executionInfo": {
     "elapsed": 24883,
     "status": "ok",
     "timestamp": 1632760290239,
     "user": {
      "displayName": "Lavinia Mitiko Takarabe",
      "photoUrl": "https://lh3.googleusercontent.com/a/default-user=s64",
      "userId": "11900514963050471931"
     },
     "user_tz": 180
    },
    "id": "ez1ICBSTjkiY",
    "outputId": "92b85c6c-041a-4f06-ab4a-09a00549c846"
   },
   "outputs": [
    {
     "name": "stdout",
     "output_type": "stream",
     "text": [
      "Mounted at /content/gdrive\n"
     ]
    }
   ],
   "source": [
    "drive.mount('/content/gdrive')"
   ]
  },
  {
   "cell_type": "code",
   "execution_count": null,
   "id": "iaVWix08j0uk",
   "metadata": {
    "id": "iaVWix08j0uk"
   },
   "outputs": [],
   "source": [
    "os.chdir('/content/gdrive/MyDrive/ca1data')"
   ]
  },
  {
   "cell_type": "code",
   "execution_count": null,
   "id": "Q222kPLndEVb",
   "metadata": {
    "colab": {
     "base_uri": "https://localhost:8080/"
    },
    "executionInfo": {
     "elapsed": 261,
     "status": "ok",
     "timestamp": 1632760306922,
     "user": {
      "displayName": "Lavinia Mitiko Takarabe",
      "photoUrl": "https://lh3.googleusercontent.com/a/default-user=s64",
      "userId": "11900514963050471931"
     },
     "user_tz": 180
    },
    "id": "Q222kPLndEVb",
    "outputId": "1ef7930d-fdd1-4eb8-d8d3-76df357a2eb0"
   },
   "outputs": [
    {
     "name": "stdout",
     "output_type": "stream",
     "text": [
      "check_syntypes.ipynb       mc2r100.ipynb      syndata_exc.csv\n",
      "connections_mc2r100.ipynb  proj_mtypes.txt    syndata_inh.csv\n",
      "connhipp_mc2r100.h5        \u001b[0m\u001b[01;34msonata\u001b[0m/            target_mtypes.txt\n",
      "connhipp_mc2r100.json      source_mtypes.txt\n"
     ]
    }
   ],
   "source": [
    "ls"
   ]
  },
  {
   "cell_type": "code",
   "execution_count": null,
   "id": "8eee64a9",
   "metadata": {
    "id": "8eee64a9"
   },
   "outputs": [],
   "source": [
    "import h5py\n",
    "import numpy as np"
   ]
  },
  {
   "cell_type": "code",
   "execution_count": null,
   "id": "7cae924d",
   "metadata": {
    "id": "7cae924d"
   },
   "outputs": [],
   "source": [
    "f = h5py.File('/content/gdrive/MyDrive/CA1_netpyne/info/data-bbp/20191017/sonata/edges/edges.h5', 'r')\n",
    "f1 = h5py.File('/content/gdrive/MyDrive/CA1_netpyne/info/data-bbp/20191017/sonata/nodes/nodes.h5', 'r')\n",
    "f2 = h5py.File('connhipp_mc2r100.h5', 'r')"
   ]
  },
  {
   "cell_type": "markdown",
   "id": "86cc9b5d",
   "metadata": {
    "id": "86cc9b5d"
   },
   "source": [
    "## Nodes"
   ]
  },
  {
   "cell_type": "code",
   "execution_count": null,
   "id": "13e8bd61",
   "metadata": {
    "id": "13e8bd61"
   },
   "outputs": [],
   "source": [
    "number = 0\n",
    "xmc2 = []\n",
    "zmc2 = []\n",
    "gidr100 = []\n",
    "\n",
    "for gid,x in enumerate(f1['nodes']['hippocampus_neurons']['0']['x']):\n",
    "    z = f1['nodes']['hippocampus_neurons']['0']['z'][gid]\n",
    "    if (x-360)*(x-360)+(z-630)*(z-630) <= 100*100:\n",
    "#         print(gid,x,z,region,f1['nodes']['hippocampus_neurons']['0']['@library']['mtype'][f1['nodes']['hippocampus_neurons']['0']['mtype'][gid]])   \n",
    "        xmc2.append(x)\n",
    "        zmc2.append(z)\n",
    "        gidr100.append(gid)\n",
    "        number+=1"
   ]
  },
  {
   "cell_type": "code",
   "execution_count": null,
   "id": "37a40468",
   "metadata": {
    "colab": {
     "base_uri": "https://localhost:8080/",
     "height": 610
    },
    "executionInfo": {
     "elapsed": 550,
     "status": "ok",
     "timestamp": 1632607351522,
     "user": {
      "displayName": "Lavinia Mitiko Takarabe",
      "photoUrl": "https://lh3.googleusercontent.com/a/default-user=s64",
      "userId": "11900514963050471931"
     },
     "user_tz": 180
    },
    "id": "37a40468",
    "outputId": "28140258-f058-4482-8ba9-b8cd09910f5d"
   },
   "outputs": [
    {
     "data": {
      "text/plain": [
       "(524.4081448397181, 744.4081448397181)"
      ]
     },
     "execution_count": 8,
     "metadata": {},
     "output_type": "execute_result"
    },
    {
     "data": {
      "image/png": "[encoded data removed]",
      "text/plain": [
       "<Figure size 720x720 with 1 Axes>"
      ]
     },
     "metadata": {
      "needs_background": "light"
     },
     "output_type": "display_data"
    }
   ],
   "source": [
    "import matplotlib.pyplot as plt\n",
    "\n",
    "figSize = (10,10)\n",
    "fig = plt.figure(figsize=figSize)  # Open a new figure\n",
    "\n",
    "plt.plot(xmc2,zmc2,'o')\n",
    "plt.xlim(np.min(xmc2)-10,np.min(xmc2)+210)\n",
    "plt.ylim(np.min(zmc2)-10,np.min(zmc2)+210)"
   ]
  },
  {
   "cell_type": "markdown",
   "id": "b1eb4302",
   "metadata": {
    "id": "b1eb4302"
   },
   "source": [
    "## Edges"
   ]
  },
  {
   "cell_type": "code",
   "execution_count": null,
   "id": "8df33c06",
   "metadata": {
    "id": "8df33c06"
   },
   "outputs": [],
   "source": [
    "# number = 0\n",
    "# imc2r100 = []\n",
    "# for i,gidpost in enumerate(f['edges']['hippocampus_neurons__hippocampus_neurons__chemical']['target_node_id']):\n",
    "#     if gidpost in gidr100:\n",
    "#         gidpre = f['edges']['hippocampus_neurons__hippocampus_neurons__chemical']['source_node_id'][i]\n",
    "#         if gidpre in gidr100:\n",
    "#             imc2r100.append(i)\n",
    "#     #         print(gidpre,gidpost)\n",
    "#             number+=1\n",
    "\n",
    "imc2r100 = list(f2['edges'])"
   ]
  },
  {
   "cell_type": "code",
   "execution_count": null,
   "id": "864ec8d8",
   "metadata": {
    "id": "864ec8d8"
   },
   "outputs": [],
   "source": [
    "#connhipp = {}\n",
    "#connhipp['nodes'] = {}\n",
    "#connhipp['nodes']['@library'] = {}\n",
    "#connhipp['nodes']['dynamics_params'] = {}\n",
    "#\n",
    "#for itens in list(f1['nodes']['hippocampus_neurons']['0']['@library']):\n",
    "#    connhipp['nodes']['@library'][itens] = []\n",
    "#    for names in list(f1['nodes']['hippocampus_neurons']['0']['@library'][itens]):\n",
    "#        name = str(names)\n",
    "#        connhipp['nodes']['@library'][itens].append(name[2:-1])\n",
    "##         print(itens,name[2:-1])\n",
    "#\n",
    "#connhipp['nodes']['dynamics_params']['holding_current'] = []\n",
    "#connhipp['nodes']['dynamics_params']['threshold_current'] = []\n",
    "#connhipp['nodes']['gid'] = []\n",
    "#for itens in list(f1['nodes']['hippocampus_neurons']['0'])[2:]:\n",
    "#    connhipp['nodes'][itens] = []\n",
    "#    \n",
    "#for i in gidr100:\n",
    "#    connhipp['nodes']['dynamics_params']['holding_current'].append(f1['nodes']['hippocampus_neurons']['0']['dynamics_params']['holding_current'][i])\n",
    "#    connhipp['nodes']['dynamics_params']['threshold_current'].append(f1['nodes']['hippocampus_neurons']['0']['dynamics_params']['threshold_current'][i])\n",
    "#    connhipp['nodes']['gid'].append(i)\n",
    "#    for itens in list(f1['nodes']['hippocampus_neurons']['0'])[2:]:\n",
    "#        connhipp['nodes'][itens].append(f1['nodes']['hippocampus_neurons']['0'][itens][i])"
   ]
  },
  {
   "cell_type": "code",
   "execution_count": null,
   "id": "SP9zxfOY9gEq",
   "metadata": {
    "id": "SP9zxfOY9gEq"
   },
   "outputs": [],
   "source": [
    "import codecs\n",
    "\n",
    "mtypes = []\n",
    "for mtype in list(f1['nodes']['hippocampus_neurons']['0']['@library']['mtype']):\n",
    "  mtypes.append(codecs.decode(mtype, 'UTF-8'))"
   ]
  },
  {
   "cell_type": "code",
   "execution_count": null,
   "id": "T81pCv0l9zR9",
   "metadata": {
    "colab": {
     "base_uri": "https://localhost:8080/"
    },
    "executionInfo": {
     "elapsed": 219,
     "status": "ok",
     "timestamp": 1632607376957,
     "user": {
      "displayName": "Lavinia Mitiko Takarabe",
      "photoUrl": "https://lh3.googleusercontent.com/a/default-user=s64",
      "userId": "11900514963050471931"
     },
     "user_tz": 180
    },
    "id": "T81pCv0l9zR9",
    "outputId": "ef8a1e41-9b50-4841-fca0-940eac85f729"
   },
   "outputs": [
    {
     "data": {
      "text/plain": [
       "['SLM_PPA',\n",
       " 'SO_BP',\n",
       " 'SO_BS',\n",
       " 'SO_OLM',\n",
       " 'SO_Tri',\n",
       " 'SP_AA',\n",
       " 'SP_BS',\n",
       " 'SP_CCKBC',\n",
       " 'SP_Ivy',\n",
       " 'SP_PC',\n",
       " 'SP_PVBC',\n",
       " 'SR_SCA']"
      ]
     },
     "execution_count": 12,
     "metadata": {},
     "output_type": "execute_result"
    }
   ],
   "source": [
    "mtypes"
   ]
  },
  {
   "cell_type": "code",
   "execution_count": null,
   "id": "1KrhEDv0ntne",
   "metadata": {
    "id": "1KrhEDv0ntne"
   },
   "outputs": [],
   "source": [
    "#mtype = f1['nodes']['hippocampus_neurons']['0']['@library']['mtype'][f1['nodes']['hippocampus_neurons']['0']['mtype'][f['edges']['hippocampus_neurons__hippocampus_neurons__chemical']['source_node_id'][0]]]"
   ]
  },
  {
   "cell_type": "code",
   "execution_count": null,
   "id": "hRmbyauO_ReT",
   "metadata": {
    "id": "hRmbyauO_ReT"
   },
   "outputs": [],
   "source": [
    "#proj_mtypes = []\n",
    "#source_mtypes = []\n",
    "#target_mtypes = []\n",
    "#\n",
    "#for i in imc2r100:\n",
    "#   source_id = f['edges']['hippocampus_neurons__hippocampus_neurons__chemical']['source_node_id'][i]\n",
    "#   target_id = f['edges']['hippocampus_neurons__hippocampus_neurons__chemical']['target_node_id'][i]\n",
    "#\n",
    "#   pre_mtype = mtypes[f1['nodes']['hippocampus_neurons']['0']['mtype'][source_id]]\n",
    "#   post_mtype = mtypes[f1['nodes']['hippocampus_neurons']['0']['mtype'][target_id]]\n",
    "#\n",
    "#   source_mtypes.append(pre_mtype)\n",
    "#   target_mtypes.append(post_mtype)\n",
    "#\n",
    "#   proj_mtype = f'{pre_mtype}:{post_mtype}'\n",
    "#   proj_mtypes.append(proj_mtype)"
   ]
  },
  {
   "cell_type": "code",
   "execution_count": null,
   "id": "dmXflDHs2tmL",
   "metadata": {
    "id": "dmXflDHs2tmL"
   },
   "outputs": [],
   "source": [
    "#import json\n",
    "#\n",
    "#with open(\"proj_mtypes.txt\", \"w\") as fp:\n",
    "#  json.dump(proj_mtypes, fp)\n",
    "#\n",
    "#with open(\"source_mtypes.txt\", \"w\") as fp:\n",
    "#  json.dump(source_mtypes, fp)\n",
    "#\n",
    "#with open(\"target_mtypes.txt\", \"w\") as fp:\n",
    "#  json.dump(target_mtypes, fp)"
   ]
  },
  {
   "cell_type": "code",
   "execution_count": null,
   "id": "SwyxKgaC4Oj9",
   "metadata": {
    "id": "SwyxKgaC4Oj9"
   },
   "outputs": [],
   "source": [
    "import json\n",
    "\n",
    "with open(\"proj_mtypes.txt\", \"r\") as fp:\n",
    "  proj_mtypes = json.load(fp)\n",
    "\n",
    "with open(\"source_mtypes.txt\", \"r\") as fp:\n",
    "  source_mtypes = json.load(fp)\n",
    "\n",
    "with open(\"target_mtypes.txt\", \"r\") as fp:\n",
    "  target_mtypes = json.load(fp)"
   ]
  },
  {
   "cell_type": "code",
   "execution_count": null,
   "id": "i-YVPvetRL4r",
   "metadata": {
    "id": "i-YVPvetRL4r"
   },
   "outputs": [],
   "source": [
    "unique_mtypes, counts = np.unique(proj_mtypes, return_counts=True)"
   ]
  },
  {
   "cell_type": "code",
   "execution_count": null,
   "id": "vtNYZa7VTtQx",
   "metadata": {
    "colab": {
     "base_uri": "https://localhost:8080/"
    },
    "executionInfo": {
     "elapsed": 16,
     "status": "ok",
     "timestamp": 1632607399222,
     "user": {
      "displayName": "Lavinia Mitiko Takarabe",
      "photoUrl": "https://lh3.googleusercontent.com/a/default-user=s64",
      "userId": "11900514963050471931"
     },
     "user_tz": 180
    },
    "id": "vtNYZa7VTtQx",
    "outputId": "0ab483f4-f529-4624-a255-eb869e675c2d"
   },
   "outputs": [
    {
     "data": {
      "text/plain": [
       "47"
      ]
     },
     "execution_count": 19,
     "metadata": {},
     "output_type": "execute_result"
    }
   ],
   "source": [
    "len(counts)"
   ]
  },
  {
   "cell_type": "code",
   "execution_count": null,
   "id": "h2bDs4f5Uzu6",
   "metadata": {
    "id": "h2bDs4f5Uzu6"
   },
   "outputs": [],
   "source": [
    "count_proj = {}\n",
    "for i in range(len(unique_mtypes)):\n",
    "  count_proj[unique_mtypes[i]] = counts[i]"
   ]
  },
  {
   "cell_type": "code",
   "execution_count": null,
   "id": "6ZE6K4XMYqZ2",
   "metadata": {
    "id": "6ZE6K4XMYqZ2"
   },
   "outputs": [],
   "source": [
    "import pandas as pd"
   ]
  },
  {
   "cell_type": "code",
   "execution_count": null,
   "id": "YcAAnEXYWotu",
   "metadata": {
    "colab": {
     "base_uri": "https://localhost:8080/"
    },
    "executionInfo": {
     "elapsed": 209,
     "status": "ok",
     "timestamp": 1632618507697,
     "user": {
      "displayName": "Lavinia Mitiko Takarabe",
      "photoUrl": "https://lh3.googleusercontent.com/a/default-user=s64",
      "userId": "11900514963050471931"
     },
     "user_tz": 180
    },
    "id": "YcAAnEXYWotu",
    "outputId": "6913ca61-554f-44d7-9112-99f1a76cc354"
   },
   "outputs": [
    {
     "data": {
      "text/plain": [
       "{'SO_OLM:SP_AA': 2,\n",
       " 'SO_OLM:SP_CCKBC': 19,\n",
       " 'SO_OLM:SP_Ivy': 1,\n",
       " 'SO_OLM:SP_PC': 1421,\n",
       " 'SO_OLM:SP_PVBC': 31,\n",
       " 'SP_AA:SP_PC': 1014,\n",
       " 'SP_BS:SO_OLM': 2,\n",
       " 'SP_BS:SP_AA': 3,\n",
       " 'SP_BS:SP_CCKBC': 7,\n",
       " 'SP_BS:SP_Ivy': 33,\n",
       " 'SP_BS:SP_PC': 2805,\n",
       " 'SP_BS:SP_PVBC': 59,\n",
       " 'SP_BS:SR_SCA': 2,\n",
       " 'SP_CCKBC:SP_AA': 13,\n",
       " 'SP_CCKBC:SP_BS': 42,\n",
       " 'SP_CCKBC:SP_CCKBC': 35,\n",
       " 'SP_CCKBC:SP_Ivy': 191,\n",
       " 'SP_CCKBC:SP_PC': 22336,\n",
       " 'SP_CCKBC:SP_PVBC': 226,\n",
       " 'SP_CCKBC:SR_SCA': 6,\n",
       " 'SP_Ivy:SP_AA': 32,\n",
       " 'SP_Ivy:SP_BS': 66,\n",
       " 'SP_Ivy:SP_CCKBC': 87,\n",
       " 'SP_Ivy:SP_Ivy': 301,\n",
       " 'SP_Ivy:SP_PC': 51320,\n",
       " 'SP_Ivy:SP_PVBC': 610,\n",
       " 'SP_Ivy:SR_SCA': 25,\n",
       " 'SP_PC:SO_OLM': 960,\n",
       " 'SP_PC:SP_AA': 1506,\n",
       " 'SP_PC:SP_BS': 647,\n",
       " 'SP_PC:SP_CCKBC': 2210,\n",
       " 'SP_PC:SP_Ivy': 4484,\n",
       " 'SP_PC:SP_PC': 17703,\n",
       " 'SP_PC:SP_PVBC': 10693,\n",
       " 'SP_PC:SR_SCA': 261,\n",
       " 'SP_PVBC:SO_OLM': 1,\n",
       " 'SP_PVBC:SP_AA': 8,\n",
       " 'SP_PVBC:SP_BS': 35,\n",
       " 'SP_PVBC:SP_CCKBC': 43,\n",
       " 'SP_PVBC:SP_Ivy': 135,\n",
       " 'SP_PVBC:SP_PC': 12632,\n",
       " 'SP_PVBC:SP_PVBC': 200,\n",
       " 'SP_PVBC:SR_SCA': 5,\n",
       " 'SR_SCA:SO_OLM': 1,\n",
       " 'SR_SCA:SP_Ivy': 3,\n",
       " 'SR_SCA:SP_PC': 1125,\n",
       " 'SR_SCA:SP_PVBC': 11}"
      ]
     },
     "execution_count": 187,
     "metadata": {},
     "output_type": "execute_result"
    }
   ],
   "source": [
    "count_proj"
   ]
  },
  {
   "cell_type": "code",
   "execution_count": null,
   "id": "anQYydArZKQ1",
   "metadata": {
    "id": "anQYydArZKQ1"
   },
   "outputs": [],
   "source": [
    "count_proj = pd.Series(count_proj).to_frame()"
   ]
  },
  {
   "cell_type": "code",
   "execution_count": null,
   "id": "4v-kxUbBbBo9",
   "metadata": {
    "colab": {
     "base_uri": "https://localhost:8080/",
     "height": 368
    },
    "executionInfo": {
     "elapsed": 618,
     "status": "ok",
     "timestamp": 1632607405664,
     "user": {
      "displayName": "Lavinia Mitiko Takarabe",
      "photoUrl": "https://lh3.googleusercontent.com/a/default-user=s64",
      "userId": "11900514963050471931"
     },
     "user_tz": 180
    },
    "id": "4v-kxUbBbBo9",
    "outputId": "85df0e44-7ad2-4ec1-a25c-159890d6285d"
   },
   "outputs": [
    {
     "data": {
      "text/plain": [
       "<Figure size 1152x432 with 0 Axes>"
      ]
     },
     "metadata": {},
     "output_type": "display_data"
    },
    {
     "data": {
      "image/png": "[encoded data removed]",
      "text/plain": [
       "<Figure size 432x288 with 1 Axes>"
      ]
     },
     "metadata": {
      "needs_background": "light"
     },
     "output_type": "display_data"
    }
   ],
   "source": [
    "plt.figure(figsize=(16,6))\n",
    "ax = count_proj[0:15].plot(kind='bar')"
   ]
  },
  {
   "cell_type": "code",
   "execution_count": null,
   "id": "AR8VBkozYiO7",
   "metadata": {
    "colab": {
     "base_uri": "https://localhost:8080/",
     "height": 368
    },
    "executionInfo": {
     "elapsed": 592,
     "status": "ok",
     "timestamp": 1632607407614,
     "user": {
      "displayName": "Lavinia Mitiko Takarabe",
      "photoUrl": "https://lh3.googleusercontent.com/a/default-user=s64",
      "userId": "11900514963050471931"
     },
     "user_tz": 180
    },
    "id": "AR8VBkozYiO7",
    "outputId": "e67c3f07-77ed-438a-c75b-1e3e7a72907e"
   },
   "outputs": [
    {
     "data": {
      "text/plain": [
       "<Figure size 1152x432 with 0 Axes>"
      ]
     },
     "metadata": {},
     "output_type": "display_data"
    },
    {
     "data": {
      "image/png": "[encoded data removed]",
      "text/plain": [
       "<Figure size 432x288 with 1 Axes>"
      ]
     },
     "metadata": {
      "needs_background": "light"
     },
     "output_type": "display_data"
    }
   ],
   "source": [
    "plt.figure(figsize=(16,6))\n",
    "ax = count_proj[0:5].plot(kind='bar')"
   ]
  },
  {
   "cell_type": "code",
   "execution_count": null,
   "id": "4kq-yAO8a5we",
   "metadata": {
    "colab": {
     "base_uri": "https://localhost:8080/",
     "height": 357
    },
    "executionInfo": {
     "elapsed": 320,
     "status": "ok",
     "timestamp": 1632607408962,
     "user": {
      "displayName": "Lavinia Mitiko Takarabe",
      "photoUrl": "https://lh3.googleusercontent.com/a/default-user=s64",
      "userId": "11900514963050471931"
     },
     "user_tz": 180
    },
    "id": "4kq-yAO8a5we",
    "outputId": "956efceb-b154-4e2e-996c-4de72605f876"
   },
   "outputs": [
    {
     "data": {
      "text/plain": [
       "<Figure size 1152x432 with 0 Axes>"
      ]
     },
     "metadata": {},
     "output_type": "display_data"
    },
    {
     "data": {
      "image/png": "[encoded data removed]",
      "text/plain": [
       "<Figure size 432x288 with 1 Axes>"
      ]
     },
     "metadata": {
      "needs_background": "light"
     },
     "output_type": "display_data"
    }
   ],
   "source": [
    "plt.figure(figsize=(16,6))\n",
    "ax = count_proj[5:11].plot(kind='bar')"
   ]
  },
  {
   "cell_type": "code",
   "execution_count": null,
   "id": "ODDW6zQBTXhn",
   "metadata": {
    "colab": {
     "base_uri": "https://localhost:8080/",
     "height": 265
    },
    "executionInfo": {
     "elapsed": 635,
     "status": "ok",
     "timestamp": 1632607410693,
     "user": {
      "displayName": "Lavinia Mitiko Takarabe",
      "photoUrl": "https://lh3.googleusercontent.com/a/default-user=s64",
      "userId": "11900514963050471931"
     },
     "user_tz": 180
    },
    "id": "ODDW6zQBTXhn",
    "outputId": "5510d56a-07ff-4965-e4a1-d9a344ed135f"
   },
   "outputs": [
    {
     "data": {
      "image/png": "[encoded data removed]",
      "text/plain": [
       "<Figure size 432x288 with 1 Axes>"
      ]
     },
     "metadata": {
      "needs_background": "light"
     },
     "output_type": "display_data"
    }
   ],
   "source": [
    "fig, ax = plt.subplots()\n",
    "ax.hist(proj_mtypes, bins = 47)\n",
    "ax.set_xticklabels(unique_mtypes)\n",
    "plt.show()"
   ]
  },
  {
   "cell_type": "code",
   "execution_count": null,
   "id": "DoDk3LyBGBqx",
   "metadata": {
    "colab": {
     "base_uri": "https://localhost:8080/",
     "height": 157
    },
    "executionInfo": {
     "elapsed": 1004,
     "status": "ok",
     "timestamp": 1632607412619,
     "user": {
      "displayName": "Lavinia Mitiko Takarabe",
      "photoUrl": "https://lh3.googleusercontent.com/a/default-user=s64",
      "userId": "11900514963050471931"
     },
     "user_tz": 180
    },
    "id": "DoDk3LyBGBqx",
    "outputId": "52b5beb4-6d93-4658-f594-b9b056fab05c"
   },
   "outputs": [
    {
     "data": {
      "image/png": "[encoded data removed]",
      "text/plain": [
       "<Figure size 1152x144 with 1 Axes>"
      ]
     },
     "metadata": {
      "needs_background": "light"
     },
     "output_type": "display_data"
    }
   ],
   "source": [
    "plt.figure(figsize=(16,2))\n",
    "plt.hist(proj_mtypes, bins = 144);"
   ]
  },
  {
   "cell_type": "code",
   "execution_count": null,
   "id": "ee16294c",
   "metadata": {
    "colab": {
     "base_uri": "https://localhost:8080/"
    },
    "executionInfo": {
     "elapsed": 5521,
     "status": "ok",
     "timestamp": 1632607419315,
     "user": {
      "displayName": "Lavinia Mitiko Takarabe",
      "photoUrl": "https://lh3.googleusercontent.com/a/default-user=s64",
      "userId": "11900514963050471931"
     },
     "user_tz": 180
    },
    "id": "ee16294c",
    "outputId": "94952b9f-0e61-495f-9315-f16086b6ca31"
   },
   "outputs": [
    {
     "name": "stdout",
     "output_type": "stream",
     "text": [
      "0 (28,)\n",
      "edge_type_id (19698045,)\n",
      "indices (2,)\n",
      "source_node_id (19698045,)\n",
      "target_node_id (19698045,)\n",
      "\n",
      "0\n",
      "afferent_center_x (19698045,)\n",
      "afferent_center_y (19698045,)\n",
      "afferent_center_z (19698045,)\n",
      "afferent_section_id (19698045,)\n",
      "afferent_section_pos (19698045,)\n",
      "afferent_section_pos_orig (19698045,)\n",
      "afferent_section_type (19698045,)\n",
      "afferent_segment_id (19698045,)\n",
      "afferent_segment_offset (19698045,)\n",
      "conductance (19698045,)\n",
      "decay_time (19698045,)\n",
      "delay (19698045,)\n",
      "depression_time (19698045,)\n",
      "efferent_section_id (19698045,)\n",
      "efferent_section_pos (19698045,)\n",
      "efferent_section_pos_orig (19698045,)\n",
      "efferent_section_type (19698045,)\n",
      "efferent_segment_id (19698045,)\n",
      "efferent_segment_offset (19698045,)\n",
      "efferent_surface_x (19698045,)\n",
      "efferent_surface_y (19698045,)\n",
      "efferent_surface_z (19698045,)\n",
      "facilitation_time (19698045,)\n",
      "n_rrp_vesicles (19698045,)\n",
      "spine_length (19698045,)\n",
      "syn_type_id (19698045,)\n",
      "synapse_type_id (19698045,)\n",
      "u_syn (19698045,)\n",
      "\n",
      "indices[source_to_target]\n",
      "node_id_to_ranges (18198, 2)\n",
      "range_to_edge_id (4954673, 2)\n",
      "\n",
      "indices[target_to_source]\n",
      "node_id_to_ranges (18198, 2)\n",
      "range_to_edge_id (18198, 2)\n"
     ]
    }
   ],
   "source": [
    "for itens in list(f['edges']['hippocampus_neurons__hippocampus_neurons__chemical']):\n",
    "    print(itens,np.shape(f['edges']['hippocampus_neurons__hippocampus_neurons__chemical'][itens]))\n",
    "\n",
    "print('\\n0')  \n",
    "for itens in list(f['edges']['hippocampus_neurons__hippocampus_neurons__chemical']['0']):\n",
    "    print(itens,np.shape(f['edges']['hippocampus_neurons__hippocampus_neurons__chemical']['0'][itens]))\n",
    "\n",
    "print('\\nindices[source_to_target]')  \n",
    "for itens in list(f['edges']['hippocampus_neurons__hippocampus_neurons__chemical']['indices']['source_to_target']):\n",
    "    print(itens,np.shape(f['edges']['hippocampus_neurons__hippocampus_neurons__chemical']['indices']['source_to_target'][itens]))\n",
    "    \n",
    "print('\\nindices[target_to_source]')  \n",
    "for itens in list(f['edges']['hippocampus_neurons__hippocampus_neurons__chemical']['indices']['target_to_source']):\n",
    "    print(itens,np.shape(f['edges']['hippocampus_neurons__hippocampus_neurons__chemical']['indices']['target_to_source'][itens]))\n",
    "  "
   ]
  },
  {
   "cell_type": "code",
   "execution_count": null,
   "id": "aogQR2atOles",
   "metadata": {
    "colab": {
     "base_uri": "https://localhost:8080/",
     "height": 1000
    },
    "executionInfo": {
     "elapsed": 2042,
     "status": "ok",
     "timestamp": 1632094508771,
     "user": {
      "displayName": "Lavinia Mitiko Takarabe",
      "photoUrl": "https://lh3.googleusercontent.com/a/default-user=s64",
      "userId": "11900514963050471931"
     },
     "user_tz": 180
    },
    "id": "aogQR2atOles",
    "outputId": "859c4efd-4aa4-487a-b8d4-9d1b64e4cc3b"
   },
   "outputs": [
    {
     "data": {
      "image/png": "[encoded data removed]",
      "text/plain": [
       "<Figure size 1152x576 with 1 Axes>"
      ]
     },
     "metadata": {
      "needs_background": "light"
     },
     "output_type": "display_data"
    },
    {
     "data": {
      "image/png": "[encoded data removed]",
      "text/plain": [
       "<Figure size 1152x576 with 1 Axes>"
      ]
     },
     "metadata": {
      "needs_background": "light"
     },
     "output_type": "display_data"
    },
    {
     "data": {
      "image/png": "[encoded data removed]",
      "text/plain": [
       "<Figure size 1152x576 with 1 Axes>"
      ]
     },
     "metadata": {
      "needs_background": "light"
     },
     "output_type": "display_data"
    },
    {
     "data": {
      "image/png": "[encoded data removed]",
      "text/plain": [
       "<Figure size 1152x576 with 1 Axes>"
      ]
     },
     "metadata": {
      "needs_background": "light"
     },
     "output_type": "display_data"
    },
    {
     "data": {
      "image/png": "[encoded data removed]",
      "text/plain": [
       "<Figure size 1152x576 with 1 Axes>"
      ]
     },
     "metadata": {
      "needs_background": "light"
     },
     "output_type": "display_data"
    },
    {
     "data": {
      "image/png": "[encoded data removed]",
      "text/plain": [
       "<Figure size 1152x576 with 1 Axes>"
      ]
     },
     "metadata": {
      "needs_background": "light"
     },
     "output_type": "display_data"
    },
    {
     "data": {
      "image/png": "[encoded data removed]",
      "text/plain": [
       "<Figure size 1152x576 with 1 Axes>"
      ]
     },
     "metadata": {
      "needs_background": "light"
     },
     "output_type": "display_data"
    },
    {
     "data": {
      "image/png": "[encoded data removed]",
      "text/plain": [
       "<Figure size 1152x576 with 1 Axes>"
      ]
     },
     "metadata": {
      "needs_background": "light"
     },
     "output_type": "display_data"
    }
   ],
   "source": [
    "proj_mtypes = np.array(proj_mtypes)\n",
    "\n",
    "projections = {}\n",
    "count_projections = {}\n",
    "for pre_mtype in np.unique(source_mtypes):\n",
    "  proj, counts = np.unique(proj_mtypes[np.where(np.array(source_mtypes)==pre_mtype)[0]], return_counts=True)\n",
    "  projections[pre_mtype] = proj\n",
    "  count_projections[pre_mtype] = counts\n",
    "  plt.figure(figsize=[16,8])\n",
    "  plt.bar(projections[pre_mtype], count_projections[pre_mtype])\n",
    "  #plt.ylim(20000)"
   ]
  },
  {
   "cell_type": "code",
   "execution_count": null,
   "id": "OEVAjox99aPl",
   "metadata": {
    "id": "OEVAjox99aPl"
   },
   "outputs": [],
   "source": [
    "with open('connhipp_mc2r100.json', \"r\") as fp:\n",
    "  parameters = json.load(fp)"
   ]
  },
  {
   "cell_type": "code",
   "execution_count": null,
   "id": "AXQiTHLMAy7_",
   "metadata": {
    "id": "AXQiTHLMAy7_"
   },
   "outputs": [],
   "source": [
    "projs = np.unique(proj_mtypes)\n",
    "\n",
    "conductance = []\n",
    "conductance_std = []\n",
    "\n",
    "decay_time = []\n",
    "decay_time_std = []\n",
    "\n",
    "u_syn = []\n",
    "u_syn_std = []\n",
    "\n",
    "depression_time = []\n",
    "depression_time_std = []\n",
    "\n",
    "facilitation_time = []\n",
    "facilitation_time_std = []\n",
    "\n",
    "n_rrp_vesicles = []\n",
    "\n",
    "\n",
    "for proj in projs:\n",
    "  conductance.append(np.mean(np.array(parameters['edges']['conductance'])[np.where(proj_mtypes==proj)[0]]))\n",
    "  conductance_std.append(np.std(np.array(parameters['edges']['conductance'])[np.where(proj_mtypes==proj)[0]]))\n",
    "  \n",
    "  decay_time.append(np.mean(np.array(parameters['edges']['decay_time'])[np.where(proj_mtypes==proj)[0]]))\n",
    "  decay_time_std.append(np.std(np.array(parameters['edges']['decay_time'])[np.where(proj_mtypes==proj)[0]]))\n",
    "\n",
    "  u_syn.append(np.mean(np.array(parameters['edges']['u_syn'])[np.where(proj_mtypes==proj)[0]]))\n",
    "  u_syn_std.append(np.std(np.array(parameters['edges']['u_syn'])[np.where(proj_mtypes==proj)[0]]))\n",
    "  \n",
    "  depression_time.append(np.mean(np.array(parameters['edges']['depression_time'])[np.where(proj_mtypes==proj)[0]]))\n",
    "  depression_time_std.append(np.std(np.array(parameters['edges']['depression_time'])[np.where(proj_mtypes==proj)[0]]))\n",
    "\n",
    "  facilitation_time.append(np.mean(np.array(parameters['edges']['facilitation_time'])[np.where(proj_mtypes==proj)[0]]))\n",
    "  facilitation_time_std.append(np.std(np.array(parameters['edges']['facilitation_time'])[np.where(proj_mtypes==proj)[0]]))\n",
    "\n",
    "  n_rrp_vesicles.append(np.mean(np.array(parameters['edges']['n_rrp_vesicles'])[np.where(proj_mtypes==proj)[0]]))"
   ]
  },
  {
   "cell_type": "code",
   "execution_count": null,
   "id": "0PM8vIXBL7o_",
   "metadata": {
    "id": "0PM8vIXBL7o_"
   },
   "outputs": [],
   "source": [
    "ca1_data = {}\n",
    "\n",
    "ca1_data['projections'] = projs\n",
    "\n",
    "ca1_data['conductance'] = conductance\n",
    "ca1_data['conductance_std'] = conductance_std\n",
    "\n",
    "ca1_data['decay_time'] = decay_time\n",
    "ca1_data['decay_time_std'] = decay_time_std\n",
    "\n",
    "ca1_data['u_syn'] = u_syn\n",
    "ca1_data['u_syn_std'] = u_syn_std\n",
    "\n",
    "ca1_data['depression_time'] = depression_time\n",
    "ca1_data['depression_time_std'] = depression_time_std\n",
    "\n",
    "ca1_data['facilitation_time'] = facilitation_time\n",
    "ca1_data['facilitation_time_std'] = facilitation_time_std\n",
    "\n",
    "ca1_data['n_rrp_vesicles'] = n_rrp_vesicles"
   ]
  },
  {
   "cell_type": "code",
   "execution_count": null,
   "id": "hXxuCuwoCBpc",
   "metadata": {
    "id": "hXxuCuwoCBpc"
   },
   "outputs": [],
   "source": [
    "ca1 = pd.DataFrame(ca1_data)"
   ]
  },
  {
   "cell_type": "code",
   "execution_count": null,
   "id": "hxMIkDcfChCv",
   "metadata": {
    "colab": {
     "base_uri": "https://localhost:8080/",
     "height": 1000
    },
    "executionInfo": {
     "elapsed": 278,
     "status": "ok",
     "timestamp": 1632094935598,
     "user": {
      "displayName": "Lavinia Mitiko Takarabe",
      "photoUrl": "https://lh3.googleusercontent.com/a/default-user=s64",
      "userId": "11900514963050471931"
     },
     "user_tz": 180
    },
    "id": "hxMIkDcfChCv",
    "outputId": "5d1d5ba2-3e82-454c-d5ed-cdbbbad3db6f"
   },
   "outputs": [
    {
     "data": {
      "text/html": [
       "<div>\n",
       "<style scoped>\n",
       "    .dataframe tbody tr th:only-of-type {\n",
       "        vertical-align: middle;\n",
       "    }\n",
       "\n",
       "    .dataframe tbody tr th {\n",
       "        vertical-align: top;\n",
       "    }\n",
       "\n",
       "    .dataframe thead th {\n",
       "        text-align: right;\n",
       "    }\n",
       "</style>\n",
       "<table border=\"1\" class=\"dataframe\">\n",
       "  <thead>\n",
       "    <tr style=\"text-align: right;\">\n",
       "      <th></th>\n",
       "      <th>projections</th>\n",
       "      <th>conductance</th>\n",
       "      <th>conductance_std</th>\n",
       "      <th>decay_time</th>\n",
       "      <th>decay_time_std</th>\n",
       "      <th>u_syn</th>\n",
       "      <th>u_syn_std</th>\n",
       "      <th>depression_time</th>\n",
       "      <th>depression_time_std</th>\n",
       "      <th>facilitation_time</th>\n",
       "      <th>facilitation_time_std</th>\n",
       "      <th>n_rrp_vesicles</th>\n",
       "    </tr>\n",
       "  </thead>\n",
       "  <tbody>\n",
       "    <tr>\n",
       "      <th>0</th>\n",
       "      <td>SO_OLM:SP_AA</td>\n",
       "      <td>2.104232</td>\n",
       "      <td>0.000000</td>\n",
       "      <td>3.755018</td>\n",
       "      <td>0.000000</td>\n",
       "      <td>0.242182</td>\n",
       "      <td>0.000000</td>\n",
       "      <td>970.475769</td>\n",
       "      <td>0.000000</td>\n",
       "      <td>2.471480</td>\n",
       "      <td>0.000000</td>\n",
       "      <td>1.000000</td>\n",
       "    </tr>\n",
       "    <tr>\n",
       "      <th>1</th>\n",
       "      <td>SO_OLM:SP_CCKBC</td>\n",
       "      <td>2.399427</td>\n",
       "      <td>0.408276</td>\n",
       "      <td>3.538907</td>\n",
       "      <td>0.302290</td>\n",
       "      <td>0.272408</td>\n",
       "      <td>0.014554</td>\n",
       "      <td>893.913137</td>\n",
       "      <td>166.814924</td>\n",
       "      <td>2.538732</td>\n",
       "      <td>0.651951</td>\n",
       "      <td>1.000000</td>\n",
       "    </tr>\n",
       "    <tr>\n",
       "      <th>2</th>\n",
       "      <td>SO_OLM:SP_Ivy</td>\n",
       "      <td>1.796479</td>\n",
       "      <td>0.000000</td>\n",
       "      <td>4.111326</td>\n",
       "      <td>0.000000</td>\n",
       "      <td>0.296343</td>\n",
       "      <td>0.000000</td>\n",
       "      <td>735.527771</td>\n",
       "      <td>0.000000</td>\n",
       "      <td>1.209852</td>\n",
       "      <td>0.000000</td>\n",
       "      <td>1.000000</td>\n",
       "    </tr>\n",
       "    <tr>\n",
       "      <th>3</th>\n",
       "      <td>SO_OLM:SP_PC</td>\n",
       "      <td>1.301133</td>\n",
       "      <td>0.292598</td>\n",
       "      <td>8.256472</td>\n",
       "      <td>1.252592</td>\n",
       "      <td>0.292250</td>\n",
       "      <td>0.042354</td>\n",
       "      <td>1250.358671</td>\n",
       "      <td>478.156400</td>\n",
       "      <td>1.393509</td>\n",
       "      <td>7.989495</td>\n",
       "      <td>1.000000</td>\n",
       "    </tr>\n",
       "    <tr>\n",
       "      <th>4</th>\n",
       "      <td>SO_OLM:SP_PVBC</td>\n",
       "      <td>2.006640</td>\n",
       "      <td>0.280588</td>\n",
       "      <td>3.938897</td>\n",
       "      <td>0.306470</td>\n",
       "      <td>0.271850</td>\n",
       "      <td>0.016311</td>\n",
       "      <td>914.320261</td>\n",
       "      <td>324.381963</td>\n",
       "      <td>1.561192</td>\n",
       "      <td>0.519227</td>\n",
       "      <td>1.000000</td>\n",
       "    </tr>\n",
       "    <tr>\n",
       "      <th>5</th>\n",
       "      <td>SP_AA:SP_PC</td>\n",
       "      <td>2.359104</td>\n",
       "      <td>0.201813</td>\n",
       "      <td>6.172159</td>\n",
       "      <td>0.329252</td>\n",
       "      <td>0.099954</td>\n",
       "      <td>0.005380</td>\n",
       "      <td>1323.949509</td>\n",
       "      <td>688.963228</td>\n",
       "      <td>9.082943</td>\n",
       "      <td>5.554694</td>\n",
       "      <td>1.000000</td>\n",
       "    </tr>\n",
       "    <tr>\n",
       "      <th>6</th>\n",
       "      <td>SP_BS:SO_OLM</td>\n",
       "      <td>2.023530</td>\n",
       "      <td>0.000000</td>\n",
       "      <td>3.887870</td>\n",
       "      <td>0.000000</td>\n",
       "      <td>0.293733</td>\n",
       "      <td>0.000000</td>\n",
       "      <td>928.251892</td>\n",
       "      <td>0.000000</td>\n",
       "      <td>1.006596</td>\n",
       "      <td>0.000000</td>\n",
       "      <td>1.000000</td>\n",
       "    </tr>\n",
       "    <tr>\n",
       "      <th>7</th>\n",
       "      <td>SP_BS:SP_AA</td>\n",
       "      <td>1.952848</td>\n",
       "      <td>0.000000</td>\n",
       "      <td>4.197608</td>\n",
       "      <td>0.000000</td>\n",
       "      <td>0.280584</td>\n",
       "      <td>0.000000</td>\n",
       "      <td>1290.307007</td>\n",
       "      <td>0.000000</td>\n",
       "      <td>1.511477</td>\n",
       "      <td>0.000000</td>\n",
       "      <td>1.000000</td>\n",
       "    </tr>\n",
       "    <tr>\n",
       "      <th>8</th>\n",
       "      <td>SP_BS:SP_CCKBC</td>\n",
       "      <td>2.303933</td>\n",
       "      <td>0.120949</td>\n",
       "      <td>3.354564</td>\n",
       "      <td>0.080909</td>\n",
       "      <td>0.264033</td>\n",
       "      <td>0.011101</td>\n",
       "      <td>789.931449</td>\n",
       "      <td>163.701531</td>\n",
       "      <td>1.149324</td>\n",
       "      <td>0.511845</td>\n",
       "      <td>1.000000</td>\n",
       "    </tr>\n",
       "    <tr>\n",
       "      <th>9</th>\n",
       "      <td>SP_BS:SP_Ivy</td>\n",
       "      <td>2.052334</td>\n",
       "      <td>0.153531</td>\n",
       "      <td>3.768102</td>\n",
       "      <td>0.432922</td>\n",
       "      <td>0.240833</td>\n",
       "      <td>0.022357</td>\n",
       "      <td>960.343443</td>\n",
       "      <td>204.302078</td>\n",
       "      <td>1.436493</td>\n",
       "      <td>0.519473</td>\n",
       "      <td>1.000000</td>\n",
       "    </tr>\n",
       "    <tr>\n",
       "      <th>10</th>\n",
       "      <td>SP_BS:SP_PC</td>\n",
       "      <td>2.815952</td>\n",
       "      <td>0.299850</td>\n",
       "      <td>6.811320</td>\n",
       "      <td>0.231468</td>\n",
       "      <td>0.129709</td>\n",
       "      <td>0.016583</td>\n",
       "      <td>1124.278143</td>\n",
       "      <td>168.228424</td>\n",
       "      <td>9.219145</td>\n",
       "      <td>0.672990</td>\n",
       "      <td>1.000000</td>\n",
       "    </tr>\n",
       "    <tr>\n",
       "      <th>11</th>\n",
       "      <td>SP_BS:SP_PVBC</td>\n",
       "      <td>2.154554</td>\n",
       "      <td>0.339168</td>\n",
       "      <td>3.932550</td>\n",
       "      <td>0.430491</td>\n",
       "      <td>0.256190</td>\n",
       "      <td>0.024713</td>\n",
       "      <td>962.804596</td>\n",
       "      <td>440.392303</td>\n",
       "      <td>1.577242</td>\n",
       "      <td>0.406664</td>\n",
       "      <td>1.000000</td>\n",
       "    </tr>\n",
       "    <tr>\n",
       "      <th>12</th>\n",
       "      <td>SP_BS:SR_SCA</td>\n",
       "      <td>1.844264</td>\n",
       "      <td>0.000000</td>\n",
       "      <td>3.538779</td>\n",
       "      <td>0.000000</td>\n",
       "      <td>0.252753</td>\n",
       "      <td>0.000000</td>\n",
       "      <td>609.088928</td>\n",
       "      <td>0.000000</td>\n",
       "      <td>3.463260</td>\n",
       "      <td>0.000000</td>\n",
       "      <td>1.000000</td>\n",
       "    </tr>\n",
       "    <tr>\n",
       "      <th>13</th>\n",
       "      <td>SP_CCKBC:SP_AA</td>\n",
       "      <td>1.925123</td>\n",
       "      <td>0.180390</td>\n",
       "      <td>3.965754</td>\n",
       "      <td>0.338521</td>\n",
       "      <td>0.250757</td>\n",
       "      <td>0.019955</td>\n",
       "      <td>856.062937</td>\n",
       "      <td>304.397425</td>\n",
       "      <td>1.848053</td>\n",
       "      <td>0.838064</td>\n",
       "      <td>1.000000</td>\n",
       "    </tr>\n",
       "    <tr>\n",
       "      <th>14</th>\n",
       "      <td>SP_CCKBC:SP_BS</td>\n",
       "      <td>2.300673</td>\n",
       "      <td>0.158946</td>\n",
       "      <td>4.148167</td>\n",
       "      <td>0.432933</td>\n",
       "      <td>0.252559</td>\n",
       "      <td>0.021849</td>\n",
       "      <td>1082.355110</td>\n",
       "      <td>426.515350</td>\n",
       "      <td>1.929602</td>\n",
       "      <td>0.623550</td>\n",
       "      <td>1.000000</td>\n",
       "    </tr>\n",
       "    <tr>\n",
       "      <th>15</th>\n",
       "      <td>SP_CCKBC:SP_CCKBC</td>\n",
       "      <td>2.208964</td>\n",
       "      <td>0.292672</td>\n",
       "      <td>4.506045</td>\n",
       "      <td>0.259656</td>\n",
       "      <td>0.109578</td>\n",
       "      <td>0.014095</td>\n",
       "      <td>123.057910</td>\n",
       "      <td>109.269634</td>\n",
       "      <td>1559.584232</td>\n",
       "      <td>732.876339</td>\n",
       "      <td>1.000000</td>\n",
       "    </tr>\n",
       "    <tr>\n",
       "      <th>16</th>\n",
       "      <td>SP_CCKBC:SP_Ivy</td>\n",
       "      <td>2.243402</td>\n",
       "      <td>0.258608</td>\n",
       "      <td>3.865690</td>\n",
       "      <td>0.449667</td>\n",
       "      <td>0.256783</td>\n",
       "      <td>0.023082</td>\n",
       "      <td>948.329167</td>\n",
       "      <td>336.459312</td>\n",
       "      <td>1.650277</td>\n",
       "      <td>0.628132</td>\n",
       "      <td>1.000000</td>\n",
       "    </tr>\n",
       "    <tr>\n",
       "      <th>17</th>\n",
       "      <td>SP_CCKBC:SP_PC</td>\n",
       "      <td>1.700118</td>\n",
       "      <td>0.304844</td>\n",
       "      <td>6.498872</td>\n",
       "      <td>0.162852</td>\n",
       "      <td>0.159599</td>\n",
       "      <td>0.021349</td>\n",
       "      <td>149.626470</td>\n",
       "      <td>117.651682</td>\n",
       "      <td>12.129380</td>\n",
       "      <td>3.521554</td>\n",
       "      <td>1.000000</td>\n",
       "    </tr>\n",
       "    <tr>\n",
       "      <th>18</th>\n",
       "      <td>SP_CCKBC:SP_PVBC</td>\n",
       "      <td>2.203800</td>\n",
       "      <td>0.341245</td>\n",
       "      <td>4.031680</td>\n",
       "      <td>0.454990</td>\n",
       "      <td>0.256322</td>\n",
       "      <td>0.027697</td>\n",
       "      <td>870.465296</td>\n",
       "      <td>277.781188</td>\n",
       "      <td>1.600917</td>\n",
       "      <td>0.735323</td>\n",
       "      <td>1.000000</td>\n",
       "    </tr>\n",
       "    <tr>\n",
       "      <th>19</th>\n",
       "      <td>SP_CCKBC:SR_SCA</td>\n",
       "      <td>2.191457</td>\n",
       "      <td>0.263788</td>\n",
       "      <td>3.932332</td>\n",
       "      <td>0.384839</td>\n",
       "      <td>0.246334</td>\n",
       "      <td>0.037406</td>\n",
       "      <td>786.683126</td>\n",
       "      <td>425.827629</td>\n",
       "      <td>1.483880</td>\n",
       "      <td>0.254882</td>\n",
       "      <td>1.000000</td>\n",
       "    </tr>\n",
       "    <tr>\n",
       "      <th>20</th>\n",
       "      <td>SP_Ivy:SP_AA</td>\n",
       "      <td>2.065630</td>\n",
       "      <td>0.332188</td>\n",
       "      <td>4.314990</td>\n",
       "      <td>0.403477</td>\n",
       "      <td>0.248453</td>\n",
       "      <td>0.026037</td>\n",
       "      <td>1006.738432</td>\n",
       "      <td>395.421532</td>\n",
       "      <td>1.348683</td>\n",
       "      <td>0.536605</td>\n",
       "      <td>1.000000</td>\n",
       "    </tr>\n",
       "    <tr>\n",
       "      <th>21</th>\n",
       "      <td>SP_Ivy:SP_BS</td>\n",
       "      <td>2.281316</td>\n",
       "      <td>0.220570</td>\n",
       "      <td>4.247357</td>\n",
       "      <td>0.279513</td>\n",
       "      <td>0.252999</td>\n",
       "      <td>0.035348</td>\n",
       "      <td>916.902034</td>\n",
       "      <td>262.351303</td>\n",
       "      <td>1.773777</td>\n",
       "      <td>0.539889</td>\n",
       "      <td>1.000000</td>\n",
       "    </tr>\n",
       "    <tr>\n",
       "      <th>22</th>\n",
       "      <td>SP_Ivy:SP_CCKBC</td>\n",
       "      <td>2.193896</td>\n",
       "      <td>0.221397</td>\n",
       "      <td>3.995134</td>\n",
       "      <td>0.407359</td>\n",
       "      <td>0.258115</td>\n",
       "      <td>0.029677</td>\n",
       "      <td>928.024874</td>\n",
       "      <td>301.459939</td>\n",
       "      <td>1.596146</td>\n",
       "      <td>0.794686</td>\n",
       "      <td>1.000000</td>\n",
       "    </tr>\n",
       "    <tr>\n",
       "      <th>23</th>\n",
       "      <td>SP_Ivy:SP_Ivy</td>\n",
       "      <td>2.179163</td>\n",
       "      <td>0.288411</td>\n",
       "      <td>3.933567</td>\n",
       "      <td>0.333356</td>\n",
       "      <td>0.254024</td>\n",
       "      <td>0.028712</td>\n",
       "      <td>942.485675</td>\n",
       "      <td>323.740028</td>\n",
       "      <td>1.576089</td>\n",
       "      <td>0.599949</td>\n",
       "      <td>1.000000</td>\n",
       "    </tr>\n",
       "    <tr>\n",
       "      <th>24</th>\n",
       "      <td>SP_Ivy:SP_PC</td>\n",
       "      <td>0.549456</td>\n",
       "      <td>0.050371</td>\n",
       "      <td>8.314206</td>\n",
       "      <td>1.160659</td>\n",
       "      <td>0.321175</td>\n",
       "      <td>0.075435</td>\n",
       "      <td>142.631195</td>\n",
       "      <td>80.199888</td>\n",
       "      <td>60.636267</td>\n",
       "      <td>30.394331</td>\n",
       "      <td>1.000000</td>\n",
       "    </tr>\n",
       "    <tr>\n",
       "      <th>25</th>\n",
       "      <td>SP_Ivy:SP_PVBC</td>\n",
       "      <td>2.199733</td>\n",
       "      <td>0.325721</td>\n",
       "      <td>3.951321</td>\n",
       "      <td>0.438558</td>\n",
       "      <td>0.261841</td>\n",
       "      <td>0.026431</td>\n",
       "      <td>889.124129</td>\n",
       "      <td>304.717559</td>\n",
       "      <td>1.559727</td>\n",
       "      <td>0.619642</td>\n",
       "      <td>1.000000</td>\n",
       "    </tr>\n",
       "    <tr>\n",
       "      <th>26</th>\n",
       "      <td>SP_Ivy:SR_SCA</td>\n",
       "      <td>2.318691</td>\n",
       "      <td>0.134636</td>\n",
       "      <td>3.801342</td>\n",
       "      <td>0.401158</td>\n",
       "      <td>0.255136</td>\n",
       "      <td>0.017685</td>\n",
       "      <td>985.450371</td>\n",
       "      <td>435.477018</td>\n",
       "      <td>1.768425</td>\n",
       "      <td>0.496906</td>\n",
       "      <td>1.000000</td>\n",
       "    </tr>\n",
       "    <tr>\n",
       "      <th>27</th>\n",
       "      <td>SP_PC:SO_OLM</td>\n",
       "      <td>0.854657</td>\n",
       "      <td>0.105452</td>\n",
       "      <td>1.700438</td>\n",
       "      <td>0.077487</td>\n",
       "      <td>0.099680</td>\n",
       "      <td>0.058341</td>\n",
       "      <td>191.941555</td>\n",
       "      <td>314.713782</td>\n",
       "      <td>640.011726</td>\n",
       "      <td>742.723908</td>\n",
       "      <td>1.000000</td>\n",
       "    </tr>\n",
       "    <tr>\n",
       "      <th>28</th>\n",
       "      <td>SP_PC:SP_AA</td>\n",
       "      <td>3.252986</td>\n",
       "      <td>1.304923</td>\n",
       "      <td>4.122154</td>\n",
       "      <td>0.279382</td>\n",
       "      <td>0.233124</td>\n",
       "      <td>0.048193</td>\n",
       "      <td>412.583656</td>\n",
       "      <td>182.531016</td>\n",
       "      <td>10.332413</td>\n",
       "      <td>10.728481</td>\n",
       "      <td>1.000000</td>\n",
       "    </tr>\n",
       "    <tr>\n",
       "      <th>29</th>\n",
       "      <td>SP_PC:SP_BS</td>\n",
       "      <td>1.388881</td>\n",
       "      <td>0.107357</td>\n",
       "      <td>4.125149</td>\n",
       "      <td>0.264212</td>\n",
       "      <td>0.233006</td>\n",
       "      <td>0.048191</td>\n",
       "      <td>404.014660</td>\n",
       "      <td>200.785059</td>\n",
       "      <td>7.783140</td>\n",
       "      <td>8.289256</td>\n",
       "      <td>1.000000</td>\n",
       "    </tr>\n",
       "    <tr>\n",
       "      <th>30</th>\n",
       "      <td>SP_PC:SP_CCKBC</td>\n",
       "      <td>3.777935</td>\n",
       "      <td>0.290963</td>\n",
       "      <td>4.102762</td>\n",
       "      <td>0.263443</td>\n",
       "      <td>0.228561</td>\n",
       "      <td>0.047957</td>\n",
       "      <td>402.163039</td>\n",
       "      <td>187.234340</td>\n",
       "      <td>10.160408</td>\n",
       "      <td>10.776131</td>\n",
       "      <td>1.000000</td>\n",
       "    </tr>\n",
       "    <tr>\n",
       "      <th>31</th>\n",
       "      <td>SP_PC:SP_Ivy</td>\n",
       "      <td>4.995411</td>\n",
       "      <td>0.501568</td>\n",
       "      <td>4.111991</td>\n",
       "      <td>0.262798</td>\n",
       "      <td>0.228414</td>\n",
       "      <td>0.048132</td>\n",
       "      <td>419.894561</td>\n",
       "      <td>189.225067</td>\n",
       "      <td>10.098565</td>\n",
       "      <td>10.957035</td>\n",
       "      <td>1.000000</td>\n",
       "    </tr>\n",
       "    <tr>\n",
       "      <th>32</th>\n",
       "      <td>SP_PC:SP_PC</td>\n",
       "      <td>0.601208</td>\n",
       "      <td>0.100228</td>\n",
       "      <td>3.000119</td>\n",
       "      <td>0.108309</td>\n",
       "      <td>0.500098</td>\n",
       "      <td>0.010791</td>\n",
       "      <td>671.040328</td>\n",
       "      <td>17.170598</td>\n",
       "      <td>1.697519</td>\n",
       "      <td>0.494942</td>\n",
       "      <td>1.986386</td>\n",
       "    </tr>\n",
       "    <tr>\n",
       "      <th>33</th>\n",
       "      <td>SP_PC:SP_PVBC</td>\n",
       "      <td>2.996417</td>\n",
       "      <td>0.300237</td>\n",
       "      <td>4.126207</td>\n",
       "      <td>0.271756</td>\n",
       "      <td>0.230015</td>\n",
       "      <td>0.047608</td>\n",
       "      <td>417.313615</td>\n",
       "      <td>195.816515</td>\n",
       "      <td>9.583624</td>\n",
       "      <td>10.346018</td>\n",
       "      <td>1.000000</td>\n",
       "    </tr>\n",
       "    <tr>\n",
       "      <th>34</th>\n",
       "      <td>SP_PC:SR_SCA</td>\n",
       "      <td>3.324011</td>\n",
       "      <td>1.251667</td>\n",
       "      <td>4.095960</td>\n",
       "      <td>0.257263</td>\n",
       "      <td>0.237137</td>\n",
       "      <td>0.047359</td>\n",
       "      <td>401.564413</td>\n",
       "      <td>184.118930</td>\n",
       "      <td>10.394856</td>\n",
       "      <td>10.427251</td>\n",
       "      <td>1.000000</td>\n",
       "    </tr>\n",
       "    <tr>\n",
       "      <th>35</th>\n",
       "      <td>SP_PVBC:SO_OLM</td>\n",
       "      <td>2.502996</td>\n",
       "      <td>0.000000</td>\n",
       "      <td>4.478776</td>\n",
       "      <td>0.000000</td>\n",
       "      <td>0.232828</td>\n",
       "      <td>0.000000</td>\n",
       "      <td>1166.236938</td>\n",
       "      <td>0.000000</td>\n",
       "      <td>0.967980</td>\n",
       "      <td>0.000000</td>\n",
       "      <td>1.000000</td>\n",
       "    </tr>\n",
       "    <tr>\n",
       "      <th>36</th>\n",
       "      <td>SP_PVBC:SP_AA</td>\n",
       "      <td>2.209156</td>\n",
       "      <td>0.311470</td>\n",
       "      <td>2.726963</td>\n",
       "      <td>0.060769</td>\n",
       "      <td>0.212786</td>\n",
       "      <td>0.089684</td>\n",
       "      <td>1514.099930</td>\n",
       "      <td>429.936738</td>\n",
       "      <td>3.558622</td>\n",
       "      <td>1.691354</td>\n",
       "      <td>1.000000</td>\n",
       "    </tr>\n",
       "    <tr>\n",
       "      <th>37</th>\n",
       "      <td>SP_PVBC:SP_BS</td>\n",
       "      <td>2.134842</td>\n",
       "      <td>0.165228</td>\n",
       "      <td>3.895288</td>\n",
       "      <td>0.497407</td>\n",
       "      <td>0.252600</td>\n",
       "      <td>0.022810</td>\n",
       "      <td>770.964972</td>\n",
       "      <td>311.317780</td>\n",
       "      <td>1.379006</td>\n",
       "      <td>0.490569</td>\n",
       "      <td>1.000000</td>\n",
       "    </tr>\n",
       "    <tr>\n",
       "      <th>38</th>\n",
       "      <td>SP_PVBC:SP_CCKBC</td>\n",
       "      <td>2.108388</td>\n",
       "      <td>0.237500</td>\n",
       "      <td>3.921569</td>\n",
       "      <td>0.408252</td>\n",
       "      <td>0.261692</td>\n",
       "      <td>0.025040</td>\n",
       "      <td>896.123939</td>\n",
       "      <td>349.251359</td>\n",
       "      <td>1.631806</td>\n",
       "      <td>0.508612</td>\n",
       "      <td>1.000000</td>\n",
       "    </tr>\n",
       "    <tr>\n",
       "      <th>39</th>\n",
       "      <td>SP_PVBC:SP_Ivy</td>\n",
       "      <td>2.126949</td>\n",
       "      <td>0.269961</td>\n",
       "      <td>4.035240</td>\n",
       "      <td>0.337645</td>\n",
       "      <td>0.265343</td>\n",
       "      <td>0.030750</td>\n",
       "      <td>932.763005</td>\n",
       "      <td>349.921099</td>\n",
       "      <td>1.750066</td>\n",
       "      <td>0.648329</td>\n",
       "      <td>1.000000</td>\n",
       "    </tr>\n",
       "    <tr>\n",
       "      <th>40</th>\n",
       "      <td>SP_PVBC:SP_PC</td>\n",
       "      <td>1.748265</td>\n",
       "      <td>0.104310</td>\n",
       "      <td>5.438957</td>\n",
       "      <td>0.271382</td>\n",
       "      <td>0.159296</td>\n",
       "      <td>0.010573</td>\n",
       "      <td>967.232168</td>\n",
       "      <td>184.924753</td>\n",
       "      <td>8.538299</td>\n",
       "      <td>4.031209</td>\n",
       "      <td>5.907695</td>\n",
       "    </tr>\n",
       "    <tr>\n",
       "      <th>41</th>\n",
       "      <td>SP_PVBC:SP_PVBC</td>\n",
       "      <td>2.190323</td>\n",
       "      <td>0.300503</td>\n",
       "      <td>2.667300</td>\n",
       "      <td>0.067598</td>\n",
       "      <td>0.262673</td>\n",
       "      <td>0.027009</td>\n",
       "      <td>937.002264</td>\n",
       "      <td>322.533797</td>\n",
       "      <td>1.574182</td>\n",
       "      <td>0.599405</td>\n",
       "      <td>5.975000</td>\n",
       "    </tr>\n",
       "    <tr>\n",
       "      <th>42</th>\n",
       "      <td>SP_PVBC:SR_SCA</td>\n",
       "      <td>2.097547</td>\n",
       "      <td>0.264108</td>\n",
       "      <td>3.940409</td>\n",
       "      <td>0.324878</td>\n",
       "      <td>0.263766</td>\n",
       "      <td>0.016246</td>\n",
       "      <td>716.166846</td>\n",
       "      <td>210.737804</td>\n",
       "      <td>1.413194</td>\n",
       "      <td>0.388392</td>\n",
       "      <td>1.000000</td>\n",
       "    </tr>\n",
       "    <tr>\n",
       "      <th>43</th>\n",
       "      <td>SR_SCA:SO_OLM</td>\n",
       "      <td>2.133435</td>\n",
       "      <td>0.000000</td>\n",
       "      <td>3.487956</td>\n",
       "      <td>0.000000</td>\n",
       "      <td>0.285548</td>\n",
       "      <td>0.000000</td>\n",
       "      <td>1097.704102</td>\n",
       "      <td>0.000000</td>\n",
       "      <td>1.823105</td>\n",
       "      <td>0.000000</td>\n",
       "      <td>1.000000</td>\n",
       "    </tr>\n",
       "    <tr>\n",
       "      <th>44</th>\n",
       "      <td>SR_SCA:SP_Ivy</td>\n",
       "      <td>2.220503</td>\n",
       "      <td>0.324630</td>\n",
       "      <td>3.695864</td>\n",
       "      <td>0.439529</td>\n",
       "      <td>0.272894</td>\n",
       "      <td>0.022880</td>\n",
       "      <td>1029.617065</td>\n",
       "      <td>407.962873</td>\n",
       "      <td>1.557612</td>\n",
       "      <td>0.676496</td>\n",
       "      <td>1.000000</td>\n",
       "    </tr>\n",
       "    <tr>\n",
       "      <th>45</th>\n",
       "      <td>SR_SCA:SP_PC</td>\n",
       "      <td>2.244246</td>\n",
       "      <td>0.305660</td>\n",
       "      <td>8.285501</td>\n",
       "      <td>0.225722</td>\n",
       "      <td>0.148843</td>\n",
       "      <td>0.016280</td>\n",
       "      <td>184.029340</td>\n",
       "      <td>32.173663</td>\n",
       "      <td>14.080333</td>\n",
       "      <td>5.881233</td>\n",
       "      <td>1.000000</td>\n",
       "    </tr>\n",
       "    <tr>\n",
       "      <th>46</th>\n",
       "      <td>SR_SCA:SP_PVBC</td>\n",
       "      <td>2.147622</td>\n",
       "      <td>0.042437</td>\n",
       "      <td>4.028284</td>\n",
       "      <td>0.326804</td>\n",
       "      <td>0.262078</td>\n",
       "      <td>0.023068</td>\n",
       "      <td>823.709722</td>\n",
       "      <td>335.308473</td>\n",
       "      <td>1.664166</td>\n",
       "      <td>0.481981</td>\n",
       "      <td>1.000000</td>\n",
       "    </tr>\n",
       "  </tbody>\n",
       "</table>\n",
       "</div>"
      ],
      "text/plain": [
       "          projections  conductance  ...  facilitation_time_std  n_rrp_vesicles\n",
       "0        SO_OLM:SP_AA     2.104232  ...               0.000000        1.000000\n",
       "1     SO_OLM:SP_CCKBC     2.399427  ...               0.651951        1.000000\n",
       "2       SO_OLM:SP_Ivy     1.796479  ...               0.000000        1.000000\n",
       "3        SO_OLM:SP_PC     1.301133  ...               7.989495        1.000000\n",
       "4      SO_OLM:SP_PVBC     2.006640  ...               0.519227        1.000000\n",
       "5         SP_AA:SP_PC     2.359104  ...               5.554694        1.000000\n",
       "6        SP_BS:SO_OLM     2.023530  ...               0.000000        1.000000\n",
       "7         SP_BS:SP_AA     1.952848  ...               0.000000        1.000000\n",
       "8      SP_BS:SP_CCKBC     2.303933  ...               0.511845        1.000000\n",
       "9        SP_BS:SP_Ivy     2.052334  ...               0.519473        1.000000\n",
       "10        SP_BS:SP_PC     2.815952  ...               0.672990        1.000000\n",
       "11      SP_BS:SP_PVBC     2.154554  ...               0.406664        1.000000\n",
       "12       SP_BS:SR_SCA     1.844264  ...               0.000000        1.000000\n",
       "13     SP_CCKBC:SP_AA     1.925123  ...               0.838064        1.000000\n",
       "14     SP_CCKBC:SP_BS     2.300673  ...               0.623550        1.000000\n",
       "15  SP_CCKBC:SP_CCKBC     2.208964  ...             732.876339        1.000000\n",
       "16    SP_CCKBC:SP_Ivy     2.243402  ...               0.628132        1.000000\n",
       "17     SP_CCKBC:SP_PC     1.700118  ...               3.521554        1.000000\n",
       "18   SP_CCKBC:SP_PVBC     2.203800  ...               0.735323        1.000000\n",
       "19    SP_CCKBC:SR_SCA     2.191457  ...               0.254882        1.000000\n",
       "20       SP_Ivy:SP_AA     2.065630  ...               0.536605        1.000000\n",
       "21       SP_Ivy:SP_BS     2.281316  ...               0.539889        1.000000\n",
       "22    SP_Ivy:SP_CCKBC     2.193896  ...               0.794686        1.000000\n",
       "23      SP_Ivy:SP_Ivy     2.179163  ...               0.599949        1.000000\n",
       "24       SP_Ivy:SP_PC     0.549456  ...              30.394331        1.000000\n",
       "25     SP_Ivy:SP_PVBC     2.199733  ...               0.619642        1.000000\n",
       "26      SP_Ivy:SR_SCA     2.318691  ...               0.496906        1.000000\n",
       "27       SP_PC:SO_OLM     0.854657  ...             742.723908        1.000000\n",
       "28        SP_PC:SP_AA     3.252986  ...              10.728481        1.000000\n",
       "29        SP_PC:SP_BS     1.388881  ...               8.289256        1.000000\n",
       "30     SP_PC:SP_CCKBC     3.777935  ...              10.776131        1.000000\n",
       "31       SP_PC:SP_Ivy     4.995411  ...              10.957035        1.000000\n",
       "32        SP_PC:SP_PC     0.601208  ...               0.494942        1.986386\n",
       "33      SP_PC:SP_PVBC     2.996417  ...              10.346018        1.000000\n",
       "34       SP_PC:SR_SCA     3.324011  ...              10.427251        1.000000\n",
       "35     SP_PVBC:SO_OLM     2.502996  ...               0.000000        1.000000\n",
       "36      SP_PVBC:SP_AA     2.209156  ...               1.691354        1.000000\n",
       "37      SP_PVBC:SP_BS     2.134842  ...               0.490569        1.000000\n",
       "38   SP_PVBC:SP_CCKBC     2.108388  ...               0.508612        1.000000\n",
       "39     SP_PVBC:SP_Ivy     2.126949  ...               0.648329        1.000000\n",
       "40      SP_PVBC:SP_PC     1.748265  ...               4.031209        5.907695\n",
       "41    SP_PVBC:SP_PVBC     2.190323  ...               0.599405        5.975000\n",
       "42     SP_PVBC:SR_SCA     2.097547  ...               0.388392        1.000000\n",
       "43      SR_SCA:SO_OLM     2.133435  ...               0.000000        1.000000\n",
       "44      SR_SCA:SP_Ivy     2.220503  ...               0.676496        1.000000\n",
       "45       SR_SCA:SP_PC     2.244246  ...               5.881233        1.000000\n",
       "46     SR_SCA:SP_PVBC     2.147622  ...               0.481981        1.000000\n",
       "\n",
       "[47 rows x 12 columns]"
      ]
     },
     "execution_count": 74,
     "metadata": {},
     "output_type": "execute_result"
    }
   ],
   "source": [
    "ca1"
   ]
  },
  {
   "cell_type": "code",
   "execution_count": null,
   "id": "EQgZy2N6fJSk",
   "metadata": {
    "id": "EQgZy2N6fJSk"
   },
   "outputs": [],
   "source": []
  },
  {
   "cell_type": "code",
   "execution_count": null,
   "id": "Ltk53hSQCC9H",
   "metadata": {
    "colab": {
     "base_uri": "https://localhost:8080/"
    },
    "executionInfo": {
     "elapsed": 251,
     "status": "ok",
     "timestamp": 1632094938707,
     "user": {
      "displayName": "Lavinia Mitiko Takarabe",
      "photoUrl": "https://lh3.googleusercontent.com/a/default-user=s64",
      "userId": "11900514963050471931"
     },
     "user_tz": 180
    },
    "id": "Ltk53hSQCC9H",
    "outputId": "763c70a6-a05b-43fd-fc6b-5a1f18b27cb9"
   },
   "outputs": [
    {
     "data": {
      "text/plain": [
       "40    0.010573\n",
       "Name: u_syn_std, dtype: float64"
      ]
     },
     "execution_count": 75,
     "metadata": {},
     "output_type": "execute_result"
    }
   ],
   "source": [
    "ca1['u_syn_std'][ca1['projections']=='SP_PVBC:SP_PC']"
   ]
  },
  {
   "cell_type": "code",
   "execution_count": null,
   "id": "hLMi-8SyOI01",
   "metadata": {
    "id": "hLMi-8SyOI01"
   },
   "outputs": [],
   "source": [
    "projs = np.unique(proj_mtypes)\n",
    "\n",
    "conductance = []\n",
    "conductance_std = []\n",
    "\n",
    "decay_time = []\n",
    "decay_time_std = []\n",
    "\n",
    "u_syn = []\n",
    "u_syn_std = []\n",
    "\n",
    "depression_time = []\n",
    "depression_time_std = []\n",
    "\n",
    "facilitation_time = []\n",
    "facilitation_time_std = []\n",
    "\n",
    "n_rrp_vesicles = []\n",
    "\n",
    "\n",
    "for proj in projs:\n",
    "  conductance.append(np.array(parameters['edges']['conductance'])[np.where(proj_mtypes==proj)[0]])\n",
    "    \n",
    "  decay_time.append(np.array(parameters['edges']['decay_time'])[np.where(proj_mtypes==proj)[0]])\n",
    "\n",
    "  u_syn.append(np.array(parameters['edges']['u_syn'])[np.where(proj_mtypes==proj)[0]])\n",
    "\n",
    "  depression_time.append(np.array(parameters['edges']['depression_time'])[np.where(proj_mtypes==proj)[0]])\n",
    "  \n",
    "  facilitation_time.append(np.array(parameters['edges']['facilitation_time'])[np.where(proj_mtypes==proj)[0]])\n",
    "  \n",
    "  n_rrp_vesicles.append(np.array(parameters['edges']['n_rrp_vesicles'])[np.where(proj_mtypes==proj)[0]])"
   ]
  },
  {
   "cell_type": "code",
   "execution_count": null,
   "id": "6p5Vtt_ofG1x",
   "metadata": {
    "colab": {
     "base_uri": "https://localhost:8080/"
    },
    "executionInfo": {
     "elapsed": 232,
     "status": "ok",
     "timestamp": 1632095799980,
     "user": {
      "displayName": "Lavinia Mitiko Takarabe",
      "photoUrl": "https://lh3.googleusercontent.com/a/default-user=s64",
      "userId": "11900514963050471931"
     },
     "user_tz": 180
    },
    "id": "6p5Vtt_ofG1x",
    "outputId": "35b30e08-c248-4668-86b2-e6af30d7328f"
   },
   "outputs": [
    {
     "data": {
      "text/plain": [
       "0    2.104232\n",
       "Name: conductance, dtype: float64"
      ]
     },
     "execution_count": 98,
     "metadata": {},
     "output_type": "execute_result"
    }
   ],
   "source": [
    "ca1['conductance'][ca1['projections']=='SO_OLM:SP_AA']"
   ]
  },
  {
   "cell_type": "code",
   "execution_count": null,
   "id": "CQrpzFtLgBDN",
   "metadata": {
    "colab": {
     "base_uri": "https://localhost:8080/",
     "height": 353
    },
    "executionInfo": {
     "elapsed": 247,
     "status": "ok",
     "timestamp": 1632096153576,
     "user": {
      "displayName": "Lavinia Mitiko Takarabe",
      "photoUrl": "https://lh3.googleusercontent.com/a/default-user=s64",
      "userId": "11900514963050471931"
     },
     "user_tz": 180
    },
    "id": "CQrpzFtLgBDN",
    "outputId": "b65aeb00-7854-4409-c419-94b37f2f318a"
   },
   "outputs": [
    {
     "data": {
      "text/plain": [
       "(array([0., 0., 0., 0., 0., 2., 0., 0., 0., 0.]),\n",
       " array([1.60423183, 1.70423183, 1.80423183, 1.90423183, 2.00423183,\n",
       "        2.10423183, 2.20423183, 2.30423183, 2.40423183, 2.50423183,\n",
       "        2.60423183]),\n",
       " <a list of 10 Patch objects>)"
      ]
     },
     "execution_count": 111,
     "metadata": {},
     "output_type": "execute_result"
    },
    {
     "data": {
      "image/png": "[encoded data removed]",
      "text/plain": [
       "<Figure size 432x288 with 1 Axes>"
      ]
     },
     "metadata": {
      "needs_background": "light"
     },
     "output_type": "display_data"
    }
   ],
   "source": [
    "plt.hist(conductance[0]);"
   ]
  },
  {
   "cell_type": "code",
   "execution_count": null,
   "id": "bhvDZy0ZP5-X",
   "metadata": {
    "id": "bhvDZy0ZP5-X"
   },
   "outputs": [],
   "source": [
    "params = ['conductance', 'decay_time', 'u_syn', 'depression_time', 'facilitation_time', 'n_rrp_vesicles']\n",
    "params_unique_mtypes = [conductance, decay_time, u_syn, depression_time, facilitation_time, n_rrp_vesicles]"
   ]
  },
  {
   "cell_type": "code",
   "execution_count": null,
   "id": "06DFSRz0d8pG",
   "metadata": {
    "colab": {
     "base_uri": "https://localhost:8080/",
     "height": 390
    },
    "executionInfo": {
     "elapsed": 622,
     "status": "ok",
     "timestamp": 1632096287241,
     "user": {
      "displayName": "Lavinia Mitiko Takarabe",
      "photoUrl": "https://lh3.googleusercontent.com/a/default-user=s64",
      "userId": "11900514963050471931"
     },
     "user_tz": 180
    },
    "id": "06DFSRz0d8pG",
    "outputId": "d7b5176d-7fc0-4f11-8d0c-39ceaca4aa30"
   },
   "outputs": [
    {
     "data": {
      "image/png": "[encoded data removed]",
      "text/plain": [
       "<Figure size 1152x432 with 1 Axes>"
      ]
     },
     "metadata": {
      "needs_background": "light"
     },
     "output_type": "display_data"
    }
   ],
   "source": [
    "plt.figure(figsize=(16,6));\n",
    "plt.title(f'{projs[i]} - {params[0]}');\n",
    "plt.hist(params_unique_mtypes[0][i]);"
   ]
  },
  {
   "cell_type": "code",
   "execution_count": null,
   "id": "my3WzSQdfkY4",
   "metadata": {
    "colab": {
     "base_uri": "https://localhost:8080/",
     "height": 353
    },
    "executionInfo": {
     "elapsed": 251,
     "status": "ok",
     "timestamp": 1632095882494,
     "user": {
      "displayName": "Lavinia Mitiko Takarabe",
      "photoUrl": "https://lh3.googleusercontent.com/a/default-user=s64",
      "userId": "11900514963050471931"
     },
     "user_tz": 180
    },
    "id": "my3WzSQdfkY4",
    "outputId": "375b1fe7-4808-4e23-d904-e350788c0317"
   },
   "outputs": [
    {
     "data": {
      "text/plain": [
       "(array([0., 0., 0., 0., 0., 1., 0., 0., 0., 0.]),\n",
       " array([1.60423183, 1.70423183, 1.80423183, 1.90423183, 2.00423183,\n",
       "        2.10423183, 2.20423183, 2.30423183, 2.40423183, 2.50423183,\n",
       "        2.60423183]),\n",
       " <a list of 10 Patch objects>)"
      ]
     },
     "execution_count": 100,
     "metadata": {},
     "output_type": "execute_result"
    },
    {
     "data": {
      "image/png": "[encoded data removed]",
      "text/plain": [
       "<Figure size 432x288 with 1 Axes>"
      ]
     },
     "metadata": {
      "needs_background": "light"
     },
     "output_type": "display_data"
    }
   ],
   "source": [
    "plt.hist(ca1['conductance'][i])"
   ]
  },
  {
   "cell_type": "code",
   "execution_count": null,
   "id": "iN7GATTrPPw_",
   "metadata": {
    "colab": {
     "base_uri": "https://localhost:8080/",
     "height": 1000,
     "output_embedded_package_id": "1gAZECMBvQtg6IrknrKEqJZPIQX3w8JMR"
    },
    "executionInfo": {
     "elapsed": 123672,
     "status": "ok",
     "timestamp": 1632096813833,
     "user": {
      "displayName": "Lavinia Mitiko Takarabe",
      "photoUrl": "https://lh3.googleusercontent.com/a/default-user=s64",
      "userId": "11900514963050471931"
     },
     "user_tz": 180
    },
    "id": "iN7GATTrPPw_",
    "outputId": "11116b56-dac7-4094-8fa3-3f348429d906"
   },
   "outputs": [
    {
     "data": {
      "text/plain": [
       "Output hidden; open in https://colab.research.google.com to view."
      ]
     },
     "metadata": {},
     "output_type": "display_data"
    }
   ],
   "source": [
    "for i_proj in range(len(projs)):\n",
    "  for i_param in range(len(params)):\n",
    "    plt.figure(figsize=(16,6));\n",
    "    plt.title(f'{projs[i_proj]} - {params[i_param]}');\n",
    "    plt.hist(params_unique_mtypes[i_param][i_proj], bins = 100);"
   ]
  },
  {
   "cell_type": "code",
   "execution_count": null,
   "id": "kU-3-_EUeEjC",
   "metadata": {
    "colab": {
     "base_uri": "https://localhost:8080/"
    },
    "executionInfo": {
     "elapsed": 414,
     "status": "ok",
     "timestamp": 1632179350247,
     "user": {
      "displayName": "Fernando Borges",
      "photoUrl": "https://lh3.googleusercontent.com/a-/AOh14GjmnOv5Ub_NRxuhRL5o0txWMXjifczY9_5VpuxcpQ=s64",
      "userId": "10661481794494853642"
     },
     "user_tz": 180
    },
    "id": "kU-3-_EUeEjC",
    "outputId": "c8cce257-7c77-42f4-e082-f936fbf7a535"
   },
   "outputs": [
    {
     "name": "stdout",
     "output_type": "stream",
     "text": [
      "analise_mc2r100.ipynb  connhipp_mc2r100.json  \u001b[0m\u001b[01;34msonata\u001b[0m/\n",
      "check_syntypes.ipynb   mc2r100.ipynb          source_mtypes.txt\n",
      "connhipp_mc2r100.h5    proj_mtypes.txt        target_mtypes.txt\n"
     ]
    }
   ],
   "source": [
    "ls"
   ]
  },
  {
   "cell_type": "code",
   "execution_count": null,
   "id": "WWTvVKayQSmN",
   "metadata": {
    "id": "WWTvVKayQSmN"
   },
   "outputs": [],
   "source": [
    "import json\n",
    "import h5py\n",
    "import numpy as np\n",
    "\n",
    "with open('connhipp_mc2r100.json', \"r\") as fp:\n",
    "  connCa1 = json.load(fp)\n",
    "  \n",
    "f = h5py.File('/content/gdrive/MyDrive/CA1_netpyne/info/data-bbp/20191017/sonata/edges/edges.h5', 'r')\n",
    "f1 = h5py.File('/content/gdrive/MyDrive/CA1_netpyne/info/data-bbp/20191017/sonata/nodes/nodes.h5', 'r')\n",
    "f2 = h5py.File('connhipp_mc2r100.h5', 'r')"
   ]
  },
  {
   "cell_type": "markdown",
   "id": "WdGvJIpeZ7XZ",
   "metadata": {
    "id": "WdGvJIpeZ7XZ"
   },
   "source": [
    "Fernando\n"
   ]
  },
  {
   "cell_type": "code",
   "execution_count": null,
   "id": "-Od93Oi1aX0m",
   "metadata": {
    "id": "-Od93Oi1aX0m"
   },
   "outputs": [],
   "source": [
    "pre = str(connCa1['edges']['source_node_id'][0])\n",
    "post = str(connCa1['edges']['target_node_id'][0])\n",
    "connNumber = 0\n",
    "connList = {}\n",
    "connList[connNumber] = []\n",
    "connList[connNumber].append(str(connCa1['edges']['source_node_id'][0]))\n",
    "connListpost = []\n",
    "connListpost.append(str(connCa1['edges']['target_node_id'][0]))\n",
    "\n",
    "for synID in range(1,133352):\n",
    "  if pre == str(connCa1['edges']['source_node_id'][synID]) and post == str(connCa1['edges']['target_node_id'][synID]):\n",
    "    connList[connNumber].append(str(connCa1['edges']['source_node_id'][synID]))\n",
    "  else:\n",
    "    connNumber+=1\n",
    "    connList[connNumber] = []\n",
    "    connList[connNumber].append(str(connCa1['edges']['source_node_id'][synID]))\n",
    "    connListpost.append(str(connCa1['edges']['target_node_id'][synID]))\n",
    "\n",
    "    if pre in Epops:\n",
    "      netParams.synMechParams['synMech_' + pre + '_' + post] = {'mod': 'DetAMPANMDA', \n",
    "                                                'tau_d_AMPA':connCa1['edges']['decay_time'][synID],\n",
    "                                                'Use': connCa1['edges']['u_syn'][synID], \n",
    "                                                'Dep': connCa1['edges']['depression_time'][synID], \n",
    "                                                'Fac': connCa1['edges']['facilitation_time'][synID]}\n",
    "\n",
    "    else:\n",
    "      netParams.synMechParams['synMech_' + pre + '_' + post]={'mod':'DetGABAAB', \n",
    "                                        'tau_d_GABAA':connCa1['edges']['decay_time'][synID],\n",
    "                                        'Use': connCa1['edges']['u_syn'][synID], \n",
    "                                        'Dep': connCa1['edges']['depression_time'][synID], \n",
    "                                        'Fac': connCa1['edges']['facilitation_time'][synID]} \n",
    "\n",
    "  pre = str(connCa1['edges']['source_node_id'][synID])\n",
    "  post = str(connCa1['edges']['target_node_id'][synID])"
   ]
  },
  {
   "cell_type": "code",
   "execution_count": null,
   "id": "KATU0FXFfKkW",
   "metadata": {
    "colab": {
     "base_uri": "https://localhost:8080/"
    },
    "executionInfo": {
     "elapsed": 270,
     "status": "ok",
     "timestamp": 1632181456115,
     "user": {
      "displayName": "Fernando Borges",
      "photoUrl": "https://lh3.googleusercontent.com/a-/AOh14GjmnOv5Ub_NRxuhRL5o0txWMXjifczY9_5VpuxcpQ=s64",
      "userId": "10661481794494853642"
     },
     "user_tz": 180
    },
    "id": "KATU0FXFfKkW",
    "outputId": "48db646d-7f0e-4681-c5d4-665f3238c24a"
   },
   "outputs": [
    {
     "data": {
      "text/plain": [
       "24647"
      ]
     },
     "execution_count": 66,
     "metadata": {},
     "output_type": "execute_result"
    }
   ],
   "source": [
    "connNumber"
   ]
  },
  {
   "cell_type": "code",
   "execution_count": null,
   "id": "c9lB3mxGiO9O",
   "metadata": {
    "id": "c9lB3mxGiO9O"
   },
   "outputs": [],
   "source": [
    "connNumber = 0\n",
    "synID = 0\n",
    "\n",
    "for connID in range(24647):\n",
    "    pre = connList[connNumber][0]\n",
    "    post = connListpost[connNumber]\n",
    "        \n",
    "    netParams.connParams['connID_' + pre + '_' + post] = {        \n",
    "        'preConds': {'pop': pre},\n",
    "        'postConds': {'pop': post},\n",
    "        'synsPerConn': np.size(connList[connNumber]),\n",
    "        'sec': connCa1['edges']['efferent_section_id'][synID:synID+np.size(connList[connNumber])], # se não der certo -> connCa1['edges']['efferent_section_id'][synID]\n",
    "        'synMech': 'synMech_' + pre + '_' + post,\n",
    "        'weight': connCa1['edges']['conductance'][synID:synID+np.size(connList[connNumber])],\n",
    "        'delay': connCa1['edges']['delay'][synID:synID+np.size(connList[connNumber])]\n",
    "        }\n",
    "    connNumber+=1\n",
    "    synID+=np.size(connList[connNumber])\n"
   ]
  },
  {
   "cell_type": "code",
   "execution_count": null,
   "id": "V1EsnJEJZ2SS",
   "metadata": {
    "id": "V1EsnJEJZ2SS"
   },
   "outputs": [],
   "source": [
    "for synID in range(133352):\n",
    "    netParams.connParams['synID_' + str(synID)] = {\n",
    "        \n",
    "        pre = connCa1['edges']['source_node_id'][synID]\n",
    "        post = connCa1['edges']['target_node_id'][synID]\n",
    "        \n",
    "        preMype = str(f1['nodes']['hippocampus_neurons']['0']['@library']['mtype'][f1['nodes']['hippocampus_neurons']['0']['mtype'][pre]])\n",
    "        preMype = preMype[2:-1]        \n",
    "        postMype = str(f1['nodes']['hippocampus_neurons']['0']['@library']['mtype'][f1['nodes']['hippocampus_neurons']['0']['mtype'][post]])\n",
    "        postMype = postMype[2:-1]\n",
    "        \n",
    "        'preConds': {'pop': str(pre)},\n",
    "        'postConds': {'pop': str(post)},\n",
    "        'sec': connCa1['edges']['efferent_section_id'],\n",
    "        'synsPerConn': 1,\n",
    "        'synMech': matrix['synTape'][preMype][postMype],\n",
    "        'weight': connCa1['edges']['conductance'],\n",
    "        'delay': connCa1['edges']['delay']\n",
    "        }"
   ]
  },
  {
   "cell_type": "markdown",
   "id": "eSU2dZdQA_Rq",
   "metadata": {
    "id": "eSU2dZdQA_Rq"
   },
   "source": [
    "\n",
    "\n",
    "---\n",
    "\n"
   ]
  },
  {
   "cell_type": "markdown",
   "id": "5TgzM4VyrGtO",
   "metadata": {
    "id": "5TgzM4VyrGtO"
   },
   "source": [
    "# Synapses Per Connection"
   ]
  },
  {
   "cell_type": "code",
   "execution_count": null,
   "id": "ZgrqzzzhIJec",
   "metadata": {
    "id": "ZgrqzzzhIJec"
   },
   "outputs": [],
   "source": [
    "source_id_anterior = f['edges']['hippocampus_neurons__hippocampus_neurons__chemical']['source_node_id'][0]\n",
    "target_id_anterior = f['edges']['hippocampus_neurons__hippocampus_neurons__chemical']['target_node_id'][0]\n",
    "count = 1\n",
    "syns_mtypes = []\n",
    "n_syns = []\n",
    "index = 0\n",
    "\n",
    "for i in imc2r100[1:]:\n",
    "  index = index + 1\n",
    "  source_id = f['edges']['hippocampus_neurons__hippocampus_neurons__chemical']['source_node_id'][i]\n",
    "  target_id = f['edges']['hippocampus_neurons__hippocampus_neurons__chemical']['target_node_id'][i]\n",
    "  if source_id == source_id_anterior and target_id == target_id_anterior:\n",
    "    count = count + 1\n",
    "  else:\n",
    "    n_syns.append(count)\n",
    "    count = 1\n",
    "    syns_mtypes.append(proj_mtypes[index])\n",
    "    source_id_anterior = source_id\n",
    "    target_id_anterior = target_id\n",
    "\n",
    "   "
   ]
  },
  {
   "cell_type": "code",
   "execution_count": null,
   "id": "5WAqyXzJXKyw",
   "metadata": {
    "id": "5WAqyXzJXKyw"
   },
   "outputs": [],
   "source": [
    "n_synsperconn = []\n",
    "n_syns = np.array(n_syns)\n",
    "\n",
    "for proj in unique_mtypes:\n",
    "  n_synsperconn.append(np.rint(np.mean(n_syns[np.where(np.array(syns_mtypes)==proj)[0]])))\n"
   ]
  },
  {
   "cell_type": "code",
   "execution_count": null,
   "id": "i-GYyuzogpLL",
   "metadata": {
    "id": "i-GYyuzogpLL"
   },
   "outputs": [],
   "source": [
    "pre_mtypes = []\n",
    "post_mtypes = []\n",
    "for proj in unique_mtypes:\n",
    "  split = proj.split(sep=':')\n",
    "  pre_mtypes.append(split[0])\n",
    "  post_mtypes.append(split[1])\n"
   ]
  },
  {
   "cell_type": "code",
   "execution_count": null,
   "id": "zsPyaXYyYf0d",
   "metadata": {
    "id": "zsPyaXYyYf0d"
   },
   "outputs": [],
   "source": [
    "synsPerConn = {}\n",
    "synsPerConn['pre'] = pre_mtypes\n",
    "synsPerConn['post'] = post_mtypes\n",
    "synsPerConn['proj'] = unique_mtypes\n",
    "synsPerConn['n_syns'] = n_synsperconn"
   ]
  },
  {
   "cell_type": "code",
   "execution_count": null,
   "id": "u2sv7ryhf9eB",
   "metadata": {
    "colab": {
     "base_uri": "https://localhost:8080/",
     "height": 1000
    },
    "executionInfo": {
     "elapsed": 9,
     "status": "ok",
     "timestamp": 1632616435232,
     "user": {
      "displayName": "Lavinia Mitiko Takarabe",
      "photoUrl": "https://lh3.googleusercontent.com/a/default-user=s64",
      "userId": "11900514963050471931"
     },
     "user_tz": 180
    },
    "id": "u2sv7ryhf9eB",
    "outputId": "996f8a81-21b6-41a8-fba9-97e896bf8850"
   },
   "outputs": [
    {
     "data": {
      "text/html": [
       "<div>\n",
       "<style scoped>\n",
       "    .dataframe tbody tr th:only-of-type {\n",
       "        vertical-align: middle;\n",
       "    }\n",
       "\n",
       "    .dataframe tbody tr th {\n",
       "        vertical-align: top;\n",
       "    }\n",
       "\n",
       "    .dataframe thead th {\n",
       "        text-align: right;\n",
       "    }\n",
       "</style>\n",
       "<table border=\"1\" class=\"dataframe\">\n",
       "  <thead>\n",
       "    <tr style=\"text-align: right;\">\n",
       "      <th></th>\n",
       "      <th>pre</th>\n",
       "      <th>post</th>\n",
       "      <th>proj</th>\n",
       "      <th>n_syns</th>\n",
       "    </tr>\n",
       "  </thead>\n",
       "  <tbody>\n",
       "    <tr>\n",
       "      <th>0</th>\n",
       "      <td>SO_OLM</td>\n",
       "      <td>SP_AA</td>\n",
       "      <td>SO_OLM:SP_AA</td>\n",
       "      <td>7.0</td>\n",
       "    </tr>\n",
       "    <tr>\n",
       "      <th>1</th>\n",
       "      <td>SO_OLM</td>\n",
       "      <td>SP_CCKBC</td>\n",
       "      <td>SO_OLM:SP_CCKBC</td>\n",
       "      <td>4.0</td>\n",
       "    </tr>\n",
       "    <tr>\n",
       "      <th>2</th>\n",
       "      <td>SO_OLM</td>\n",
       "      <td>SP_Ivy</td>\n",
       "      <td>SO_OLM:SP_Ivy</td>\n",
       "      <td>5.0</td>\n",
       "    </tr>\n",
       "    <tr>\n",
       "      <th>3</th>\n",
       "      <td>SO_OLM</td>\n",
       "      <td>SP_PC</td>\n",
       "      <td>SO_OLM:SP_PC</td>\n",
       "      <td>16.0</td>\n",
       "    </tr>\n",
       "    <tr>\n",
       "      <th>4</th>\n",
       "      <td>SO_OLM</td>\n",
       "      <td>SP_PVBC</td>\n",
       "      <td>SO_OLM:SP_PVBC</td>\n",
       "      <td>6.0</td>\n",
       "    </tr>\n",
       "    <tr>\n",
       "      <th>5</th>\n",
       "      <td>SP_AA</td>\n",
       "      <td>SP_PC</td>\n",
       "      <td>SP_AA:SP_PC</td>\n",
       "      <td>8.0</td>\n",
       "    </tr>\n",
       "    <tr>\n",
       "      <th>6</th>\n",
       "      <td>SP_BS</td>\n",
       "      <td>SO_OLM</td>\n",
       "      <td>SP_BS:SO_OLM</td>\n",
       "      <td>2.0</td>\n",
       "    </tr>\n",
       "    <tr>\n",
       "      <th>7</th>\n",
       "      <td>SP_BS</td>\n",
       "      <td>SP_AA</td>\n",
       "      <td>SP_BS:SP_AA</td>\n",
       "      <td>1.0</td>\n",
       "    </tr>\n",
       "    <tr>\n",
       "      <th>8</th>\n",
       "      <td>SP_BS</td>\n",
       "      <td>SP_CCKBC</td>\n",
       "      <td>SP_BS:SP_CCKBC</td>\n",
       "      <td>1.0</td>\n",
       "    </tr>\n",
       "    <tr>\n",
       "      <th>9</th>\n",
       "      <td>SP_BS</td>\n",
       "      <td>SP_Ivy</td>\n",
       "      <td>SP_BS:SP_Ivy</td>\n",
       "      <td>5.0</td>\n",
       "    </tr>\n",
       "    <tr>\n",
       "      <th>10</th>\n",
       "      <td>SP_BS</td>\n",
       "      <td>SP_PC</td>\n",
       "      <td>SP_BS:SP_PC</td>\n",
       "      <td>10.0</td>\n",
       "    </tr>\n",
       "    <tr>\n",
       "      <th>11</th>\n",
       "      <td>SP_BS</td>\n",
       "      <td>SP_PVBC</td>\n",
       "      <td>SP_BS:SP_PVBC</td>\n",
       "      <td>6.0</td>\n",
       "    </tr>\n",
       "    <tr>\n",
       "      <th>12</th>\n",
       "      <td>SP_BS</td>\n",
       "      <td>SR_SCA</td>\n",
       "      <td>SP_BS:SR_SCA</td>\n",
       "      <td>2.0</td>\n",
       "    </tr>\n",
       "    <tr>\n",
       "      <th>13</th>\n",
       "      <td>SP_CCKBC</td>\n",
       "      <td>SP_AA</td>\n",
       "      <td>SP_CCKBC:SP_AA</td>\n",
       "      <td>2.0</td>\n",
       "    </tr>\n",
       "    <tr>\n",
       "      <th>14</th>\n",
       "      <td>SP_CCKBC</td>\n",
       "      <td>SP_BS</td>\n",
       "      <td>SP_CCKBC:SP_BS</td>\n",
       "      <td>6.0</td>\n",
       "    </tr>\n",
       "    <tr>\n",
       "      <th>15</th>\n",
       "      <td>SP_CCKBC</td>\n",
       "      <td>SP_CCKBC</td>\n",
       "      <td>SP_CCKBC:SP_CCKBC</td>\n",
       "      <td>2.0</td>\n",
       "    </tr>\n",
       "    <tr>\n",
       "      <th>16</th>\n",
       "      <td>SP_CCKBC</td>\n",
       "      <td>SP_Ivy</td>\n",
       "      <td>SP_CCKBC:SP_Ivy</td>\n",
       "      <td>3.0</td>\n",
       "    </tr>\n",
       "    <tr>\n",
       "      <th>17</th>\n",
       "      <td>SP_CCKBC</td>\n",
       "      <td>SP_PC</td>\n",
       "      <td>SP_CCKBC:SP_PC</td>\n",
       "      <td>10.0</td>\n",
       "    </tr>\n",
       "    <tr>\n",
       "      <th>18</th>\n",
       "      <td>SP_CCKBC</td>\n",
       "      <td>SP_PVBC</td>\n",
       "      <td>SP_CCKBC:SP_PVBC</td>\n",
       "      <td>4.0</td>\n",
       "    </tr>\n",
       "    <tr>\n",
       "      <th>19</th>\n",
       "      <td>SP_CCKBC</td>\n",
       "      <td>SR_SCA</td>\n",
       "      <td>SP_CCKBC:SR_SCA</td>\n",
       "      <td>1.0</td>\n",
       "    </tr>\n",
       "    <tr>\n",
       "      <th>20</th>\n",
       "      <td>SP_Ivy</td>\n",
       "      <td>SP_AA</td>\n",
       "      <td>SP_Ivy:SP_AA</td>\n",
       "      <td>4.0</td>\n",
       "    </tr>\n",
       "    <tr>\n",
       "      <th>21</th>\n",
       "      <td>SP_Ivy</td>\n",
       "      <td>SP_BS</td>\n",
       "      <td>SP_Ivy:SP_BS</td>\n",
       "      <td>8.0</td>\n",
       "    </tr>\n",
       "    <tr>\n",
       "      <th>22</th>\n",
       "      <td>SP_Ivy</td>\n",
       "      <td>SP_CCKBC</td>\n",
       "      <td>SP_Ivy:SP_CCKBC</td>\n",
       "      <td>3.0</td>\n",
       "    </tr>\n",
       "    <tr>\n",
       "      <th>23</th>\n",
       "      <td>SP_Ivy</td>\n",
       "      <td>SP_Ivy</td>\n",
       "      <td>SP_Ivy:SP_Ivy</td>\n",
       "      <td>6.0</td>\n",
       "    </tr>\n",
       "    <tr>\n",
       "      <th>24</th>\n",
       "      <td>SP_Ivy</td>\n",
       "      <td>SP_PC</td>\n",
       "      <td>SP_Ivy:SP_PC</td>\n",
       "      <td>15.0</td>\n",
       "    </tr>\n",
       "    <tr>\n",
       "      <th>25</th>\n",
       "      <td>SP_Ivy</td>\n",
       "      <td>SP_PVBC</td>\n",
       "      <td>SP_Ivy:SP_PVBC</td>\n",
       "      <td>7.0</td>\n",
       "    </tr>\n",
       "    <tr>\n",
       "      <th>26</th>\n",
       "      <td>SP_Ivy</td>\n",
       "      <td>SR_SCA</td>\n",
       "      <td>SP_Ivy:SR_SCA</td>\n",
       "      <td>3.0</td>\n",
       "    </tr>\n",
       "    <tr>\n",
       "      <th>27</th>\n",
       "      <td>SP_PC</td>\n",
       "      <td>SO_OLM</td>\n",
       "      <td>SP_PC:SO_OLM</td>\n",
       "      <td>3.0</td>\n",
       "    </tr>\n",
       "    <tr>\n",
       "      <th>28</th>\n",
       "      <td>SP_PC</td>\n",
       "      <td>SP_AA</td>\n",
       "      <td>SP_PC:SP_AA</td>\n",
       "      <td>6.0</td>\n",
       "    </tr>\n",
       "    <tr>\n",
       "      <th>29</th>\n",
       "      <td>SP_PC</td>\n",
       "      <td>SP_BS</td>\n",
       "      <td>SP_PC:SP_BS</td>\n",
       "      <td>5.0</td>\n",
       "    </tr>\n",
       "    <tr>\n",
       "      <th>30</th>\n",
       "      <td>SP_PC</td>\n",
       "      <td>SP_CCKBC</td>\n",
       "      <td>SP_PC:SP_CCKBC</td>\n",
       "      <td>4.0</td>\n",
       "    </tr>\n",
       "    <tr>\n",
       "      <th>31</th>\n",
       "      <td>SP_PC</td>\n",
       "      <td>SP_Ivy</td>\n",
       "      <td>SP_PC:SP_Ivy</td>\n",
       "      <td>4.0</td>\n",
       "    </tr>\n",
       "    <tr>\n",
       "      <th>32</th>\n",
       "      <td>SP_PC</td>\n",
       "      <td>SP_PC</td>\n",
       "      <td>SP_PC:SP_PC</td>\n",
       "      <td>2.0</td>\n",
       "    </tr>\n",
       "    <tr>\n",
       "      <th>33</th>\n",
       "      <td>SP_PC</td>\n",
       "      <td>SP_PVBC</td>\n",
       "      <td>SP_PC:SP_PVBC</td>\n",
       "      <td>6.0</td>\n",
       "    </tr>\n",
       "    <tr>\n",
       "      <th>34</th>\n",
       "      <td>SP_PC</td>\n",
       "      <td>SR_SCA</td>\n",
       "      <td>SP_PC:SR_SCA</td>\n",
       "      <td>3.0</td>\n",
       "    </tr>\n",
       "    <tr>\n",
       "      <th>35</th>\n",
       "      <td>SP_PVBC</td>\n",
       "      <td>SO_OLM</td>\n",
       "      <td>SP_PVBC:SO_OLM</td>\n",
       "      <td>6.0</td>\n",
       "    </tr>\n",
       "    <tr>\n",
       "      <th>36</th>\n",
       "      <td>SP_PVBC</td>\n",
       "      <td>SP_AA</td>\n",
       "      <td>SP_PVBC:SP_AA</td>\n",
       "      <td>2.0</td>\n",
       "    </tr>\n",
       "    <tr>\n",
       "      <th>37</th>\n",
       "      <td>SP_PVBC</td>\n",
       "      <td>SP_BS</td>\n",
       "      <td>SP_PVBC:SP_BS</td>\n",
       "      <td>3.0</td>\n",
       "    </tr>\n",
       "    <tr>\n",
       "      <th>38</th>\n",
       "      <td>SP_PVBC</td>\n",
       "      <td>SP_CCKBC</td>\n",
       "      <td>SP_PVBC:SP_CCKBC</td>\n",
       "      <td>3.0</td>\n",
       "    </tr>\n",
       "    <tr>\n",
       "      <th>39</th>\n",
       "      <td>SP_PVBC</td>\n",
       "      <td>SP_Ivy</td>\n",
       "      <td>SP_PVBC:SP_Ivy</td>\n",
       "      <td>3.0</td>\n",
       "    </tr>\n",
       "    <tr>\n",
       "      <th>40</th>\n",
       "      <td>SP_PVBC</td>\n",
       "      <td>SP_PC</td>\n",
       "      <td>SP_PVBC:SP_PC</td>\n",
       "      <td>8.0</td>\n",
       "    </tr>\n",
       "    <tr>\n",
       "      <th>41</th>\n",
       "      <td>SP_PVBC</td>\n",
       "      <td>SP_PVBC</td>\n",
       "      <td>SP_PVBC:SP_PVBC</td>\n",
       "      <td>3.0</td>\n",
       "    </tr>\n",
       "    <tr>\n",
       "      <th>42</th>\n",
       "      <td>SP_PVBC</td>\n",
       "      <td>SR_SCA</td>\n",
       "      <td>SP_PVBC:SR_SCA</td>\n",
       "      <td>2.0</td>\n",
       "    </tr>\n",
       "    <tr>\n",
       "      <th>43</th>\n",
       "      <td>SR_SCA</td>\n",
       "      <td>SO_OLM</td>\n",
       "      <td>SR_SCA:SO_OLM</td>\n",
       "      <td>7.0</td>\n",
       "    </tr>\n",
       "    <tr>\n",
       "      <th>44</th>\n",
       "      <td>SR_SCA</td>\n",
       "      <td>SP_Ivy</td>\n",
       "      <td>SR_SCA:SP_Ivy</td>\n",
       "      <td>4.0</td>\n",
       "    </tr>\n",
       "    <tr>\n",
       "      <th>45</th>\n",
       "      <td>SR_SCA</td>\n",
       "      <td>SP_PC</td>\n",
       "      <td>SR_SCA:SP_PC</td>\n",
       "      <td>13.0</td>\n",
       "    </tr>\n",
       "    <tr>\n",
       "      <th>46</th>\n",
       "      <td>SR_SCA</td>\n",
       "      <td>SP_PVBC</td>\n",
       "      <td>SR_SCA:SP_PVBC</td>\n",
       "      <td>7.0</td>\n",
       "    </tr>\n",
       "  </tbody>\n",
       "</table>\n",
       "</div>"
      ],
      "text/plain": [
       "         pre      post               proj  n_syns\n",
       "0     SO_OLM     SP_AA       SO_OLM:SP_AA     7.0\n",
       "1     SO_OLM  SP_CCKBC    SO_OLM:SP_CCKBC     4.0\n",
       "2     SO_OLM    SP_Ivy      SO_OLM:SP_Ivy     5.0\n",
       "3     SO_OLM     SP_PC       SO_OLM:SP_PC    16.0\n",
       "4     SO_OLM   SP_PVBC     SO_OLM:SP_PVBC     6.0\n",
       "5      SP_AA     SP_PC        SP_AA:SP_PC     8.0\n",
       "6      SP_BS    SO_OLM       SP_BS:SO_OLM     2.0\n",
       "7      SP_BS     SP_AA        SP_BS:SP_AA     1.0\n",
       "8      SP_BS  SP_CCKBC     SP_BS:SP_CCKBC     1.0\n",
       "9      SP_BS    SP_Ivy       SP_BS:SP_Ivy     5.0\n",
       "10     SP_BS     SP_PC        SP_BS:SP_PC    10.0\n",
       "11     SP_BS   SP_PVBC      SP_BS:SP_PVBC     6.0\n",
       "12     SP_BS    SR_SCA       SP_BS:SR_SCA     2.0\n",
       "13  SP_CCKBC     SP_AA     SP_CCKBC:SP_AA     2.0\n",
       "14  SP_CCKBC     SP_BS     SP_CCKBC:SP_BS     6.0\n",
       "15  SP_CCKBC  SP_CCKBC  SP_CCKBC:SP_CCKBC     2.0\n",
       "16  SP_CCKBC    SP_Ivy    SP_CCKBC:SP_Ivy     3.0\n",
       "17  SP_CCKBC     SP_PC     SP_CCKBC:SP_PC    10.0\n",
       "18  SP_CCKBC   SP_PVBC   SP_CCKBC:SP_PVBC     4.0\n",
       "19  SP_CCKBC    SR_SCA    SP_CCKBC:SR_SCA     1.0\n",
       "20    SP_Ivy     SP_AA       SP_Ivy:SP_AA     4.0\n",
       "21    SP_Ivy     SP_BS       SP_Ivy:SP_BS     8.0\n",
       "22    SP_Ivy  SP_CCKBC    SP_Ivy:SP_CCKBC     3.0\n",
       "23    SP_Ivy    SP_Ivy      SP_Ivy:SP_Ivy     6.0\n",
       "24    SP_Ivy     SP_PC       SP_Ivy:SP_PC    15.0\n",
       "25    SP_Ivy   SP_PVBC     SP_Ivy:SP_PVBC     7.0\n",
       "26    SP_Ivy    SR_SCA      SP_Ivy:SR_SCA     3.0\n",
       "27     SP_PC    SO_OLM       SP_PC:SO_OLM     3.0\n",
       "28     SP_PC     SP_AA        SP_PC:SP_AA     6.0\n",
       "29     SP_PC     SP_BS        SP_PC:SP_BS     5.0\n",
       "30     SP_PC  SP_CCKBC     SP_PC:SP_CCKBC     4.0\n",
       "31     SP_PC    SP_Ivy       SP_PC:SP_Ivy     4.0\n",
       "32     SP_PC     SP_PC        SP_PC:SP_PC     2.0\n",
       "33     SP_PC   SP_PVBC      SP_PC:SP_PVBC     6.0\n",
       "34     SP_PC    SR_SCA       SP_PC:SR_SCA     3.0\n",
       "35   SP_PVBC    SO_OLM     SP_PVBC:SO_OLM     6.0\n",
       "36   SP_PVBC     SP_AA      SP_PVBC:SP_AA     2.0\n",
       "37   SP_PVBC     SP_BS      SP_PVBC:SP_BS     3.0\n",
       "38   SP_PVBC  SP_CCKBC   SP_PVBC:SP_CCKBC     3.0\n",
       "39   SP_PVBC    SP_Ivy     SP_PVBC:SP_Ivy     3.0\n",
       "40   SP_PVBC     SP_PC      SP_PVBC:SP_PC     8.0\n",
       "41   SP_PVBC   SP_PVBC    SP_PVBC:SP_PVBC     3.0\n",
       "42   SP_PVBC    SR_SCA     SP_PVBC:SR_SCA     2.0\n",
       "43    SR_SCA    SO_OLM      SR_SCA:SO_OLM     7.0\n",
       "44    SR_SCA    SP_Ivy      SR_SCA:SP_Ivy     4.0\n",
       "45    SR_SCA     SP_PC       SR_SCA:SP_PC    13.0\n",
       "46    SR_SCA   SP_PVBC     SR_SCA:SP_PVBC     7.0"
      ]
     },
     "execution_count": 146,
     "metadata": {},
     "output_type": "execute_result"
    }
   ],
   "source": [
    "synsPerConn = pd.DataFrame(synsPerConn)\n",
    "synsPerConn"
   ]
  },
  {
   "cell_type": "code",
   "execution_count": null,
   "id": "-LuQvVMYhxyF",
   "metadata": {
    "id": "-LuQvVMYhxyF"
   },
   "outputs": [],
   "source": [
    "import seaborn as sns"
   ]
  },
  {
   "cell_type": "code",
   "execution_count": null,
   "id": "amz7WOkCjMkM",
   "metadata": {
    "colab": {
     "base_uri": "https://localhost:8080/",
     "height": 265
    },
    "executionInfo": {
     "elapsed": 577,
     "status": "ok",
     "timestamp": 1632617777168,
     "user": {
      "displayName": "Lavinia Mitiko Takarabe",
      "photoUrl": "https://lh3.googleusercontent.com/a/default-user=s64",
      "userId": "11900514963050471931"
     },
     "user_tz": 180
    },
    "id": "amz7WOkCjMkM",
    "outputId": "f6327d29-4ea3-4632-95c1-5d1c6cb27e3d"
   },
   "outputs": [
    {
     "data": {
      "image/png": "[encoded data removed]",
      "text/plain": [
       "<Figure size 432x288 with 1 Axes>"
      ]
     },
     "metadata": {
      "needs_background": "light"
     },
     "output_type": "display_data"
    }
   ],
   "source": [
    "synsPerMtype = []\n",
    "for pre in mtypes:\n",
    "  line = []\n",
    "  for post in mtypes:\n",
    "    proj = '%s:%s' % (pre, post)\n",
    "    if proj in unique_mtypes:\n",
    "      line.append(float(synsPerConn[synsPerConn['proj']==proj]['n_syns']))\n",
    "    else:\n",
    "      line.append(0)\n",
    "  synsPerMtype.append(line)\n",
    "\n",
    "df = pd.DataFrame(synsPerMtype, index=mtypes, columns=mtypes)\n",
    "\n",
    "plt.pcolor(df)\n",
    "plt.yticks(np.arange(0.5, len(df.index), 1), df.index)\n",
    "plt.xticks(np.arange(0.5, len(df.columns), 1), df.columns)\n",
    "plt.show()"
   ]
  },
  {
   "cell_type": "code",
   "execution_count": null,
   "id": "f5mZI5mLmsFo",
   "metadata": {
    "colab": {
     "base_uri": "https://localhost:8080/",
     "height": 500
    },
    "executionInfo": {
     "elapsed": 752,
     "status": "ok",
     "timestamp": 1632618182316,
     "user": {
      "displayName": "Lavinia Mitiko Takarabe",
      "photoUrl": "https://lh3.googleusercontent.com/a/default-user=s64",
      "userId": "11900514963050471931"
     },
     "user_tz": 180
    },
    "id": "f5mZI5mLmsFo",
    "outputId": "04ba5766-5c6d-466f-fc63-71ac3be17efc"
   },
   "outputs": [
    {
     "data": {
      "image/png": "[encoded data removed]",
      "text/plain": [
       "<Figure size 1080x576 with 2 Axes>"
      ]
     },
     "metadata": {
      "needs_background": "light"
     },
     "output_type": "display_data"
    }
   ],
   "source": [
    "plt.figure(figsize=(15,8))\n",
    "plt.title('Synapses per connection')\n",
    "ax = sns.heatmap(df)"
   ]
  },
  {
   "cell_type": "markdown",
   "id": "Q5gzoX2He5PM",
   "metadata": {
    "id": "Q5gzoX2He5PM"
   },
   "source": [
    "O código abaixo pode ser utilizado para importar o número de sinapses com mais detalhe!"
   ]
  },
  {
   "cell_type": "code",
   "execution_count": null,
   "id": "pkDK7XadW5Zx",
   "metadata": {
    "id": "pkDK7XadW5Zx"
   },
   "outputs": [],
   "source": [
    "#synapses = []\n",
    "\n",
    "#for i in imc2r100[1:1000]:\n",
    "#  pre = f['edges']['hippocampus_neurons__hippocampus_neurons__chemical']['source_node_id'][i]\n",
    "#  post = f['edges']['hippocampus_neurons__hippocampus_neurons__chemical']['source_node_id'][i]\n",
    "  \n",
    "#  syn = '%s:%s' % (pre, post)\n",
    "\n",
    "#  synapses.append(syn)"
   ]
  },
  {
   "cell_type": "code",
   "execution_count": null,
   "id": "75iGoDvVeVbF",
   "metadata": {
    "id": "75iGoDvVeVbF"
   },
   "outputs": [],
   "source": [
    "#synapses_ids, number_synapses = np.unique(synapses, return_counts=True)"
   ]
  },
  {
   "cell_type": "code",
   "execution_count": null,
   "id": "YZQCf23Len62",
   "metadata": {
    "colab": {
     "base_uri": "https://localhost:8080/"
    },
    "executionInfo": {
     "elapsed": 201,
     "status": "ok",
     "timestamp": 1632615723529,
     "user": {
      "displayName": "Lavinia Mitiko Takarabe",
      "photoUrl": "https://lh3.googleusercontent.com/a/default-user=s64",
      "userId": "11900514963050471931"
     },
     "user_tz": 180
    },
    "id": "YZQCf23Len62",
    "outputId": "dd4b7dc0-f8c9-49aa-c55c-5f75a405ee5b"
   },
   "outputs": [
    {
     "data": {
      "text/plain": [
       "array([ 1,  1,  2,  1,  1,  2,  2,  1,  2,  2,  2,  1,  1,  3,  4,  3,  2,\n",
       "        1,  1,  4,  6,  2,  2,  2,  4,  5,  4,  7,  4,  2,  4,  2,  2,  3,\n",
       "        2,  1,  1,  1,  2,  1,  3,  2,  1, 10,  2,  3,  2,  1,  3,  4,  2,\n",
       "        3,  1,  3,  3,  2,  1,  1,  2,  2,  2,  4,  3,  5,  2,  3,  1, 11,\n",
       "       34, 18, 27, 17, 10,  6, 36, 19, 15, 16, 18, 10, 15, 12, 14, 61, 31,\n",
       "       48, 47, 10, 27, 32, 38,  5, 38,  1,  1,  3,  4,  1,  3,  6,  9,  3,\n",
       "        3,  2,  2,  1,  1,  1,  3,  2,  2,  2,  1,  1,  5,  1,  4,  3,  8,\n",
       "        3,  1,  2,  1,  3,  2,  2,  2,  1,  2,  5,  1,  3,  1,  1,  3,  2,\n",
       "        1,  2,  9,  2,  2,  2,  1,  3,  1,  9,  4,  2,  2,  1,  1,  2,  1,\n",
       "        2,  2,  1,  3,  1,  5,  2,  3,  3,  2,  4,  4,  1,  1,  2,  2,  4,\n",
       "        1,  3,  2,  2,  3,  4,  2,  2,  2,  3])"
      ]
     },
     "execution_count": 129,
     "metadata": {},
     "output_type": "execute_result"
    }
   ],
   "source": [
    "#number_synapses"
   ]
  },
  {
   "cell_type": "markdown",
   "id": "7YlodV8ax-1j",
   "metadata": {
    "id": "7YlodV8ax-1j"
   },
   "source": [
    "1*) cp from data to sim (ok)\n",
    "\n",
    "2º) run and compare (erro no colab)\n",
    "\n",
    "3 - testar os mods criando uma conexão para cada par de mtype se existe na tabela de 47 (criado, mas preciso pega os gids)\n",
    "\n",
    "4 - conectar todos os 531 usando os .h5 do BBP e rezar"
   ]
  }
 ],
 "metadata": {
  "colab": {
   "collapsed_sections": [],
   "name": "connections_mc2r100.ipynb",
   "provenance": [
    {
     "file_id": "1A8ei7TUY5YC-0umsXpT0uzE4CWse4sjB",
     "timestamp": 1632013482326
    }
   ]
  },
  "kernelspec": {
   "display_name": "Python 3 (ipykernel)",
   "language": "python",
   "name": "python3"
  },
  "language_info": {
   "codemirror_mode": {
    "name": "ipython",
    "version": 3
   },
   "file_extension": ".py",
   "mimetype": "text/x-python",
   "name": "python",
   "nbconvert_exporter": "python",
   "pygments_lexer": "ipython3",
   "version": "3.8.16"
  }
 },
 "nbformat": 4,
 "nbformat_minor": 5
}
