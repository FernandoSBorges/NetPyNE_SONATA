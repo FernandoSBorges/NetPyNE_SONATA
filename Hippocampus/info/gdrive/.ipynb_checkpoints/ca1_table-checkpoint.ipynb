{
 "cells": [
  {
   "cell_type": "markdown",
   "metadata": {
    "id": "fLaOhjgEEWBf"
   },
   "source": [
    "# Input-output properties cells"
   ]
  },
  {
   "cell_type": "code",
   "execution_count": 1,
   "metadata": {
    "executionInfo": {
     "elapsed": 5,
     "status": "ok",
     "timestamp": 1632518919443,
     "user": {
      "displayName": "Lavinia Mitiko Takarabe",
      "photoUrl": "https://lh3.googleusercontent.com/a/default-user=s64",
      "userId": "11900514963050471931"
     },
     "user_tz": 180
    },
    "id": "2MNhcCA1EqmS"
   },
   "outputs": [],
   "source": [
    "import os\n",
    "from google.colab import drive"
   ]
  },
  {
   "cell_type": "code",
   "execution_count": null,
   "metadata": {
    "colab": {
     "background_save": true
    },
    "id": "peSiBNROtZvm"
   },
   "outputs": [
    {
     "name": "stdout",
     "output_type": "stream",
     "text": [
      "Mounted at /content/gdrive\n"
     ]
    }
   ],
   "source": [
    "drive.mount('/content/gdrive')"
   ]
  },
  {
   "cell_type": "code",
   "execution_count": null,
   "metadata": {
    "colab": {
     "base_uri": "https://localhost:8080/"
    },
    "id": "fW94aweXIFrn",
    "outputId": "5c4304dc-429a-4762-ca1d-f6ba1fef66d4"
   },
   "outputs": [
    {
     "name": "stdout",
     "output_type": "stream",
     "text": [
      "Collecting bluepysnap\n",
      "  Downloading bluepysnap-0.12.1.tar.gz (60 kB)\n",
      "\u001b[K     |████████████████████████████████| 60 kB 1.8 MB/s \n",
      "\u001b[?25hRequirement already satisfied: cached_property>=1.0 in /usr/local/lib/python3.7/dist-packages (from bluepysnap) (1.5.2)\n",
      "Requirement already satisfied: h5py<4.0.0,>=3.0.1 in /usr/local/lib/python3.7/dist-packages (from bluepysnap) (3.1.0)\n",
      "Collecting libsonata<1.0.0,>=0.1.6\n",
      "  Downloading libsonata-0.1.9-cp37-cp37m-manylinux2014_x86_64.whl (2.5 MB)\n",
      "\u001b[K     |████████████████████████████████| 2.5 MB 4.0 MB/s \n",
      "\u001b[?25hCollecting morphio<4.0.0,>=3.0.0\n",
      "  Downloading MorphIO-3.3.0-cp37-cp37m-manylinux2014_x86_64.whl (1.8 MB)\n",
      "\u001b[K     |████████████████████████████████| 1.8 MB 31.9 MB/s \n",
      "\u001b[?25hCollecting morph-tool<3.0.0,>=2.4.3\n",
      "  Downloading morph-tool-2.9.0.tar.gz (1.5 MB)\n",
      "\u001b[K     |████████████████████████████████| 1.5 MB 31.0 MB/s \n",
      "\u001b[?25hRequirement already satisfied: numpy<2.0.0,>=1.8 in /usr/local/lib/python3.7/dist-packages (from bluepysnap) (1.19.5)\n",
      "Requirement already satisfied: pandas<2.0.0,>=1.0.0 in /usr/local/lib/python3.7/dist-packages (from bluepysnap) (1.1.5)\n",
      "Requirement already satisfied: click<8.0.0,>=7.0 in /usr/local/lib/python3.7/dist-packages (from bluepysnap) (7.1.2)\n",
      "Requirement already satisfied: more-itertools>=8.2.0 in /usr/local/lib/python3.7/dist-packages (from bluepysnap) (8.8.0)\n",
      "Collecting deprecation>=2.1.0\n",
      "  Downloading deprecation-2.1.0-py2.py3-none-any.whl (11 kB)\n",
      "Collecting neurom<4.0,>=3.0\n",
      "  Downloading neurom-3.0.1.tar.gz (474 kB)\n",
      "\u001b[K     |████████████████████████████████| 474 kB 58.0 MB/s \n",
      "\u001b[?25h  Installing build dependencies ... \u001b[?25l\u001b[?25hdone\n",
      "  Getting requirements to build wheel ... \u001b[?25l\u001b[?25hdone\n",
      "  Installing backend dependencies ... \u001b[?25l\u001b[?25hdone\n",
      "    Preparing wheel metadata ... \u001b[?25l\u001b[?25hdone\n",
      "Collecting xmltodict>=0.12.0\n",
      "  Downloading xmltodict-0.12.0-py2.py3-none-any.whl (9.2 kB)\n",
      "Requirement already satisfied: packaging in /usr/local/lib/python3.7/dist-packages (from deprecation>=2.1.0->morph-tool<3.0.0,>=2.4.3->bluepysnap) (21.0)\n",
      "Requirement already satisfied: tqdm>=4.8.4 in /usr/local/lib/python3.7/dist-packages (from neurom<4.0,>=3.0->morph-tool<3.0.0,>=2.4.3->bluepysnap) (4.62.0)\n",
      "Requirement already satisfied: pyyaml>=3.10 in /usr/local/lib/python3.7/dist-packages (from neurom<4.0,>=3.0->morph-tool<3.0.0,>=2.4.3->bluepysnap) (3.13)\n",
      "Requirement already satisfied: scipy>=1.2.0 in /usr/local/lib/python3.7/dist-packages (from neurom<4.0,>=3.0->morph-tool<3.0.0,>=2.4.3->bluepysnap) (1.4.1)\n",
      "Requirement already satisfied: matplotlib>=3.2.1 in /usr/local/lib/python3.7/dist-packages (from neurom<4.0,>=3.0->morph-tool<3.0.0,>=2.4.3->bluepysnap) (3.2.2)\n",
      "Requirement already satisfied: cycler>=0.10 in /usr/local/lib/python3.7/dist-packages (from matplotlib>=3.2.1->neurom<4.0,>=3.0->morph-tool<3.0.0,>=2.4.3->bluepysnap) (0.10.0)\n",
      "Requirement already satisfied: python-dateutil>=2.1 in /usr/local/lib/python3.7/dist-packages (from matplotlib>=3.2.1->neurom<4.0,>=3.0->morph-tool<3.0.0,>=2.4.3->bluepysnap) (2.8.2)\n",
      "Requirement already satisfied: kiwisolver>=1.0.1 in /usr/local/lib/python3.7/dist-packages (from matplotlib>=3.2.1->neurom<4.0,>=3.0->morph-tool<3.0.0,>=2.4.3->bluepysnap) (1.3.1)\n",
      "Requirement already satisfied: pyparsing!=2.0.4,!=2.1.2,!=2.1.6,>=2.0.1 in /usr/local/lib/python3.7/dist-packages (from matplotlib>=3.2.1->neurom<4.0,>=3.0->morph-tool<3.0.0,>=2.4.3->bluepysnap) (2.4.7)\n",
      "Requirement already satisfied: six in /usr/local/lib/python3.7/dist-packages (from cycler>=0.10->matplotlib>=3.2.1->neurom<4.0,>=3.0->morph-tool<3.0.0,>=2.4.3->bluepysnap) (1.15.0)\n",
      "Requirement already satisfied: pytz>=2017.2 in /usr/local/lib/python3.7/dist-packages (from pandas<2.0.0,>=1.0.0->bluepysnap) (2018.9)\n",
      "Building wheels for collected packages: bluepysnap, morph-tool, neurom\n",
      "  Building wheel for bluepysnap (setup.py) ... \u001b[?25l\u001b[?25hdone\n",
      "  Created wheel for bluepysnap: filename=bluepysnap-0.12.1-py3-none-any.whl size=75777 sha256=f1dd603475b5ebfcd2e7594b9e60ada9af78845e7cc158c55e71a662cb075838\n",
      "  Stored in directory: /root/.cache/pip/wheels/dd/50/bb/b4399c5d522f56cdcbcb795bd660d3aae8fb49e8814ca6a711\n",
      "  Building wheel for morph-tool (setup.py) ... \u001b[?25l\u001b[?25hdone\n",
      "  Created wheel for morph-tool: filename=morph_tool-2.9.0-py3-none-any.whl size=55271 sha256=226e1012d8fe64abc1d09fc6a9bf95fc54918bcb00586b8dd0a2830ecb05697c\n",
      "  Stored in directory: /root/.cache/pip/wheels/31/f9/52/355e8f6a7aba18575732ae63ff1090784c8936ea269649f6b2\n",
      "  Building wheel for neurom (PEP 517) ... \u001b[?25l\u001b[?25hdone\n",
      "  Created wheel for neurom: filename=neurom-3.0.1-py3-none-any.whl size=100039 sha256=72f4fbd2c5c43be66067ff732b028326e65c695ee366bb02191b0f3ec7b66888\n",
      "  Stored in directory: /root/.cache/pip/wheels/d3/47/0c/ad39d56ccedfb07bed19bde0dc51f2beafa786033117a036f3\n",
      "Successfully built bluepysnap morph-tool neurom\n",
      "Installing collected packages: morphio, xmltodict, neurom, deprecation, morph-tool, libsonata, bluepysnap\n",
      "Successfully installed bluepysnap-0.12.1 deprecation-2.1.0 libsonata-0.1.9 morph-tool-2.9.0 morphio-3.3.0 neurom-3.0.1 xmltodict-0.12.0\n"
     ]
    }
   ],
   "source": [
    "!pip install bluepysnap"
   ]
  },
  {
   "cell_type": "code",
   "execution_count": null,
   "metadata": {
    "colab": {
     "base_uri": "https://localhost:8080/"
    },
    "id": "DP1E1e8vipYR",
    "outputId": "3c2b4351-63e1-4707-ae88-cced9f3e213f"
   },
   "outputs": [
    {
     "name": "stdout",
     "output_type": "stream",
     "text": [
      "Collecting neuron\n",
      "  Downloading NEURON-8.0.0-cp37-cp37m-manylinux1_x86_64.whl (12.6 MB)\n",
      "\u001b[K     |████████████████████████████████| 12.6 MB 217 kB/s \n",
      "\u001b[?25hRequirement already satisfied: numpy>=1.9.3 in /usr/local/lib/python3.7/dist-packages (from neuron) (1.19.5)\n",
      "Installing collected packages: neuron\n",
      "Successfully installed neuron-8.0.0\n",
      "Collecting netpyne\n",
      "  Downloading netpyne-1.0.0.2-py2.py3-none-any.whl (312 kB)\n",
      "\u001b[K     |████████████████████████████████| 312 kB 2.0 MB/s \n",
      "\u001b[?25hRequirement already satisfied: bokeh in /usr/local/lib/python3.7/dist-packages (from netpyne) (2.3.3)\n",
      "Requirement already satisfied: future in /usr/local/lib/python3.7/dist-packages (from netpyne) (0.16.0)\n",
      "Requirement already satisfied: numpy in /usr/local/lib/python3.7/dist-packages (from netpyne) (1.19.5)\n",
      "Requirement already satisfied: pandas in /usr/local/lib/python3.7/dist-packages (from netpyne) (1.1.5)\n",
      "Requirement already satisfied: scipy in /usr/local/lib/python3.7/dist-packages (from netpyne) (1.4.1)\n",
      "Requirement already satisfied: matplotlib in /usr/local/lib/python3.7/dist-packages (from netpyne) (3.2.2)\n",
      "Collecting matplotlib-scalebar\n",
      "  Downloading matplotlib_scalebar-0.7.2-py2.py3-none-any.whl (17 kB)\n",
      "Requirement already satisfied: typing-extensions>=3.7.4 in /usr/local/lib/python3.7/dist-packages (from bokeh->netpyne) (3.7.4.3)\n",
      "Requirement already satisfied: PyYAML>=3.10 in /usr/local/lib/python3.7/dist-packages (from bokeh->netpyne) (3.13)\n",
      "Requirement already satisfied: Jinja2>=2.9 in /usr/local/lib/python3.7/dist-packages (from bokeh->netpyne) (2.11.3)\n",
      "Requirement already satisfied: tornado>=5.1 in /usr/local/lib/python3.7/dist-packages (from bokeh->netpyne) (5.1.1)\n",
      "Requirement already satisfied: python-dateutil>=2.1 in /usr/local/lib/python3.7/dist-packages (from bokeh->netpyne) (2.8.2)\n",
      "Requirement already satisfied: packaging>=16.8 in /usr/local/lib/python3.7/dist-packages (from bokeh->netpyne) (21.0)\n",
      "Requirement already satisfied: pillow>=7.1.0 in /usr/local/lib/python3.7/dist-packages (from bokeh->netpyne) (7.1.2)\n",
      "Requirement already satisfied: MarkupSafe>=0.23 in /usr/local/lib/python3.7/dist-packages (from Jinja2>=2.9->bokeh->netpyne) (2.0.1)\n",
      "Requirement already satisfied: pyparsing>=2.0.2 in /usr/local/lib/python3.7/dist-packages (from packaging>=16.8->bokeh->netpyne) (2.4.7)\n",
      "Requirement already satisfied: six>=1.5 in /usr/local/lib/python3.7/dist-packages (from python-dateutil>=2.1->bokeh->netpyne) (1.15.0)\n",
      "Requirement already satisfied: cycler>=0.10 in /usr/local/lib/python3.7/dist-packages (from matplotlib->netpyne) (0.10.0)\n",
      "Requirement already satisfied: kiwisolver>=1.0.1 in /usr/local/lib/python3.7/dist-packages (from matplotlib->netpyne) (1.3.1)\n",
      "Requirement already satisfied: pytz>=2017.2 in /usr/local/lib/python3.7/dist-packages (from pandas->netpyne) (2018.9)\n",
      "Installing collected packages: matplotlib-scalebar, netpyne\n",
      "Successfully installed matplotlib-scalebar-0.7.2 netpyne-1.0.0.2\n"
     ]
    }
   ],
   "source": [
    "!pip install neuron\n",
    "!pip install netpyne"
   ]
  },
  {
   "cell_type": "code",
   "execution_count": null,
   "metadata": {
    "id": "CyYkiSyfEWBj"
   },
   "outputs": [],
   "source": [
    "import numpy as np\n",
    "import os\n",
    "import pandas as pd\n",
    "import matplotlib.pyplot as plt"
   ]
  },
  {
   "cell_type": "code",
   "execution_count": null,
   "metadata": {
    "id": "atqn9gogEWBm"
   },
   "outputs": [],
   "source": [
    "CircuitPath = '/content/CA1_netpyne/info/data-bbp/20191017/'\n",
    "BioName = CircuitPath + 'bioname/'\n",
    "Atlas = CircuitPath + 'atlas/'\n",
    "MorphologyPath = CircuitPath + 'morphologies/swc/'\n",
    "CellLibraryFile = CircuitPath + 'sonata/nodes/nodes_hippocampus.h5'\n",
    "METypePath = CircuitPath + 'emodels/20190402/hoc/'\n",
    "MEComboInfoFile = CircuitPath + 'emodels/20190402/mecombo_emodel.tsv'\n",
    "UserTargetFile = CircuitPath + 'user.target'\n",
    "StartTargetFile = CircuitPath + 'start.target'"
   ]
  },
  {
   "cell_type": "code",
   "execution_count": null,
   "metadata": {
    "colab": {
     "base_uri": "https://localhost:8080/"
    },
    "id": "A1V7DJgeFED9",
    "outputId": "2226e022-550b-4311-b1c2-094073d4ebea"
   },
   "outputs": [
    {
     "name": "stdout",
     "output_type": "stream",
     "text": [
      "/content/CA1_netpyne/info/data-bbp/20191017\n"
     ]
    }
   ],
   "source": [
    "cd /content/CA1_netpyne/info/data-bbp/20191017/"
   ]
  },
  {
   "cell_type": "code",
   "execution_count": null,
   "metadata": {
    "id": "zje0rMpeEWCg"
   },
   "outputs": [],
   "source": [
    "from bluepysnap import Circuit\n",
    "from bluepysnap.bbp import Cell\n",
    "circuit_path = CircuitPath + 'circuit_config.json'\n",
    "circuit = Circuit(circuit_path)\n",
    "cells = circuit.nodes[\"hippocampus_neurons\"]\n",
    "cells_projections = circuit.nodes[\"hippocampus_projections\"]\n",
    "nodesinfo = cells.get()\n",
    "nodesinfo_projections = cells_projections.get()"
   ]
  },
  {
   "cell_type": "code",
   "execution_count": null,
   "metadata": {
    "colab": {
     "base_uri": "https://localhost:8080/",
     "height": 434
    },
    "id": "udYTHOsCRsYl",
    "outputId": "747819c9-868d-4a14-8149-d88e0c5d1cfa"
   },
   "outputs": [
    {
     "data": {
      "text/html": [
       "<div>\n",
       "<style scoped>\n",
       "    .dataframe tbody tr th:only-of-type {\n",
       "        vertical-align: middle;\n",
       "    }\n",
       "\n",
       "    .dataframe tbody tr th {\n",
       "        vertical-align: top;\n",
       "    }\n",
       "\n",
       "    .dataframe thead th {\n",
       "        text-align: right;\n",
       "    }\n",
       "</style>\n",
       "<table border=\"1\" class=\"dataframe\">\n",
       "  <thead>\n",
       "    <tr style=\"text-align: right;\">\n",
       "      <th></th>\n",
       "      <th>etype</th>\n",
       "      <th>layer</th>\n",
       "      <th>model_template</th>\n",
       "      <th>model_type</th>\n",
       "      <th>morph_class</th>\n",
       "      <th>morphology</th>\n",
       "      <th>mtype</th>\n",
       "      <th>region</th>\n",
       "      <th>rotation_angle_xaxis</th>\n",
       "      <th>rotation_angle_yaxis</th>\n",
       "      <th>rotation_angle_zaxis</th>\n",
       "      <th>synapse_class</th>\n",
       "      <th>x</th>\n",
       "      <th>y</th>\n",
       "      <th>z</th>\n",
       "      <th>@dynamics:holding_current</th>\n",
       "      <th>@dynamics:threshold_current</th>\n",
       "    </tr>\n",
       "  </thead>\n",
       "  <tbody>\n",
       "    <tr>\n",
       "      <th>18038</th>\n",
       "      <td>cAC</td>\n",
       "      <td>SO</td>\n",
       "      <td>hoc:CA1_int_cAC_011017HP2_2019032814552</td>\n",
       "      <td>biophysical</td>\n",
       "      <td>INT</td>\n",
       "      <td>011017HP2_height_15</td>\n",
       "      <td>SO_OLM</td>\n",
       "      <td>mc4;SO</td>\n",
       "      <td>-3.141593</td>\n",
       "      <td>-0.278184</td>\n",
       "      <td>-3.141593</td>\n",
       "      <td>INH</td>\n",
       "      <td>155.454900</td>\n",
       "      <td>122.981872</td>\n",
       "      <td>888.681658</td>\n",
       "      <td>-0.045443</td>\n",
       "      <td>0.292969</td>\n",
       "    </tr>\n",
       "    <tr>\n",
       "      <th>18039</th>\n",
       "      <td>cAC</td>\n",
       "      <td>SO</td>\n",
       "      <td>hoc:CA1_int_cAC_011017HP2_2019032814552</td>\n",
       "      <td>biophysical</td>\n",
       "      <td>INT</td>\n",
       "      <td>011017HP2_height_150</td>\n",
       "      <td>SO_OLM</td>\n",
       "      <td>mc5;SO</td>\n",
       "      <td>-0.000000</td>\n",
       "      <td>1.511316</td>\n",
       "      <td>-0.000000</td>\n",
       "      <td>INH</td>\n",
       "      <td>399.040890</td>\n",
       "      <td>5.274382</td>\n",
       "      <td>1126.319073</td>\n",
       "      <td>-0.045443</td>\n",
       "      <td>0.292969</td>\n",
       "    </tr>\n",
       "    <tr>\n",
       "      <th>18040</th>\n",
       "      <td>cAC</td>\n",
       "      <td>SO</td>\n",
       "      <td>hoc:CA1_int_cAC_011017HP2_2019032814552</td>\n",
       "      <td>biophysical</td>\n",
       "      <td>INT</td>\n",
       "      <td>011017HP2_height_150</td>\n",
       "      <td>SO_OLM</td>\n",
       "      <td>mc3;SO</td>\n",
       "      <td>-3.141593</td>\n",
       "      <td>-0.036900</td>\n",
       "      <td>-3.141593</td>\n",
       "      <td>INH</td>\n",
       "      <td>708.144090</td>\n",
       "      <td>56.298760</td>\n",
       "      <td>547.607180</td>\n",
       "      <td>-0.045443</td>\n",
       "      <td>0.292969</td>\n",
       "    </tr>\n",
       "    <tr>\n",
       "      <th>18041</th>\n",
       "      <td>cAC</td>\n",
       "      <td>SO</td>\n",
       "      <td>hoc:CA1_int_cAC_011017HP2_2019032814552</td>\n",
       "      <td>biophysical</td>\n",
       "      <td>INT</td>\n",
       "      <td>011017HP2</td>\n",
       "      <td>SO_OLM</td>\n",
       "      <td>mc5;SO</td>\n",
       "      <td>-0.000000</td>\n",
       "      <td>0.160389</td>\n",
       "      <td>-0.000000</td>\n",
       "      <td>INH</td>\n",
       "      <td>389.542873</td>\n",
       "      <td>64.128969</td>\n",
       "      <td>1194.040136</td>\n",
       "      <td>-0.045443</td>\n",
       "      <td>0.292969</td>\n",
       "    </tr>\n",
       "    <tr>\n",
       "      <th>18042</th>\n",
       "      <td>cAC</td>\n",
       "      <td>SO</td>\n",
       "      <td>hoc:CA1_int_cAC_011017HP2_2019032814552</td>\n",
       "      <td>biophysical</td>\n",
       "      <td>INT</td>\n",
       "      <td>011017HP2</td>\n",
       "      <td>SO_OLM</td>\n",
       "      <td>mc3;SO</td>\n",
       "      <td>-0.000000</td>\n",
       "      <td>0.066779</td>\n",
       "      <td>-0.000000</td>\n",
       "      <td>INH</td>\n",
       "      <td>749.955623</td>\n",
       "      <td>82.504618</td>\n",
       "      <td>229.293817</td>\n",
       "      <td>-0.045443</td>\n",
       "      <td>0.292969</td>\n",
       "    </tr>\n",
       "    <tr>\n",
       "      <th>...</th>\n",
       "      <td>...</td>\n",
       "      <td>...</td>\n",
       "      <td>...</td>\n",
       "      <td>...</td>\n",
       "      <td>...</td>\n",
       "      <td>...</td>\n",
       "      <td>...</td>\n",
       "      <td>...</td>\n",
       "      <td>...</td>\n",
       "      <td>...</td>\n",
       "      <td>...</td>\n",
       "      <td>...</td>\n",
       "      <td>...</td>\n",
       "      <td>...</td>\n",
       "      <td>...</td>\n",
       "      <td>...</td>\n",
       "      <td>...</td>\n",
       "    </tr>\n",
       "    <tr>\n",
       "      <th>18121</th>\n",
       "      <td>cAC</td>\n",
       "      <td>SO</td>\n",
       "      <td>hoc:CA1_int_cAC_011017HP2_2019032814552</td>\n",
       "      <td>biophysical</td>\n",
       "      <td>INT</td>\n",
       "      <td>011017HP2_height_15</td>\n",
       "      <td>SO_OLM</td>\n",
       "      <td>mc6;SO</td>\n",
       "      <td>-3.141593</td>\n",
       "      <td>-0.693980</td>\n",
       "      <td>-3.141593</td>\n",
       "      <td>INH</td>\n",
       "      <td>778.957044</td>\n",
       "      <td>166.642150</td>\n",
       "      <td>848.857523</td>\n",
       "      <td>-0.045443</td>\n",
       "      <td>0.292969</td>\n",
       "    </tr>\n",
       "    <tr>\n",
       "      <th>18122</th>\n",
       "      <td>cAC</td>\n",
       "      <td>SO</td>\n",
       "      <td>hoc:CA1_int_cAC_011017HP2_2019032814552</td>\n",
       "      <td>biophysical</td>\n",
       "      <td>INT</td>\n",
       "      <td>011017HP2_height_150</td>\n",
       "      <td>SO_OLM</td>\n",
       "      <td>mc4;SO</td>\n",
       "      <td>-0.000000</td>\n",
       "      <td>0.763293</td>\n",
       "      <td>-0.000000</td>\n",
       "      <td>INH</td>\n",
       "      <td>-84.140585</td>\n",
       "      <td>43.955751</td>\n",
       "      <td>702.858575</td>\n",
       "      <td>-0.045443</td>\n",
       "      <td>0.292969</td>\n",
       "    </tr>\n",
       "    <tr>\n",
       "      <th>18123</th>\n",
       "      <td>cAC</td>\n",
       "      <td>SO</td>\n",
       "      <td>hoc:CA1_int_cAC_011017HP2_2019032814552</td>\n",
       "      <td>biophysical</td>\n",
       "      <td>INT</td>\n",
       "      <td>011017HP2_height_15</td>\n",
       "      <td>SO_OLM</td>\n",
       "      <td>mc4;SO</td>\n",
       "      <td>0.000000</td>\n",
       "      <td>-0.261246</td>\n",
       "      <td>0.000000</td>\n",
       "      <td>INH</td>\n",
       "      <td>-87.055036</td>\n",
       "      <td>146.738908</td>\n",
       "      <td>802.859823</td>\n",
       "      <td>-0.045443</td>\n",
       "      <td>0.292969</td>\n",
       "    </tr>\n",
       "    <tr>\n",
       "      <th>18124</th>\n",
       "      <td>cAC</td>\n",
       "      <td>SO</td>\n",
       "      <td>hoc:CA1_int_cAC_011017HP2_2019032814552</td>\n",
       "      <td>biophysical</td>\n",
       "      <td>INT</td>\n",
       "      <td>011017HP2_height_150</td>\n",
       "      <td>SO_OLM</td>\n",
       "      <td>mc1;SO</td>\n",
       "      <td>-3.141593</td>\n",
       "      <td>1.447884</td>\n",
       "      <td>-3.141593</td>\n",
       "      <td>INH</td>\n",
       "      <td>2.936487</td>\n",
       "      <td>27.242508</td>\n",
       "      <td>442.872543</td>\n",
       "      <td>-0.045443</td>\n",
       "      <td>0.292969</td>\n",
       "    </tr>\n",
       "    <tr>\n",
       "      <th>18125</th>\n",
       "      <td>cAC</td>\n",
       "      <td>SO</td>\n",
       "      <td>hoc:CA1_int_cAC_011017HP2_2019032814552</td>\n",
       "      <td>biophysical</td>\n",
       "      <td>INT</td>\n",
       "      <td>011017HP2_height_15</td>\n",
       "      <td>SO_OLM</td>\n",
       "      <td>mc1;SO</td>\n",
       "      <td>0.000000</td>\n",
       "      <td>-1.190234</td>\n",
       "      <td>0.000000</td>\n",
       "      <td>INH</td>\n",
       "      <td>-74.438749</td>\n",
       "      <td>151.947965</td>\n",
       "      <td>471.052835</td>\n",
       "      <td>-0.045443</td>\n",
       "      <td>0.292969</td>\n",
       "    </tr>\n",
       "  </tbody>\n",
       "</table>\n",
       "<p>88 rows × 17 columns</p>\n",
       "</div>"
      ],
      "text/plain": [
       "      etype layer  ... @dynamics:holding_current @dynamics:threshold_current\n",
       "18038   cAC    SO  ...                 -0.045443                    0.292969\n",
       "18039   cAC    SO  ...                 -0.045443                    0.292969\n",
       "18040   cAC    SO  ...                 -0.045443                    0.292969\n",
       "18041   cAC    SO  ...                 -0.045443                    0.292969\n",
       "18042   cAC    SO  ...                 -0.045443                    0.292969\n",
       "...     ...   ...  ...                       ...                         ...\n",
       "18121   cAC    SO  ...                 -0.045443                    0.292969\n",
       "18122   cAC    SO  ...                 -0.045443                    0.292969\n",
       "18123   cAC    SO  ...                 -0.045443                    0.292969\n",
       "18124   cAC    SO  ...                 -0.045443                    0.292969\n",
       "18125   cAC    SO  ...                 -0.045443                    0.292969\n",
       "\n",
       "[88 rows x 17 columns]"
      ]
     },
     "execution_count": 8,
     "metadata": {},
     "output_type": "execute_result"
    }
   ],
   "source": [
    "nodesinfo[nodesinfo['mtype'] == 'SO_OLM']"
   ]
  },
  {
   "cell_type": "code",
   "execution_count": null,
   "metadata": {
    "colab": {
     "base_uri": "https://localhost:8080/"
    },
    "id": "0cA2_yeYXVA9",
    "outputId": "c34399d5-6ea6-4419-f5d2-9884eff8a636"
   },
   "outputs": [
    {
     "name": "stdout",
     "output_type": "stream",
     "text": [
      "/content/CA1_netpyne/sim\n"
     ]
    }
   ],
   "source": [
    "cd /content/CA1_netpyne/sim"
   ]
  },
  {
   "cell_type": "code",
   "execution_count": null,
   "metadata": {
    "colab": {
     "base_uri": "https://localhost:8080/"
    },
    "id": "6-Y9YseGEWCr",
    "outputId": "28cb661d-1fe6-4b01-d4e8-004bea993c26"
   },
   "outputs": [
    {
     "name": "stdout",
     "output_type": "stream",
     "text": [
      "/content/CA1_netpyne/sim\n",
      "Mod files: \"mod/cacummb.mod\" \"mod/cacumm.mod\" \"mod/cagk.mod\" \"mod/cal2.mod\" \"mod/can2.mod\" \"mod/cat.mod\" \"mod/DetAMPANMDA.mod\" \"mod/DetGABAAB.mod\" \"mod/h.mod\" \"mod/kadist.mod\" \"mod/kaprox.mod\" \"mod/kca.mod\" \"mod/kd2.mod\" \"mod/kdb.mod\" \"mod/kdrbca1.mod\" \"mod/kdrca1.mod\" \"mod/kmb.mod\" \"mod/na3n.mod\" \"mod/naxn.mod\" \"mod/ProbAMPANMDA_EMS.mod\" \"mod/ProbGABAAB_EMS.mod\"\n",
      "\n",
      "Creating x86_64 directory for .o files.\n",
      "\n",
      "COBJS=''\n",
      " -> \u001b[32mCompiling\u001b[0m mod_func.c\n",
      "x86_64-linux-gnu-gcc -O2   -I.   -I/usr/local/lib/python3.7/dist-packages/neuron/.data/include  -I/nrnwheel/openmpi/include -fPIC -c mod_func.c -o mod_func.o\n",
      " -> \u001b[32mNMODL\u001b[0m ../mod//cacummb.mod\n",
      "(cd \"../mod\"; MODLUNIT=/usr/local/lib/python3.7/dist-packages/neuron/.data/share/nrn/lib/nrnunits.lib /usr/local/lib/python3.7/dist-packages/neuron/.data/bin/nocmodl cacummb.mod -o \"/content/CA1_netpyne/sim/x86_64\")\n",
      " -> \u001b[32mNMODL\u001b[0m ../mod//cacumm.mod\n",
      "(cd \"../mod\"; MODLUNIT=/usr/local/lib/python3.7/dist-packages/neuron/.data/share/nrn/lib/nrnunits.lib /usr/local/lib/python3.7/dist-packages/neuron/.data/bin/nocmodl cacumm.mod -o \"/content/CA1_netpyne/sim/x86_64\")\n",
      " -> \u001b[32mNMODL\u001b[0m ../mod//cagk.mod\n",
      "(cd \"../mod\"; MODLUNIT=/usr/local/lib/python3.7/dist-packages/neuron/.data/share/nrn/lib/nrnunits.lib /usr/local/lib/python3.7/dist-packages/neuron/.data/bin/nocmodl cagk.mod -o \"/content/CA1_netpyne/sim/x86_64\")\n",
      "Translating cacummb.mod into /content/CA1_netpyne/sim/x86_64/cacummb.c\n",
      "Thread Safe\n",
      "Translating cagk.mod into /content/CA1_netpyne/sim/x86_64/cagk.c\n",
      "Translating cacumm.mod into /content/CA1_netpyne/sim/x86_64/cacumm.c\n",
      " -> \u001b[32mNMODL\u001b[0m ../mod//cal2.mod\n",
      "(cd \"../mod\"; MODLUNIT=/usr/local/lib/python3.7/dist-packages/neuron/.data/share/nrn/lib/nrnunits.lib /usr/local/lib/python3.7/dist-packages/neuron/.data/bin/nocmodl cal2.mod -o \"/content/CA1_netpyne/sim/x86_64\")\n",
      "Notice: Assignment to the GLOBAL variable, \"oinf\", is not thread safe\n",
      "Notice: Assignment to the GLOBAL variable, \"tau\", is not thread safe\n",
      "Thread Safe\n",
      " -> \u001b[32mNMODL\u001b[0m ../mod//can2.mod\n",
      "(cd \"../mod\"; MODLUNIT=/usr/local/lib/python3.7/dist-packages/neuron/.data/share/nrn/lib/nrnunits.lib /usr/local/lib/python3.7/dist-packages/neuron/.data/bin/nocmodl can2.mod -o \"/content/CA1_netpyne/sim/x86_64\")\n",
      " -> \u001b[32mNMODL\u001b[0m ../mod//cat.mod\n",
      "(cd \"../mod\"; MODLUNIT=/usr/local/lib/python3.7/dist-packages/neuron/.data/share/nrn/lib/nrnunits.lib /usr/local/lib/python3.7/dist-packages/neuron/.data/bin/nocmodl cat.mod -o \"/content/CA1_netpyne/sim/x86_64\")\n",
      "Translating cal2.mod into /content/CA1_netpyne/sim/x86_64/cal2.c\n",
      "Notice: Assignment to the GLOBAL variable, \"minf\", is not thread safe\n",
      "Notice: Assignment to the GLOBAL variable, \"tau\", is not thread safe\n",
      "Warning: Default 2 of PARAMETER cao will be ignored and set by NEURON.\n",
      "Warning: Default 5e-05 of PARAMETER cai will be ignored and set by NEURON.\n",
      "Translating can2.mod into /content/CA1_netpyne/sim/x86_64/can2.c\n",
      " -> \u001b[32mNMODL\u001b[0m ../mod//DetAMPANMDA.mod\n",
      "(cd \"../mod\"; MODLUNIT=/usr/local/lib/python3.7/dist-packages/neuron/.data/share/nrn/lib/nrnunits.lib /usr/local/lib/python3.7/dist-packages/neuron/.data/bin/nocmodl DetAMPANMDA.mod -o \"/content/CA1_netpyne/sim/x86_64\")\n",
      "Notice: Assignment to the GLOBAL variable, \"hinf\", is not thread safe\n",
      "Notice: Assignment to the GLOBAL variable, \"minf\", is not thread safe\n",
      "Notice: Assignment to the GLOBAL variable, \"tauh\", is not thread safe\n",
      "Notice: Assignment to the GLOBAL variable, \"taum\", is not thread safe\n",
      "Warning: Default 2 of PARAMETER cao will be ignored and set by NEURON.\n",
      "Warning: Default 5e-05 of PARAMETER cai will be ignored and set by NEURON.\n",
      "Translating cat.mod into /content/CA1_netpyne/sim/x86_64/cat.c\n",
      " -> \u001b[32mNMODL\u001b[0m ../mod//DetGABAAB.mod\n",
      "(cd \"../mod\"; MODLUNIT=/usr/local/lib/python3.7/dist-packages/neuron/.data/share/nrn/lib/nrnunits.lib /usr/local/lib/python3.7/dist-packages/neuron/.data/bin/nocmodl DetGABAAB.mod -o \"/content/CA1_netpyne/sim/x86_64\")\n",
      "Notice: Assignment to the GLOBAL variable, \"htau\", is not thread safe\n",
      "Notice: Assignment to the GLOBAL variable, \"hinf\", is not thread safe\n",
      "Notice: Assignment to the GLOBAL variable, \"mtau\", is not thread safe\n",
      "Notice: Assignment to the GLOBAL variable, \"minf\", is not thread safe\n",
      "Warning: Default 2 of PARAMETER cao will be ignored and set by NEURON.\n",
      "Warning: Default 5e-05 of PARAMETER cai will be ignored and set by NEURON.\n",
      "Warning: Default 25 of PARAMETER celsius will be ignored and set by NEURON.\n",
      "Translating DetAMPANMDA.mod into /content/CA1_netpyne/sim/x86_64/DetAMPANMDA.c\n",
      " -> \u001b[32mNMODL\u001b[0m ../mod//h.mod\n",
      "(cd \"../mod\"; MODLUNIT=/usr/local/lib/python3.7/dist-packages/neuron/.data/share/nrn/lib/nrnunits.lib /usr/local/lib/python3.7/dist-packages/neuron/.data/bin/nocmodl h.mod -o \"/content/CA1_netpyne/sim/x86_64\")\n",
      "Thread Safe\n",
      "Translating DetGABAAB.mod into /content/CA1_netpyne/sim/x86_64/DetGABAAB.c\n",
      "Translating h.mod into /content/CA1_netpyne/sim/x86_64/h.c\n",
      "Thread Safe\n",
      "Notice: Assignment to the GLOBAL variable, \"linf\", is not thread safe\n",
      "Notice: Assignment to the GLOBAL variable, \"taul\", is not thread safe\n",
      " -> \u001b[32mNMODL\u001b[0m ../mod//kadist.mod\n",
      "(cd \"../mod\"; MODLUNIT=/usr/local/lib/python3.7/dist-packages/neuron/.data/share/nrn/lib/nrnunits.lib /usr/local/lib/python3.7/dist-packages/neuron/.data/bin/nocmodl kadist.mod -o \"/content/CA1_netpyne/sim/x86_64\")\n",
      " -> \u001b[32mNMODL\u001b[0m ../mod//kaprox.mod\n",
      "(cd \"../mod\"; MODLUNIT=/usr/local/lib/python3.7/dist-packages/neuron/.data/share/nrn/lib/nrnunits.lib /usr/local/lib/python3.7/dist-packages/neuron/.data/bin/nocmodl kaprox.mod -o \"/content/CA1_netpyne/sim/x86_64\")\n",
      " -> \u001b[32mNMODL\u001b[0m ../mod//kca.mod\n",
      "(cd \"../mod\"; MODLUNIT=/usr/local/lib/python3.7/dist-packages/neuron/.data/share/nrn/lib/nrnunits.lib /usr/local/lib/python3.7/dist-packages/neuron/.data/bin/nocmodl kca.mod -o \"/content/CA1_netpyne/sim/x86_64\")\n",
      "Translating kadist.mod into /content/CA1_netpyne/sim/x86_64/kadist.c\n",
      "Translating kca.mod into /content/CA1_netpyne/sim/x86_64/kca.c\n",
      "Notice: Assignment to the GLOBAL variable, \"linf\", is not thread safe\n",
      "Notice: Assignment to the GLOBAL variable, \"ninf\", is not thread safe\n",
      "Notice: Assignment to the GLOBAL variable, \"taun\", is not thread safe\n",
      "Notice: Assignment to the GLOBAL variable, \"taul\", is not thread safe\n",
      "Warning: Default 36 of PARAMETER celsius will be ignored and set by NEURON.\n",
      "Warning: Default 2.4e-05 of PARAMETER cai will be ignored and set by NEURON.\n",
      "Warning: Default -80 of PARAMETER ek will be ignored and set by NEURON.\n",
      "Thread Safe\n",
      "Translating kaprox.mod into /content/CA1_netpyne/sim/x86_64/kaprox.c\n",
      "Notice: Assignment to the GLOBAL variable, \"linf\", is not thread safe\n",
      "Notice: Assignment to the GLOBAL variable, \"ninf\", is not thread safe\n",
      "Notice: Assignment to the GLOBAL variable, \"taun\", is not thread safe\n",
      "Notice: Assignment to the GLOBAL variable, \"taul\", is not thread safe\n",
      " -> \u001b[32mNMODL\u001b[0m ../mod//kd2.mod\n",
      "(cd \"../mod\"; MODLUNIT=/usr/local/lib/python3.7/dist-packages/neuron/.data/share/nrn/lib/nrnunits.lib /usr/local/lib/python3.7/dist-packages/neuron/.data/bin/nocmodl kd2.mod -o \"/content/CA1_netpyne/sim/x86_64\")\n",
      " -> \u001b[32mNMODL\u001b[0m ../mod//kdb.mod\n",
      "(cd \"../mod\"; MODLUNIT=/usr/local/lib/python3.7/dist-packages/neuron/.data/share/nrn/lib/nrnunits.lib /usr/local/lib/python3.7/dist-packages/neuron/.data/bin/nocmodl kdb.mod -o \"/content/CA1_netpyne/sim/x86_64\")\n",
      " -> \u001b[32mNMODL\u001b[0m ../mod//kdrbca1.mod\n",
      "(cd \"../mod\"; MODLUNIT=/usr/local/lib/python3.7/dist-packages/neuron/.data/share/nrn/lib/nrnunits.lib /usr/local/lib/python3.7/dist-packages/neuron/.data/bin/nocmodl kdrbca1.mod -o \"/content/CA1_netpyne/sim/x86_64\")\n",
      "Translating kdb.mod into /content/CA1_netpyne/sim/x86_64/kdb.c\n",
      "Notice: Assignment to the GLOBAL variable, \"ninf\", is not thread safe\n",
      "Notice: Assignment to the GLOBAL variable, \"taun\", is not thread safe\n",
      "Translating kd2.mod into /content/CA1_netpyne/sim/x86_64/kd2.c\n",
      "Notice: Assignment to the GLOBAL variable, \"ninf\", is not thread safe\n",
      "Notice: Assignment to the GLOBAL variable, \"taun\", is not thread safe\n",
      " -> \u001b[32mNMODL\u001b[0m ../mod//kdrca1.mod\n",
      "(cd \"../mod\"; MODLUNIT=/usr/local/lib/python3.7/dist-packages/neuron/.data/share/nrn/lib/nrnunits.lib /usr/local/lib/python3.7/dist-packages/neuron/.data/bin/nocmodl kdrca1.mod -o \"/content/CA1_netpyne/sim/x86_64\")\n",
      "Translating kdrbca1.mod into /content/CA1_netpyne/sim/x86_64/kdrbca1.c\n",
      "Notice: Assignment to the GLOBAL variable, \"ninf\", is not thread safe\n",
      "Notice: Assignment to the GLOBAL variable, \"taun\", is not thread safe\n",
      " -> \u001b[32mNMODL\u001b[0m ../mod//kmb.mod\n",
      "(cd \"../mod\"; MODLUNIT=/usr/local/lib/python3.7/dist-packages/neuron/.data/share/nrn/lib/nrnunits.lib /usr/local/lib/python3.7/dist-packages/neuron/.data/bin/nocmodl kmb.mod -o \"/content/CA1_netpyne/sim/x86_64\")\n",
      " -> \u001b[32mNMODL\u001b[0m ../mod//na3n.mod\n",
      "(cd \"../mod\"; MODLUNIT=/usr/local/lib/python3.7/dist-packages/neuron/.data/share/nrn/lib/nrnunits.lib /usr/local/lib/python3.7/dist-packages/neuron/.data/bin/nocmodl na3n.mod -o \"/content/CA1_netpyne/sim/x86_64\")\n",
      "Translating kdrca1.mod into /content/CA1_netpyne/sim/x86_64/kdrca1.c\n",
      "Notice: Assignment to the GLOBAL variable, \"ninf\", is not thread safe\n",
      "Notice: Assignment to the GLOBAL variable, \"taun\", is not thread safe\n",
      "Translating kmb.mod into /content/CA1_netpyne/sim/x86_64/kmb.c\n",
      "Notice: Assignment to the GLOBAL variable, \"inf\", is not thread safe\n",
      "Notice: Assignment to the GLOBAL variable, \"tau\", is not thread safe\n",
      "Translating na3n.mod into /content/CA1_netpyne/sim/x86_64/na3n.c\n",
      " -> \u001b[32mNMODL\u001b[0m ../mod//ProbAMPANMDA_EMS.mod\n",
      "(cd \"../mod\"; MODLUNIT=/usr/local/lib/python3.7/dist-packages/neuron/.data/share/nrn/lib/nrnunits.lib /usr/local/lib/python3.7/dist-packages/neuron/.data/bin/nocmodl ProbAMPANMDA_EMS.mod -o \"/content/CA1_netpyne/sim/x86_64\")\n",
      " -> \u001b[32mNMODL\u001b[0m ../mod//naxn.mod\n",
      "(cd \"../mod\"; MODLUNIT=/usr/local/lib/python3.7/dist-packages/neuron/.data/share/nrn/lib/nrnunits.lib /usr/local/lib/python3.7/dist-packages/neuron/.data/bin/nocmodl naxn.mod -o \"/content/CA1_netpyne/sim/x86_64\")\n",
      "Notice: Assignment to the GLOBAL variable, \"htau\", is not thread safe\n",
      "Notice: Assignment to the GLOBAL variable, \"hinf\", is not thread safe\n",
      "Notice: Assignment to the GLOBAL variable, \"mtau\", is not thread safe\n",
      "Notice: Assignment to the GLOBAL variable, \"minf\", is not thread safe\n",
      "Notice: Assignment to the GLOBAL variable, \"sinf\", is not thread safe\n",
      "Notice: Assignment to the GLOBAL variable, \"taus\", is not thread safe\n",
      "Translating ProbAMPANMDA_EMS.mod into /content/CA1_netpyne/sim/x86_64/ProbAMPANMDA_EMS.c\n",
      " -> \u001b[32mNMODL\u001b[0m ../mod//ProbGABAAB_EMS.mod\n",
      "(cd \"../mod\"; MODLUNIT=/usr/local/lib/python3.7/dist-packages/neuron/.data/share/nrn/lib/nrnunits.lib /usr/local/lib/python3.7/dist-packages/neuron/.data/bin/nocmodl ProbGABAAB_EMS.mod -o \"/content/CA1_netpyne/sim/x86_64\")\n",
      "Notice: This mechanism cannot be used with CVODE\n",
      "Notice: A_AMPA discontinuity adjustment not available.\n",
      "Notice: B_AMPA discontinuity adjustment not available.\n",
      "Notice: A_NMDA discontinuity adjustment not available.\n",
      "Notice: B_NMDA discontinuity adjustment not available.\n",
      "Warning: dt undefined. (declared within VERBATIM?)\n",
      "Warning: value undefined. (declared within VERBATIM?)\n",
      "Thread Safe\n",
      "Translating naxn.mod into /content/CA1_netpyne/sim/x86_64/naxn.c\n",
      " -> \u001b[32mCompiling\u001b[0m cacummb.c\n",
      "x86_64-linux-gnu-gcc -O2   -I\"../mod\" -I.   -I/usr/local/lib/python3.7/dist-packages/neuron/.data/include  -I/nrnwheel/openmpi/include -fPIC -c cacummb.c -o cacummb.o\n",
      "Notice: Assignment to the GLOBAL variable, \"htau\", is not thread safe\n",
      "Notice: Assignment to the GLOBAL variable, \"hinf\", is not thread safe\n",
      "Notice: Assignment to the GLOBAL variable, \"mtau\", is not thread safe\n",
      "Notice: Assignment to the GLOBAL variable, \"minf\", is not thread safe\n",
      "Translating ProbGABAAB_EMS.mod into /content/CA1_netpyne/sim/x86_64/ProbGABAAB_EMS.c\n",
      " -> \u001b[32mCompiling\u001b[0m cacumm.c\n",
      "Notice: This mechanism cannot be used with CVODE\n",
      "Notice: A_GABAA discontinuity adjustment not available.\n",
      "Notice: B_GABAA discontinuity adjustment not available.\n",
      "Notice: A_GABAB discontinuity adjustment not available.\n",
      "Notice: B_GABAB discontinuity adjustment not available.\n",
      "Warning: dt undefined. (declared within VERBATIM?)\n",
      "Warning: value undefined. (declared within VERBATIM?)\n",
      "Thread Safe\n",
      "x86_64-linux-gnu-gcc -O2   -I\"../mod\" -I.   -I/usr/local/lib/python3.7/dist-packages/neuron/.data/include  -I/nrnwheel/openmpi/include -fPIC -c cacumm.c -o cacumm.o\n",
      " -> \u001b[32mCompiling\u001b[0m cagk.c\n",
      "x86_64-linux-gnu-gcc -O2   -I\"../mod\" -I.   -I/usr/local/lib/python3.7/dist-packages/neuron/.data/include  -I/nrnwheel/openmpi/include -fPIC -c cagk.c -o cagk.o\n",
      " -> \u001b[32mCompiling\u001b[0m cal2.c\n",
      "x86_64-linux-gnu-gcc -O2   -I\"../mod\" -I.   -I/usr/local/lib/python3.7/dist-packages/neuron/.data/include  -I/nrnwheel/openmpi/include -fPIC -c cal2.c -o cal2.o\n",
      " -> \u001b[32mCompiling\u001b[0m can2.c\n",
      "x86_64-linux-gnu-gcc -O2   -I\"../mod\" -I.   -I/usr/local/lib/python3.7/dist-packages/neuron/.data/include  -I/nrnwheel/openmpi/include -fPIC -c can2.c -o can2.o\n",
      " -> \u001b[32mCompiling\u001b[0m cat.c\n",
      "x86_64-linux-gnu-gcc -O2   -I\"../mod\" -I.   -I/usr/local/lib/python3.7/dist-packages/neuron/.data/include  -I/nrnwheel/openmpi/include -fPIC -c cat.c -o cat.o\n",
      " -> \u001b[32mCompiling\u001b[0m DetAMPANMDA.c\n",
      "x86_64-linux-gnu-gcc -O2   -I\"../mod\" -I.   -I/usr/local/lib/python3.7/dist-packages/neuron/.data/include  -I/nrnwheel/openmpi/include -fPIC -c DetAMPANMDA.c -o DetAMPANMDA.o\n",
      " -> \u001b[32mCompiling\u001b[0m DetGABAAB.c\n",
      "x86_64-linux-gnu-gcc -O2   -I\"../mod\" -I.   -I/usr/local/lib/python3.7/dist-packages/neuron/.data/include  -I/nrnwheel/openmpi/include -fPIC -c DetGABAAB.c -o DetGABAAB.o\n",
      " -> \u001b[32mCompiling\u001b[0m h.c\n",
      "x86_64-linux-gnu-gcc -O2   -I\"../mod\" -I.   -I/usr/local/lib/python3.7/dist-packages/neuron/.data/include  -I/nrnwheel/openmpi/include -fPIC -c h.c -o h.o\n",
      " -> \u001b[32mCompiling\u001b[0m kadist.c\n",
      "x86_64-linux-gnu-gcc -O2   -I\"../mod\" -I.   -I/usr/local/lib/python3.7/dist-packages/neuron/.data/include  -I/nrnwheel/openmpi/include -fPIC -c kadist.c -o kadist.o\n",
      " -> \u001b[32mCompiling\u001b[0m kaprox.c\n",
      "x86_64-linux-gnu-gcc -O2   -I\"../mod\" -I.   -I/usr/local/lib/python3.7/dist-packages/neuron/.data/include  -I/nrnwheel/openmpi/include -fPIC -c kaprox.c -o kaprox.o\n",
      " -> \u001b[32mCompiling\u001b[0m kca.c\n",
      "x86_64-linux-gnu-gcc -O2   -I\"../mod\" -I.   -I/usr/local/lib/python3.7/dist-packages/neuron/.data/include  -I/nrnwheel/openmpi/include -fPIC -c kca.c -o kca.o\n",
      " -> \u001b[32mCompiling\u001b[0m kd2.c\n",
      "x86_64-linux-gnu-gcc -O2   -I\"../mod\" -I.   -I/usr/local/lib/python3.7/dist-packages/neuron/.data/include  -I/nrnwheel/openmpi/include -fPIC -c kd2.c -o kd2.o\n",
      " -> \u001b[32mCompiling\u001b[0m kdb.c\n",
      "x86_64-linux-gnu-gcc -O2   -I\"../mod\" -I.   -I/usr/local/lib/python3.7/dist-packages/neuron/.data/include  -I/nrnwheel/openmpi/include -fPIC -c kdb.c -o kdb.o\n",
      " -> \u001b[32mCompiling\u001b[0m kdrbca1.c\n",
      "x86_64-linux-gnu-gcc -O2   -I\"../mod\" -I.   -I/usr/local/lib/python3.7/dist-packages/neuron/.data/include  -I/nrnwheel/openmpi/include -fPIC -c kdrbca1.c -o kdrbca1.o\n",
      " -> \u001b[32mCompiling\u001b[0m kdrca1.c\n",
      "x86_64-linux-gnu-gcc -O2   -I\"../mod\" -I.   -I/usr/local/lib/python3.7/dist-packages/neuron/.data/include  -I/nrnwheel/openmpi/include -fPIC -c kdrca1.c -o kdrca1.o\n",
      " -> \u001b[32mCompiling\u001b[0m kmb.c\n",
      "x86_64-linux-gnu-gcc -O2   -I\"../mod\" -I.   -I/usr/local/lib/python3.7/dist-packages/neuron/.data/include  -I/nrnwheel/openmpi/include -fPIC -c kmb.c -o kmb.o\n",
      " -> \u001b[32mCompiling\u001b[0m na3n.c\n",
      "x86_64-linux-gnu-gcc -O2   -I\"../mod\" -I.   -I/usr/local/lib/python3.7/dist-packages/neuron/.data/include  -I/nrnwheel/openmpi/include -fPIC -c na3n.c -o na3n.o\n",
      " -> \u001b[32mCompiling\u001b[0m naxn.c\n",
      "x86_64-linux-gnu-gcc -O2   -I\"../mod\" -I.   -I/usr/local/lib/python3.7/dist-packages/neuron/.data/include  -I/nrnwheel/openmpi/include -fPIC -c naxn.c -o naxn.o\n",
      " -> \u001b[32mCompiling\u001b[0m ProbAMPANMDA_EMS.c\n",
      "x86_64-linux-gnu-gcc -O2   -I\"../mod\" -I.   -I/usr/local/lib/python3.7/dist-packages/neuron/.data/include  -I/nrnwheel/openmpi/include -fPIC -c ProbAMPANMDA_EMS.c -o ProbAMPANMDA_EMS.o\n",
      " -> \u001b[32mCompiling\u001b[0m ProbGABAAB_EMS.c\n",
      "x86_64-linux-gnu-gcc -O2   -I\"../mod\" -I.   -I/usr/local/lib/python3.7/dist-packages/neuron/.data/include  -I/nrnwheel/openmpi/include -fPIC -c ProbGABAAB_EMS.c -o ProbGABAAB_EMS.o\n",
      " => \u001b[32mLINKING\u001b[0m shared library ./libnrnmech.so\n",
      "x86_64-linux-gnu-g++ -O2 -DVERSION_INFO='8.0.0' -std=c++11 -shared -fPIC  -I /usr/local/lib/python3.7/dist-packages/neuron/.data/include -o ./libnrnmech.so -Wl,-soname,libnrnmech.so \\\n",
      "  ./mod_func.o ./cacummb.o ./cacumm.o ./cagk.o ./cal2.o ./can2.o ./cat.o ./DetAMPANMDA.o ./DetGABAAB.o ./h.o ./kadist.o ./kaprox.o ./kca.o ./kd2.o ./kdb.o ./kdrbca1.o ./kdrca1.o ./kmb.o ./na3n.o ./naxn.o ./ProbAMPANMDA_EMS.o ./ProbGABAAB_EMS.o  -L/usr/local/lib/python3.7/dist-packages/neuron/.data/lib -lnrniv -Wl,-rpath,/usr/local/lib/python3.7/dist-packages/neuron/.data/lib   \n",
      "rm -f ./.libs/libnrnmech.so ; mkdir -p ./.libs ; cp ./libnrnmech.so ./.libs/libnrnmech.so\n",
      "Successfully created x86_64/special\n"
     ]
    }
   ],
   "source": [
    "!nrnivmodl mod/"
   ]
  },
  {
   "cell_type": "markdown",
   "metadata": {
    "id": "9z-KpVi8SE5h"
   },
   "source": [
    "# Exploring the Lists"
   ]
  },
  {
   "cell_type": "code",
   "execution_count": null,
   "metadata": {
    "id": "B_7Pxh_8SE5i"
   },
   "outputs": [],
   "source": [
    "hoclist = list(cells.property_values(Cell.MODEL_TEMPLATE))\n",
    "Morpholist = list(cells.property_values(Cell.MORPHOLOGY))\n",
    "Mtypelist = list(cells.property_values(Cell.MTYPE))"
   ]
  },
  {
   "cell_type": "code",
   "execution_count": null,
   "metadata": {
    "colab": {
     "base_uri": "https://localhost:8080/"
    },
    "id": "pHxrDTc6SE5j",
    "outputId": "07cdcc12-88e5-486e-d6b1-b6e631a1b84a"
   },
   "outputs": [
    {
     "data": {
      "text/plain": [
       "['SO_OLM',\n",
       " 'SP_PVBC',\n",
       " 'SLM_PPA',\n",
       " 'SO_BP',\n",
       " 'SP_CCKBC',\n",
       " 'SP_Ivy',\n",
       " 'SP_BS',\n",
       " 'SO_Tri',\n",
       " 'SO_BS',\n",
       " 'SP_PC',\n",
       " 'SR_SCA',\n",
       " 'SP_AA']"
      ]
     },
     "execution_count": 12,
     "metadata": {},
     "output_type": "execute_result"
    }
   ],
   "source": [
    "Mtypelist"
   ]
  },
  {
   "cell_type": "markdown",
   "metadata": {
    "id": "Cm01i7voSE5j"
   },
   "source": [
    "# NetPyNE"
   ]
  },
  {
   "cell_type": "code",
   "execution_count": null,
   "metadata": {
    "id": "Hjh78IPKqMd5"
   },
   "outputs": [],
   "source": [
    "%matplotlib inline"
   ]
  },
  {
   "cell_type": "code",
   "execution_count": null,
   "metadata": {
    "id": "_qBMMtdFSE5k"
   },
   "outputs": [],
   "source": [
    "from netpyne import specs, sim   \n",
    "\n",
    "# Network parameters\n",
    "netParams = specs.NetParams()  # object of class NetParams to store the network parameters"
   ]
  },
  {
   "cell_type": "code",
   "execution_count": null,
   "metadata": {
    "id": "JQuSMR78lvTw"
   },
   "outputs": [],
   "source": [
    "%matplotlib inline"
   ]
  },
  {
   "cell_type": "code",
   "execution_count": null,
   "metadata": {
    "colab": {
     "base_uri": "https://localhost:8080/"
    },
    "id": "9fABE09DSE5k",
    "outputId": "5818c333-8068-4374-ff72-2a9ea00e0c8a"
   },
   "outputs": [
    {
     "name": "stdout",
     "output_type": "stream",
     "text": [
      "SO_OLM_cAC_mc5 \n",
      " 18041 mc5 SO_OLM \n",
      " hoc = CA1_int_cAC_011017HP2_2019032814552 \n",
      " swc = 011017HP2.swc\n"
     ]
    }
   ],
   "source": [
    "gid = 18041\n",
    "MorphoName = nodesinfo['morphology'][gid] + '.swc'\n",
    "hocName = nodesinfo['model_template'][gid][4:]  \n",
    "mcName = nodesinfo['region'][gid][:3]  \n",
    "Mtype = nodesinfo['mtype'][gid]\n",
    "cellName = nodesinfo['mtype'][gid] + '_' + nodesinfo['etype'][gid] + '_' + nodesinfo['region'][gid][:3]\n",
    "MEName = nodesinfo['mtype'][gid] + '_' + nodesinfo['etype'][gid]\n",
    "MorphohocName = nodesinfo['morphology'][gid] + '__' + nodesinfo['model_template'][gid][4:]    \n",
    "\n",
    "print('%s \\n %d %s %s \\n hoc = %s \\n swc = %s' % (cellName,gid,mcName,Mtype,hocName,MorphoName))"
   ]
  },
  {
   "cell_type": "code",
   "execution_count": null,
   "metadata": {
    "colab": {
     "base_uri": "https://localhost:8080/"
    },
    "id": "eVtVaiZeSE5k",
    "outputId": "7fc66a5c-cdde-4c3b-8e53-6fdb21acad8f"
   },
   "outputs": [
    {
     "name": "stdout",
     "output_type": "stream",
     "text": [
      "SP_PC_cACpyr_mc1 \n",
      " 14000 mc1 SP_PC \n",
      " hoc = CA1_pyr_cACpyr_mpg141216_A_idA_2019030513333 \n",
      " swc = dend-oh140521_B0_Rat_idC_axon-mpg141017_a1-2_idC_-_Scale_x1.000_y0.900_z1.000_-_Clone_9.swc\n"
     ]
    }
   ],
   "source": [
    "gid = 14000\n",
    "MorphoName = nodesinfo['morphology'][gid] + '.swc'\n",
    "hocName = nodesinfo['model_template'][gid][4:]  \n",
    "mcName = nodesinfo['region'][gid][:3]  \n",
    "Mtype = nodesinfo['mtype'][gid]\n",
    "cellName = nodesinfo['mtype'][gid] + '_' + nodesinfo['etype'][gid] + '_' + nodesinfo['region'][gid][:3]\n",
    "MEName = nodesinfo['mtype'][gid] + '_' + nodesinfo['etype'][gid]\n",
    "MorphohocName = nodesinfo['morphology'][gid] + '__' + nodesinfo['model_template'][gid][4:]    \n",
    "\n",
    "print('%s \\n %d %s %s \\n hoc = %s \\n swc = %s' % (cellName,gid,mcName,Mtype,hocName,MorphoName))"
   ]
  },
  {
   "cell_type": "code",
   "execution_count": null,
   "metadata": {
    "id": "Ksp9GGF9SE5l"
   },
   "outputs": [],
   "source": [
    "for gid in [14000,18041]:\n",
    "    MorphoName = nodesinfo['morphology'][gid] + '.swc'\n",
    "    hocName = nodesinfo['model_template'][gid][4:]  \n",
    "    if cellName == nodesinfo['mtype'][gid] + '_' + nodesinfo['etype'][gid] + '_' + nodesinfo['region'][gid][:3]:\n",
    "        cellName = nodesinfo['mtype'][gid] + '_' + nodesinfo['etype'][gid] + '_' + nodesinfo['region'][gid][:3] + '_2'\n",
    "    else:  \n",
    "        cellName = nodesinfo['mtype'][gid] + '_' + nodesinfo['etype'][gid] + '_' + nodesinfo['region'][gid][:3]\n",
    "    \n",
    "    cellRule = netParams.importCellParams(label=cellName, somaAtOrigin=False,\n",
    "        conds={'cellType': cellName, 'cellModel': 'HH_full'},\n",
    "        fileName='/content/CA1_netpyne/scripts/cellwrapper.py',\n",
    "        cellName='loadCell',\n",
    "        cellInstance = True,\n",
    "        cellArgs={'hocName': hocName, 'MorphoName': MorphoName})\n",
    "    netParams.renameCellParamsSec(label=cellName, oldSec='soma_0', newSec='soma')"
   ]
  },
  {
   "cell_type": "code",
   "execution_count": null,
   "metadata": {
    "colab": {
     "base_uri": "https://localhost:8080/"
    },
    "id": "IFyvRCllSE5l",
    "outputId": "c51c0346-fc9d-4762-cc38-7143450d0845"
   },
   "outputs": [
    {
     "data": {
      "text/plain": [
       "odict_keys(['SP_PC_cACpyr_mc1_2', 'SO_OLM_cAC_mc5'])"
      ]
     },
     "execution_count": 19,
     "metadata": {},
     "output_type": "execute_result"
    }
   ],
   "source": [
    "# netParams.cellParams[cellName]\n",
    "netParams.cellParams.keys()"
   ]
  },
  {
   "cell_type": "code",
   "execution_count": null,
   "metadata": {
    "id": "n5SeVknJSE5m"
   },
   "outputs": [],
   "source": [
    "netParams.popParams['SP_PC_cACpyr'] = {'cellType': 'SP_PC_cACpyr_mc1_2', 'numCells': 1, 'cellModel': 'HH_full'}\n",
    "netParams.popParams['SO_OLM_cAC'] = {'cellType': 'SO_OLM_cAC_mc5', 'numCells': 1, 'cellModel': 'HH_full'}"
   ]
  },
  {
   "cell_type": "markdown",
   "metadata": {
    "id": "2QDx4qo-SE5n"
   },
   "source": [
    "## LOAD PHYS FROM FILES"
   ]
  },
  {
   "cell_type": "code",
   "execution_count": null,
   "metadata": {
    "colab": {
     "base_uri": "https://localhost:8080/"
    },
    "id": "wtA-ZQPnSE5n",
    "outputId": "9a28fe5f-4399-4abb-c260-eeecf727de3d"
   },
   "outputs": [
    {
     "name": "stdout",
     "output_type": "stream",
     "text": [
      "SO_OLM:SO_OLM,\n",
      "SO_OLM:SP_PVBC,\n",
      "SO_OLM:SLM_PPA,\n",
      "SO_OLM:SO_BP,\n",
      "SO_OLM:SP_CCKBC,\n",
      "SO_OLM:SP_Ivy,\n",
      "SO_OLM:SP_BS,\n",
      "SO_OLM:SO_Tri,\n",
      "SO_OLM:SO_BS,\n",
      "SO_OLM:SP_PC,\n",
      "SO_OLM:SR_SCA,\n",
      "SO_OLM:SP_AA,\n",
      "SP_PVBC:SO_OLM,\n",
      "SP_PVBC:SP_PVBC,\n",
      "SP_PVBC:SLM_PPA,\n",
      "SP_PVBC:SO_BP,\n",
      "SP_PVBC:SP_CCKBC,\n",
      "SP_PVBC:SP_Ivy,\n",
      "SP_PVBC:SP_BS,\n",
      "SP_PVBC:SO_Tri,\n",
      "SP_PVBC:SO_BS,\n",
      "SP_PVBC:SP_PC,\n",
      "SP_PVBC:SR_SCA,\n",
      "SP_PVBC:SP_AA,\n",
      "SLM_PPA:SO_OLM,\n",
      "SLM_PPA:SP_PVBC,\n",
      "SLM_PPA:SLM_PPA,\n",
      "SLM_PPA:SO_BP,\n",
      "SLM_PPA:SP_CCKBC,\n",
      "SLM_PPA:SP_Ivy,\n",
      "SLM_PPA:SP_BS,\n",
      "SLM_PPA:SO_Tri,\n",
      "SLM_PPA:SO_BS,\n",
      "SLM_PPA:SP_PC,\n",
      "SLM_PPA:SR_SCA,\n",
      "SLM_PPA:SP_AA,\n",
      "SO_BP:SO_OLM,\n",
      "SO_BP:SP_PVBC,\n",
      "SO_BP:SLM_PPA,\n",
      "SO_BP:SO_BP,\n",
      "SO_BP:SP_CCKBC,\n",
      "SO_BP:SP_Ivy,\n",
      "SO_BP:SP_BS,\n",
      "SO_BP:SO_Tri,\n",
      "SO_BP:SO_BS,\n",
      "SO_BP:SP_PC,\n",
      "SO_BP:SR_SCA,\n",
      "SO_BP:SP_AA,\n",
      "SP_CCKBC:SO_OLM,\n",
      "SP_CCKBC:SP_PVBC,\n",
      "SP_CCKBC:SLM_PPA,\n",
      "SP_CCKBC:SO_BP,\n",
      "SP_CCKBC:SP_CCKBC,\n",
      "SP_CCKBC:SP_Ivy,\n",
      "SP_CCKBC:SP_BS,\n",
      "SP_CCKBC:SO_Tri,\n",
      "SP_CCKBC:SO_BS,\n",
      "SP_CCKBC:SP_PC,\n",
      "SP_CCKBC:SR_SCA,\n",
      "SP_CCKBC:SP_AA,\n",
      "SP_Ivy:SO_OLM,\n",
      "SP_Ivy:SP_PVBC,\n",
      "SP_Ivy:SLM_PPA,\n",
      "SP_Ivy:SO_BP,\n",
      "SP_Ivy:SP_CCKBC,\n",
      "SP_Ivy:SP_Ivy,\n",
      "SP_Ivy:SP_BS,\n",
      "SP_Ivy:SO_Tri,\n",
      "SP_Ivy:SO_BS,\n",
      "SP_Ivy:SP_PC,\n",
      "SP_Ivy:SR_SCA,\n",
      "SP_Ivy:SP_AA,\n",
      "SP_BS:SO_OLM,\n",
      "SP_BS:SP_PVBC,\n",
      "SP_BS:SLM_PPA,\n",
      "SP_BS:SO_BP,\n",
      "SP_BS:SP_CCKBC,\n",
      "SP_BS:SP_Ivy,\n",
      "SP_BS:SP_BS,\n",
      "SP_BS:SO_Tri,\n",
      "SP_BS:SO_BS,\n",
      "SP_BS:SP_PC,\n",
      "SP_BS:SR_SCA,\n",
      "SP_BS:SP_AA,\n",
      "SO_Tri:SO_OLM,\n",
      "SO_Tri:SP_PVBC,\n",
      "SO_Tri:SLM_PPA,\n",
      "SO_Tri:SO_BP,\n",
      "SO_Tri:SP_CCKBC,\n",
      "SO_Tri:SP_Ivy,\n",
      "SO_Tri:SP_BS,\n",
      "SO_Tri:SO_Tri,\n",
      "SO_Tri:SO_BS,\n",
      "SO_Tri:SP_PC,\n",
      "SO_Tri:SR_SCA,\n",
      "SO_Tri:SP_AA,\n",
      "SO_BS:SO_OLM,\n",
      "SO_BS:SP_PVBC,\n",
      "SO_BS:SLM_PPA,\n",
      "SO_BS:SO_BP,\n",
      "SO_BS:SP_CCKBC,\n",
      "SO_BS:SP_Ivy,\n",
      "SO_BS:SP_BS,\n",
      "SO_BS:SO_Tri,\n",
      "SO_BS:SO_BS,\n",
      "SO_BS:SP_PC,\n",
      "SO_BS:SR_SCA,\n",
      "SO_BS:SP_AA,\n",
      "SP_PC:SO_OLM,\n",
      "SP_PC:SP_PVBC,\n",
      "SP_PC:SLM_PPA,\n",
      "SP_PC:SO_BP,\n",
      "SP_PC:SP_CCKBC,\n",
      "SP_PC:SP_Ivy,\n",
      "SP_PC:SP_BS,\n",
      "SP_PC:SO_Tri,\n",
      "SP_PC:SO_BS,\n",
      "SP_PC:SP_PC,\n",
      "SP_PC:SR_SCA,\n",
      "SP_PC:SP_AA,\n",
      "SR_SCA:SO_OLM,\n",
      "SR_SCA:SP_PVBC,\n",
      "SR_SCA:SLM_PPA,\n",
      "SR_SCA:SO_BP,\n",
      "SR_SCA:SP_CCKBC,\n",
      "SR_SCA:SP_Ivy,\n",
      "SR_SCA:SP_BS,\n",
      "SR_SCA:SO_Tri,\n",
      "SR_SCA:SO_BS,\n",
      "SR_SCA:SP_PC,\n",
      "SR_SCA:SR_SCA,\n",
      "SR_SCA:SP_AA,\n",
      "SP_AA:SO_OLM,\n",
      "SP_AA:SP_PVBC,\n",
      "SP_AA:SLM_PPA,\n",
      "SP_AA:SO_BP,\n",
      "SP_AA:SP_CCKBC,\n",
      "SP_AA:SP_Ivy,\n",
      "SP_AA:SP_BS,\n",
      "SP_AA:SO_Tri,\n",
      "SP_AA:SO_BS,\n",
      "SP_AA:SP_PC,\n",
      "SP_AA:SR_SCA,\n",
      "SP_AA:SP_AA,\n"
     ]
    }
   ],
   "source": [
    "for pre in Mtypelist:\n",
    "    for post in Mtypelist:\n",
    "        proj = '%s:%s' % (pre,post)\n",
    "\n",
    "        print(proj+',')"
   ]
  },
  {
   "cell_type": "code",
   "execution_count": null,
   "metadata": {
    "id": "RgmjIN8oEWCi",
    "scrolled": false
   },
   "outputs": [],
   "source": [
    "Epops = pd.unique(nodesinfo[nodesinfo['synapse_class'] == 'EXC']['mtype'])"
   ]
  },
  {
   "cell_type": "code",
   "execution_count": null,
   "metadata": {
    "id": "7OMfS3AUvF1U"
   },
   "outputs": [],
   "source": [
    "Ipops = pd.unique(nodesinfo[nodesinfo['synapse_class'] == 'INH']['mtype'])"
   ]
  },
  {
   "cell_type": "markdown",
   "metadata": {
    "id": "dF1l3ZmPJc48"
   },
   "source": [
    "#Tratamento dos dados"
   ]
  },
  {
   "cell_type": "code",
   "execution_count": null,
   "metadata": {
    "colab": {
     "base_uri": "https://localhost:8080/",
     "height": 436
    },
    "id": "eA5iZTN3IvEg",
    "outputId": "ecb428a5-907d-4eff-b5b7-c488300a2bb3"
   },
   "outputs": [
    {
     "data": {
      "text/html": [
       "<div>\n",
       "<style scoped>\n",
       "    .dataframe tbody tr th:only-of-type {\n",
       "        vertical-align: middle;\n",
       "    }\n",
       "\n",
       "    .dataframe tbody tr th {\n",
       "        vertical-align: top;\n",
       "    }\n",
       "\n",
       "    .dataframe thead th {\n",
       "        text-align: right;\n",
       "    }\n",
       "</style>\n",
       "<table border=\"1\" class=\"dataframe\">\n",
       "  <thead>\n",
       "    <tr style=\"text-align: right;\">\n",
       "      <th></th>\n",
       "      <th>connType</th>\n",
       "      <th>tau_r_AMPA</th>\n",
       "      <th>tau_d_AMPA</th>\n",
       "      <th>std_tau_d_AMPA</th>\n",
       "      <th>tau_r_NMDA</th>\n",
       "      <th>tau_d_NMDA</th>\n",
       "      <th>std_tau_d_NMDA</th>\n",
       "      <th>Use</th>\n",
       "      <th>Use_std</th>\n",
       "      <th>Dep</th>\n",
       "      <th>Dep_std</th>\n",
       "      <th>Fac</th>\n",
       "      <th>Fac_std</th>\n",
       "      <th>gmax</th>\n",
       "      <th>NMDA_ratio</th>\n",
       "    </tr>\n",
       "  </thead>\n",
       "  <tbody>\n",
       "    <tr>\n",
       "      <th>0</th>\n",
       "      <td>SP_PC:SP_BS</td>\n",
       "      <td>0.50</td>\n",
       "      <td>4.12</td>\n",
       "      <td>NaN</td>\n",
       "      <td>NaN</td>\n",
       "      <td>148.50</td>\n",
       "      <td>0.09</td>\n",
       "      <td>0.23</td>\n",
       "      <td>0.09</td>\n",
       "      <td>410.0</td>\n",
       "      <td>11.0</td>\n",
       "      <td>10.0</td>\n",
       "      <td>0.10</td>\n",
       "      <td>1.65</td>\n",
       "      <td>0.28</td>\n",
       "    </tr>\n",
       "    <tr>\n",
       "      <th>1</th>\n",
       "      <td>SP_PC:SP_CCKBC</td>\n",
       "      <td>0.50</td>\n",
       "      <td>4.12</td>\n",
       "      <td>NaN</td>\n",
       "      <td>NaN</td>\n",
       "      <td>298.75</td>\n",
       "      <td>0.09</td>\n",
       "      <td>0.23</td>\n",
       "      <td>0.09</td>\n",
       "      <td>410.0</td>\n",
       "      <td>11.0</td>\n",
       "      <td>10.0</td>\n",
       "      <td>0.40</td>\n",
       "      <td>3.50</td>\n",
       "      <td>0.86</td>\n",
       "    </tr>\n",
       "    <tr>\n",
       "      <th>2</th>\n",
       "      <td>SP_PC:SP_Ivy</td>\n",
       "      <td>0.50</td>\n",
       "      <td>4.12</td>\n",
       "      <td>NaN</td>\n",
       "      <td>NaN</td>\n",
       "      <td>NaN</td>\n",
       "      <td>NaN</td>\n",
       "      <td>NaN</td>\n",
       "      <td>0.02</td>\n",
       "      <td>617.0</td>\n",
       "      <td>5.0</td>\n",
       "      <td>17.0</td>\n",
       "      <td>0.40</td>\n",
       "      <td>2.30</td>\n",
       "      <td>NaN</td>\n",
       "    </tr>\n",
       "    <tr>\n",
       "      <th>3</th>\n",
       "      <td>SP_PC:SP_PVBC</td>\n",
       "      <td>0.50</td>\n",
       "      <td>4.12</td>\n",
       "      <td>NaN</td>\n",
       "      <td>NaN</td>\n",
       "      <td>NaN</td>\n",
       "      <td>NaN</td>\n",
       "      <td>NaN</td>\n",
       "      <td>0.09</td>\n",
       "      <td>410.0</td>\n",
       "      <td>11.0</td>\n",
       "      <td>10.0</td>\n",
       "      <td>0.05</td>\n",
       "      <td>2.00</td>\n",
       "      <td>NaN</td>\n",
       "    </tr>\n",
       "    <tr>\n",
       "      <th>4</th>\n",
       "      <td>SP_PC:SO_Tri</td>\n",
       "      <td>NaN</td>\n",
       "      <td>NaN</td>\n",
       "      <td>NaN</td>\n",
       "      <td>NaN</td>\n",
       "      <td>NaN</td>\n",
       "      <td>NaN</td>\n",
       "      <td>NaN</td>\n",
       "      <td>NaN</td>\n",
       "      <td>NaN</td>\n",
       "      <td>NaN</td>\n",
       "      <td>NaN</td>\n",
       "      <td>NaN</td>\n",
       "      <td>NaN</td>\n",
       "      <td>NaN</td>\n",
       "    </tr>\n",
       "    <tr>\n",
       "      <th>5</th>\n",
       "      <td>SP_PC:SLM_PPA</td>\n",
       "      <td>NaN</td>\n",
       "      <td>NaN</td>\n",
       "      <td>NaN</td>\n",
       "      <td>NaN</td>\n",
       "      <td>NaN</td>\n",
       "      <td>NaN</td>\n",
       "      <td>NaN</td>\n",
       "      <td>NaN</td>\n",
       "      <td>NaN</td>\n",
       "      <td>NaN</td>\n",
       "      <td>NaN</td>\n",
       "      <td>NaN</td>\n",
       "      <td>NaN</td>\n",
       "      <td>NaN</td>\n",
       "    </tr>\n",
       "    <tr>\n",
       "      <th>6</th>\n",
       "      <td>SP_PC:SO_BP</td>\n",
       "      <td>NaN</td>\n",
       "      <td>NaN</td>\n",
       "      <td>NaN</td>\n",
       "      <td>NaN</td>\n",
       "      <td>NaN</td>\n",
       "      <td>NaN</td>\n",
       "      <td>NaN</td>\n",
       "      <td>NaN</td>\n",
       "      <td>NaN</td>\n",
       "      <td>NaN</td>\n",
       "      <td>NaN</td>\n",
       "      <td>NaN</td>\n",
       "      <td>NaN</td>\n",
       "      <td>NaN</td>\n",
       "    </tr>\n",
       "    <tr>\n",
       "      <th>7</th>\n",
       "      <td>SP_PC:SR_SCA</td>\n",
       "      <td>NaN</td>\n",
       "      <td>NaN</td>\n",
       "      <td>NaN</td>\n",
       "      <td>NaN</td>\n",
       "      <td>NaN</td>\n",
       "      <td>NaN</td>\n",
       "      <td>NaN</td>\n",
       "      <td>NaN</td>\n",
       "      <td>NaN</td>\n",
       "      <td>NaN</td>\n",
       "      <td>NaN</td>\n",
       "      <td>NaN</td>\n",
       "      <td>NaN</td>\n",
       "      <td>NaN</td>\n",
       "    </tr>\n",
       "    <tr>\n",
       "      <th>8</th>\n",
       "      <td>SP_PC:SP_AA</td>\n",
       "      <td>NaN</td>\n",
       "      <td>NaN</td>\n",
       "      <td>NaN</td>\n",
       "      <td>NaN</td>\n",
       "      <td>NaN</td>\n",
       "      <td>NaN</td>\n",
       "      <td>NaN</td>\n",
       "      <td>NaN</td>\n",
       "      <td>NaN</td>\n",
       "      <td>NaN</td>\n",
       "      <td>NaN</td>\n",
       "      <td>NaN</td>\n",
       "      <td>NaN</td>\n",
       "      <td>NaN</td>\n",
       "    </tr>\n",
       "    <tr>\n",
       "      <th>9</th>\n",
       "      <td>SP_PC:SP_PC</td>\n",
       "      <td>0.02</td>\n",
       "      <td>3.00</td>\n",
       "      <td>NaN</td>\n",
       "      <td>NaN</td>\n",
       "      <td>148.50</td>\n",
       "      <td>0.02</td>\n",
       "      <td>0.50</td>\n",
       "      <td>0.02</td>\n",
       "      <td>671.0</td>\n",
       "      <td>5.0</td>\n",
       "      <td>17.0</td>\n",
       "      <td>0.10</td>\n",
       "      <td>0.60</td>\n",
       "      <td>1.22</td>\n",
       "    </tr>\n",
       "    <tr>\n",
       "      <th>10</th>\n",
       "      <td>SP_PC:SO_BS</td>\n",
       "      <td>0.50</td>\n",
       "      <td>4.12</td>\n",
       "      <td>NaN</td>\n",
       "      <td>NaN</td>\n",
       "      <td>148.50</td>\n",
       "      <td>0.09</td>\n",
       "      <td>0.23</td>\n",
       "      <td>0.09</td>\n",
       "      <td>410.0</td>\n",
       "      <td>11.0</td>\n",
       "      <td>10.0</td>\n",
       "      <td>0.10</td>\n",
       "      <td>1.65</td>\n",
       "      <td>0.28</td>\n",
       "    </tr>\n",
       "    <tr>\n",
       "      <th>11</th>\n",
       "      <td>SP_PC:SO_OLM</td>\n",
       "      <td>0.14</td>\n",
       "      <td>1.70</td>\n",
       "      <td>NaN</td>\n",
       "      <td>NaN</td>\n",
       "      <td>148.50</td>\n",
       "      <td>0.02</td>\n",
       "      <td>0.09</td>\n",
       "      <td>0.12</td>\n",
       "      <td>138.0</td>\n",
       "      <td>830.0</td>\n",
       "      <td>670.0</td>\n",
       "      <td>0.05</td>\n",
       "      <td>0.80</td>\n",
       "      <td>0.28</td>\n",
       "    </tr>\n",
       "  </tbody>\n",
       "</table>\n",
       "</div>"
      ],
      "text/plain": [
       "          connType  tau_r_AMPA  tau_d_AMPA  ...  Fac_std  gmax  NMDA_ratio\n",
       "0      SP_PC:SP_BS        0.50        4.12  ...     0.10  1.65        0.28\n",
       "1   SP_PC:SP_CCKBC        0.50        4.12  ...     0.40  3.50        0.86\n",
       "2     SP_PC:SP_Ivy        0.50        4.12  ...     0.40  2.30         NaN\n",
       "3    SP_PC:SP_PVBC        0.50        4.12  ...     0.05  2.00         NaN\n",
       "4     SP_PC:SO_Tri         NaN         NaN  ...      NaN   NaN         NaN\n",
       "5    SP_PC:SLM_PPA         NaN         NaN  ...      NaN   NaN         NaN\n",
       "6      SP_PC:SO_BP         NaN         NaN  ...      NaN   NaN         NaN\n",
       "7     SP_PC:SR_SCA         NaN         NaN  ...      NaN   NaN         NaN\n",
       "8      SP_PC:SP_AA         NaN         NaN  ...      NaN   NaN         NaN\n",
       "9      SP_PC:SP_PC        0.02        3.00  ...     0.10  0.60        1.22\n",
       "10     SP_PC:SO_BS        0.50        4.12  ...     0.10  1.65        0.28\n",
       "11    SP_PC:SO_OLM        0.14        1.70  ...     0.05  0.80        0.28\n",
       "\n",
       "[12 rows x 15 columns]"
      ]
     },
     "execution_count": 24,
     "metadata": {},
     "output_type": "execute_result"
    }
   ],
   "source": [
    "syndata_exc = pd.read_csv('/content/syndata_exc.csv')\n",
    "syndata_exc"
   ]
  },
  {
   "cell_type": "markdown",
   "metadata": {
    "id": "zii8Li2V97bQ"
   },
   "source": [
    "**Conversão da unidade do gmax:**"
   ]
  },
  {
   "cell_type": "code",
   "execution_count": null,
   "metadata": {
    "id": "PSSXjMlLwfa0"
   },
   "outputs": [],
   "source": [
    "#Weight conversion factor (from nS to uS)\n",
    "syndata_exc['gmax'] = syndata_exc['gmax']*0.001"
   ]
  },
  {
   "cell_type": "markdown",
   "metadata": {
    "id": "vajKS0NW9qqn"
   },
   "source": [
    "**Parâmetros Excitatórios:**"
   ]
  },
  {
   "cell_type": "code",
   "execution_count": null,
   "metadata": {
    "id": "SLM-ADWdj0lr"
   },
   "outputs": [],
   "source": [
    "exc_parameters = ['tau_r_AMPA', 'tau_d_AMPA', 'tau_r_NMDA', 'tau_d_NMDA', 'Use', 'Dep', 'Fac', 'gmax', 'NMDA_ratio']\n",
    "exc_values = [0.2, 1.7, 9.0, 61.0, 1.0, 100, 10, 0.001, 1.22]"
   ]
  },
  {
   "cell_type": "code",
   "execution_count": null,
   "metadata": {
    "id": "2MBmbKQtKoiX"
   },
   "outputs": [],
   "source": [
    "index = 0\n",
    "\n",
    "for exc_parameter in exc_parameters:\n",
    "  syndata_exc[exc_parameter] = syndata_exc[exc_parameter].fillna(exc_values[index])\n",
    "  index = index + 1"
   ]
  },
  {
   "cell_type": "code",
   "execution_count": null,
   "metadata": {
    "id": "HU0JdpWnujDT"
   },
   "outputs": [],
   "source": [
    "#syndata_exc = syndata_exc[exc_parameters]\n",
    "#syndata_exc"
   ]
  },
  {
   "cell_type": "code",
   "execution_count": null,
   "metadata": {
    "id": "Phs4sCr-2eox"
   },
   "outputs": [],
   "source": [
    "for pre in Epops:\n",
    "    for post in Mtypelist:\n",
    "        proj = '%s:%s' % (pre, post)\n",
    "\n",
    "        syndata_proj = syndata_exc[syndata_exc['connType'] == proj]\n",
    "\n",
    "\n",
    "        netParams.synMechParams[proj] = {'mod': 'DetAMPANMDA',\n",
    "                                         'tau_r_AMPA': float(syndata_proj['tau_r_AMPA']), \n",
    "                                         'tau_d_AMPA': float(syndata_proj['tau_d_AMPA']), \n",
    "                                         'tau_r_NMDA': float(syndata_proj['tau_r_NMDA']), \n",
    "                                         'tau_d_NMDA': float(syndata_proj['tau_d_NMDA']), \n",
    "                                         'Use': float(syndata_proj['Use']), \n",
    "                                         'Dep': float(syndata_proj['Dep']), \n",
    "                                         'Fac': float(syndata_proj['Fac']), \n",
    "                                         #'gmax': float(syndata_proj['gmax']), \n",
    "                                         'NMDA_ratio': float(syndata_proj['NMDA_ratio'])}"
   ]
  },
  {
   "cell_type": "code",
   "execution_count": null,
   "metadata": {
    "colab": {
     "base_uri": "https://localhost:8080/"
    },
    "id": "-_PCvuJurJb4",
    "outputId": "388134bf-9a92-4a07-df65-90476ada37aa"
   },
   "outputs": [
    {
     "data": {
      "text/plain": [
       "{'Dep': 138.0,\n",
       " 'Fac': 670.0,\n",
       " 'NMDA_ratio': 0.28,\n",
       " 'Use': 0.09,\n",
       " 'mod': 'DetAMPANMDA',\n",
       " 'tau_d_AMPA': 1.7,\n",
       " 'tau_d_NMDA': 148.5,\n",
       " 'tau_r_AMPA': 0.14,\n",
       " 'tau_r_NMDA': 9.0}"
      ]
     },
     "execution_count": 30,
     "metadata": {},
     "output_type": "execute_result"
    }
   ],
   "source": [
    "netParams.synMechParams['SP_PC:SO_OLM']"
   ]
  },
  {
   "cell_type": "markdown",
   "metadata": {
    "id": "_5sG7fcrpJ5j"
   },
   "source": [
    "**Parâmetros Inibitórios:**"
   ]
  },
  {
   "cell_type": "code",
   "execution_count": null,
   "metadata": {
    "colab": {
     "base_uri": "https://localhost:8080/",
     "height": 414
    },
    "id": "7YO25vfTpGNx",
    "outputId": "c2468139-9bbf-44d4-f7f3-4e6c65120238"
   },
   "outputs": [
    {
     "data": {
      "text/html": [
       "<div>\n",
       "<style scoped>\n",
       "    .dataframe tbody tr th:only-of-type {\n",
       "        vertical-align: middle;\n",
       "    }\n",
       "\n",
       "    .dataframe tbody tr th {\n",
       "        vertical-align: top;\n",
       "    }\n",
       "\n",
       "    .dataframe thead th {\n",
       "        text-align: right;\n",
       "    }\n",
       "</style>\n",
       "<table border=\"1\" class=\"dataframe\">\n",
       "  <thead>\n",
       "    <tr style=\"text-align: right;\">\n",
       "      <th></th>\n",
       "      <th>connType</th>\n",
       "      <th>tau_d_GABAA</th>\n",
       "      <th>tau_d_GABAA_std</th>\n",
       "      <th>Use</th>\n",
       "      <th>Use_std</th>\n",
       "      <th>Dep</th>\n",
       "      <th>Dep_std</th>\n",
       "      <th>Fac</th>\n",
       "      <th>Fac_std</th>\n",
       "      <th>gmax</th>\n",
       "      <th>gmax_std</th>\n",
       "      <th>Nrrp</th>\n",
       "      <th>s_type</th>\n",
       "      <th>type</th>\n",
       "    </tr>\n",
       "  </thead>\n",
       "  <tbody>\n",
       "    <tr>\n",
       "      <th>0</th>\n",
       "      <td>SP_BS:SP_BS</td>\n",
       "      <td>NaN</td>\n",
       "      <td>NaN</td>\n",
       "      <td>NaN</td>\n",
       "      <td>NaN</td>\n",
       "      <td>NaN</td>\n",
       "      <td>NaN</td>\n",
       "      <td>NaN</td>\n",
       "      <td>NaN</td>\n",
       "      <td>NaN</td>\n",
       "      <td>NaN</td>\n",
       "      <td>NaN</td>\n",
       "      <td>NaN</td>\n",
       "      <td>NaN</td>\n",
       "    </tr>\n",
       "    <tr>\n",
       "      <th>1</th>\n",
       "      <td>SP_BS:SP_CCKBC</td>\n",
       "      <td>NaN</td>\n",
       "      <td>NaN</td>\n",
       "      <td>NaN</td>\n",
       "      <td>NaN</td>\n",
       "      <td>NaN</td>\n",
       "      <td>NaN</td>\n",
       "      <td>NaN</td>\n",
       "      <td>NaN</td>\n",
       "      <td>NaN</td>\n",
       "      <td>NaN</td>\n",
       "      <td>NaN</td>\n",
       "      <td>NaN</td>\n",
       "      <td>NaN</td>\n",
       "    </tr>\n",
       "    <tr>\n",
       "      <th>2</th>\n",
       "      <td>SP_BS:SP_Ivy</td>\n",
       "      <td>NaN</td>\n",
       "      <td>NaN</td>\n",
       "      <td>NaN</td>\n",
       "      <td>NaN</td>\n",
       "      <td>NaN</td>\n",
       "      <td>NaN</td>\n",
       "      <td>NaN</td>\n",
       "      <td>NaN</td>\n",
       "      <td>NaN</td>\n",
       "      <td>NaN</td>\n",
       "      <td>NaN</td>\n",
       "      <td>NaN</td>\n",
       "      <td>NaN</td>\n",
       "    </tr>\n",
       "    <tr>\n",
       "      <th>3</th>\n",
       "      <td>SP_BS:SP_PVBC</td>\n",
       "      <td>NaN</td>\n",
       "      <td>NaN</td>\n",
       "      <td>NaN</td>\n",
       "      <td>NaN</td>\n",
       "      <td>NaN</td>\n",
       "      <td>NaN</td>\n",
       "      <td>NaN</td>\n",
       "      <td>NaN</td>\n",
       "      <td>NaN</td>\n",
       "      <td>NaN</td>\n",
       "      <td>NaN</td>\n",
       "      <td>NaN</td>\n",
       "      <td>NaN</td>\n",
       "    </tr>\n",
       "    <tr>\n",
       "      <th>4</th>\n",
       "      <td>SP_BS:SO_Tri</td>\n",
       "      <td>NaN</td>\n",
       "      <td>NaN</td>\n",
       "      <td>NaN</td>\n",
       "      <td>NaN</td>\n",
       "      <td>NaN</td>\n",
       "      <td>NaN</td>\n",
       "      <td>NaN</td>\n",
       "      <td>NaN</td>\n",
       "      <td>NaN</td>\n",
       "      <td>NaN</td>\n",
       "      <td>NaN</td>\n",
       "      <td>NaN</td>\n",
       "      <td>NaN</td>\n",
       "    </tr>\n",
       "    <tr>\n",
       "      <th>...</th>\n",
       "      <td>...</td>\n",
       "      <td>...</td>\n",
       "      <td>...</td>\n",
       "      <td>...</td>\n",
       "      <td>...</td>\n",
       "      <td>...</td>\n",
       "      <td>...</td>\n",
       "      <td>...</td>\n",
       "      <td>...</td>\n",
       "      <td>...</td>\n",
       "      <td>...</td>\n",
       "      <td>...</td>\n",
       "      <td>...</td>\n",
       "      <td>...</td>\n",
       "    </tr>\n",
       "    <tr>\n",
       "      <th>127</th>\n",
       "      <td>SO_OLM:SR_SCA</td>\n",
       "      <td>NaN</td>\n",
       "      <td>NaN</td>\n",
       "      <td>NaN</td>\n",
       "      <td>NaN</td>\n",
       "      <td>NaN</td>\n",
       "      <td>NaN</td>\n",
       "      <td>NaN</td>\n",
       "      <td>NaN</td>\n",
       "      <td>NaN</td>\n",
       "      <td>NaN</td>\n",
       "      <td>NaN</td>\n",
       "      <td>NaN</td>\n",
       "      <td>NaN</td>\n",
       "    </tr>\n",
       "    <tr>\n",
       "      <th>128</th>\n",
       "      <td>SO_OLM:SP_AA</td>\n",
       "      <td>NaN</td>\n",
       "      <td>NaN</td>\n",
       "      <td>NaN</td>\n",
       "      <td>NaN</td>\n",
       "      <td>NaN</td>\n",
       "      <td>NaN</td>\n",
       "      <td>NaN</td>\n",
       "      <td>NaN</td>\n",
       "      <td>NaN</td>\n",
       "      <td>NaN</td>\n",
       "      <td>NaN</td>\n",
       "      <td>NaN</td>\n",
       "      <td>NaN</td>\n",
       "    </tr>\n",
       "    <tr>\n",
       "      <th>129</th>\n",
       "      <td>SO_OLM:SP_PC</td>\n",
       "      <td>8.3</td>\n",
       "      <td>2.2</td>\n",
       "      <td>0.3</td>\n",
       "      <td>0.08</td>\n",
       "      <td>1250.0</td>\n",
       "      <td>520.0</td>\n",
       "      <td>2.0</td>\n",
       "      <td>4.0</td>\n",
       "      <td>1.4</td>\n",
       "      <td>0.3</td>\n",
       "      <td>1.0</td>\n",
       "      <td>I2</td>\n",
       "      <td>IE</td>\n",
       "    </tr>\n",
       "    <tr>\n",
       "      <th>130</th>\n",
       "      <td>SO_OLM:SO_BS</td>\n",
       "      <td>NaN</td>\n",
       "      <td>NaN</td>\n",
       "      <td>NaN</td>\n",
       "      <td>NaN</td>\n",
       "      <td>NaN</td>\n",
       "      <td>NaN</td>\n",
       "      <td>NaN</td>\n",
       "      <td>NaN</td>\n",
       "      <td>NaN</td>\n",
       "      <td>NaN</td>\n",
       "      <td>NaN</td>\n",
       "      <td>NaN</td>\n",
       "      <td>NaN</td>\n",
       "    </tr>\n",
       "    <tr>\n",
       "      <th>131</th>\n",
       "      <td>SO_OLM:SO_OLM</td>\n",
       "      <td>NaN</td>\n",
       "      <td>NaN</td>\n",
       "      <td>NaN</td>\n",
       "      <td>NaN</td>\n",
       "      <td>NaN</td>\n",
       "      <td>NaN</td>\n",
       "      <td>NaN</td>\n",
       "      <td>NaN</td>\n",
       "      <td>NaN</td>\n",
       "      <td>NaN</td>\n",
       "      <td>NaN</td>\n",
       "      <td>NaN</td>\n",
       "      <td>NaN</td>\n",
       "    </tr>\n",
       "  </tbody>\n",
       "</table>\n",
       "<p>132 rows × 14 columns</p>\n",
       "</div>"
      ],
      "text/plain": [
       "           connType  tau_d_GABAA  tau_d_GABAA_std  ...  Nrrp  s_type  type\n",
       "0       SP_BS:SP_BS          NaN              NaN  ...   NaN     NaN   NaN\n",
       "1    SP_BS:SP_CCKBC          NaN              NaN  ...   NaN     NaN   NaN\n",
       "2      SP_BS:SP_Ivy          NaN              NaN  ...   NaN     NaN   NaN\n",
       "3     SP_BS:SP_PVBC          NaN              NaN  ...   NaN     NaN   NaN\n",
       "4      SP_BS:SO_Tri          NaN              NaN  ...   NaN     NaN   NaN\n",
       "..              ...          ...              ...  ...   ...     ...   ...\n",
       "127   SO_OLM:SR_SCA          NaN              NaN  ...   NaN     NaN   NaN\n",
       "128    SO_OLM:SP_AA          NaN              NaN  ...   NaN     NaN   NaN\n",
       "129    SO_OLM:SP_PC          8.3              2.2  ...   1.0      I2    IE\n",
       "130    SO_OLM:SO_BS          NaN              NaN  ...   NaN     NaN   NaN\n",
       "131   SO_OLM:SO_OLM          NaN              NaN  ...   NaN     NaN   NaN\n",
       "\n",
       "[132 rows x 14 columns]"
      ]
     },
     "execution_count": 31,
     "metadata": {},
     "output_type": "execute_result"
    }
   ],
   "source": [
    "syndata_inh = pd.read_csv('/content/syndata_inh.csv')\n",
    "syndata_inh"
   ]
  },
  {
   "cell_type": "code",
   "execution_count": null,
   "metadata": {
    "id": "u7R0MgI3pGMT"
   },
   "outputs": [],
   "source": [
    "#Weight conversion factor (from nS to uS)\n",
    "syndata_inh['gmax'] = syndata_inh['gmax']*0.001"
   ]
  },
  {
   "cell_type": "code",
   "execution_count": null,
   "metadata": {
    "id": "ryqk4ULKuZMa"
   },
   "outputs": [],
   "source": [
    "inh_parameters =  ['tau_d_GABAA', 'Use', 'Dep', 'Fac', 'gmax']\n",
    "inh_values = [8, 1.0, 100, 10, 0.001]"
   ]
  },
  {
   "cell_type": "code",
   "execution_count": null,
   "metadata": {
    "id": "A4Diaezlu26F"
   },
   "outputs": [],
   "source": [
    "index = 0\n",
    "\n",
    "for inh_parameter in inh_parameters:\n",
    "  syndata_inh[inh_parameter] = syndata_inh[inh_parameter].fillna(inh_values[index])\n",
    "  index = index + 1"
   ]
  },
  {
   "cell_type": "code",
   "execution_count": null,
   "metadata": {
    "id": "DYSNjkxQrgc4"
   },
   "outputs": [],
   "source": [
    "for pre in Ipops:\n",
    "    for post in Mtypelist:\n",
    "        proj = '%s:%s' % (pre, post)\n",
    "\n",
    "        syndata_proj = syndata_inh[syndata_inh['connType'] == proj]\n",
    "\n",
    "\n",
    "        netParams.synMechParams[proj] = {'mod': 'DetGABAAB',\n",
    "                                         'tau_d_GABAA': float(syndata_proj['tau_d_GABAA']), #MEXER AQUI\n",
    "                                         'Use': float(syndata_proj['Use']), \n",
    "                                         'Dep': float(syndata_proj['Dep']), \n",
    "                                         'Fac': float(syndata_proj['Fac']) \n",
    "                                         #'gmax': float(syndata_proj['gmax'])\n",
    "                                         }"
   ]
  },
  {
   "cell_type": "code",
   "execution_count": null,
   "metadata": {
    "id": "VxNsIbpdLkKa"
   },
   "outputs": [],
   "source": [
    "netParams.synMechParams['OLM_PC']={'mod':'DetGABAAB', \n",
    "                                   'tau_d_GABAA':8.3, 'e_GABAA':-75.0,\n",
    "                                   'Use': 0.3, \n",
    "                                   'Dep': 1250.0, \n",
    "                                   'Fac': 2, 'GABAB_ratio': 0} "
   ]
  },
  {
   "cell_type": "code",
   "execution_count": null,
   "metadata": {
    "colab": {
     "base_uri": "https://localhost:8080/"
    },
    "id": "Uc581GsJLtr_",
    "outputId": "48f5a51c-56df-45b8-c893-5792948adea8"
   },
   "outputs": [
    {
     "data": {
      "text/plain": [
       "{'Dep': 1250.0,\n",
       " 'Fac': 2,\n",
       " 'GABAB_ratio': 0,\n",
       " 'Use': 0.3,\n",
       " 'e_GABAA': -75.0,\n",
       " 'mod': 'DetGABAAB',\n",
       " 'tau_d_GABAA': 8.3}"
      ]
     },
     "execution_count": 59,
     "metadata": {},
     "output_type": "execute_result"
    }
   ],
   "source": [
    "netParams.synMechParams['OLM_PC']"
   ]
  },
  {
   "cell_type": "code",
   "execution_count": null,
   "metadata": {
    "colab": {
     "base_uri": "https://localhost:8080/"
    },
    "id": "WpK9imQxuO66",
    "outputId": "b4272a03-9f62-41a7-f10c-f315d90ee71d"
   },
   "outputs": [
    {
     "data": {
      "text/plain": [
       "{'Dep': 1250.0,\n",
       " 'Fac': 2.0,\n",
       " 'Use': 0.3,\n",
       " 'mod': 'DetGABAAB.mod',\n",
       " 'tau_d_GABAA': 8.3}"
      ]
     },
     "execution_count": 45,
     "metadata": {},
     "output_type": "execute_result"
    }
   ],
   "source": [
    "netParams.synMechParams['SO_OLM:SP_PC']"
   ]
  },
  {
   "cell_type": "markdown",
   "metadata": {
    "id": "5XzuHiZCRQJf"
   },
   "source": [
    "#Network"
   ]
  },
  {
   "cell_type": "code",
   "execution_count": null,
   "metadata": {
    "id": "C1Pdxbp-RPSh"
   },
   "outputs": [],
   "source": []
  },
  {
   "cell_type": "code",
   "execution_count": null,
   "metadata": {
    "id": "HMtljilXZiYp"
   },
   "outputs": [],
   "source": [
    "#------------------------------------------------------------------------------\n",
    "#\tNETWORK CONNECTIONS\t\n",
    "#------------------------------------------------------------------------------\n",
    "\n",
    "##EXC\n",
    "#for pre in ['SP_PC_cACpyr']:\n",
    "#\tfor post in ['SO_OLM_cAC']:\n",
    "#\t\tnetParams.connParams[pre + '->' + post] = {\n",
    "#\t\t\t'preConds': {'pop': pre},\n",
    "#\t\t\t'postConds': {'pop': post},\n",
    "#\t\t\t# 'sec': postsynDict[postsynList[i]],\n",
    "#\t\t\t'synsPerConn': 2,\n",
    "#\t\t\t'synMech': 'SP_PC:SO_OLM',\n",
    "#\t\t\t'weight': 1.5,\n",
    "#\t\t\t'delay': 0.5\n",
    "#\t\t\t}\n",
    "#\t\tif post=='SP_PC_cACpyr_mc2_0':\n",
    "#\t\t\tnetParams.connParams[pre + '->' + post]['synMech'] = 'SP_PC:SP_PC'\n",
    "\n",
    "##INH\n",
    "for pre in ['SO_OLM_cAC']:\n",
    "\tfor post in ['SP_PC_cACpyr']:\n",
    "\t\tnetParams.connParams[pre + '->' + post] = {\n",
    "\t\t\t'preConds': {'pop': pre},\n",
    "\t\t\t'postConds': {'pop': post},\n",
    "\t\t\t# 'sec': postsynDict[postsynList[i]],\n",
    "\t\t\t'synsPerConn': 8,\n",
    "\t\t\t'synMech': 'SO_OLM:SP_PC',\n",
    "\t\t\t'weight': 1.5,\n",
    "\t\t\t'delay': 0.5\n",
    "\t\t\t}"
   ]
  },
  {
   "cell_type": "code",
   "execution_count": null,
   "metadata": {
    "id": "awK7JSsOSE5u"
   },
   "outputs": [],
   "source": [
    "# Options\n",
    "durationstim = 800.0\n",
    "delaystim = 100.0\n",
    "timesimulation = 1000.0\n",
    "ampstim =  [-0.8, -0.6, -0.2, 0.2 ,0.4, 0.6 , 0.8, 1.0]\n",
    "step_number = 6\n",
    "netParams.stimSourceParams['Input'] = {'type': 'IClamp', 'del': delaystim, 'dur': durationstim, 'amp': ampstim[step_number]}\n",
    "\n",
    "netParams.stimTargetParams['Input->all'] = {'source': 'Input', 'sec':'soma', 'loc': 0.5, 'conds': {'pop':'SO_OLM_cAC'}}"
   ]
  },
  {
   "cell_type": "code",
   "execution_count": null,
   "metadata": {
    "id": "EYQaXuYSSE5u"
   },
   "outputs": [],
   "source": [
    "## cfg  \n",
    "cfg = specs.SimConfig()\t\t\t\t\t            # object of class SimConfig to store simulation configuration\n",
    "cfg.duration = timesimulation \t\t\t\t\t\t            # Duration of the simulation, in ms\n",
    "cfg.dt = 0.01\t\t\t\t\t\t\t\t                # Internal integration timestep to use\n",
    "cfg.verbose = False\t\t\t\t\t\t\t                # Show detailed messages \n",
    "cfg.recordTraces = {'V_soma':{'sec':'soma','loc':0.5,'var':'v'}}  # Dict with traces to record\n",
    "cfg.recordStep = 0.01 \t\t\t\n",
    "cfg.filename = 'model_inh'  \t\t\t# Set file output name\n",
    "cfg.saveJson = False\n",
    "cfg.analysis['plotTraces'] = {'include': [0, 1], 'timeRange': [0,1000], 'saveFig': True, 'showFig': True, 'figSize':(12,4)} # , 'ylim': [-90,30] Plot recorded traces for this list of cells\n",
    "# cfg.analysis['plotShape'] = {'includePre': [0, 1],'includePre': [0, 1], 'saveFig': True, 'showFig': True, 'figSize':(12,12)}\n",
    "cfg.hParams['celsius'] = 34.0"
   ]
  },
  {
   "cell_type": "code",
   "execution_count": null,
   "metadata": {
    "colab": {
     "base_uri": "https://localhost:8080/"
    },
    "id": "t6sL9GzsSE5v",
    "outputId": "adf77ecc-4648-4f64-f111-0ff459b008a1"
   },
   "outputs": [
    {
     "name": "stdout",
     "output_type": "stream",
     "text": [
      "\n",
      "Start time:  2021-09-15 16:16:59.221758\n"
     ]
    },
    {
     "data": {
      "text/plain": [
       "ODict([('SP_PC_cACpyr', <netpyne.network.pop.Pop at 0x7fe3be13ead0>),\n",
       "       ('SO_OLM_cAC', <netpyne.network.pop.Pop at 0x7fe3be13e750>)])"
      ]
     },
     "execution_count": 39,
     "metadata": {},
     "output_type": "execute_result"
    }
   ],
   "source": [
    "sim.initialize(\n",
    "    simConfig = cfg, \t\n",
    "    netParams = netParams)  \t\t\t\t# create network object and set cfg and net params\n",
    "sim.net.createPops()               \t\t\t# instantiate network populations"
   ]
  },
  {
   "cell_type": "code",
   "execution_count": null,
   "metadata": {
    "colab": {
     "base_uri": "https://localhost:8080/"
    },
    "id": "SHsYLyYESE5v",
    "outputId": "9eb0d181-c7c1-4c02-d5ce-8a67afab7184"
   },
   "outputs": [
    {
     "name": "stdout",
     "output_type": "stream",
     "text": [
      "\n",
      "Creating network of 2 cell populations on 1 hosts...\n",
      "  Number of cells on node 0: 2 \n",
      "  Done; cell creation time = 0.32 s.\n"
     ]
    },
    {
     "data": {
      "text/plain": [
       "[compartCell_SP_PC_cACpyr_mc1_2_HH_full_0,\n",
       " compartCell_SO_OLM_cAC_mc5_HH_full_1]"
      ]
     },
     "execution_count": 40,
     "metadata": {},
     "output_type": "execute_result"
    }
   ],
   "source": [
    "sim.net.createCells()              \t\t\t# instantiate network cells based on defined populations"
   ]
  },
  {
   "cell_type": "code",
   "execution_count": null,
   "metadata": {
    "colab": {
     "base_uri": "https://localhost:8080/"
    },
    "id": "1Y2aVIEtSE5v",
    "outputId": "a542ddf5-0082-4b9b-f563-c3d6503ca6b9",
    "scrolled": true
   },
   "outputs": [
    {
     "name": "stdout",
     "output_type": "stream",
     "text": [
      "Making connections...\n",
      "  Number of connections on node 0: 1 \n",
      "  Number of synaptic contacts on node 0: 8 \n",
      "  Done; cell connection time = 0.00 s.\n"
     ]
    },
    {
     "data": {
      "text/plain": [
       "[[{preGid: 1, sec: 'soma', loc: 0.0625, synMech: 'SO_OLM:SP_PC', weight: 1.5, delay: 0.5, label: 'SO_OLM_cAC->SP_PC_cACpyr', hObj: NetCon[0]},\n",
       "  {preGid: 1, sec: 'soma', loc: 0.1875, synMech: 'SO_OLM:SP_PC', weight: 1.5, delay: 0.5, label: 'SO_OLM_cAC->SP_PC_cACpyr', hObj: NetCon[1]},\n",
       "  {preGid: 1, sec: 'soma', loc: 0.3125, synMech: 'SO_OLM:SP_PC', weight: 1.5, delay: 0.5, label: 'SO_OLM_cAC->SP_PC_cACpyr', hObj: NetCon[2]},\n",
       "  {preGid: 1, sec: 'soma', loc: 0.4375, synMech: 'SO_OLM:SP_PC', weight: 1.5, delay: 0.5, label: 'SO_OLM_cAC->SP_PC_cACpyr', hObj: NetCon[3]},\n",
       "  {preGid: 1, sec: 'soma', loc: 0.5625, synMech: 'SO_OLM:SP_PC', weight: 1.5, delay: 0.5, label: 'SO_OLM_cAC->SP_PC_cACpyr', hObj: NetCon[4]},\n",
       "  {preGid: 1, sec: 'soma', loc: 0.6875, synMech: 'SO_OLM:SP_PC', weight: 1.5, delay: 0.5, label: 'SO_OLM_cAC->SP_PC_cACpyr', hObj: NetCon[5]},\n",
       "  {preGid: 1, sec: 'soma', loc: 0.8125, synMech: 'SO_OLM:SP_PC', weight: 1.5, delay: 0.5, label: 'SO_OLM_cAC->SP_PC_cACpyr', hObj: NetCon[6]},\n",
       "  {preGid: 1, sec: 'soma', loc: 0.9375, synMech: 'SO_OLM:SP_PC', weight: 1.5, delay: 0.5, label: 'SO_OLM_cAC->SP_PC_cACpyr', hObj: NetCon[7]}],\n",
       " []]"
      ]
     },
     "execution_count": 41,
     "metadata": {},
     "output_type": "execute_result"
    }
   ],
   "source": [
    "sim.net.connectCells()            \t\t\t# create connections between cells based on params"
   ]
  },
  {
   "cell_type": "code",
   "execution_count": null,
   "metadata": {
    "colab": {
     "base_uri": "https://localhost:8080/"
    },
    "id": "ftDyCaAOSE5w",
    "outputId": "b9bc7076-3517-42ae-d249-1348ffe43a51"
   },
   "outputs": [
    {
     "name": "stdout",
     "output_type": "stream",
     "text": [
      "Adding stims...\n",
      "  Number of stims on node 0: 1 \n",
      "  Done; cell stims creation time = 0.00 s.\n"
     ]
    },
    {
     "data": {
      "text/plain": [
       "[[],\n",
       " [{label: 'Input->all', source: 'Input', sec: 'soma', loc: 0.5, type: 'IClamp', del: 100.0, dur: 800.0, amp: 0.8, hObj: IClamp[0]}]]"
      ]
     },
     "execution_count": 42,
     "metadata": {},
     "output_type": "execute_result"
    }
   ],
   "source": [
    "sim.net.addStims() \t\t\t\t\t\t\t# add network stimulation"
   ]
  },
  {
   "cell_type": "code",
   "execution_count": null,
   "metadata": {
    "colab": {
     "base_uri": "https://localhost:8080/"
    },
    "id": "h1myIFRGSE5w",
    "outputId": "7bc10dc0-f6db-484a-dc59-0c0e3850ddc5"
   },
   "outputs": [
    {
     "name": "stdout",
     "output_type": "stream",
     "text": [
      "Recording 2 traces of 1 types on node 0\n"
     ]
    },
    {
     "data": {
      "text/plain": [
       "{spkt: Vector[22106], spkid: Vector[22107], V_soma: {cell_0: Vector[22108], cell_1: Vector[22109]}, t: Vector[22110], _repr_mimebundle_: {}}"
      ]
     },
     "execution_count": 43,
     "metadata": {},
     "output_type": "execute_result"
    }
   ],
   "source": [
    "sim.setupRecording()              \t\t\t# setup variables to record for each cell (spikes, V traces, etc)"
   ]
  },
  {
   "cell_type": "code",
   "execution_count": null,
   "metadata": {
    "colab": {
     "base_uri": "https://localhost:8080/"
    },
    "id": "pEQelNXkSE5w",
    "outputId": "7c6bf2b1-8094-4a2a-cdfc-54f203de0649"
   },
   "outputs": [
    {
     "name": "stdout",
     "output_type": "stream",
     "text": [
      "\n",
      "Running simulation for 1000.0 ms...\n",
      "  Done; run time = 626.28 s; real-time ratio: 0.00.\n"
     ]
    }
   ],
   "source": [
    "sim.runSim()                      \t\t\t# run parallel Neuron simulation  "
   ]
  },
  {
   "cell_type": "code",
   "execution_count": null,
   "metadata": {
    "colab": {
     "base_uri": "https://localhost:8080/"
    },
    "id": "av5mw2KzSE5w",
    "outputId": "e6d07582-a979-4135-966b-cb3a1c6dd2b6",
    "scrolled": false
   },
   "outputs": [
    {
     "name": "stdout",
     "output_type": "stream",
     "text": [
      "\n",
      "Gathering data...\n",
      "  Done; gather time = 0.39 s.\n",
      "\n",
      "Analyzing...\n",
      "  Cells: 2\n",
      "  Connections: 1 (0.50 per cell)\n",
      "  Synaptic contacts: 8 (4.00 per cell)\n",
      "  Spikes: 15 (7.50 Hz)\n",
      "  Simulated time: 1.0 s; 1 workers\n",
      "  Run time: 737.56 s\n"
     ]
    }
   ],
   "source": [
    "sim.gatherData();                  \t\t\t# gather spiking data and cell info from each node"
   ]
  },
  {
   "cell_type": "code",
   "execution_count": null,
   "metadata": {
    "colab": {
     "base_uri": "https://localhost:8080/",
     "height": 702
    },
    "id": "UxtUnM5ySE5x",
    "outputId": "1e13aaf6-2799-49c1-b906-a7a49e77a994"
   },
   "outputs": [
    {
     "name": "stdout",
     "output_type": "stream",
     "text": [
      "  Done; saving time = 0.03 s.\n",
      "Plotting recorded cell traces ... cell\n"
     ]
    },
    {
     "data": {
      "image/png": "[encoded data removed]",
      "text/plain": [
       "<Figure size 864x288 with 1 Axes>"
      ]
     },
     "metadata": {},
     "output_type": "display_data"
    },
    {
     "data": {
      "image/png": "[encoded data removed]",
      "text/plain": [
       "<Figure size 864x288 with 1 Axes>"
      ]
     },
     "metadata": {},
     "output_type": "display_data"
    },
    {
     "name": "stdout",
     "output_type": "stream",
     "text": [
      "  Done; plotting time = 0.74 s\n",
      "\n",
      "Total time = 808.16 s\n",
      "\n",
      "End time:  2021-09-15 14:22:54.884569\n"
     ]
    }
   ],
   "source": [
    "sim.saveData()                    \t\t\t# save params, cell info and sim output to file (pickle,mat,txt,etc)#\n",
    "sim.analysis.plotData()         \t\t\t# plot spike raster etc"
   ]
  },
  {
   "cell_type": "code",
   "execution_count": null,
   "metadata": {
    "colab": {
     "base_uri": "https://localhost:8080/",
     "height": 686
    },
    "id": "UxEHGMtmSE5x",
    "outputId": "db16b4c0-f14c-4e70-8aec-03f07f8f6dcf"
   },
   "outputs": [
    {
     "name": "stdout",
     "output_type": "stream",
     "text": [
      "Plotting connectivity matrix...\n"
     ]
    },
    {
     "data": {
      "image/png": "[encoded data removed]",
      "text/plain": [
       "<Figure size 576x576 with 2 Axes>"
      ]
     },
     "metadata": {},
     "output_type": "display_data"
    },
    {
     "data": {
      "text/plain": [
       "(<Figure size 576x576 with 2 Axes>, {'connMatrix': array([[ 0.,  0., -0.],\n",
       "         [96.,  0., -0.],\n",
       "         [ 0.,  0.,  0.]]),\n",
       "  'feature': 'strength',\n",
       "  'groupBy': 'pop',\n",
       "  'includePost': ['all'],\n",
       "  'includePre': ['all']})"
      ]
     },
     "execution_count": 47,
     "metadata": {},
     "output_type": "execute_result"
    }
   ],
   "source": [
    "sim.analysis.plotConn(graphType='matrix', saveFig=True)"
   ]
  },
  {
   "cell_type": "code",
   "execution_count": null,
   "metadata": {
    "colab": {
     "base_uri": "https://localhost:8080/",
     "height": 880
    },
    "id": "GAKTsysQrUI_",
    "outputId": "5a749219-abc4-43f1-fb57-7900c89a3a4c"
   },
   "outputs": [
    {
     "name": "stdout",
     "output_type": "stream",
     "text": [
      "Plotting 2D representation of network cell locations and connections...\n"
     ]
    },
    {
     "data": {
      "image/png": "[encoded data removed]",
      "text/plain": [
       "<Figure size 864x864 with 1 Axes>"
      ]
     },
     "metadata": {},
     "output_type": "display_data"
    },
    {
     "data": {
      "text/plain": [
       "(<Figure size 864x864 with 1 Axes>,\n",
       " {'include': ['allCells'],\n",
       "  'posX': [35.83531143706401, 95.00422943499773],\n",
       "  'posXpost': 35.83531143706401,\n",
       "  'posXpre': 95.00422943499773,\n",
       "  'posY': [39.84944342173416, 84.98437598231612],\n",
       "  'posYpost': 39.84944342173416,\n",
       "  'posYpre': 84.98437598231612})"
      ]
     },
     "execution_count": 48,
     "metadata": {},
     "output_type": "execute_result"
    }
   ],
   "source": [
    "sim.analysis.plot2Dnet(showConns=True, saveFig=True)"
   ]
  }
 ],
 "metadata": {
  "colab": {
   "collapsed_sections": [],
   "name": "ca1_table.ipynb",
   "version": ""
  },
  "kernelspec": {
   "display_name": "Python 3 (ipykernel)",
   "language": "python",
   "name": "python3"
  },
  "language_info": {
   "codemirror_mode": {
    "name": "ipython",
    "version": 3
   },
   "file_extension": ".py",
   "mimetype": "text/x-python",
   "name": "python",
   "nbconvert_exporter": "python",
   "pygments_lexer": "ipython3",
   "version": "3.7.11"
  }
 },
 "nbformat": 4,
 "nbformat_minor": 1
}
