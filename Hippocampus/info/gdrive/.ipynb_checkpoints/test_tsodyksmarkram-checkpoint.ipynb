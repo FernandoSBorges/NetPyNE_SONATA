{
 "cells": [
  {
   "cell_type": "markdown",
   "metadata": {
    "id": "nkTEXrlYxJ5u"
   },
   "source": [
    "#Importar bibliotecas"
   ]
  },
  {
   "cell_type": "code",
   "execution_count": 1,
   "metadata": {
    "executionInfo": {
     "elapsed": 225,
     "status": "ok",
     "timestamp": 1632533801910,
     "user": {
      "displayName": "Fernando Borges",
      "photoUrl": "https://lh3.googleusercontent.com/a-/AOh14GjmnOv5Ub_NRxuhRL5o0txWMXjifczY9_5VpuxcpQ=s64",
      "userId": "10661481794494853642"
     },
     "user_tz": 180
    },
    "id": "z6yuWcywHUy6"
   },
   "outputs": [],
   "source": [
    "import os\n",
    "from google.colab import drive"
   ]
  },
  {
   "cell_type": "code",
   "execution_count": 2,
   "metadata": {
    "colab": {
     "base_uri": "https://localhost:8080/"
    },
    "executionInfo": {
     "elapsed": 29679,
     "status": "ok",
     "timestamp": 1632533833431,
     "user": {
      "displayName": "Fernando Borges",
      "photoUrl": "https://lh3.googleusercontent.com/a-/AOh14GjmnOv5Ub_NRxuhRL5o0txWMXjifczY9_5VpuxcpQ=s64",
      "userId": "10661481794494853642"
     },
     "user_tz": 180
    },
    "id": "2htUai_sHcUX",
    "outputId": "59fe99a0-d814-4b51-ef96-14a8cdf25dd3"
   },
   "outputs": [
    {
     "name": "stdout",
     "output_type": "stream",
     "text": [
      "Mounted at /content/gdrive\n"
     ]
    }
   ],
   "source": [
    "drive.mount('/content/gdrive')"
   ]
  },
  {
   "cell_type": "code",
   "execution_count": 3,
   "metadata": {
    "colab": {
     "base_uri": "https://localhost:8080/"
    },
    "executionInfo": {
     "elapsed": 34111,
     "status": "ok",
     "timestamp": 1632533867536,
     "user": {
      "displayName": "Fernando Borges",
      "photoUrl": "https://lh3.googleusercontent.com/a-/AOh14GjmnOv5Ub_NRxuhRL5o0txWMXjifczY9_5VpuxcpQ=s64",
      "userId": "10661481794494853642"
     },
     "user_tz": 180
    },
    "id": "j7OfKWy-Hx3Z",
    "outputId": "69984cf4-82b1-4fe4-d076-134b6ccc5887"
   },
   "outputs": [
    {
     "name": "stdout",
     "output_type": "stream",
     "text": [
      "Collecting neuron\n",
      "  Downloading NEURON-8.0.0-cp37-cp37m-manylinux1_x86_64.whl (12.6 MB)\n",
      "\u001b[K     |████████████████████████████████| 12.6 MB 222 kB/s \n",
      "\u001b[?25hRequirement already satisfied: numpy>=1.9.3 in /usr/local/lib/python3.7/dist-packages (from neuron) (1.19.5)\n",
      "Installing collected packages: neuron\n",
      "Successfully installed neuron-8.0.0\n",
      "Collecting netpyne\n",
      "  Downloading netpyne-1.0.0.2-py2.py3-none-any.whl (312 kB)\n",
      "\u001b[K     |████████████████████████████████| 312 kB 28.1 MB/s \n",
      "\u001b[?25hRequirement already satisfied: pandas in /usr/local/lib/python3.7/dist-packages (from netpyne) (1.1.5)\n",
      "Requirement already satisfied: future in /usr/local/lib/python3.7/dist-packages (from netpyne) (0.16.0)\n",
      "Requirement already satisfied: matplotlib in /usr/local/lib/python3.7/dist-packages (from netpyne) (3.2.2)\n",
      "Requirement already satisfied: numpy in /usr/local/lib/python3.7/dist-packages (from netpyne) (1.19.5)\n",
      "Requirement already satisfied: scipy in /usr/local/lib/python3.7/dist-packages (from netpyne) (1.4.1)\n",
      "Requirement already satisfied: bokeh in /usr/local/lib/python3.7/dist-packages (from netpyne) (2.3.3)\n",
      "Collecting matplotlib-scalebar\n",
      "  Downloading matplotlib_scalebar-0.7.2-py2.py3-none-any.whl (17 kB)\n",
      "Requirement already satisfied: Jinja2>=2.9 in /usr/local/lib/python3.7/dist-packages (from bokeh->netpyne) (2.11.3)\n",
      "Requirement already satisfied: PyYAML>=3.10 in /usr/local/lib/python3.7/dist-packages (from bokeh->netpyne) (3.13)\n",
      "Requirement already satisfied: typing-extensions>=3.7.4 in /usr/local/lib/python3.7/dist-packages (from bokeh->netpyne) (3.7.4.3)\n",
      "Requirement already satisfied: pillow>=7.1.0 in /usr/local/lib/python3.7/dist-packages (from bokeh->netpyne) (7.1.2)\n",
      "Requirement already satisfied: python-dateutil>=2.1 in /usr/local/lib/python3.7/dist-packages (from bokeh->netpyne) (2.8.2)\n",
      "Requirement already satisfied: packaging>=16.8 in /usr/local/lib/python3.7/dist-packages (from bokeh->netpyne) (21.0)\n",
      "Requirement already satisfied: tornado>=5.1 in /usr/local/lib/python3.7/dist-packages (from bokeh->netpyne) (5.1.1)\n",
      "Requirement already satisfied: MarkupSafe>=0.23 in /usr/local/lib/python3.7/dist-packages (from Jinja2>=2.9->bokeh->netpyne) (2.0.1)\n",
      "Requirement already satisfied: pyparsing>=2.0.2 in /usr/local/lib/python3.7/dist-packages (from packaging>=16.8->bokeh->netpyne) (2.4.7)\n",
      "Requirement already satisfied: six>=1.5 in /usr/local/lib/python3.7/dist-packages (from python-dateutil>=2.1->bokeh->netpyne) (1.15.0)\n",
      "Requirement already satisfied: kiwisolver>=1.0.1 in /usr/local/lib/python3.7/dist-packages (from matplotlib->netpyne) (1.3.2)\n",
      "Requirement already satisfied: cycler>=0.10 in /usr/local/lib/python3.7/dist-packages (from matplotlib->netpyne) (0.10.0)\n",
      "Requirement already satisfied: pytz>=2017.2 in /usr/local/lib/python3.7/dist-packages (from pandas->netpyne) (2018.9)\n",
      "Installing collected packages: matplotlib-scalebar, netpyne\n",
      "Successfully installed matplotlib-scalebar-0.7.2 netpyne-1.0.0.2\n",
      "Collecting bluepysnap\n",
      "  Downloading bluepysnap-0.13.0.tar.gz (60 kB)\n",
      "\u001b[K     |████████████████████████████████| 60 kB 6.9 MB/s \n",
      "\u001b[?25hRequirement already satisfied: cached_property>=1.0 in /usr/local/lib/python3.7/dist-packages (from bluepysnap) (1.5.2)\n",
      "Requirement already satisfied: h5py<4.0.0,>=3.0.1 in /usr/local/lib/python3.7/dist-packages (from bluepysnap) (3.1.0)\n",
      "Collecting libsonata<1.0.0,>=0.1.6\n",
      "  Downloading libsonata-0.1.9-cp37-cp37m-manylinux2014_x86_64.whl (2.5 MB)\n",
      "\u001b[K     |████████████████████████████████| 2.5 MB 57.1 MB/s \n",
      "\u001b[?25hCollecting morphio<4.0.0,>=3.0.0\n",
      "  Downloading MorphIO-3.3.0-cp37-cp37m-manylinux2014_x86_64.whl (1.8 MB)\n",
      "\u001b[K     |████████████████████████████████| 1.8 MB 43.2 MB/s \n",
      "\u001b[?25hCollecting morph-tool<3.0.0,>=2.4.3\n",
      "  Downloading morph-tool-2.9.0.tar.gz (1.5 MB)\n",
      "\u001b[K     |████████████████████████████████| 1.5 MB 49.7 MB/s \n",
      "\u001b[?25hRequirement already satisfied: numpy<2.0.0,>=1.8 in /usr/local/lib/python3.7/dist-packages (from bluepysnap) (1.19.5)\n",
      "Requirement already satisfied: pandas<2.0.0,>=1.0.0 in /usr/local/lib/python3.7/dist-packages (from bluepysnap) (1.1.5)\n",
      "Requirement already satisfied: click<8.0.0,>=7.0 in /usr/local/lib/python3.7/dist-packages (from bluepysnap) (7.1.2)\n",
      "Requirement already satisfied: more-itertools>=8.2.0 in /usr/local/lib/python3.7/dist-packages (from bluepysnap) (8.9.0)\n",
      "Collecting deprecation>=2.1.0\n",
      "  Downloading deprecation-2.1.0-py2.py3-none-any.whl (11 kB)\n",
      "Collecting neurom<4.0,>=3.0\n",
      "  Downloading neurom-3.0.1.tar.gz (474 kB)\n",
      "\u001b[K     |████████████████████████████████| 474 kB 49.2 MB/s \n",
      "\u001b[?25h  Installing build dependencies ... \u001b[?25l\u001b[?25hdone\n",
      "  Getting requirements to build wheel ... \u001b[?25l\u001b[?25hdone\n",
      "  Installing backend dependencies ... \u001b[?25l\u001b[?25hdone\n",
      "    Preparing wheel metadata ... \u001b[?25l\u001b[?25hdone\n",
      "Collecting xmltodict>=0.12.0\n",
      "  Downloading xmltodict-0.12.0-py2.py3-none-any.whl (9.2 kB)\n",
      "Requirement already satisfied: packaging in /usr/local/lib/python3.7/dist-packages (from deprecation>=2.1.0->morph-tool<3.0.0,>=2.4.3->bluepysnap) (21.0)\n",
      "Requirement already satisfied: tqdm>=4.8.4 in /usr/local/lib/python3.7/dist-packages (from neurom<4.0,>=3.0->morph-tool<3.0.0,>=2.4.3->bluepysnap) (4.62.2)\n",
      "Requirement already satisfied: pyyaml>=3.10 in /usr/local/lib/python3.7/dist-packages (from neurom<4.0,>=3.0->morph-tool<3.0.0,>=2.4.3->bluepysnap) (3.13)\n",
      "Requirement already satisfied: matplotlib>=3.2.1 in /usr/local/lib/python3.7/dist-packages (from neurom<4.0,>=3.0->morph-tool<3.0.0,>=2.4.3->bluepysnap) (3.2.2)\n",
      "Requirement already satisfied: scipy>=1.2.0 in /usr/local/lib/python3.7/dist-packages (from neurom<4.0,>=3.0->morph-tool<3.0.0,>=2.4.3->bluepysnap) (1.4.1)\n",
      "Requirement already satisfied: pyparsing!=2.0.4,!=2.1.2,!=2.1.6,>=2.0.1 in /usr/local/lib/python3.7/dist-packages (from matplotlib>=3.2.1->neurom<4.0,>=3.0->morph-tool<3.0.0,>=2.4.3->bluepysnap) (2.4.7)\n",
      "Requirement already satisfied: python-dateutil>=2.1 in /usr/local/lib/python3.7/dist-packages (from matplotlib>=3.2.1->neurom<4.0,>=3.0->morph-tool<3.0.0,>=2.4.3->bluepysnap) (2.8.2)\n",
      "Requirement already satisfied: cycler>=0.10 in /usr/local/lib/python3.7/dist-packages (from matplotlib>=3.2.1->neurom<4.0,>=3.0->morph-tool<3.0.0,>=2.4.3->bluepysnap) (0.10.0)\n",
      "Requirement already satisfied: kiwisolver>=1.0.1 in /usr/local/lib/python3.7/dist-packages (from matplotlib>=3.2.1->neurom<4.0,>=3.0->morph-tool<3.0.0,>=2.4.3->bluepysnap) (1.3.2)\n",
      "Requirement already satisfied: six in /usr/local/lib/python3.7/dist-packages (from cycler>=0.10->matplotlib>=3.2.1->neurom<4.0,>=3.0->morph-tool<3.0.0,>=2.4.3->bluepysnap) (1.15.0)\n",
      "Requirement already satisfied: pytz>=2017.2 in /usr/local/lib/python3.7/dist-packages (from pandas<2.0.0,>=1.0.0->bluepysnap) (2018.9)\n",
      "Building wheels for collected packages: bluepysnap, morph-tool, neurom\n",
      "  Building wheel for bluepysnap (setup.py) ... \u001b[?25l\u001b[?25hdone\n",
      "  Created wheel for bluepysnap: filename=bluepysnap-0.13.0-py3-none-any.whl size=77260 sha256=7773392c3cc4111df1d3b2a66a0e658afe0049a86c087833fdac537ec322cd01\n",
      "  Stored in directory: /root/.cache/pip/wheels/62/18/55/893e18a34bf00ea8e0b5c4e2aa282758c855bad328d7f3dff5\n",
      "  Building wheel for morph-tool (setup.py) ... \u001b[?25l\u001b[?25hdone\n",
      "  Created wheel for morph-tool: filename=morph_tool-2.9.0-py3-none-any.whl size=55271 sha256=f165ffaf2548c5d4495657611dc2fa7b3db5a8b72001307a3df1a370d9413eb1\n",
      "  Stored in directory: /root/.cache/pip/wheels/31/f9/52/355e8f6a7aba18575732ae63ff1090784c8936ea269649f6b2\n",
      "  Building wheel for neurom (PEP 517) ... \u001b[?25l\u001b[?25hdone\n",
      "  Created wheel for neurom: filename=neurom-3.0.1-py3-none-any.whl size=100039 sha256=ce03069c40254da98d1137265044d1d20cc8374f0fb52e2ca1b873ba08c987c9\n",
      "  Stored in directory: /root/.cache/pip/wheels/d3/47/0c/ad39d56ccedfb07bed19bde0dc51f2beafa786033117a036f3\n",
      "Successfully built bluepysnap morph-tool neurom\n",
      "Installing collected packages: morphio, xmltodict, neurom, deprecation, morph-tool, libsonata, bluepysnap\n",
      "Successfully installed bluepysnap-0.13.0 deprecation-2.1.0 libsonata-0.1.9 morph-tool-2.9.0 morphio-3.3.0 neurom-3.0.1 xmltodict-0.12.0\n",
      "Requirement already satisfied: h5py in /usr/local/lib/python3.7/dist-packages (3.1.0)\n",
      "Requirement already satisfied: cached-property in /usr/local/lib/python3.7/dist-packages (from h5py) (1.5.2)\n",
      "Requirement already satisfied: numpy>=1.14.5 in /usr/local/lib/python3.7/dist-packages (from h5py) (1.19.5)\n"
     ]
    }
   ],
   "source": [
    "!pip install neuron\n",
    "!pip install netpyne\n",
    "!pip install bluepysnap\n",
    "!pip install h5py"
   ]
  },
  {
   "cell_type": "code",
   "execution_count": null,
   "metadata": {
    "id": "_lO5uytfkadg"
   },
   "outputs": [],
   "source": [
    "os.chdir('/content/gdrive/MyDrive/CA1_netpyne/sim/PySpike')"
   ]
  },
  {
   "cell_type": "code",
   "execution_count": null,
   "metadata": {
    "colab": {
     "base_uri": "https://localhost:8080/"
    },
    "executionInfo": {
     "elapsed": 6999,
     "status": "ok",
     "timestamp": 1632520085863,
     "user": {
      "displayName": "Lavinia Mitiko Takarabe",
      "photoUrl": "https://lh3.googleusercontent.com/a/default-user=s64",
      "userId": "11900514963050471931"
     },
     "user_tz": 180
    },
    "id": "ZrIi4PhrVhEy",
    "outputId": "1f3e78a5-dc40-478d-8c52-72bc5cd939ac"
   },
   "outputs": [
    {
     "name": "stdout",
     "output_type": "stream",
     "text": [
      "Collecting PySpike\n",
      "  Downloading pyspike-0.6.0.tar.gz (1.5 MB)\n",
      "\u001b[?25l\r",
      "\u001b[K     |▏                               | 10 kB 27.1 MB/s eta 0:00:01\r",
      "\u001b[K     |▍                               | 20 kB 34.0 MB/s eta 0:00:01\r",
      "\u001b[K     |▋                               | 30 kB 35.0 MB/s eta 0:00:01\r",
      "\u001b[K     |▉                               | 40 kB 38.1 MB/s eta 0:00:01\r",
      "\u001b[K     |█                               | 51 kB 37.2 MB/s eta 0:00:01\r",
      "\u001b[K     |█▎                              | 61 kB 40.4 MB/s eta 0:00:01\r",
      "\u001b[K     |█▌                              | 71 kB 30.5 MB/s eta 0:00:01\r",
      "\u001b[K     |█▊                              | 81 kB 32.5 MB/s eta 0:00:01\r",
      "\u001b[K     |██                              | 92 kB 32.9 MB/s eta 0:00:01\r",
      "\u001b[K     |██▏                             | 102 kB 34.7 MB/s eta 0:00:01\r",
      "\u001b[K     |██▍                             | 112 kB 34.7 MB/s eta 0:00:01\r",
      "\u001b[K     |██▋                             | 122 kB 34.7 MB/s eta 0:00:01\r",
      "\u001b[K     |██▉                             | 133 kB 34.7 MB/s eta 0:00:01\r",
      "\u001b[K     |███                             | 143 kB 34.7 MB/s eta 0:00:01\r",
      "\u001b[K     |███▏                            | 153 kB 34.7 MB/s eta 0:00:01\r",
      "\u001b[K     |███▍                            | 163 kB 34.7 MB/s eta 0:00:01\r",
      "\u001b[K     |███▋                            | 174 kB 34.7 MB/s eta 0:00:01\r",
      "\u001b[K     |███▉                            | 184 kB 34.7 MB/s eta 0:00:01\r",
      "\u001b[K     |████                            | 194 kB 34.7 MB/s eta 0:00:01\r",
      "\u001b[K     |████▎                           | 204 kB 34.7 MB/s eta 0:00:01\r",
      "\u001b[K     |████▌                           | 215 kB 34.7 MB/s eta 0:00:01\r",
      "\u001b[K     |████▊                           | 225 kB 34.7 MB/s eta 0:00:01\r",
      "\u001b[K     |█████                           | 235 kB 34.7 MB/s eta 0:00:01\r",
      "\u001b[K     |█████▏                          | 245 kB 34.7 MB/s eta 0:00:01\r",
      "\u001b[K     |█████▍                          | 256 kB 34.7 MB/s eta 0:00:01\r",
      "\u001b[K     |█████▋                          | 266 kB 34.7 MB/s eta 0:00:01\r",
      "\u001b[K     |█████▉                          | 276 kB 34.7 MB/s eta 0:00:01\r",
      "\u001b[K     |██████                          | 286 kB 34.7 MB/s eta 0:00:01\r",
      "\u001b[K     |██████▏                         | 296 kB 34.7 MB/s eta 0:00:01\r",
      "\u001b[K     |██████▍                         | 307 kB 34.7 MB/s eta 0:00:01\r",
      "\u001b[K     |██████▋                         | 317 kB 34.7 MB/s eta 0:00:01\r",
      "\u001b[K     |██████▉                         | 327 kB 34.7 MB/s eta 0:00:01\r",
      "\u001b[K     |███████                         | 337 kB 34.7 MB/s eta 0:00:01\r",
      "\u001b[K     |███████▎                        | 348 kB 34.7 MB/s eta 0:00:01\r",
      "\u001b[K     |███████▌                        | 358 kB 34.7 MB/s eta 0:00:01\r",
      "\u001b[K     |███████▊                        | 368 kB 34.7 MB/s eta 0:00:01\r",
      "\u001b[K     |████████                        | 378 kB 34.7 MB/s eta 0:00:01\r",
      "\u001b[K     |████████▏                       | 389 kB 34.7 MB/s eta 0:00:01\r",
      "\u001b[K     |████████▍                       | 399 kB 34.7 MB/s eta 0:00:01\r",
      "\u001b[K     |████████▋                       | 409 kB 34.7 MB/s eta 0:00:01\r",
      "\u001b[K     |████████▊                       | 419 kB 34.7 MB/s eta 0:00:01\r",
      "\u001b[K     |█████████                       | 430 kB 34.7 MB/s eta 0:00:01\r",
      "\u001b[K     |█████████▏                      | 440 kB 34.7 MB/s eta 0:00:01\r",
      "\u001b[K     |█████████▍                      | 450 kB 34.7 MB/s eta 0:00:01\r",
      "\u001b[K     |█████████▋                      | 460 kB 34.7 MB/s eta 0:00:01\r",
      "\u001b[K     |█████████▉                      | 471 kB 34.7 MB/s eta 0:00:01\r",
      "\u001b[K     |██████████                      | 481 kB 34.7 MB/s eta 0:00:01\r",
      "\u001b[K     |██████████▎                     | 491 kB 34.7 MB/s eta 0:00:01\r",
      "\u001b[K     |██████████▌                     | 501 kB 34.7 MB/s eta 0:00:01\r",
      "\u001b[K     |██████████▊                     | 512 kB 34.7 MB/s eta 0:00:01\r",
      "\u001b[K     |███████████                     | 522 kB 34.7 MB/s eta 0:00:01\r",
      "\u001b[K     |███████████▏                    | 532 kB 34.7 MB/s eta 0:00:01\r",
      "\u001b[K     |███████████▍                    | 542 kB 34.7 MB/s eta 0:00:01\r",
      "\u001b[K     |███████████▋                    | 552 kB 34.7 MB/s eta 0:00:01\r",
      "\u001b[K     |███████████▊                    | 563 kB 34.7 MB/s eta 0:00:01\r",
      "\u001b[K     |████████████                    | 573 kB 34.7 MB/s eta 0:00:01\r",
      "\u001b[K     |████████████▏                   | 583 kB 34.7 MB/s eta 0:00:01\r",
      "\u001b[K     |████████████▍                   | 593 kB 34.7 MB/s eta 0:00:01\r",
      "\u001b[K     |████████████▋                   | 604 kB 34.7 MB/s eta 0:00:01\r",
      "\u001b[K     |████████████▉                   | 614 kB 34.7 MB/s eta 0:00:01\r",
      "\u001b[K     |█████████████                   | 624 kB 34.7 MB/s eta 0:00:01\r",
      "\u001b[K     |█████████████▎                  | 634 kB 34.7 MB/s eta 0:00:01\r",
      "\u001b[K     |█████████████▌                  | 645 kB 34.7 MB/s eta 0:00:01\r",
      "\u001b[K     |█████████████▊                  | 655 kB 34.7 MB/s eta 0:00:01\r",
      "\u001b[K     |██████████████                  | 665 kB 34.7 MB/s eta 0:00:01\r",
      "\u001b[K     |██████████████▏                 | 675 kB 34.7 MB/s eta 0:00:01\r",
      "\u001b[K     |██████████████▍                 | 686 kB 34.7 MB/s eta 0:00:01\r",
      "\u001b[K     |██████████████▋                 | 696 kB 34.7 MB/s eta 0:00:01\r",
      "\u001b[K     |██████████████▊                 | 706 kB 34.7 MB/s eta 0:00:01\r",
      "\u001b[K     |███████████████                 | 716 kB 34.7 MB/s eta 0:00:01\r",
      "\u001b[K     |███████████████▏                | 727 kB 34.7 MB/s eta 0:00:01\r",
      "\u001b[K     |███████████████▍                | 737 kB 34.7 MB/s eta 0:00:01\r",
      "\u001b[K     |███████████████▋                | 747 kB 34.7 MB/s eta 0:00:01\r",
      "\u001b[K     |███████████████▉                | 757 kB 34.7 MB/s eta 0:00:01\r",
      "\u001b[K     |████████████████                | 768 kB 34.7 MB/s eta 0:00:01\r",
      "\u001b[K     |████████████████▎               | 778 kB 34.7 MB/s eta 0:00:01\r",
      "\u001b[K     |████████████████▌               | 788 kB 34.7 MB/s eta 0:00:01\r",
      "\u001b[K     |████████████████▊               | 798 kB 34.7 MB/s eta 0:00:01\r",
      "\u001b[K     |█████████████████               | 808 kB 34.7 MB/s eta 0:00:01\r",
      "\u001b[K     |█████████████████▏              | 819 kB 34.7 MB/s eta 0:00:01\r",
      "\u001b[K     |█████████████████▍              | 829 kB 34.7 MB/s eta 0:00:01\r",
      "\u001b[K     |█████████████████▌              | 839 kB 34.7 MB/s eta 0:00:01\r",
      "\u001b[K     |█████████████████▊              | 849 kB 34.7 MB/s eta 0:00:01\r",
      "\u001b[K     |██████████████████              | 860 kB 34.7 MB/s eta 0:00:01\r",
      "\u001b[K     |██████████████████▏             | 870 kB 34.7 MB/s eta 0:00:01\r",
      "\u001b[K     |██████████████████▍             | 880 kB 34.7 MB/s eta 0:00:01\r",
      "\u001b[K     |██████████████████▋             | 890 kB 34.7 MB/s eta 0:00:01\r",
      "\u001b[K     |██████████████████▉             | 901 kB 34.7 MB/s eta 0:00:01\r",
      "\u001b[K     |███████████████████             | 911 kB 34.7 MB/s eta 0:00:01\r",
      "\u001b[K     |███████████████████▎            | 921 kB 34.7 MB/s eta 0:00:01\r",
      "\u001b[K     |███████████████████▌            | 931 kB 34.7 MB/s eta 0:00:01\r",
      "\u001b[K     |███████████████████▊            | 942 kB 34.7 MB/s eta 0:00:01\r",
      "\u001b[K     |████████████████████            | 952 kB 34.7 MB/s eta 0:00:01\r",
      "\u001b[K     |████████████████████▏           | 962 kB 34.7 MB/s eta 0:00:01\r",
      "\u001b[K     |████████████████████▍           | 972 kB 34.7 MB/s eta 0:00:01\r",
      "\u001b[K     |████████████████████▌           | 983 kB 34.7 MB/s eta 0:00:01\r",
      "\u001b[K     |████████████████████▊           | 993 kB 34.7 MB/s eta 0:00:01\r",
      "\u001b[K     |█████████████████████           | 1.0 MB 34.7 MB/s eta 0:00:01\r",
      "\u001b[K     |█████████████████████▏          | 1.0 MB 34.7 MB/s eta 0:00:01\r",
      "\u001b[K     |█████████████████████▍          | 1.0 MB 34.7 MB/s eta 0:00:01\r",
      "\u001b[K     |█████████████████████▋          | 1.0 MB 34.7 MB/s eta 0:00:01\r",
      "\u001b[K     |█████████████████████▉          | 1.0 MB 34.7 MB/s eta 0:00:01\r",
      "\u001b[K     |██████████████████████          | 1.1 MB 34.7 MB/s eta 0:00:01\r",
      "\u001b[K     |██████████████████████▎         | 1.1 MB 34.7 MB/s eta 0:00:01\r",
      "\u001b[K     |██████████████████████▌         | 1.1 MB 34.7 MB/s eta 0:00:01\r",
      "\u001b[K     |██████████████████████▊         | 1.1 MB 34.7 MB/s eta 0:00:01\r",
      "\u001b[K     |███████████████████████         | 1.1 MB 34.7 MB/s eta 0:00:01\r",
      "\u001b[K     |███████████████████████▏        | 1.1 MB 34.7 MB/s eta 0:00:01\r",
      "\u001b[K     |███████████████████████▎        | 1.1 MB 34.7 MB/s eta 0:00:01\r",
      "\u001b[K     |███████████████████████▌        | 1.1 MB 34.7 MB/s eta 0:00:01\r",
      "\u001b[K     |███████████████████████▊        | 1.1 MB 34.7 MB/s eta 0:00:01\r",
      "\u001b[K     |████████████████████████        | 1.1 MB 34.7 MB/s eta 0:00:01\r",
      "\u001b[K     |████████████████████████▏       | 1.2 MB 34.7 MB/s eta 0:00:01\r",
      "\u001b[K     |████████████████████████▍       | 1.2 MB 34.7 MB/s eta 0:00:01\r",
      "\u001b[K     |████████████████████████▋       | 1.2 MB 34.7 MB/s eta 0:00:01\r",
      "\u001b[K     |████████████████████████▉       | 1.2 MB 34.7 MB/s eta 0:00:01\r",
      "\u001b[K     |█████████████████████████       | 1.2 MB 34.7 MB/s eta 0:00:01\r",
      "\u001b[K     |█████████████████████████▎      | 1.2 MB 34.7 MB/s eta 0:00:01\r",
      "\u001b[K     |█████████████████████████▌      | 1.2 MB 34.7 MB/s eta 0:00:01\r",
      "\u001b[K     |█████████████████████████▊      | 1.2 MB 34.7 MB/s eta 0:00:01\r",
      "\u001b[K     |██████████████████████████      | 1.2 MB 34.7 MB/s eta 0:00:01\r",
      "\u001b[K     |██████████████████████████▏     | 1.2 MB 34.7 MB/s eta 0:00:01\r",
      "\u001b[K     |██████████████████████████▎     | 1.3 MB 34.7 MB/s eta 0:00:01\r",
      "\u001b[K     |██████████████████████████▌     | 1.3 MB 34.7 MB/s eta 0:00:01\r",
      "\u001b[K     |██████████████████████████▊     | 1.3 MB 34.7 MB/s eta 0:00:01\r",
      "\u001b[K     |███████████████████████████     | 1.3 MB 34.7 MB/s eta 0:00:01\r",
      "\u001b[K     |███████████████████████████▏    | 1.3 MB 34.7 MB/s eta 0:00:01\r",
      "\u001b[K     |███████████████████████████▍    | 1.3 MB 34.7 MB/s eta 0:00:01\r",
      "\u001b[K     |███████████████████████████▋    | 1.3 MB 34.7 MB/s eta 0:00:01\r",
      "\u001b[K     |███████████████████████████▉    | 1.3 MB 34.7 MB/s eta 0:00:01\r",
      "\u001b[K     |████████████████████████████    | 1.3 MB 34.7 MB/s eta 0:00:01\r",
      "\u001b[K     |████████████████████████████▎   | 1.4 MB 34.7 MB/s eta 0:00:01\r",
      "\u001b[K     |████████████████████████████▌   | 1.4 MB 34.7 MB/s eta 0:00:01\r",
      "\u001b[K     |████████████████████████████▊   | 1.4 MB 34.7 MB/s eta 0:00:01\r",
      "\u001b[K     |█████████████████████████████   | 1.4 MB 34.7 MB/s eta 0:00:01\r",
      "\u001b[K     |█████████████████████████████▏  | 1.4 MB 34.7 MB/s eta 0:00:01\r",
      "\u001b[K     |█████████████████████████████▎  | 1.4 MB 34.7 MB/s eta 0:00:01\r",
      "\u001b[K     |█████████████████████████████▌  | 1.4 MB 34.7 MB/s eta 0:00:01\r",
      "\u001b[K     |█████████████████████████████▊  | 1.4 MB 34.7 MB/s eta 0:00:01\r",
      "\u001b[K     |██████████████████████████████  | 1.4 MB 34.7 MB/s eta 0:00:01\r",
      "\u001b[K     |██████████████████████████████▏ | 1.4 MB 34.7 MB/s eta 0:00:01\r",
      "\u001b[K     |██████████████████████████████▍ | 1.5 MB 34.7 MB/s eta 0:00:01\r",
      "\u001b[K     |██████████████████████████████▋ | 1.5 MB 34.7 MB/s eta 0:00:01\r",
      "\u001b[K     |██████████████████████████████▉ | 1.5 MB 34.7 MB/s eta 0:00:01\r",
      "\u001b[K     |███████████████████████████████ | 1.5 MB 34.7 MB/s eta 0:00:01\r",
      "\u001b[K     |███████████████████████████████▎| 1.5 MB 34.7 MB/s eta 0:00:01\r",
      "\u001b[K     |███████████████████████████████▌| 1.5 MB 34.7 MB/s eta 0:00:01\r",
      "\u001b[K     |███████████████████████████████▊| 1.5 MB 34.7 MB/s eta 0:00:01\r",
      "\u001b[K     |████████████████████████████████| 1.5 MB 34.7 MB/s eta 0:00:01\r",
      "\u001b[K     |████████████████████████████████| 1.5 MB 34.7 MB/s \n",
      "\u001b[?25hRequirement already satisfied: numpy in /usr/local/lib/python3.7/dist-packages (from PySpike) (1.19.5)\n",
      "Building wheels for collected packages: PySpike\n",
      "  Building wheel for PySpike (setup.py) ... \u001b[?25lerror\n",
      "\u001b[31m  ERROR: Failed building wheel for PySpike\u001b[0m\n",
      "\u001b[?25h  Running setup.py clean for PySpike\n",
      "Failed to build PySpike\n",
      "Installing collected packages: PySpike\n",
      "    Running setup.py install for PySpike ... \u001b[?25l\u001b[?25herror\n",
      "\u001b[31mERROR: Command errored out with exit status 1: /usr/bin/python3 -u -c 'import io, os, sys, setuptools, tokenize; sys.argv[0] = '\"'\"'/tmp/pip-install-99g637f6/pyspike_6cb8b10f594a41fc95d4a55085aeaee2/setup.py'\"'\"'; __file__='\"'\"'/tmp/pip-install-99g637f6/pyspike_6cb8b10f594a41fc95d4a55085aeaee2/setup.py'\"'\"';f = getattr(tokenize, '\"'\"'open'\"'\"', open)(__file__) if os.path.exists(__file__) else io.StringIO('\"'\"'from setuptools import setup; setup()'\"'\"');code = f.read().replace('\"'\"'\\r\\n'\"'\"', '\"'\"'\\n'\"'\"');f.close();exec(compile(code, __file__, '\"'\"'exec'\"'\"'))' install --record /tmp/pip-record-qh3n1zxh/install-record.txt --single-version-externally-managed --compile --install-headers /usr/local/include/python3.7/PySpike Check the logs for full command output.\u001b[0m\n"
     ]
    }
   ],
   "source": [
    "# !git clone https://github.com/mariomulansky/PySpike.git\n",
    "!cd /content/gdrive/MyDrive/CA1_netpyne/sim/PySpike\n",
    "!pip install PySpike\n",
    "#!python setup.py build_ext --inplace"
   ]
  },
  {
   "cell_type": "code",
   "execution_count": 4,
   "metadata": {
    "executionInfo": {
     "elapsed": 372,
     "status": "ok",
     "timestamp": 1632533868797,
     "user": {
      "displayName": "Fernando Borges",
      "photoUrl": "https://lh3.googleusercontent.com/a-/AOh14GjmnOv5Ub_NRxuhRL5o0txWMXjifczY9_5VpuxcpQ=s64",
      "userId": "10661481794494853642"
     },
     "user_tz": 180
    },
    "id": "99idMcyaWAcl"
   },
   "outputs": [],
   "source": [
    "os.chdir('/content/gdrive/MyDrive/CA1_netpyne/sim/')"
   ]
  },
  {
   "cell_type": "code",
   "execution_count": 5,
   "metadata": {
    "colab": {
     "base_uri": "https://localhost:8080/"
    },
    "executionInfo": {
     "elapsed": 6976,
     "status": "ok",
     "timestamp": 1632533875765,
     "user": {
      "displayName": "Fernando Borges",
      "photoUrl": "https://lh3.googleusercontent.com/a-/AOh14GjmnOv5Ub_NRxuhRL5o0txWMXjifczY9_5VpuxcpQ=s64",
      "userId": "10661481794494853642"
     },
     "user_tz": 180
    },
    "id": "UceI_I0YNYgd",
    "outputId": "42265842-462c-4aa3-85c3-aa9c1bd5239f"
   },
   "outputs": [
    {
     "name": "stdout",
     "output_type": "stream",
     "text": [
      "/content/gdrive/.shortcut-targets-by-id/1GG7dFaLVcERNToLC1EyqRoG8joBtbwBT/CA1_netpyne/sim\n",
      "Mod files: \"modfiles/cacummb.mod\" \"modfiles/cacumm.mod\" \"modfiles/cagk.mod\" \"modfiles/cal2.mod\" \"modfiles/can2.mod\" \"modfiles/cat.mod\" \"modfiles/DetAMPANMDA.mod\" \"modfiles/DetGABAAB.mod\" \"modfiles/h.mod\" \"modfiles/kadist.mod\" \"modfiles/kaprox.mod\" \"modfiles/kca.mod\" \"modfiles/kd2.mod\" \"modfiles/kdb.mod\" \"modfiles/kdrbca1.mod\" \"modfiles/kdrca1.mod\" \"modfiles/kmb.mod\" \"modfiles/na3n.mod\" \"modfiles/naxn.mod\" \"modfiles/ProbAMPANMDA_EMS.mod\" \"modfiles/ProbGABAAB_EMS.mod\"\n",
      "\n",
      "COBJS=''\n",
      " -> \u001b[32mCompiling\u001b[0m mod_func.c\n",
      "x86_64-linux-gnu-gcc -O2   -I.   -I/usr/local/lib/python3.7/dist-packages/neuron/.data/include  -I/nrnwheel/openmpi/include -fPIC -c mod_func.c -o mod_func.o\n",
      " => \u001b[32mLINKING\u001b[0m shared library ./libnrnmech.so\n",
      "x86_64-linux-gnu-g++ -O2 -DVERSION_INFO='8.0.0' -std=c++11 -shared -fPIC  -I /usr/local/lib/python3.7/dist-packages/neuron/.data/include -o ./libnrnmech.so -Wl,-soname,libnrnmech.so \\\n",
      "  ./mod_func.o ./cacummb.o ./cacumm.o ./cagk.o ./cal2.o ./can2.o ./cat.o ./DetAMPANMDA.o ./DetGABAAB.o ./h.o ./kadist.o ./kaprox.o ./kca.o ./kd2.o ./kdb.o ./kdrbca1.o ./kdrca1.o ./kmb.o ./na3n.o ./naxn.o ./ProbAMPANMDA_EMS.o ./ProbGABAAB_EMS.o  -L/usr/local/lib/python3.7/dist-packages/neuron/.data/lib -lnrniv -Wl,-rpath,/usr/local/lib/python3.7/dist-packages/neuron/.data/lib   \n",
      "rm -f ./.libs/libnrnmech.so ; mkdir -p ./.libs ; cp ./libnrnmech.so ./.libs/libnrnmech.so\n",
      "Successfully created x86_64/special\n"
     ]
    }
   ],
   "source": [
    "!nrnivmodl modfiles"
   ]
  },
  {
   "cell_type": "code",
   "execution_count": 6,
   "metadata": {
    "executionInfo": {
     "elapsed": 11,
     "status": "ok",
     "timestamp": 1632533875766,
     "user": {
      "displayName": "Fernando Borges",
      "photoUrl": "https://lh3.googleusercontent.com/a-/AOh14GjmnOv5Ub_NRxuhRL5o0txWMXjifczY9_5VpuxcpQ=s64",
      "userId": "10661481794494853642"
     },
     "user_tz": 180
    },
    "id": "CyYkiSyfEWBj"
   },
   "outputs": [],
   "source": [
    "import numpy as np\n",
    "import os\n",
    "import pandas as pd\n",
    "import matplotlib.pyplot as plt"
   ]
  },
  {
   "cell_type": "code",
   "execution_count": 7,
   "metadata": {
    "executionInfo": {
     "elapsed": 10,
     "status": "ok",
     "timestamp": 1632533875767,
     "user": {
      "displayName": "Fernando Borges",
      "photoUrl": "https://lh3.googleusercontent.com/a-/AOh14GjmnOv5Ub_NRxuhRL5o0txWMXjifczY9_5VpuxcpQ=s64",
      "userId": "10661481794494853642"
     },
     "user_tz": 180
    },
    "id": "atqn9gogEWBm"
   },
   "outputs": [],
   "source": [
    "CircuitPath = '/content/gdrive/MyDrive/CA1_netpyne/info/data-bbp/20191017/'\n",
    "BioName = CircuitPath + 'bioname/'\n",
    "Atlas = CircuitPath + 'atlas/'\n",
    "MorphologyPath = CircuitPath + 'morphologies/swc/'\n",
    "CellLibraryFile = CircuitPath + 'sonata/nodes/nodes_hippocampus.h5'\n",
    "METypePath = CircuitPath + 'emodels/20190402/hoc/'\n",
    "MEComboInfoFile = CircuitPath + 'emodels/20190402/mecombo_emodel.tsv'\n",
    "UserTargetFile = CircuitPath + 'user.target'\n",
    "StartTargetFile = CircuitPath + 'start.target'"
   ]
  },
  {
   "cell_type": "code",
   "execution_count": 8,
   "metadata": {
    "executionInfo": {
     "elapsed": 3954,
     "status": "ok",
     "timestamp": 1632533879712,
     "user": {
      "displayName": "Fernando Borges",
      "photoUrl": "https://lh3.googleusercontent.com/a-/AOh14GjmnOv5Ub_NRxuhRL5o0txWMXjifczY9_5VpuxcpQ=s64",
      "userId": "10661481794494853642"
     },
     "user_tz": 180
    },
    "id": "zje0rMpeEWCg"
   },
   "outputs": [],
   "source": [
    "from bluepysnap import Circuit\n",
    "from bluepysnap.bbp import Cell\n",
    "circuit_path = CircuitPath + 'circuit_config.json'\n",
    "circuit = Circuit(circuit_path)\n",
    "cells = circuit.nodes[\"hippocampus_neurons\"]\n",
    "cells_projections = circuit.nodes[\"hippocampus_projections\"]\n",
    "nodesinfo = cells.get()\n",
    "nodesinfo_projections = cells_projections.get()"
   ]
  },
  {
   "cell_type": "code",
   "execution_count": null,
   "metadata": {
    "colab": {
     "base_uri": "https://localhost:8080/",
     "height": 434
    },
    "executionInfo": {
     "elapsed": 228,
     "status": "ok",
     "timestamp": 1632520211268,
     "user": {
      "displayName": "Lavinia Mitiko Takarabe",
      "photoUrl": "https://lh3.googleusercontent.com/a/default-user=s64",
      "userId": "11900514963050471931"
     },
     "user_tz": 180
    },
    "id": "udYTHOsCRsYl",
    "outputId": "0d3460d0-0e20-489a-bde5-7fb35d023993"
   },
   "outputs": [
    {
     "data": {
      "text/html": [
       "<div>\n",
       "<style scoped>\n",
       "    .dataframe tbody tr th:only-of-type {\n",
       "        vertical-align: middle;\n",
       "    }\n",
       "\n",
       "    .dataframe tbody tr th {\n",
       "        vertical-align: top;\n",
       "    }\n",
       "\n",
       "    .dataframe thead th {\n",
       "        text-align: right;\n",
       "    }\n",
       "</style>\n",
       "<table border=\"1\" class=\"dataframe\">\n",
       "  <thead>\n",
       "    <tr style=\"text-align: right;\">\n",
       "      <th></th>\n",
       "      <th>etype</th>\n",
       "      <th>layer</th>\n",
       "      <th>model_template</th>\n",
       "      <th>model_type</th>\n",
       "      <th>morph_class</th>\n",
       "      <th>morphology</th>\n",
       "      <th>mtype</th>\n",
       "      <th>region</th>\n",
       "      <th>rotation_angle_xaxis</th>\n",
       "      <th>rotation_angle_yaxis</th>\n",
       "      <th>rotation_angle_zaxis</th>\n",
       "      <th>synapse_class</th>\n",
       "      <th>x</th>\n",
       "      <th>y</th>\n",
       "      <th>z</th>\n",
       "      <th>@dynamics:holding_current</th>\n",
       "      <th>@dynamics:threshold_current</th>\n",
       "    </tr>\n",
       "  </thead>\n",
       "  <tbody>\n",
       "    <tr>\n",
       "      <th>18038</th>\n",
       "      <td>cAC</td>\n",
       "      <td>SO</td>\n",
       "      <td>hoc:CA1_int_cAC_011017HP2_2019032814552</td>\n",
       "      <td>biophysical</td>\n",
       "      <td>INT</td>\n",
       "      <td>011017HP2_height_15</td>\n",
       "      <td>SO_OLM</td>\n",
       "      <td>mc4;SO</td>\n",
       "      <td>-3.141593</td>\n",
       "      <td>-0.278184</td>\n",
       "      <td>-3.141593</td>\n",
       "      <td>INH</td>\n",
       "      <td>155.454900</td>\n",
       "      <td>122.981872</td>\n",
       "      <td>888.681658</td>\n",
       "      <td>-0.045443</td>\n",
       "      <td>0.292969</td>\n",
       "    </tr>\n",
       "    <tr>\n",
       "      <th>18039</th>\n",
       "      <td>cAC</td>\n",
       "      <td>SO</td>\n",
       "      <td>hoc:CA1_int_cAC_011017HP2_2019032814552</td>\n",
       "      <td>biophysical</td>\n",
       "      <td>INT</td>\n",
       "      <td>011017HP2_height_150</td>\n",
       "      <td>SO_OLM</td>\n",
       "      <td>mc5;SO</td>\n",
       "      <td>-0.000000</td>\n",
       "      <td>1.511316</td>\n",
       "      <td>-0.000000</td>\n",
       "      <td>INH</td>\n",
       "      <td>399.040890</td>\n",
       "      <td>5.274382</td>\n",
       "      <td>1126.319073</td>\n",
       "      <td>-0.045443</td>\n",
       "      <td>0.292969</td>\n",
       "    </tr>\n",
       "    <tr>\n",
       "      <th>18040</th>\n",
       "      <td>cAC</td>\n",
       "      <td>SO</td>\n",
       "      <td>hoc:CA1_int_cAC_011017HP2_2019032814552</td>\n",
       "      <td>biophysical</td>\n",
       "      <td>INT</td>\n",
       "      <td>011017HP2_height_150</td>\n",
       "      <td>SO_OLM</td>\n",
       "      <td>mc3;SO</td>\n",
       "      <td>-3.141593</td>\n",
       "      <td>-0.036900</td>\n",
       "      <td>-3.141593</td>\n",
       "      <td>INH</td>\n",
       "      <td>708.144090</td>\n",
       "      <td>56.298760</td>\n",
       "      <td>547.607180</td>\n",
       "      <td>-0.045443</td>\n",
       "      <td>0.292969</td>\n",
       "    </tr>\n",
       "    <tr>\n",
       "      <th>18041</th>\n",
       "      <td>cAC</td>\n",
       "      <td>SO</td>\n",
       "      <td>hoc:CA1_int_cAC_011017HP2_2019032814552</td>\n",
       "      <td>biophysical</td>\n",
       "      <td>INT</td>\n",
       "      <td>011017HP2</td>\n",
       "      <td>SO_OLM</td>\n",
       "      <td>mc5;SO</td>\n",
       "      <td>-0.000000</td>\n",
       "      <td>0.160389</td>\n",
       "      <td>-0.000000</td>\n",
       "      <td>INH</td>\n",
       "      <td>389.542873</td>\n",
       "      <td>64.128969</td>\n",
       "      <td>1194.040136</td>\n",
       "      <td>-0.045443</td>\n",
       "      <td>0.292969</td>\n",
       "    </tr>\n",
       "    <tr>\n",
       "      <th>18042</th>\n",
       "      <td>cAC</td>\n",
       "      <td>SO</td>\n",
       "      <td>hoc:CA1_int_cAC_011017HP2_2019032814552</td>\n",
       "      <td>biophysical</td>\n",
       "      <td>INT</td>\n",
       "      <td>011017HP2</td>\n",
       "      <td>SO_OLM</td>\n",
       "      <td>mc3;SO</td>\n",
       "      <td>-0.000000</td>\n",
       "      <td>0.066779</td>\n",
       "      <td>-0.000000</td>\n",
       "      <td>INH</td>\n",
       "      <td>749.955623</td>\n",
       "      <td>82.504618</td>\n",
       "      <td>229.293817</td>\n",
       "      <td>-0.045443</td>\n",
       "      <td>0.292969</td>\n",
       "    </tr>\n",
       "    <tr>\n",
       "      <th>...</th>\n",
       "      <td>...</td>\n",
       "      <td>...</td>\n",
       "      <td>...</td>\n",
       "      <td>...</td>\n",
       "      <td>...</td>\n",
       "      <td>...</td>\n",
       "      <td>...</td>\n",
       "      <td>...</td>\n",
       "      <td>...</td>\n",
       "      <td>...</td>\n",
       "      <td>...</td>\n",
       "      <td>...</td>\n",
       "      <td>...</td>\n",
       "      <td>...</td>\n",
       "      <td>...</td>\n",
       "      <td>...</td>\n",
       "      <td>...</td>\n",
       "    </tr>\n",
       "    <tr>\n",
       "      <th>18121</th>\n",
       "      <td>cAC</td>\n",
       "      <td>SO</td>\n",
       "      <td>hoc:CA1_int_cAC_011017HP2_2019032814552</td>\n",
       "      <td>biophysical</td>\n",
       "      <td>INT</td>\n",
       "      <td>011017HP2_height_15</td>\n",
       "      <td>SO_OLM</td>\n",
       "      <td>mc6;SO</td>\n",
       "      <td>-3.141593</td>\n",
       "      <td>-0.693980</td>\n",
       "      <td>-3.141593</td>\n",
       "      <td>INH</td>\n",
       "      <td>778.957044</td>\n",
       "      <td>166.642150</td>\n",
       "      <td>848.857523</td>\n",
       "      <td>-0.045443</td>\n",
       "      <td>0.292969</td>\n",
       "    </tr>\n",
       "    <tr>\n",
       "      <th>18122</th>\n",
       "      <td>cAC</td>\n",
       "      <td>SO</td>\n",
       "      <td>hoc:CA1_int_cAC_011017HP2_2019032814552</td>\n",
       "      <td>biophysical</td>\n",
       "      <td>INT</td>\n",
       "      <td>011017HP2_height_150</td>\n",
       "      <td>SO_OLM</td>\n",
       "      <td>mc4;SO</td>\n",
       "      <td>-0.000000</td>\n",
       "      <td>0.763293</td>\n",
       "      <td>-0.000000</td>\n",
       "      <td>INH</td>\n",
       "      <td>-84.140585</td>\n",
       "      <td>43.955751</td>\n",
       "      <td>702.858575</td>\n",
       "      <td>-0.045443</td>\n",
       "      <td>0.292969</td>\n",
       "    </tr>\n",
       "    <tr>\n",
       "      <th>18123</th>\n",
       "      <td>cAC</td>\n",
       "      <td>SO</td>\n",
       "      <td>hoc:CA1_int_cAC_011017HP2_2019032814552</td>\n",
       "      <td>biophysical</td>\n",
       "      <td>INT</td>\n",
       "      <td>011017HP2_height_15</td>\n",
       "      <td>SO_OLM</td>\n",
       "      <td>mc4;SO</td>\n",
       "      <td>0.000000</td>\n",
       "      <td>-0.261246</td>\n",
       "      <td>0.000000</td>\n",
       "      <td>INH</td>\n",
       "      <td>-87.055036</td>\n",
       "      <td>146.738908</td>\n",
       "      <td>802.859823</td>\n",
       "      <td>-0.045443</td>\n",
       "      <td>0.292969</td>\n",
       "    </tr>\n",
       "    <tr>\n",
       "      <th>18124</th>\n",
       "      <td>cAC</td>\n",
       "      <td>SO</td>\n",
       "      <td>hoc:CA1_int_cAC_011017HP2_2019032814552</td>\n",
       "      <td>biophysical</td>\n",
       "      <td>INT</td>\n",
       "      <td>011017HP2_height_150</td>\n",
       "      <td>SO_OLM</td>\n",
       "      <td>mc1;SO</td>\n",
       "      <td>-3.141593</td>\n",
       "      <td>1.447884</td>\n",
       "      <td>-3.141593</td>\n",
       "      <td>INH</td>\n",
       "      <td>2.936487</td>\n",
       "      <td>27.242508</td>\n",
       "      <td>442.872543</td>\n",
       "      <td>-0.045443</td>\n",
       "      <td>0.292969</td>\n",
       "    </tr>\n",
       "    <tr>\n",
       "      <th>18125</th>\n",
       "      <td>cAC</td>\n",
       "      <td>SO</td>\n",
       "      <td>hoc:CA1_int_cAC_011017HP2_2019032814552</td>\n",
       "      <td>biophysical</td>\n",
       "      <td>INT</td>\n",
       "      <td>011017HP2_height_15</td>\n",
       "      <td>SO_OLM</td>\n",
       "      <td>mc1;SO</td>\n",
       "      <td>0.000000</td>\n",
       "      <td>-1.190234</td>\n",
       "      <td>0.000000</td>\n",
       "      <td>INH</td>\n",
       "      <td>-74.438749</td>\n",
       "      <td>151.947965</td>\n",
       "      <td>471.052835</td>\n",
       "      <td>-0.045443</td>\n",
       "      <td>0.292969</td>\n",
       "    </tr>\n",
       "  </tbody>\n",
       "</table>\n",
       "<p>88 rows × 17 columns</p>\n",
       "</div>"
      ],
      "text/plain": [
       "      etype layer  ... @dynamics:holding_current @dynamics:threshold_current\n",
       "18038   cAC    SO  ...                 -0.045443                    0.292969\n",
       "18039   cAC    SO  ...                 -0.045443                    0.292969\n",
       "18040   cAC    SO  ...                 -0.045443                    0.292969\n",
       "18041   cAC    SO  ...                 -0.045443                    0.292969\n",
       "18042   cAC    SO  ...                 -0.045443                    0.292969\n",
       "...     ...   ...  ...                       ...                         ...\n",
       "18121   cAC    SO  ...                 -0.045443                    0.292969\n",
       "18122   cAC    SO  ...                 -0.045443                    0.292969\n",
       "18123   cAC    SO  ...                 -0.045443                    0.292969\n",
       "18124   cAC    SO  ...                 -0.045443                    0.292969\n",
       "18125   cAC    SO  ...                 -0.045443                    0.292969\n",
       "\n",
       "[88 rows x 17 columns]"
      ]
     },
     "execution_count": 15,
     "metadata": {},
     "output_type": "execute_result"
    }
   ],
   "source": [
    "nodesinfo[nodesinfo['mtype'] == 'SO_OLM']"
   ]
  },
  {
   "cell_type": "markdown",
   "metadata": {
    "id": "9z-KpVi8SE5h"
   },
   "source": [
    "# Exploring the Lists"
   ]
  },
  {
   "cell_type": "code",
   "execution_count": null,
   "metadata": {
    "id": "B_7Pxh_8SE5i"
   },
   "outputs": [],
   "source": [
    "hoclist = list(cells.property_values(Cell.MODEL_TEMPLATE))\n",
    "Morpholist = list(cells.property_values(Cell.MORPHOLOGY))\n",
    "Mtypelist = list(cells.property_values(Cell.MTYPE))"
   ]
  },
  {
   "cell_type": "markdown",
   "metadata": {
    "id": "Cm01i7voSE5j"
   },
   "source": [
    "# NetPyNE"
   ]
  },
  {
   "cell_type": "code",
   "execution_count": null,
   "metadata": {
    "id": "Hjh78IPKqMd5"
   },
   "outputs": [],
   "source": [
    "%matplotlib inline"
   ]
  },
  {
   "cell_type": "code",
   "execution_count": 15,
   "metadata": {
    "executionInfo": {
     "elapsed": 308,
     "status": "ok",
     "timestamp": 1632533952688,
     "user": {
      "displayName": "Fernando Borges",
      "photoUrl": "https://lh3.googleusercontent.com/a-/AOh14GjmnOv5Ub_NRxuhRL5o0txWMXjifczY9_5VpuxcpQ=s64",
      "userId": "10661481794494853642"
     },
     "user_tz": 180
    },
    "id": "_qBMMtdFSE5k"
   },
   "outputs": [],
   "source": [
    "from netpyne import specs, sim   \n",
    "\n",
    "# Network parameters\n",
    "netParams = specs.NetParams()  # object of class NetParams to store the network parameters"
   ]
  },
  {
   "cell_type": "code",
   "execution_count": 16,
   "metadata": {
    "executionInfo": {
     "elapsed": 216,
     "status": "ok",
     "timestamp": 1632533955498,
     "user": {
      "displayName": "Fernando Borges",
      "photoUrl": "https://lh3.googleusercontent.com/a-/AOh14GjmnOv5Ub_NRxuhRL5o0txWMXjifczY9_5VpuxcpQ=s64",
      "userId": "10661481794494853642"
     },
     "user_tz": 180
    },
    "id": "JQuSMR78lvTw"
   },
   "outputs": [],
   "source": [
    "%matplotlib inline"
   ]
  },
  {
   "cell_type": "code",
   "execution_count": 11,
   "metadata": {
    "colab": {
     "base_uri": "https://localhost:8080/"
    },
    "executionInfo": {
     "elapsed": 305,
     "status": "ok",
     "timestamp": 1632533892678,
     "user": {
      "displayName": "Fernando Borges",
      "photoUrl": "https://lh3.googleusercontent.com/a-/AOh14GjmnOv5Ub_NRxuhRL5o0txWMXjifczY9_5VpuxcpQ=s64",
      "userId": "10661481794494853642"
     },
     "user_tz": 180
    },
    "id": "9fABE09DSE5k",
    "outputId": "6d96e460-1f8b-43a7-f390-83491051a6eb"
   },
   "outputs": [
    {
     "name": "stdout",
     "output_type": "stream",
     "text": [
      "SO_OLM_cAC_mc5 \n",
      " 18041 mc5 SO_OLM \n",
      " hoc = CA1_int_cAC_011017HP2_2019032814552 \n",
      " swc = 011017HP2.swc\n"
     ]
    }
   ],
   "source": [
    "gid = 18041\n",
    "MorphoName = nodesinfo['morphology'][gid] + '.swc'\n",
    "hocName = nodesinfo['model_template'][gid][4:]  \n",
    "mcName = nodesinfo['region'][gid][:3]  \n",
    "Mtype = nodesinfo['mtype'][gid]\n",
    "cellName = nodesinfo['mtype'][gid] + '_' + nodesinfo['etype'][gid] + '_' + nodesinfo['region'][gid][:3]\n",
    "MEName = nodesinfo['mtype'][gid] + '_' + nodesinfo['etype'][gid]\n",
    "MorphohocName = nodesinfo['morphology'][gid] + '__' + nodesinfo['model_template'][gid][4:]    \n",
    "\n",
    "print('%s \\n %d %s %s \\n hoc = %s \\n swc = %s' % (cellName,gid,mcName,Mtype,hocName,MorphoName))"
   ]
  },
  {
   "cell_type": "code",
   "execution_count": 12,
   "metadata": {
    "colab": {
     "base_uri": "https://localhost:8080/"
    },
    "executionInfo": {
     "elapsed": 264,
     "status": "ok",
     "timestamp": 1632533894525,
     "user": {
      "displayName": "Fernando Borges",
      "photoUrl": "https://lh3.googleusercontent.com/a-/AOh14GjmnOv5Ub_NRxuhRL5o0txWMXjifczY9_5VpuxcpQ=s64",
      "userId": "10661481794494853642"
     },
     "user_tz": 180
    },
    "id": "eVtVaiZeSE5k",
    "outputId": "3e04cf1f-40fc-4d24-8d6f-0f4b1a071a58"
   },
   "outputs": [
    {
     "name": "stdout",
     "output_type": "stream",
     "text": [
      "SP_PC_cACpyr_mc1 \n",
      " 14000 mc1 SP_PC \n",
      " hoc = CA1_pyr_cACpyr_mpg141216_A_idA_2019030513333 \n",
      " swc = dend-oh140521_B0_Rat_idC_axon-mpg141017_a1-2_idC_-_Scale_x1.000_y0.900_z1.000_-_Clone_9.swc\n"
     ]
    }
   ],
   "source": [
    "gid = 14000\n",
    "MorphoName = nodesinfo['morphology'][gid] + '.swc'\n",
    "hocName = nodesinfo['model_template'][gid][4:]  \n",
    "mcName = nodesinfo['region'][gid][:3]  \n",
    "Mtype = nodesinfo['mtype'][gid]\n",
    "cellName = nodesinfo['mtype'][gid] + '_' + nodesinfo['etype'][gid] + '_' + nodesinfo['region'][gid][:3]\n",
    "MEName = nodesinfo['mtype'][gid] + '_' + nodesinfo['etype'][gid]\n",
    "MorphohocName = nodesinfo['morphology'][gid] + '__' + nodesinfo['model_template'][gid][4:]    \n",
    "\n",
    "print('%s \\n %d %s %s \\n hoc = %s \\n swc = %s' % (cellName,gid,mcName,Mtype,hocName,MorphoName))"
   ]
  },
  {
   "cell_type": "code",
   "execution_count": 17,
   "metadata": {
    "executionInfo": {
     "elapsed": 1648,
     "status": "ok",
     "timestamp": 1632533962317,
     "user": {
      "displayName": "Fernando Borges",
      "photoUrl": "https://lh3.googleusercontent.com/a-/AOh14GjmnOv5Ub_NRxuhRL5o0txWMXjifczY9_5VpuxcpQ=s64",
      "userId": "10661481794494853642"
     },
     "user_tz": 180
    },
    "id": "Ksp9GGF9SE5l"
   },
   "outputs": [],
   "source": [
    "for gid in [14000]: #,18041\n",
    "    MorphoName = nodesinfo['morphology'][gid] + '.swc'\n",
    "    hocName = nodesinfo['model_template'][gid][4:]  \n",
    "    if cellName == nodesinfo['mtype'][gid] + '_' + nodesinfo['etype'][gid] + '_' + nodesinfo['region'][gid][:3]:\n",
    "        cellName = nodesinfo['mtype'][gid] + '_' + nodesinfo['etype'][gid] + '_' + nodesinfo['region'][gid][:3] + '_2'\n",
    "    else:  \n",
    "        cellName = nodesinfo['mtype'][gid] + '_' + nodesinfo['etype'][gid] + '_' + nodesinfo['region'][gid][:3]\n",
    "    \n",
    "    cellRule = netParams.importCellParams(label=cellName, somaAtOrigin=False,\n",
    "        conds={'cellType': cellName, 'cellModel': 'HH_full'},\n",
    "        fileName='/content/gdrive/MyDrive/CA1_netpyne/sim/cellwrapper.py',\n",
    "        cellName='loadCell',\n",
    "        cellInstance = True,\n",
    "        cellArgs={'hocName': hocName, 'MorphoName': MorphoName})\n",
    "    netParams.renameCellParamsSec(label=cellName, oldSec='soma_0', newSec='soma')"
   ]
  },
  {
   "cell_type": "code",
   "execution_count": 18,
   "metadata": {
    "colab": {
     "base_uri": "https://localhost:8080/"
    },
    "executionInfo": {
     "elapsed": 5,
     "status": "ok",
     "timestamp": 1632533963635,
     "user": {
      "displayName": "Fernando Borges",
      "photoUrl": "https://lh3.googleusercontent.com/a-/AOh14GjmnOv5Ub_NRxuhRL5o0txWMXjifczY9_5VpuxcpQ=s64",
      "userId": "10661481794494853642"
     },
     "user_tz": 180
    },
    "id": "IFyvRCllSE5l",
    "outputId": "a48fdb94-2f23-4de3-d778-238e4da6262d"
   },
   "outputs": [
    {
     "data": {
      "text/plain": [
       "odict_keys(['SP_PC_cACpyr_mc1'])"
      ]
     },
     "execution_count": 18,
     "metadata": {},
     "output_type": "execute_result"
    }
   ],
   "source": [
    "# netParams.cellParams[cellName]\n",
    "netParams.cellParams.keys()"
   ]
  },
  {
   "cell_type": "code",
   "execution_count": 19,
   "metadata": {
    "executionInfo": {
     "elapsed": 327,
     "status": "ok",
     "timestamp": 1632533990755,
     "user": {
      "displayName": "Fernando Borges",
      "photoUrl": "https://lh3.googleusercontent.com/a-/AOh14GjmnOv5Ub_NRxuhRL5o0txWMXjifczY9_5VpuxcpQ=s64",
      "userId": "10661481794494853642"
     },
     "user_tz": 180
    },
    "id": "n5SeVknJSE5m"
   },
   "outputs": [],
   "source": [
    "netParams.popParams['SP_PC_cACpyr'] = {'cellType': 'SP_PC_cACpyr_mc1', 'numCells': 1, 'cellModel': 'HH_full'}\n",
    "# netParams.popParams['SO_OLM_cAC'] = {'cellType': 'SO_OLM_cAC_mc5', 'numCells': 1, 'cellModel': 'HH_full'}"
   ]
  },
  {
   "cell_type": "markdown",
   "metadata": {
    "id": "2QDx4qo-SE5n"
   },
   "source": [
    "## LOAD PHYS FROM FILES"
   ]
  },
  {
   "cell_type": "code",
   "execution_count": null,
   "metadata": {
    "id": "RgmjIN8oEWCi",
    "scrolled": false
   },
   "outputs": [],
   "source": [
    "Epops = pd.unique(nodesinfo[nodesinfo['synapse_class'] == 'EXC']['mtype'])"
   ]
  },
  {
   "cell_type": "code",
   "execution_count": null,
   "metadata": {
    "id": "7OMfS3AUvF1U"
   },
   "outputs": [],
   "source": [
    "Ipops = pd.unique(nodesinfo[nodesinfo['synapse_class'] == 'INH']['mtype'])"
   ]
  },
  {
   "cell_type": "markdown",
   "metadata": {
    "id": "dF1l3ZmPJc48"
   },
   "source": [
    "#Tratamento dos dados"
   ]
  },
  {
   "cell_type": "code",
   "execution_count": null,
   "metadata": {
    "colab": {
     "base_uri": "https://localhost:8080/",
     "height": 416
    },
    "executionInfo": {
     "elapsed": 687,
     "status": "ok",
     "timestamp": 1632520513686,
     "user": {
      "displayName": "Lavinia Mitiko Takarabe",
      "photoUrl": "https://lh3.googleusercontent.com/a/default-user=s64",
      "userId": "11900514963050471931"
     },
     "user_tz": 180
    },
    "id": "eA5iZTN3IvEg",
    "outputId": "477f9634-49f1-4db4-c370-a854bf0171c8"
   },
   "outputs": [
    {
     "data": {
      "text/html": [
       "<div>\n",
       "<style scoped>\n",
       "    .dataframe tbody tr th:only-of-type {\n",
       "        vertical-align: middle;\n",
       "    }\n",
       "\n",
       "    .dataframe tbody tr th {\n",
       "        vertical-align: top;\n",
       "    }\n",
       "\n",
       "    .dataframe thead th {\n",
       "        text-align: right;\n",
       "    }\n",
       "</style>\n",
       "<table border=\"1\" class=\"dataframe\">\n",
       "  <thead>\n",
       "    <tr style=\"text-align: right;\">\n",
       "      <th></th>\n",
       "      <th>connType</th>\n",
       "      <th>tau_r_AMPA</th>\n",
       "      <th>tau_d_AMPA</th>\n",
       "      <th>std_tau_d_AMPA</th>\n",
       "      <th>tau_r_NMDA</th>\n",
       "      <th>tau_d_NMDA</th>\n",
       "      <th>std_tau_d_NMDA</th>\n",
       "      <th>Use</th>\n",
       "      <th>Use_std</th>\n",
       "      <th>Dep</th>\n",
       "      <th>Dep_std</th>\n",
       "      <th>Fac</th>\n",
       "      <th>Fac_std</th>\n",
       "      <th>gmax</th>\n",
       "      <th>NMDA_ratio</th>\n",
       "    </tr>\n",
       "  </thead>\n",
       "  <tbody>\n",
       "    <tr>\n",
       "      <th>0</th>\n",
       "      <td>SP_PC:SP_BS</td>\n",
       "      <td>0.50</td>\n",
       "      <td>4.12</td>\n",
       "      <td>NaN</td>\n",
       "      <td>NaN</td>\n",
       "      <td>148.50</td>\n",
       "      <td>0.09</td>\n",
       "      <td>0.23</td>\n",
       "      <td>0.09</td>\n",
       "      <td>410.0</td>\n",
       "      <td>11.0</td>\n",
       "      <td>10.0</td>\n",
       "      <td>0.10</td>\n",
       "      <td>1.65</td>\n",
       "      <td>0.28</td>\n",
       "    </tr>\n",
       "    <tr>\n",
       "      <th>1</th>\n",
       "      <td>SP_PC:SP_CCKBC</td>\n",
       "      <td>0.50</td>\n",
       "      <td>4.12</td>\n",
       "      <td>NaN</td>\n",
       "      <td>NaN</td>\n",
       "      <td>298.75</td>\n",
       "      <td>0.09</td>\n",
       "      <td>0.23</td>\n",
       "      <td>0.09</td>\n",
       "      <td>410.0</td>\n",
       "      <td>11.0</td>\n",
       "      <td>10.0</td>\n",
       "      <td>0.40</td>\n",
       "      <td>3.50</td>\n",
       "      <td>0.86</td>\n",
       "    </tr>\n",
       "    <tr>\n",
       "      <th>2</th>\n",
       "      <td>SP_PC:SP_Ivy</td>\n",
       "      <td>0.50</td>\n",
       "      <td>4.12</td>\n",
       "      <td>NaN</td>\n",
       "      <td>NaN</td>\n",
       "      <td>NaN</td>\n",
       "      <td>NaN</td>\n",
       "      <td>NaN</td>\n",
       "      <td>0.02</td>\n",
       "      <td>617.0</td>\n",
       "      <td>5.0</td>\n",
       "      <td>17.0</td>\n",
       "      <td>0.40</td>\n",
       "      <td>2.30</td>\n",
       "      <td>NaN</td>\n",
       "    </tr>\n",
       "    <tr>\n",
       "      <th>3</th>\n",
       "      <td>SP_PC:SP_PVBC</td>\n",
       "      <td>0.50</td>\n",
       "      <td>4.12</td>\n",
       "      <td>NaN</td>\n",
       "      <td>NaN</td>\n",
       "      <td>NaN</td>\n",
       "      <td>NaN</td>\n",
       "      <td>NaN</td>\n",
       "      <td>0.09</td>\n",
       "      <td>410.0</td>\n",
       "      <td>11.0</td>\n",
       "      <td>10.0</td>\n",
       "      <td>0.05</td>\n",
       "      <td>2.00</td>\n",
       "      <td>NaN</td>\n",
       "    </tr>\n",
       "    <tr>\n",
       "      <th>4</th>\n",
       "      <td>SP_PC:SO_Tri</td>\n",
       "      <td>NaN</td>\n",
       "      <td>NaN</td>\n",
       "      <td>NaN</td>\n",
       "      <td>NaN</td>\n",
       "      <td>NaN</td>\n",
       "      <td>NaN</td>\n",
       "      <td>NaN</td>\n",
       "      <td>NaN</td>\n",
       "      <td>NaN</td>\n",
       "      <td>NaN</td>\n",
       "      <td>NaN</td>\n",
       "      <td>NaN</td>\n",
       "      <td>NaN</td>\n",
       "      <td>NaN</td>\n",
       "    </tr>\n",
       "    <tr>\n",
       "      <th>5</th>\n",
       "      <td>SP_PC:SLM_PPA</td>\n",
       "      <td>NaN</td>\n",
       "      <td>NaN</td>\n",
       "      <td>NaN</td>\n",
       "      <td>NaN</td>\n",
       "      <td>NaN</td>\n",
       "      <td>NaN</td>\n",
       "      <td>NaN</td>\n",
       "      <td>NaN</td>\n",
       "      <td>NaN</td>\n",
       "      <td>NaN</td>\n",
       "      <td>NaN</td>\n",
       "      <td>NaN</td>\n",
       "      <td>NaN</td>\n",
       "      <td>NaN</td>\n",
       "    </tr>\n",
       "    <tr>\n",
       "      <th>6</th>\n",
       "      <td>SP_PC:SO_BP</td>\n",
       "      <td>NaN</td>\n",
       "      <td>NaN</td>\n",
       "      <td>NaN</td>\n",
       "      <td>NaN</td>\n",
       "      <td>NaN</td>\n",
       "      <td>NaN</td>\n",
       "      <td>NaN</td>\n",
       "      <td>NaN</td>\n",
       "      <td>NaN</td>\n",
       "      <td>NaN</td>\n",
       "      <td>NaN</td>\n",
       "      <td>NaN</td>\n",
       "      <td>NaN</td>\n",
       "      <td>NaN</td>\n",
       "    </tr>\n",
       "    <tr>\n",
       "      <th>7</th>\n",
       "      <td>SP_PC:SR_SCA</td>\n",
       "      <td>NaN</td>\n",
       "      <td>NaN</td>\n",
       "      <td>NaN</td>\n",
       "      <td>NaN</td>\n",
       "      <td>NaN</td>\n",
       "      <td>NaN</td>\n",
       "      <td>NaN</td>\n",
       "      <td>NaN</td>\n",
       "      <td>NaN</td>\n",
       "      <td>NaN</td>\n",
       "      <td>NaN</td>\n",
       "      <td>NaN</td>\n",
       "      <td>NaN</td>\n",
       "      <td>NaN</td>\n",
       "    </tr>\n",
       "    <tr>\n",
       "      <th>8</th>\n",
       "      <td>SP_PC:SP_AA</td>\n",
       "      <td>NaN</td>\n",
       "      <td>NaN</td>\n",
       "      <td>NaN</td>\n",
       "      <td>NaN</td>\n",
       "      <td>NaN</td>\n",
       "      <td>NaN</td>\n",
       "      <td>NaN</td>\n",
       "      <td>NaN</td>\n",
       "      <td>NaN</td>\n",
       "      <td>NaN</td>\n",
       "      <td>NaN</td>\n",
       "      <td>NaN</td>\n",
       "      <td>NaN</td>\n",
       "      <td>NaN</td>\n",
       "    </tr>\n",
       "    <tr>\n",
       "      <th>9</th>\n",
       "      <td>SP_PC:SP_PC</td>\n",
       "      <td>0.02</td>\n",
       "      <td>3.00</td>\n",
       "      <td>NaN</td>\n",
       "      <td>NaN</td>\n",
       "      <td>148.50</td>\n",
       "      <td>0.02</td>\n",
       "      <td>0.50</td>\n",
       "      <td>0.02</td>\n",
       "      <td>671.0</td>\n",
       "      <td>5.0</td>\n",
       "      <td>17.0</td>\n",
       "      <td>0.10</td>\n",
       "      <td>0.60</td>\n",
       "      <td>1.22</td>\n",
       "    </tr>\n",
       "    <tr>\n",
       "      <th>10</th>\n",
       "      <td>SP_PC:SO_BS</td>\n",
       "      <td>0.50</td>\n",
       "      <td>4.12</td>\n",
       "      <td>NaN</td>\n",
       "      <td>NaN</td>\n",
       "      <td>148.50</td>\n",
       "      <td>0.09</td>\n",
       "      <td>0.23</td>\n",
       "      <td>0.09</td>\n",
       "      <td>410.0</td>\n",
       "      <td>11.0</td>\n",
       "      <td>10.0</td>\n",
       "      <td>0.10</td>\n",
       "      <td>1.65</td>\n",
       "      <td>0.28</td>\n",
       "    </tr>\n",
       "    <tr>\n",
       "      <th>11</th>\n",
       "      <td>SP_PC:SO_OLM</td>\n",
       "      <td>0.14</td>\n",
       "      <td>1.70</td>\n",
       "      <td>NaN</td>\n",
       "      <td>NaN</td>\n",
       "      <td>148.50</td>\n",
       "      <td>0.02</td>\n",
       "      <td>0.09</td>\n",
       "      <td>0.12</td>\n",
       "      <td>138.0</td>\n",
       "      <td>830.0</td>\n",
       "      <td>670.0</td>\n",
       "      <td>0.05</td>\n",
       "      <td>0.80</td>\n",
       "      <td>0.28</td>\n",
       "    </tr>\n",
       "  </tbody>\n",
       "</table>\n",
       "</div>"
      ],
      "text/plain": [
       "          connType  tau_r_AMPA  tau_d_AMPA  ...  Fac_std  gmax  NMDA_ratio\n",
       "0      SP_PC:SP_BS        0.50        4.12  ...     0.10  1.65        0.28\n",
       "1   SP_PC:SP_CCKBC        0.50        4.12  ...     0.40  3.50        0.86\n",
       "2     SP_PC:SP_Ivy        0.50        4.12  ...     0.40  2.30         NaN\n",
       "3    SP_PC:SP_PVBC        0.50        4.12  ...     0.05  2.00         NaN\n",
       "4     SP_PC:SO_Tri         NaN         NaN  ...      NaN   NaN         NaN\n",
       "5    SP_PC:SLM_PPA         NaN         NaN  ...      NaN   NaN         NaN\n",
       "6      SP_PC:SO_BP         NaN         NaN  ...      NaN   NaN         NaN\n",
       "7     SP_PC:SR_SCA         NaN         NaN  ...      NaN   NaN         NaN\n",
       "8      SP_PC:SP_AA         NaN         NaN  ...      NaN   NaN         NaN\n",
       "9      SP_PC:SP_PC        0.02        3.00  ...     0.10  0.60        1.22\n",
       "10     SP_PC:SO_BS        0.50        4.12  ...     0.10  1.65        0.28\n",
       "11    SP_PC:SO_OLM        0.14        1.70  ...     0.05  0.80        0.28\n",
       "\n",
       "[12 rows x 15 columns]"
      ]
     },
     "execution_count": 31,
     "metadata": {},
     "output_type": "execute_result"
    }
   ],
   "source": [
    "syndata_exc = pd.read_csv('/content/gdrive/MyDrive/ca1data/syndata_exc.csv')\n",
    "syndata_exc"
   ]
  },
  {
   "cell_type": "markdown",
   "metadata": {
    "id": "zii8Li2V97bQ"
   },
   "source": [
    "**Conversão da unidade do gmax:**"
   ]
  },
  {
   "cell_type": "code",
   "execution_count": null,
   "metadata": {
    "id": "PSSXjMlLwfa0"
   },
   "outputs": [],
   "source": [
    "#Weight conversion factor (from nS to uS)\n",
    "syndata_exc['gmax'] = syndata_exc['gmax']"
   ]
  },
  {
   "cell_type": "code",
   "execution_count": null,
   "metadata": {
    "colab": {
     "base_uri": "https://localhost:8080/"
    },
    "executionInfo": {
     "elapsed": 251,
     "status": "ok",
     "timestamp": 1632524167794,
     "user": {
      "displayName": "Lavinia Mitiko Takarabe",
      "photoUrl": "https://lh3.googleusercontent.com/a/default-user=s64",
      "userId": "11900514963050471931"
     },
     "user_tz": 180
    },
    "id": "as3oM6VpA_cR",
    "outputId": "8bf94cc6-c479-44bc-a6c4-f12e610371ca"
   },
   "outputs": [
    {
     "data": {
      "text/plain": [
       "129    0.0014\n",
       "Name: gmax, dtype: float64"
      ]
     },
     "execution_count": 65,
     "metadata": {},
     "output_type": "execute_result"
    }
   ],
   "source": [
    "syndata_inh[syndata_inh['connType']=='SO_OLM:SP_PC']['gmax']"
   ]
  },
  {
   "cell_type": "markdown",
   "metadata": {
    "id": "vajKS0NW9qqn"
   },
   "source": [
    "**Parâmetros Excitatórios:**"
   ]
  },
  {
   "cell_type": "code",
   "execution_count": null,
   "metadata": {
    "id": "SLM-ADWdj0lr"
   },
   "outputs": [],
   "source": [
    "exc_parameters = ['tau_r_AMPA', 'tau_d_AMPA', 'tau_r_NMDA', 'tau_d_NMDA', 'Use', 'Dep', 'Fac', 'gmax', 'NMDA_ratio']\n",
    "exc_values = [0.2, 1.7, 9.0, 61.0, 1.0, 100, 10, 0.001, 1.22]"
   ]
  },
  {
   "cell_type": "code",
   "execution_count": null,
   "metadata": {
    "id": "2MBmbKQtKoiX"
   },
   "outputs": [],
   "source": [
    "index = 0\n",
    "\n",
    "for exc_parameter in exc_parameters:\n",
    "  syndata_exc[exc_parameter] = syndata_exc[exc_parameter].fillna(exc_values[index])\n",
    "  index = index + 1"
   ]
  },
  {
   "cell_type": "code",
   "execution_count": null,
   "metadata": {
    "id": "HU0JdpWnujDT"
   },
   "outputs": [],
   "source": [
    "#syndata_exc = syndata_exc[exc_parameters]\n",
    "#syndata_exc"
   ]
  },
  {
   "cell_type": "code",
   "execution_count": null,
   "metadata": {
    "id": "Phs4sCr-2eox"
   },
   "outputs": [],
   "source": [
    "for pre in Epops:\n",
    "    for post in Mtypelist:\n",
    "        proj = '%s:%s' % (pre, post)\n",
    "\n",
    "        syndata_proj = syndata_exc[syndata_exc['connType'] == proj]\n",
    "\n",
    "\n",
    "        netParams.synMechParams[proj] = {'mod': 'DetAMPANMDA',\n",
    "                                         'tau_r_AMPA': float(syndata_proj['tau_r_AMPA']), \n",
    "                                         'tau_d_AMPA': float(syndata_proj['tau_d_AMPA']), \n",
    "                                         'tau_r_NMDA': float(syndata_proj['tau_r_NMDA']), \n",
    "                                         'tau_d_NMDA': float(syndata_proj['tau_d_NMDA']), \n",
    "                                         'Use': float(syndata_proj['Use']), \n",
    "                                         'Dep': float(syndata_proj['Dep']), \n",
    "                                         'Fac': float(syndata_proj['Fac']), \n",
    "                                         #'gmax': float(syndata_proj['gmax']), \n",
    "                                         'NMDA_ratio': float(syndata_proj['NMDA_ratio'])}"
   ]
  },
  {
   "cell_type": "code",
   "execution_count": 21,
   "metadata": {
    "executionInfo": {
     "elapsed": 304,
     "status": "ok",
     "timestamp": 1632534287733,
     "user": {
      "displayName": "Fernando Borges",
      "photoUrl": "https://lh3.googleusercontent.com/a-/AOh14GjmnOv5Ub_NRxuhRL5o0txWMXjifczY9_5VpuxcpQ=s64",
      "userId": "10661481794494853642"
     },
     "user_tz": 180
    },
    "id": "ym5TwfbtnJIa"
   },
   "outputs": [],
   "source": [
    "netParams.synMechParams['SP_PC:SP_PC'] = {'Dep': 138.0,\n",
    "                                          'Fac': 670.0,\n",
    "                                          'NMDA_ratio': 0.28,\n",
    "                                          'Use': 0.09,\n",
    "                                          'mod': 'DetAMPANMDA',\n",
    "                                          'tau_d_AMPA': 1.7,\n",
    "                                          'tau_d_NMDA': 148.5,\n",
    "                                          'tau_r_AMPA': 0.14,\n",
    "                                          'tau_r_NMDA': 9.0}"
   ]
  },
  {
   "cell_type": "code",
   "execution_count": null,
   "metadata": {
    "colab": {
     "base_uri": "https://localhost:8080/"
    },
    "executionInfo": {
     "elapsed": 275,
     "status": "ok",
     "timestamp": 1632520535920,
     "user": {
      "displayName": "Lavinia Mitiko Takarabe",
      "photoUrl": "https://lh3.googleusercontent.com/a/default-user=s64",
      "userId": "11900514963050471931"
     },
     "user_tz": 180
    },
    "id": "-_PCvuJurJb4",
    "outputId": "43a699cb-5a30-49f3-8525-a4f8606fa8d0"
   },
   "outputs": [
    {
     "data": {
      "text/plain": [
       "{'Dep': 138.0,\n",
       " 'Fac': 670.0,\n",
       " 'NMDA_ratio': 0.28,\n",
       " 'Use': 0.09,\n",
       " 'mod': 'DetAMPANMDA',\n",
       " 'tau_d_AMPA': 1.7,\n",
       " 'tau_d_NMDA': 148.5,\n",
       " 'tau_r_AMPA': 0.14,\n",
       " 'tau_r_NMDA': 9.0}"
      ]
     },
     "execution_count": 37,
     "metadata": {},
     "output_type": "execute_result"
    }
   ],
   "source": [
    "netParams.synMechParams['SP_PC:SO_OLM']"
   ]
  },
  {
   "cell_type": "markdown",
   "metadata": {
    "id": "_5sG7fcrpJ5j"
   },
   "source": [
    "**Parâmetros Inibitórios:**"
   ]
  },
  {
   "cell_type": "code",
   "execution_count": null,
   "metadata": {
    "colab": {
     "base_uri": "https://localhost:8080/",
     "height": 414
    },
    "executionInfo": {
     "elapsed": 254,
     "status": "ok",
     "timestamp": 1632529511195,
     "user": {
      "displayName": "Lavinia Mitiko Takarabe",
      "photoUrl": "https://lh3.googleusercontent.com/a/default-user=s64",
      "userId": "11900514963050471931"
     },
     "user_tz": 180
    },
    "id": "7YO25vfTpGNx",
    "outputId": "46fbbef9-89cd-47c5-e522-c9cec542f59f"
   },
   "outputs": [
    {
     "data": {
      "text/html": [
       "<div>\n",
       "<style scoped>\n",
       "    .dataframe tbody tr th:only-of-type {\n",
       "        vertical-align: middle;\n",
       "    }\n",
       "\n",
       "    .dataframe tbody tr th {\n",
       "        vertical-align: top;\n",
       "    }\n",
       "\n",
       "    .dataframe thead th {\n",
       "        text-align: right;\n",
       "    }\n",
       "</style>\n",
       "<table border=\"1\" class=\"dataframe\">\n",
       "  <thead>\n",
       "    <tr style=\"text-align: right;\">\n",
       "      <th></th>\n",
       "      <th>connType</th>\n",
       "      <th>tau_d_GABAA</th>\n",
       "      <th>tau_d_GABAA_std</th>\n",
       "      <th>Use</th>\n",
       "      <th>Use_std</th>\n",
       "      <th>Dep</th>\n",
       "      <th>Dep_std</th>\n",
       "      <th>Fac</th>\n",
       "      <th>Fac_std</th>\n",
       "      <th>gmax</th>\n",
       "      <th>gmax_std</th>\n",
       "      <th>Nrrp</th>\n",
       "      <th>s_type</th>\n",
       "      <th>type</th>\n",
       "    </tr>\n",
       "  </thead>\n",
       "  <tbody>\n",
       "    <tr>\n",
       "      <th>0</th>\n",
       "      <td>SP_BS:SP_BS</td>\n",
       "      <td>NaN</td>\n",
       "      <td>NaN</td>\n",
       "      <td>NaN</td>\n",
       "      <td>NaN</td>\n",
       "      <td>NaN</td>\n",
       "      <td>NaN</td>\n",
       "      <td>NaN</td>\n",
       "      <td>NaN</td>\n",
       "      <td>NaN</td>\n",
       "      <td>NaN</td>\n",
       "      <td>NaN</td>\n",
       "      <td>NaN</td>\n",
       "      <td>NaN</td>\n",
       "    </tr>\n",
       "    <tr>\n",
       "      <th>1</th>\n",
       "      <td>SP_BS:SP_CCKBC</td>\n",
       "      <td>NaN</td>\n",
       "      <td>NaN</td>\n",
       "      <td>NaN</td>\n",
       "      <td>NaN</td>\n",
       "      <td>NaN</td>\n",
       "      <td>NaN</td>\n",
       "      <td>NaN</td>\n",
       "      <td>NaN</td>\n",
       "      <td>NaN</td>\n",
       "      <td>NaN</td>\n",
       "      <td>NaN</td>\n",
       "      <td>NaN</td>\n",
       "      <td>NaN</td>\n",
       "    </tr>\n",
       "    <tr>\n",
       "      <th>2</th>\n",
       "      <td>SP_BS:SP_Ivy</td>\n",
       "      <td>NaN</td>\n",
       "      <td>NaN</td>\n",
       "      <td>NaN</td>\n",
       "      <td>NaN</td>\n",
       "      <td>NaN</td>\n",
       "      <td>NaN</td>\n",
       "      <td>NaN</td>\n",
       "      <td>NaN</td>\n",
       "      <td>NaN</td>\n",
       "      <td>NaN</td>\n",
       "      <td>NaN</td>\n",
       "      <td>NaN</td>\n",
       "      <td>NaN</td>\n",
       "    </tr>\n",
       "    <tr>\n",
       "      <th>3</th>\n",
       "      <td>SP_BS:SP_PVBC</td>\n",
       "      <td>NaN</td>\n",
       "      <td>NaN</td>\n",
       "      <td>NaN</td>\n",
       "      <td>NaN</td>\n",
       "      <td>NaN</td>\n",
       "      <td>NaN</td>\n",
       "      <td>NaN</td>\n",
       "      <td>NaN</td>\n",
       "      <td>NaN</td>\n",
       "      <td>NaN</td>\n",
       "      <td>NaN</td>\n",
       "      <td>NaN</td>\n",
       "      <td>NaN</td>\n",
       "    </tr>\n",
       "    <tr>\n",
       "      <th>4</th>\n",
       "      <td>SP_BS:SO_Tri</td>\n",
       "      <td>NaN</td>\n",
       "      <td>NaN</td>\n",
       "      <td>NaN</td>\n",
       "      <td>NaN</td>\n",
       "      <td>NaN</td>\n",
       "      <td>NaN</td>\n",
       "      <td>NaN</td>\n",
       "      <td>NaN</td>\n",
       "      <td>NaN</td>\n",
       "      <td>NaN</td>\n",
       "      <td>NaN</td>\n",
       "      <td>NaN</td>\n",
       "      <td>NaN</td>\n",
       "    </tr>\n",
       "    <tr>\n",
       "      <th>...</th>\n",
       "      <td>...</td>\n",
       "      <td>...</td>\n",
       "      <td>...</td>\n",
       "      <td>...</td>\n",
       "      <td>...</td>\n",
       "      <td>...</td>\n",
       "      <td>...</td>\n",
       "      <td>...</td>\n",
       "      <td>...</td>\n",
       "      <td>...</td>\n",
       "      <td>...</td>\n",
       "      <td>...</td>\n",
       "      <td>...</td>\n",
       "      <td>...</td>\n",
       "    </tr>\n",
       "    <tr>\n",
       "      <th>127</th>\n",
       "      <td>SO_OLM:SR_SCA</td>\n",
       "      <td>NaN</td>\n",
       "      <td>NaN</td>\n",
       "      <td>NaN</td>\n",
       "      <td>NaN</td>\n",
       "      <td>NaN</td>\n",
       "      <td>NaN</td>\n",
       "      <td>NaN</td>\n",
       "      <td>NaN</td>\n",
       "      <td>NaN</td>\n",
       "      <td>NaN</td>\n",
       "      <td>NaN</td>\n",
       "      <td>NaN</td>\n",
       "      <td>NaN</td>\n",
       "    </tr>\n",
       "    <tr>\n",
       "      <th>128</th>\n",
       "      <td>SO_OLM:SP_AA</td>\n",
       "      <td>NaN</td>\n",
       "      <td>NaN</td>\n",
       "      <td>NaN</td>\n",
       "      <td>NaN</td>\n",
       "      <td>NaN</td>\n",
       "      <td>NaN</td>\n",
       "      <td>NaN</td>\n",
       "      <td>NaN</td>\n",
       "      <td>NaN</td>\n",
       "      <td>NaN</td>\n",
       "      <td>NaN</td>\n",
       "      <td>NaN</td>\n",
       "      <td>NaN</td>\n",
       "    </tr>\n",
       "    <tr>\n",
       "      <th>129</th>\n",
       "      <td>SO_OLM:SP_PC</td>\n",
       "      <td>8.3</td>\n",
       "      <td>2.2</td>\n",
       "      <td>0.3</td>\n",
       "      <td>0.08</td>\n",
       "      <td>1250.0</td>\n",
       "      <td>520.0</td>\n",
       "      <td>2.0</td>\n",
       "      <td>4.0</td>\n",
       "      <td>1.4</td>\n",
       "      <td>0.3</td>\n",
       "      <td>1.0</td>\n",
       "      <td>I2</td>\n",
       "      <td>IE</td>\n",
       "    </tr>\n",
       "    <tr>\n",
       "      <th>130</th>\n",
       "      <td>SO_OLM:SO_BS</td>\n",
       "      <td>NaN</td>\n",
       "      <td>NaN</td>\n",
       "      <td>NaN</td>\n",
       "      <td>NaN</td>\n",
       "      <td>NaN</td>\n",
       "      <td>NaN</td>\n",
       "      <td>NaN</td>\n",
       "      <td>NaN</td>\n",
       "      <td>NaN</td>\n",
       "      <td>NaN</td>\n",
       "      <td>NaN</td>\n",
       "      <td>NaN</td>\n",
       "      <td>NaN</td>\n",
       "    </tr>\n",
       "    <tr>\n",
       "      <th>131</th>\n",
       "      <td>SO_OLM:SO_OLM</td>\n",
       "      <td>NaN</td>\n",
       "      <td>NaN</td>\n",
       "      <td>NaN</td>\n",
       "      <td>NaN</td>\n",
       "      <td>NaN</td>\n",
       "      <td>NaN</td>\n",
       "      <td>NaN</td>\n",
       "      <td>NaN</td>\n",
       "      <td>NaN</td>\n",
       "      <td>NaN</td>\n",
       "      <td>NaN</td>\n",
       "      <td>NaN</td>\n",
       "      <td>NaN</td>\n",
       "    </tr>\n",
       "  </tbody>\n",
       "</table>\n",
       "<p>132 rows × 14 columns</p>\n",
       "</div>"
      ],
      "text/plain": [
       "           connType  tau_d_GABAA  tau_d_GABAA_std  ...  Nrrp  s_type  type\n",
       "0       SP_BS:SP_BS          NaN              NaN  ...   NaN     NaN   NaN\n",
       "1    SP_BS:SP_CCKBC          NaN              NaN  ...   NaN     NaN   NaN\n",
       "2      SP_BS:SP_Ivy          NaN              NaN  ...   NaN     NaN   NaN\n",
       "3     SP_BS:SP_PVBC          NaN              NaN  ...   NaN     NaN   NaN\n",
       "4      SP_BS:SO_Tri          NaN              NaN  ...   NaN     NaN   NaN\n",
       "..              ...          ...              ...  ...   ...     ...   ...\n",
       "127   SO_OLM:SR_SCA          NaN              NaN  ...   NaN     NaN   NaN\n",
       "128    SO_OLM:SP_AA          NaN              NaN  ...   NaN     NaN   NaN\n",
       "129    SO_OLM:SP_PC          8.3              2.2  ...   1.0      I2    IE\n",
       "130    SO_OLM:SO_BS          NaN              NaN  ...   NaN     NaN   NaN\n",
       "131   SO_OLM:SO_OLM          NaN              NaN  ...   NaN     NaN   NaN\n",
       "\n",
       "[132 rows x 14 columns]"
      ]
     },
     "execution_count": 93,
     "metadata": {},
     "output_type": "execute_result"
    }
   ],
   "source": [
    "syndata_inh = pd.read_csv('/content/gdrive/MyDrive/ca1data/syndata_inh.csv')\n",
    "syndata_inh"
   ]
  },
  {
   "cell_type": "code",
   "execution_count": null,
   "metadata": {
    "id": "u7R0MgI3pGMT"
   },
   "outputs": [],
   "source": [
    "#Weight conversion factor (from nS to uS)\n",
    "syndata_inh['gmax'] = syndata_inh['gmax']"
   ]
  },
  {
   "cell_type": "code",
   "execution_count": null,
   "metadata": {
    "id": "ryqk4ULKuZMa"
   },
   "outputs": [],
   "source": [
    "inh_parameters =  ['tau_d_GABAA', 'Use', 'Dep', 'Fac', 'gmax']\n",
    "inh_values = [8, 1.0, 100, 10, 0.001]"
   ]
  },
  {
   "cell_type": "code",
   "execution_count": null,
   "metadata": {
    "id": "A4Diaezlu26F"
   },
   "outputs": [],
   "source": [
    "index = 0\n",
    "\n",
    "for inh_parameter in inh_parameters:\n",
    "  syndata_inh[inh_parameter] = syndata_inh[inh_parameter].fillna(inh_values[index])\n",
    "  index = index + 1"
   ]
  },
  {
   "cell_type": "code",
   "execution_count": null,
   "metadata": {
    "id": "DYSNjkxQrgc4"
   },
   "outputs": [],
   "source": [
    "for pre in Ipops:\n",
    "    for post in Mtypelist:\n",
    "        proj = '%s:%s' % (pre, post)\n",
    "\n",
    "        syndata_proj = syndata_inh[syndata_inh['connType'] == proj]\n",
    "\n",
    "\n",
    "        netParams.synMechParams[proj] = {'mod': 'DetGABAAB',\n",
    "                                         'tau_d_GABAA': float(syndata_proj['tau_d_GABAA']), #MEXER AQUI\n",
    "                                         'Use': float(syndata_proj['Use']), \n",
    "                                         'Dep': float(syndata_proj['Dep']), \n",
    "                                         'Fac': float(syndata_proj['Fac']) \n",
    "                                         #'gmax': float(syndata_proj['gmax'])\n",
    "                                         }"
   ]
  },
  {
   "cell_type": "code",
   "execution_count": null,
   "metadata": {
    "id": "VxNsIbpdLkKa"
   },
   "outputs": [],
   "source": [
    "netParams.synMechParams['OLM_PC']={'mod':'DetGABAAB', \n",
    "                                   'tau_d_GABAA':8.3, 'e_GABAA':-75.0,\n",
    "                                   'Use': 0.3, \n",
    "                                   'Dep': 1250.0, \n",
    "                                   'Fac': 2, 'GABAB_ratio': 0} "
   ]
  },
  {
   "cell_type": "code",
   "execution_count": null,
   "metadata": {
    "colab": {
     "base_uri": "https://localhost:8080/"
    },
    "executionInfo": {
     "elapsed": 218,
     "status": "ok",
     "timestamp": 1631721553163,
     "user": {
      "displayName": "Lavinia Mitiko Takarabe",
      "photoUrl": "https://lh3.googleusercontent.com/a/default-user=s64",
      "userId": "11900514963050471931"
     },
     "user_tz": 180
    },
    "id": "Uc581GsJLtr_",
    "outputId": "48f5a51c-56df-45b8-c893-5792948adea8"
   },
   "outputs": [
    {
     "data": {
      "text/plain": [
       "{'Dep': 1250.0,\n",
       " 'Fac': 2,\n",
       " 'GABAB_ratio': 0,\n",
       " 'Use': 0.3,\n",
       " 'e_GABAA': -75.0,\n",
       " 'mod': 'DetGABAAB',\n",
       " 'tau_d_GABAA': 8.3}"
      ]
     },
     "execution_count": 59,
     "metadata": {},
     "output_type": "execute_result"
    }
   ],
   "source": [
    "netParams.synMechParams['OLM_PC']"
   ]
  },
  {
   "cell_type": "code",
   "execution_count": null,
   "metadata": {
    "colab": {
     "base_uri": "https://localhost:8080/"
    },
    "executionInfo": {
     "elapsed": 245,
     "status": "ok",
     "timestamp": 1631721270565,
     "user": {
      "displayName": "Lavinia Mitiko Takarabe",
      "photoUrl": "https://lh3.googleusercontent.com/a/default-user=s64",
      "userId": "11900514963050471931"
     },
     "user_tz": 180
    },
    "id": "WpK9imQxuO66",
    "outputId": "b4272a03-9f62-41a7-f10c-f315d90ee71d"
   },
   "outputs": [
    {
     "data": {
      "text/plain": [
       "{'Dep': 1250.0,\n",
       " 'Fac': 2.0,\n",
       " 'Use': 0.3,\n",
       " 'mod': 'DetGABAAB.mod',\n",
       " 'tau_d_GABAA': 8.3}"
      ]
     },
     "execution_count": 45,
     "metadata": {},
     "output_type": "execute_result"
    }
   ],
   "source": [
    "netParams.synMechParams['SO_OLM:SP_PC']"
   ]
  },
  {
   "cell_type": "markdown",
   "metadata": {
    "id": "5XzuHiZCRQJf"
   },
   "source": [
    "#Network"
   ]
  },
  {
   "cell_type": "code",
   "execution_count": null,
   "metadata": {
    "id": "0VAuKEFy23gJ"
   },
   "outputs": [],
   "source": [
    "# Options\n",
    "#durationstim = 800.0\n",
    "#delaystim = 100.0\n",
    "#timesimulation = 1000.0\n",
    "#ampstim =  [-0.8, -0.6, -0.2, 0.2 ,0.4, 0.6 , 0.8, 1.0]\n",
    "#step_number = 6\n",
    "#netParams.stimSourceParams['Input'] = {'type': 'IClamp', 'del': delaystim, 'dur': durationstim, 'amp': ampstim[step_number]}\n",
    "\n",
    "#netParams.stimTargetParams['Input->all'] = {'source': 'Input', 'sec':'soma', 'loc': 0.5, 'conds': {'pop':'SO_OLM_cAC'}}"
   ]
  },
  {
   "cell_type": "code",
   "execution_count": null,
   "metadata": {
    "id": "HMtljilXZiYp"
   },
   "outputs": [],
   "source": [
    "#------------------------------------------------------------------------------\n",
    "#\tNETWORK CONNECTIONS\t\n",
    "#------------------------------------------------------------------------------\n",
    "\n",
    "##EXC\n",
    "#for pre in ['SP_PC_cACpyr']:\n",
    "#\tfor post in ['SO_OLM_cAC']:\n",
    "#\t\tnetParams.connParams[pre + '->' + post] = {\n",
    "#\t\t\t'preConds': {'pop': pre},\n",
    "#\t\t\t'postConds': {'pop': post},\n",
    "#\t\t\t# 'sec': postsynDict[postsynList[i]],\n",
    "#\t\t\t'synsPerConn': 2,\n",
    "#\t\t\t'synMech': 'SP_PC:SO_OLM',\n",
    "#\t\t\t'weight': 1.5,\n",
    "#\t\t\t'delay': 0.5\n",
    "#\t\t\t}\n",
    "#\t\tif post=='SP_PC_cACpyr_mc2_0':\n",
    "#\t\t\tnetParams.connParams[pre + '->' + post]['synMech'] = 'SP_PC:SP_PC'\n",
    "\n",
    "##INH\n",
    "for pre in ['SO_OLM_cAC']:\n",
    "\tfor post in ['SP_PC_cACpyr']:\n",
    "\t\tnetParams.connParams[pre + '->' + post] = {\n",
    "\t\t\t'preConds': {'pop': pre},\n",
    "\t\t\t'postConds': {'pop': post},\n",
    "\t\t\t# 'sec': postsynDict[postsynList[i]],\n",
    "\t\t\t'synsPerConn': 8,\n",
    "\t\t\t'synMech': 'SO_OLM:SP_PC',\n",
    "\t\t\t'weight': 1.5,\n",
    "\t\t\t'delay': 0.5\n",
    "\t\t\t}"
   ]
  },
  {
   "cell_type": "code",
   "execution_count": 45,
   "metadata": {
    "executionInfo": {
     "elapsed": 319,
     "status": "ok",
     "timestamp": 1632535571836,
     "user": {
      "displayName": "Fernando Borges",
      "photoUrl": "https://lh3.googleusercontent.com/a-/AOh14GjmnOv5Ub_NRxuhRL5o0txWMXjifczY9_5VpuxcpQ=s64",
      "userId": "10661481794494853642"
     },
     "user_tz": 180
    },
    "id": "919afFmg0IRy"
   },
   "outputs": [],
   "source": [
    "netParams.stimSourceParams['Input'] = {'type': 'NetStim', 'rate':20, 'start': 100, 'number': 8}\n",
    "netParams.stimTargetParams['Input->SP_PC_cACpyr'] = {'source': 'Input','synMech': 'SP_PC:SP_PC', 'weight': 10,'delay': 0.5, 'conds': {'pop':'SP_PC_cACpyr'}}"
   ]
  },
  {
   "cell_type": "code",
   "execution_count": null,
   "metadata": {
    "id": "awK7JSsOSE5u"
   },
   "outputs": [],
   "source": [
    "## Options\n",
    "#durationstim = 800.0\n",
    "#delaystim = 100.0\n",
    "#timesimulation = 1000.0\n",
    "#ampstim =  [-0.8, -0.6, -0.2, 0.2 ,0.4, 0.6 , 0.8, 1.0]\n",
    "#step_number = 6\n",
    "#netParams.stimSourceParams['Input'] = {'type': 'IClamp', 'del': delaystim, 'dur': durationstim, 'amp': ampstim[step_number]}#\n",
    "\n",
    "#netParams.stimTargetParams['Input->all'] = {'source': 'Input', 'sec':'soma', 'loc': 0.5, 'conds': {'pop':'SO_OLM_cAC'}}"
   ]
  },
  {
   "cell_type": "code",
   "execution_count": 46,
   "metadata": {
    "executionInfo": {
     "elapsed": 313,
     "status": "ok",
     "timestamp": 1632535576649,
     "user": {
      "displayName": "Fernando Borges",
      "photoUrl": "https://lh3.googleusercontent.com/a-/AOh14GjmnOv5Ub_NRxuhRL5o0txWMXjifczY9_5VpuxcpQ=s64",
      "userId": "10661481794494853642"
     },
     "user_tz": 180
    },
    "id": "EYQaXuYSSE5u"
   },
   "outputs": [],
   "source": [
    "## cfg  \n",
    "cfg = specs.SimConfig()\t\t\t\t\t            # object of class SimConfig to store simulation configuration\n",
    "cfg.duration = 1000 \t\t\t\t\t\t            # Duration of the simulation, in ms\n",
    "cfg.dt = 0.01\t\t\t\t\t\t\t\t                # Internal integration timestep to use\n",
    "cfg.verbose = False\t\t\t\t\t\t\t                # Show detailed messages \n",
    "cfg.recordTraces = {'V_soma':{'sec':'soma','loc':0.5,'var':'v'}}  # Dict with traces to record\n",
    "cfg.recordStep = 0.01 \t\t\t\n",
    "cfg.filename = 'model_exc'  \t\t\t# Set file output name\n",
    "cfg.saveJson = False\n",
    "cfg.analysis['plotTraces'] = {'include': [0, 1], 'timeRange': [0,1000], 'saveFig': True, 'showFig': True, 'figSize':(12,4)} # , 'ylim': [-90,30] Plot recorded traces for this list of cells\n",
    "# cfg.analysis['plotShape'] = {'includePre': [0, 1],'includePre': [0, 1], 'saveFig': True, 'showFig': True, 'figSize':(12,12)}\n",
    "cfg.hParams['celsius'] = 34.0"
   ]
  },
  {
   "cell_type": "code",
   "execution_count": 47,
   "metadata": {
    "colab": {
     "base_uri": "https://localhost:8080/"
    },
    "executionInfo": {
     "elapsed": 13,
     "status": "ok",
     "timestamp": 1632535577847,
     "user": {
      "displayName": "Fernando Borges",
      "photoUrl": "https://lh3.googleusercontent.com/a-/AOh14GjmnOv5Ub_NRxuhRL5o0txWMXjifczY9_5VpuxcpQ=s64",
      "userId": "10661481794494853642"
     },
     "user_tz": 180
    },
    "id": "t6sL9GzsSE5v",
    "outputId": "8efdd9e5-2630-4f3f-f7f2-504dc8b198da"
   },
   "outputs": [
    {
     "name": "stdout",
     "output_type": "stream",
     "text": [
      "\n",
      "Start time:  2021-09-25 02:06:17.542589\n"
     ]
    },
    {
     "data": {
      "text/plain": [
       "ODict([('SP_PC_cACpyr', <netpyne.network.pop.Pop at 0x7f2f0cc8a710>)])"
      ]
     },
     "execution_count": 47,
     "metadata": {},
     "output_type": "execute_result"
    }
   ],
   "source": [
    "sim.initialize(\n",
    "    simConfig = cfg, \t\n",
    "    netParams = netParams)  \t\t\t\t# create network object and set cfg and net params\n",
    "sim.net.createPops()               \t\t\t# instantiate network populations"
   ]
  },
  {
   "cell_type": "code",
   "execution_count": 48,
   "metadata": {
    "colab": {
     "base_uri": "https://localhost:8080/"
    },
    "executionInfo": {
     "elapsed": 299,
     "status": "ok",
     "timestamp": 1632535579717,
     "user": {
      "displayName": "Fernando Borges",
      "photoUrl": "https://lh3.googleusercontent.com/a-/AOh14GjmnOv5Ub_NRxuhRL5o0txWMXjifczY9_5VpuxcpQ=s64",
      "userId": "10661481794494853642"
     },
     "user_tz": 180
    },
    "id": "SHsYLyYESE5v",
    "outputId": "94e48ea3-448e-4ba8-9e38-22ec767f88f1"
   },
   "outputs": [
    {
     "name": "stdout",
     "output_type": "stream",
     "text": [
      "\n",
      "Creating network of 1 cell populations on 1 hosts...\n",
      "  Number of cells on node 0: 1 \n",
      "  Done; cell creation time = 0.24 s.\n"
     ]
    },
    {
     "data": {
      "text/plain": [
       "[compartCell_SP_PC_cACpyr_mc1_HH_full_0]"
      ]
     },
     "execution_count": 48,
     "metadata": {},
     "output_type": "execute_result"
    }
   ],
   "source": [
    "sim.net.createCells()              \t\t\t# instantiate network cells based on defined populations"
   ]
  },
  {
   "cell_type": "code",
   "execution_count": 49,
   "metadata": {
    "colab": {
     "base_uri": "https://localhost:8080/"
    },
    "executionInfo": {
     "elapsed": 6,
     "status": "ok",
     "timestamp": 1632535581472,
     "user": {
      "displayName": "Fernando Borges",
      "photoUrl": "https://lh3.googleusercontent.com/a-/AOh14GjmnOv5Ub_NRxuhRL5o0txWMXjifczY9_5VpuxcpQ=s64",
      "userId": "10661481794494853642"
     },
     "user_tz": 180
    },
    "id": "1Y2aVIEtSE5v",
    "outputId": "53567e8e-b45e-4a2a-9128-972e3652ec75",
    "scrolled": true
   },
   "outputs": [
    {
     "name": "stdout",
     "output_type": "stream",
     "text": [
      "Making connections...\n",
      "  Number of connections on node 0: 0 \n",
      "  Done; cell connection time = 0.00 s.\n"
     ]
    },
    {
     "data": {
      "text/plain": [
       "[[]]"
      ]
     },
     "execution_count": 49,
     "metadata": {},
     "output_type": "execute_result"
    }
   ],
   "source": [
    "sim.net.connectCells()            \t\t\t# create connections between cells based on params"
   ]
  },
  {
   "cell_type": "code",
   "execution_count": 50,
   "metadata": {
    "colab": {
     "base_uri": "https://localhost:8080/"
    },
    "executionInfo": {
     "elapsed": 312,
     "status": "ok",
     "timestamp": 1632535583422,
     "user": {
      "displayName": "Fernando Borges",
      "photoUrl": "https://lh3.googleusercontent.com/a-/AOh14GjmnOv5Ub_NRxuhRL5o0txWMXjifczY9_5VpuxcpQ=s64",
      "userId": "10661481794494853642"
     },
     "user_tz": 180
    },
    "id": "ftDyCaAOSE5w",
    "outputId": "1617bc80-53fd-4cd6-ba23-ddab3185242a"
   },
   "outputs": [
    {
     "name": "stdout",
     "output_type": "stream",
     "text": [
      "Adding stims...\n",
      "  Number of stims on node 0: 1 \n",
      "  Done; cell stims creation time = 0.00 s.\n"
     ]
    },
    {
     "data": {
      "text/plain": [
       "[[{source: 'Input', type: 'NetStim', rate: 20, noise: 0.0, number: 8, start: 100, seed: 1, hRandom: Random[8], hObj: NetStim[0]}]]"
      ]
     },
     "execution_count": 50,
     "metadata": {},
     "output_type": "execute_result"
    }
   ],
   "source": [
    "sim.net.addStims() \t\t\t\t\t\t\t# add network stimulation"
   ]
  },
  {
   "cell_type": "code",
   "execution_count": 51,
   "metadata": {
    "colab": {
     "base_uri": "https://localhost:8080/"
    },
    "executionInfo": {
     "elapsed": 16,
     "status": "ok",
     "timestamp": 1632535587418,
     "user": {
      "displayName": "Fernando Borges",
      "photoUrl": "https://lh3.googleusercontent.com/a-/AOh14GjmnOv5Ub_NRxuhRL5o0txWMXjifczY9_5VpuxcpQ=s64",
      "userId": "10661481794494853642"
     },
     "user_tz": 180
    },
    "id": "h1myIFRGSE5w",
    "outputId": "b2981cb4-9128-479d-b752-75eb6e936fdc"
   },
   "outputs": [
    {
     "name": "stdout",
     "output_type": "stream",
     "text": [
      "Recording 1 traces of 1 types on node 0\n"
     ]
    },
    {
     "data": {
      "text/plain": [
       "{spkt: Vector[23924], spkid: Vector[23925], V_soma: {cell_0: Vector[23926]}, t: Vector[23927], _repr_mimebundle_: {}}"
      ]
     },
     "execution_count": 51,
     "metadata": {},
     "output_type": "execute_result"
    }
   ],
   "source": [
    "sim.setupRecording()              \t\t\t# setup variables to record for each cell (spikes, V traces, etc)"
   ]
  },
  {
   "cell_type": "code",
   "execution_count": 52,
   "metadata": {
    "colab": {
     "base_uri": "https://localhost:8080/"
    },
    "executionInfo": {
     "elapsed": 1938573,
     "status": "ok",
     "timestamp": 1632537526755,
     "user": {
      "displayName": "Fernando Borges",
      "photoUrl": "https://lh3.googleusercontent.com/a-/AOh14GjmnOv5Ub_NRxuhRL5o0txWMXjifczY9_5VpuxcpQ=s64",
      "userId": "10661481794494853642"
     },
     "user_tz": 180
    },
    "id": "pEQelNXkSE5w",
    "outputId": "b572335c-4b0d-4a0e-fe4d-7df416678b4e"
   },
   "outputs": [
    {
     "name": "stdout",
     "output_type": "stream",
     "text": [
      "\n",
      "Running simulation for 1000.0 ms...\n",
      "  Done; run time = 1938.50 s; real-time ratio: 0.00.\n"
     ]
    }
   ],
   "source": [
    "sim.runSim()                      \t\t\t# run parallel Neuron simulation  "
   ]
  },
  {
   "cell_type": "code",
   "execution_count": 53,
   "metadata": {
    "colab": {
     "base_uri": "https://localhost:8080/"
    },
    "executionInfo": {
     "elapsed": 398,
     "status": "ok",
     "timestamp": 1632537527136,
     "user": {
      "displayName": "Fernando Borges",
      "photoUrl": "https://lh3.googleusercontent.com/a-/AOh14GjmnOv5Ub_NRxuhRL5o0txWMXjifczY9_5VpuxcpQ=s64",
      "userId": "10661481794494853642"
     },
     "user_tz": 180
    },
    "id": "av5mw2KzSE5w",
    "outputId": "e8c1ef05-fb84-4f8d-fb68-bd5e6f66896b",
    "scrolled": false
   },
   "outputs": [
    {
     "name": "stdout",
     "output_type": "stream",
     "text": [
      "\n",
      "Gathering data...\n",
      "  Done; gather time = 0.24 s.\n",
      "\n",
      "Analyzing...\n",
      "  Cells: 1\n",
      "  Connections: 1 (1.00 per cell)\n",
      "  Spikes: 0 (0.00 Hz)\n",
      "  Simulated time: 1.0 s; 1 workers\n",
      "  Run time: 1938.50 s\n"
     ]
    }
   ],
   "source": [
    "sim.gatherData();                  \t\t\t# gather spiking data and cell info from each node"
   ]
  },
  {
   "cell_type": "code",
   "execution_count": 31,
   "metadata": {
    "colab": {
     "base_uri": "https://localhost:8080/",
     "height": 384
    },
    "executionInfo": {
     "elapsed": 930,
     "status": "ok",
     "timestamp": 1632535400111,
     "user": {
      "displayName": "Fernando Borges",
      "photoUrl": "https://lh3.googleusercontent.com/a-/AOh14GjmnOv5Ub_NRxuhRL5o0txWMXjifczY9_5VpuxcpQ=s64",
      "userId": "10661481794494853642"
     },
     "user_tz": 180
    },
    "id": "UxtUnM5ySE5x",
    "outputId": "f50403af-68f5-49e0-dbcc-4a10a57ee547"
   },
   "outputs": [
    {
     "name": "stdout",
     "output_type": "stream",
     "text": [
      "  Done; saving time = 0.02 s.\n",
      "Plotting recorded cell traces ... cell\n"
     ]
    },
    {
     "data": {
      "image/png": "[encoded data removed]",
      "text/plain": [
       "<Figure size 864x288 with 1 Axes>"
      ]
     },
     "metadata": {
      "needs_background": "light"
     },
     "output_type": "display_data"
    },
    {
     "name": "stdout",
     "output_type": "stream",
     "text": [
      "  Done; plotting time = 0.36 s\n",
      "\n",
      "End time:  2021-09-25 02:03:19.339165\n"
     ]
    }
   ],
   "source": [
    "sim.saveData()                    \t\t\t# save params, cell info and sim output to file (pickle,mat,txt,etc)#\n",
    "sim.analysis.plotData()         \t\t\t# plot spike raster etc"
   ]
  },
  {
   "cell_type": "code",
   "execution_count": 32,
   "metadata": {
    "colab": {
     "base_uri": "https://localhost:8080/",
     "height": 671
    },
    "executionInfo": {
     "elapsed": 865,
     "status": "ok",
     "timestamp": 1632535406186,
     "user": {
      "displayName": "Fernando Borges",
      "photoUrl": "https://lh3.googleusercontent.com/a-/AOh14GjmnOv5Ub_NRxuhRL5o0txWMXjifczY9_5VpuxcpQ=s64",
      "userId": "10661481794494853642"
     },
     "user_tz": 180
    },
    "id": "UxEHGMtmSE5x",
    "outputId": "bcefee87-453b-45b0-ac9e-eb80ad0c675b"
   },
   "outputs": [
    {
     "name": "stdout",
     "output_type": "stream",
     "text": [
      "Plotting connectivity matrix...\n"
     ]
    },
    {
     "data": {
      "image/png": "[encoded data removed]",
      "text/plain": [
       "<Figure size 576x576 with 2 Axes>"
      ]
     },
     "metadata": {
      "needs_background": "light"
     },
     "output_type": "display_data"
    },
    {
     "data": {
      "text/plain": [
       "(<Figure size 576x576 with 2 Axes>, {'connMatrix': array([[ 0., -0.],\n",
       "         [ 0.,  0.]]),\n",
       "  'feature': 'strength',\n",
       "  'groupBy': 'pop',\n",
       "  'includePost': ['all'],\n",
       "  'includePre': ['all']})"
      ]
     },
     "execution_count": 32,
     "metadata": {},
     "output_type": "execute_result"
    }
   ],
   "source": [
    "sim.analysis.plotConn(graphType='matrix', saveFig=True)"
   ]
  },
  {
   "cell_type": "code",
   "execution_count": null,
   "metadata": {
    "colab": {
     "base_uri": "https://localhost:8080/",
     "height": 880
    },
    "executionInfo": {
     "elapsed": 317,
     "status": "ok",
     "timestamp": 1632523775605,
     "user": {
      "displayName": "Lavinia Mitiko Takarabe",
      "photoUrl": "https://lh3.googleusercontent.com/a/default-user=s64",
      "userId": "11900514963050471931"
     },
     "user_tz": 180
    },
    "id": "GAKTsysQrUI_",
    "outputId": "d5e0af33-878c-4175-ac2e-0e33c6cb9025"
   },
   "outputs": [
    {
     "name": "stdout",
     "output_type": "stream",
     "text": [
      "Plotting 2D representation of network cell locations and connections...\n"
     ]
    },
    {
     "data": {
      "image/png": "[encoded data removed]",
      "text/plain": [
       "<Figure size 864x864 with 1 Axes>"
      ]
     },
     "metadata": {
      "needs_background": "light"
     },
     "output_type": "display_data"
    },
    {
     "data": {
      "text/plain": [
       "(<Figure size 864x864 with 1 Axes>,\n",
       " {'include': ['allCells'],\n",
       "  'posX': [35.83531143706401, 95.00422943499773],\n",
       "  'posXpost': 35.83531143706401,\n",
       "  'posXpre': 95.00422943499773,\n",
       "  'posY': [39.84944342173416, 84.98437598231612],\n",
       "  'posYpost': 39.84944342173416,\n",
       "  'posYpre': 84.98437598231612})"
      ]
     },
     "execution_count": 61,
     "metadata": {},
     "output_type": "execute_result"
    }
   ],
   "source": [
    "sim.analysis.plot2Dnet(showConns=True, saveFig=True)"
   ]
  },
  {
   "cell_type": "code",
   "execution_count": null,
   "metadata": {
    "id": "7_G5x3kk_-j2"
   },
   "outputs": [],
   "source": []
  }
 ],
 "metadata": {
  "colab": {
   "collapsed_sections": [],
   "name": "test_tsodyksmarkram.ipynb",
   "provenance": [
    {
     "file_id": "1FPPXfi3ZzJ00MCr5-cBXGoMaijrf_G9y",
     "timestamp": 1632519799188
    }
   ]
  },
  "kernelspec": {
   "display_name": "Python 3 (ipykernel)",
   "language": "python",
   "name": "python3"
  },
  "language_info": {
   "codemirror_mode": {
    "name": "ipython",
    "version": 3
   },
   "file_extension": ".py",
   "mimetype": "text/x-python",
   "name": "python",
   "nbconvert_exporter": "python",
   "pygments_lexer": "ipython3",
   "version": "3.7.11"
  }
 },
 "nbformat": 4,
 "nbformat_minor": 1
}
