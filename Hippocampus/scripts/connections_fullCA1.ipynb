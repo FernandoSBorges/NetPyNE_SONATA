{
 "cells": [
  {
   "cell_type": "code",
   "execution_count": 1,
   "id": "653c7b9b",
   "metadata": {},
   "outputs": [
    {
     "data": {
      "text/html": [
       "<style>.container { width:100% !important; }</style>"
      ],
      "text/plain": [
       "<IPython.core.display.HTML object>"
      ]
     },
     "metadata": {},
     "output_type": "display_data"
    }
   ],
   "source": [
    "from IPython.core.display import display, HTML\n",
    "display(HTML(\"<style>.container { width:100% !important; }</style>\"))"
   ]
  },
  {
   "cell_type": "code",
   "execution_count": 2,
   "id": "867fbe45",
   "metadata": {
    "id": "9SwzxCWrQHl3"
   },
   "outputs": [],
   "source": [
    "import os"
   ]
  },
  {
   "cell_type": "code",
   "execution_count": 3,
   "id": "92943064",
   "metadata": {
    "id": "8eee64a9"
   },
   "outputs": [],
   "source": [
    "import h5py\n",
    "import numpy as np\n",
    "import pandas as pd\n",
    "import json"
   ]
  },
  {
   "cell_type": "code",
   "execution_count": 4,
   "id": "81e5c3fe",
   "metadata": {},
   "outputs": [],
   "source": [
    "f = h5py.File('/home/fernando/Documentos/ca1data20191017/sonata/edges/edges.h5', 'r') # 2.4 Gb not in github\n",
    "f1 = h5py.File('../info/data-bbp/20191017/sonata/nodes/nodes.h5', 'r')\n",
    "f2 = h5py.File('../info/gdrive/connhipp_mc2r100.h5', 'r')"
   ]
  },
  {
   "cell_type": "markdown",
   "id": "3df8e842",
   "metadata": {
    "id": "86cc9b5d"
   },
   "source": [
    "## Nodes"
   ]
  },
  {
   "cell_type": "code",
   "execution_count": 5,
   "id": "a57168ee",
   "metadata": {
    "id": "13e8bd61"
   },
   "outputs": [],
   "source": [
    "number = 0\n",
    "xmc2 = []\n",
    "zmc2 = []\n",
    "gidr100 = []\n",
    "\n",
    "for gid,x in enumerate(f1['nodes']['hippocampus_neurons']['0']['x']):\n",
    "    z = f1['nodes']['hippocampus_neurons']['0']['z'][gid]\n",
    "    if (x-360)*(x-360)+(z-630)*(z-630) <= 100*100:\n",
    "#         print(gid,x,z,region,f1['nodes']['hippocampus_neurons']['0']['@library']['mtype'][f1['nodes']['hippocampus_neurons']['0']['mtype'][gid]])   \n",
    "        xmc2.append(x)\n",
    "        zmc2.append(z)\n",
    "        gidr100.append(gid)\n",
    "        number+=1"
   ]
  },
  {
   "cell_type": "code",
   "execution_count": 6,
   "id": "f7e7db58",
   "metadata": {
    "colab": {
     "base_uri": "https://localhost:8080/",
     "height": 610
    },
    "executionInfo": {
     "elapsed": 550,
     "status": "ok",
     "timestamp": 1632607351522,
     "user": {
      "displayName": "Lavinia Mitiko Takarabe",
      "photoUrl": "https://lh3.googleusercontent.com/a/default-user=s64",
      "userId": "11900514963050471931"
     },
     "user_tz": 180
    },
    "id": "37a40468",
    "outputId": "28140258-f058-4482-8ba9-b8cd09910f5d"
   },
   "outputs": [
    {
     "data": {
      "text/plain": [
       "(524.4081448397181, 744.4081448397181)"
      ]
     },
     "execution_count": 6,
     "metadata": {},
     "output_type": "execute_result"
    },
    {
     "data": {
      "image/png": "[encoded data removed]",
      "text/plain": [
       "<Figure size 720x720 with 1 Axes>"
      ]
     },
     "metadata": {
      "needs_background": "light"
     },
     "output_type": "display_data"
    }
   ],
   "source": [
    "import matplotlib.pyplot as plt\n",
    "\n",
    "figSize = (10,10)\n",
    "fig = plt.figure(figsize=figSize)  # Open a new figure\n",
    "\n",
    "plt.plot(xmc2,zmc2,'o')\n",
    "plt.xlim(np.min(xmc2)-10,np.min(xmc2)+210)\n",
    "plt.ylim(np.min(zmc2)-10,np.min(zmc2)+210)"
   ]
  },
  {
   "cell_type": "markdown",
   "id": "8bba435f",
   "metadata": {
    "id": "b1eb4302"
   },
   "source": [
    "## Edges"
   ]
  },
  {
   "cell_type": "code",
   "execution_count": 7,
   "id": "8b3fb2a0",
   "metadata": {
    "id": "8df33c06"
   },
   "outputs": [],
   "source": [
    "# number = 0\n",
    "# imc2r100 = []\n",
    "# for i,gidpost in enumerate(f['edges']['hippocampus_neurons__hippocampus_neurons__chemical']['target_node_id']):\n",
    "#     if gidpost in gidr100:\n",
    "#         gidpre = f['edges']['hippocampus_neurons__hippocampus_neurons__chemical']['source_node_id'][i]\n",
    "#         if gidpre in gidr100:\n",
    "#             imc2r100.append(i)\n",
    "#     #         print(gidpre,gidpost)\n",
    "#             number+=1\n",
    "\n",
    "# imc2r100 = list(f2['edges'])"
   ]
  },
  {
   "cell_type": "code",
   "execution_count": 8,
   "id": "5b12ee44",
   "metadata": {
    "id": "864ec8d8"
   },
   "outputs": [],
   "source": [
    "#connhipp = {}\n",
    "#connhipp['nodes'] = {}\n",
    "#connhipp['nodes']['@library'] = {}\n",
    "#connhipp['nodes']['dynamics_params'] = {}\n",
    "#\n",
    "#for itens in list(f1['nodes']['hippocampus_neurons']['0']['@library']):\n",
    "#    connhipp['nodes']['@library'][itens] = []\n",
    "#    for names in list(f1['nodes']['hippocampus_neurons']['0']['@library'][itens]):\n",
    "#        name = str(names)\n",
    "#        connhipp['nodes']['@library'][itens].append(name[2:-1])\n",
    "##         print(itens,name[2:-1])\n",
    "#\n",
    "#connhipp['nodes']['dynamics_params']['holding_current'] = []\n",
    "#connhipp['nodes']['dynamics_params']['threshold_current'] = []\n",
    "#connhipp['nodes']['gid'] = []\n",
    "#for itens in list(f1['nodes']['hippocampus_neurons']['0'])[2:]:\n",
    "#    connhipp['nodes'][itens] = []\n",
    "#    \n",
    "#for i in gidr100:\n",
    "#    connhipp['nodes']['dynamics_params']['holding_current'].append(f1['nodes']['hippocampus_neurons']['0']['dynamics_params']['holding_current'][i])\n",
    "#    connhipp['nodes']['dynamics_params']['threshold_current'].append(f1['nodes']['hippocampus_neurons']['0']['dynamics_params']['threshold_current'][i])\n",
    "#    connhipp['nodes']['gid'].append(i)\n",
    "#    for itens in list(f1['nodes']['hippocampus_neurons']['0'])[2:]:\n",
    "#        connhipp['nodes'][itens].append(f1['nodes']['hippocampus_neurons']['0'][itens][i])"
   ]
  },
  {
   "cell_type": "code",
   "execution_count": 9,
   "id": "169f0fdb",
   "metadata": {
    "colab": {
     "base_uri": "https://localhost:8080/"
    },
    "executionInfo": {
     "elapsed": 219,
     "status": "ok",
     "timestamp": 1632607376957,
     "user": {
      "displayName": "Lavinia Mitiko Takarabe",
      "photoUrl": "https://lh3.googleusercontent.com/a/default-user=s64",
      "userId": "11900514963050471931"
     },
     "user_tz": 180
    },
    "id": "T81pCv0l9zR9",
    "outputId": "ef8a1e41-9b50-4841-fca0-940eac85f729"
   },
   "outputs": [],
   "source": [
    "mtypes = ['SLM_PPA','SO_BP','SO_BS','SO_OLM','SO_Tri','SP_AA','SP_BS','SP_CCKBC','SP_Ivy','SP_PC','SP_PVBC','SR_SCA']"
   ]
  },
  {
   "cell_type": "code",
   "execution_count": 10,
   "id": "73d2979f",
   "metadata": {
    "id": "1KrhEDv0ntne"
   },
   "outputs": [],
   "source": [
    "#mtype = f1['nodes']['hippocampus_neurons']['0']['@library']['mtype'][f1['nodes']['hippocampus_neurons']['0']['mtype'][f['edges']['hippocampus_neurons__hippocampus_neurons__chemical']['source_node_id'][0]]]"
   ]
  },
  {
   "cell_type": "code",
   "execution_count": 11,
   "id": "395d304b",
   "metadata": {
    "id": "hRmbyauO_ReT"
   },
   "outputs": [],
   "source": [
    "#proj_mtypes = []\n",
    "#source_mtypes = []\n",
    "#target_mtypes = []\n",
    "#\n",
    "#for i in imc2r100:\n",
    "#   source_id = f['edges']['hippocampus_neurons__hippocampus_neurons__chemical']['source_node_id'][i]\n",
    "#   target_id = f['edges']['hippocampus_neurons__hippocampus_neurons__chemical']['target_node_id'][i]\n",
    "#\n",
    "#   pre_mtype = mtypes[f1['nodes']['hippocampus_neurons']['0']['mtype'][source_id]]\n",
    "#   post_mtype = mtypes[f1['nodes']['hippocampus_neurons']['0']['mtype'][target_id]]\n",
    "#\n",
    "#   source_mtypes.append(pre_mtype)\n",
    "#   target_mtypes.append(post_mtype)\n",
    "#\n",
    "#   proj_mtype = f'{pre_mtype}:{post_mtype}'\n",
    "#   proj_mtypes.append(proj_mtype)"
   ]
  },
  {
   "cell_type": "code",
   "execution_count": 12,
   "id": "c929d4ef",
   "metadata": {
    "colab": {
     "base_uri": "https://localhost:8080/"
    },
    "executionInfo": {
     "elapsed": 5521,
     "status": "ok",
     "timestamp": 1632607419315,
     "user": {
      "displayName": "Lavinia Mitiko Takarabe",
      "photoUrl": "https://lh3.googleusercontent.com/a/default-user=s64",
      "userId": "11900514963050471931"
     },
     "user_tz": 180
    },
    "id": "ee16294c",
    "outputId": "94952b9f-0e61-495f-9315-f16086b6ca31"
   },
   "outputs": [
    {
     "name": "stdout",
     "output_type": "stream",
     "text": [
      "0 (28,)\n",
      "edge_type_id (19698045,)\n",
      "indices (2,)\n",
      "source_node_id (19698045,)\n",
      "target_node_id (19698045,)\n",
      "\n",
      "0\n",
      "afferent_center_x (19698045,)\n",
      "afferent_center_y (19698045,)\n",
      "afferent_center_z (19698045,)\n",
      "afferent_section_id (19698045,)\n",
      "afferent_section_pos (19698045,)\n",
      "afferent_section_pos_orig (19698045,)\n",
      "afferent_section_type (19698045,)\n",
      "afferent_segment_id (19698045,)\n",
      "afferent_segment_offset (19698045,)\n",
      "conductance (19698045,)\n",
      "decay_time (19698045,)\n",
      "delay (19698045,)\n",
      "depression_time (19698045,)\n",
      "efferent_section_id (19698045,)\n",
      "efferent_section_pos (19698045,)\n",
      "efferent_section_pos_orig (19698045,)\n",
      "efferent_section_type (19698045,)\n",
      "efferent_segment_id (19698045,)\n",
      "efferent_segment_offset (19698045,)\n",
      "efferent_surface_x (19698045,)\n",
      "efferent_surface_y (19698045,)\n",
      "efferent_surface_z (19698045,)\n",
      "facilitation_time (19698045,)\n",
      "n_rrp_vesicles (19698045,)\n",
      "spine_length (19698045,)\n",
      "syn_type_id (19698045,)\n",
      "synapse_type_id (19698045,)\n",
      "u_syn (19698045,)\n",
      "\n",
      "indices[source_to_target]\n",
      "node_id_to_ranges (18198, 2)\n",
      "range_to_edge_id (4954673, 2)\n",
      "\n",
      "indices[target_to_source]\n",
      "node_id_to_ranges (18198, 2)\n",
      "range_to_edge_id (18198, 2)\n"
     ]
    }
   ],
   "source": [
    "for itens in list(f['edges']['hippocampus_neurons__hippocampus_neurons__chemical']):\n",
    "    print(itens,np.shape(f['edges']['hippocampus_neurons__hippocampus_neurons__chemical'][itens]))\n",
    "\n",
    "print('\\n0')  \n",
    "for itens in list(f['edges']['hippocampus_neurons__hippocampus_neurons__chemical']['0']):\n",
    "    print(itens,np.shape(f['edges']['hippocampus_neurons__hippocampus_neurons__chemical']['0'][itens]))\n",
    "\n",
    "print('\\nindices[source_to_target]')  \n",
    "for itens in list(f['edges']['hippocampus_neurons__hippocampus_neurons__chemical']['indices']['source_to_target']):\n",
    "    print(itens,np.shape(f['edges']['hippocampus_neurons__hippocampus_neurons__chemical']['indices']['source_to_target'][itens]))\n",
    "    \n",
    "print('\\nindices[target_to_source]')  \n",
    "for itens in list(f['edges']['hippocampus_neurons__hippocampus_neurons__chemical']['indices']['target_to_source']):\n",
    "    print(itens,np.shape(f['edges']['hippocampus_neurons__hippocampus_neurons__chemical']['indices']['target_to_source'][itens]))\n",
    "  "
   ]
  },
  {
   "cell_type": "code",
   "execution_count": 13,
   "id": "762512ba",
   "metadata": {},
   "outputs": [
    {
     "name": "stdout",
     "output_type": "stream",
     "text": [
      "4 [4.0 4.2] 6571 6571\n",
      "5 [4.9 5.1] 837436 844007\n",
      "6 [5.9 6.2] 6636012 7480019\n",
      "7 [6.8 7.0] 310795 7790814\n",
      "8 [7.9 8.1] 3676 7794490\n",
      "13 [12.9 13.1] 1030882 8825372\n",
      "14 [13.9 14.2] 130758 8956130\n",
      "15 [14.8 15.0] 859951 9816081\n",
      "16 [15.9 16.1] 2260037 12076118\n",
      "17 [17.0 17.2] 148254 12224372\n",
      "18 [17.8 18.0] 14967 12239339\n",
      "19 [18.9 19.1] 1300 12240639\n",
      "100 [99.9 100.1] 3553062 15793701\n",
      "101 [101.0 101.2] 747808 16541509\n",
      "102 [101.8 102.1] 317335 16858844\n",
      "109 [109.0 109.2] 1245510 18104354\n",
      "110 [109.8 110.1] 231571 18335925\n",
      "111 [110.9 111.1] 274274 18610199\n",
      "112 [111.8 112.0] 1087846 19698045\n"
     ]
    },
    {
     "data": {
      "image/png": "[encoded data removed]",
      "text/plain": [
       "<Figure size 432x288 with 1 Axes>"
      ]
     },
     "metadata": {
      "needs_background": "light"
     },
     "output_type": "display_data"
    }
   ],
   "source": [
    "syn_type_id = np.array(f['edges']['hippocampus_neurons__hippocampus_neurons__chemical']['0']['syn_type_id'])\n",
    "\n",
    "histog = plt.hist(syn_type_id, bins=500)\n",
    "\n",
    "listofsyntypes = []\n",
    "synNumber = {}\n",
    "\n",
    "number = 0\n",
    "for i,y in enumerate(histog[0]):\n",
    "    if y>0:\n",
    "        number += y\n",
    "        print('%d [%.1f %.1f] %d %d' % (int(histog[1][1+i]),histog[1][i],histog[1][1+i],y,number))\n",
    "        listofsyntypes.append(int(histog[1][1+i]))\n",
    "        synNumber[int(histog[1][1+i])] = int(y)"
   ]
  },
  {
   "cell_type": "code",
   "execution_count": 30,
   "id": "f603dd43",
   "metadata": {},
   "outputs": [
    {
     "name": "stdout",
     "output_type": "stream",
     "text": [
      "4 6571 6571\n",
      "5 100000 837436\n",
      "6 100000 6636012\n",
      "7 100000 310795\n",
      "8 3676 3676\n",
      "13 100000 1030882\n",
      "14 100000 130758\n",
      "15 100000 859951\n",
      "16 100000 2260037\n",
      "17 100000 148254\n",
      "18 14967 14967\n",
      "19 1300 1300\n",
      "100 100000 3553062\n",
      "101 100000 747808\n",
      "102 100000 317335\n",
      "109 100000 1245510\n",
      "110 100000 231571\n",
      "111 100000 274274\n",
      "112 100000 1087846\n"
     ]
    }
   ],
   "source": [
    "syns_mtypes = {}\n",
    "for j in listofsyntypes:\n",
    "    syns_mtypes[j] = []\n",
    "\n",
    "for j in listofsyntypes:\n",
    "    if synNumber[j] > 100000:\n",
    "        maxconn = 100000\n",
    "    else:\n",
    "        maxconn = synNumber[j]\n",
    "        \n",
    "    print(j,maxconn,synNumber[j])\n",
    "\n",
    "    for i in np.array([p for p in itertools.islice(list([np.where(syn_type_id==j)])[0][0], maxconn)]):\n",
    "        source_id = f['edges']['hippocampus_neurons__hippocampus_neurons__chemical']['source_node_id'][i]\n",
    "        target_id = f['edges']['hippocampus_neurons__hippocampus_neurons__chemical']['target_node_id'][i]\n",
    "\n",
    "        pre_mtype = mtypes[f1['nodes']['hippocampus_neurons']['0']['mtype'][source_id]]\n",
    "        post_mtype = mtypes[f1['nodes']['hippocampus_neurons']['0']['mtype'][target_id]]\n",
    "        if pre_mtype + ':' + post_mtype not in syns_mtypes[j]:\n",
    "            syns_mtypes[j].append(pre_mtype + ':' + post_mtype)"
   ]
  },
  {
   "cell_type": "code",
   "execution_count": 34,
   "id": "03b7bd95",
   "metadata": {},
   "outputs": [],
   "source": [
    "syns_mtypes_a = { 4: ['SLM_PPA:SP_PC'], \n",
    "5: ['SO_OLM:SP_PC', 'SO_Tri:SP_PC', 'SO_BS:SP_PC', 'SO_BP:SP_PC'],\n",
    "6: ['SP_Ivy:SP_PC'],\n",
    "7: ['SO_OLM:SLM_PPA', 'SO_BS:SLM_PPA', 'SR_SCA:SLM_PPA', 'SP_Ivy:SLM_PPA', 'SP_BS:SLM_PPA', 'SO_BP:SLM_PPA', 'SP_PVBC:SR_SCA', 'SP_CCKBC:SR_SCA', 'SP_BS:SR_SCA', 'SP_Ivy:SR_SCA', 'SO_OLM:SR_SCA', 'SO_Tri:SR_SCA', 'SO_BP:SR_SCA', 'SO_BS:SR_SCA', 'SLM_PPA:SR_SCA', 'SR_SCA:SP_PVBC', 'SP_CCKBC:SP_PVBC', 'SP_BS:SP_PVBC', 'SP_Ivy:SP_PVBC', 'SO_OLM:SP_PVBC', 'SO_BS:SP_PVBC', 'SO_Tri:SP_PVBC', 'SO_BP:SP_PVBC', 'SLM_PPA:SP_PVBC', 'SR_SCA:SP_CCKBC', 'SP_PVBC:SP_CCKBC', 'SP_BS:SP_CCKBC', 'SP_Ivy:SP_CCKBC', 'SO_OLM:SP_CCKBC', 'SO_Tri:SP_CCKBC', 'SO_BS:SP_CCKBC', 'SO_BP:SP_CCKBC', 'SLM_PPA:SP_CCKBC', 'SR_SCA:SP_BS', 'SP_PVBC:SP_BS', 'SP_CCKBC:SP_BS', 'SP_BS:SP_BS', 'SP_Ivy:SP_BS', 'SO_OLM:SP_BS', 'SO_BS:SP_BS', 'SO_Tri:SP_BS', 'SO_BP:SP_BS', 'SLM_PPA:SP_BS', 'SR_SCA:SP_AA', 'SP_CCKBC:SP_AA', 'SP_BS:SP_AA', 'SP_Ivy:SP_AA', 'SO_OLM:SP_AA', 'SO_BS:SP_AA', 'SO_Tri:SP_AA', 'SO_BP:SP_AA', 'SLM_PPA:SP_AA', 'SR_SCA:SP_Ivy', 'SP_PVBC:SP_Ivy', 'SP_CCKBC:SP_Ivy', 'SP_BS:SP_Ivy', 'SP_Ivy:SP_Ivy', 'SO_BS:SP_Ivy', 'SO_Tri:SP_Ivy', 'SO_OLM:SP_Ivy', 'SO_BP:SP_Ivy', 'SLM_PPA:SP_Ivy', 'SR_SCA:SO_OLM', 'SP_PVBC:SO_OLM', 'SP_CCKBC:SO_OLM', 'SP_BS:SO_OLM', 'SP_Ivy:SO_OLM', 'SO_BS:SO_OLM', 'SO_Tri:SO_OLM', 'SO_BP:SO_OLM', 'SO_OLM:SO_OLM', 'SR_SCA:SO_BS', 'SP_PVBC:SO_BS', 'SP_CCKBC:SO_BS', 'SP_BS:SO_BS', 'SP_Ivy:SO_BS', 'SO_BS:SO_BS', 'SO_Tri:SO_BS', 'SO_BP:SO_BS', 'SO_OLM:SO_BS', 'SR_SCA:SO_Tri', 'SP_PVBC:SO_Tri', 'SP_CCKBC:SO_Tri', 'SP_BS:SO_Tri', 'SP_Ivy:SO_Tri', 'SO_BS:SO_Tri', 'SO_Tri:SO_Tri', 'SO_OLM:SO_Tri', 'SO_BP:SO_Tri', 'SLM_PPA:SO_Tri', 'SR_SCA:SO_BP', 'SP_PVBC:SO_BP', 'SP_CCKBC:SO_BP', 'SP_BS:SO_BP', 'SP_Ivy:SO_BP', 'SO_OLM:SO_BP', 'SO_BS:SO_BP', 'SO_Tri:SO_BP', 'SO_BP:SO_BP', 'SLM_PPA:SO_BP'],\n",
    "8: ['SLM_PPA:SLM_PPA', 'SR_SCA:SR_SCA', 'SP_CCKBC:SP_CCKBC'],\n",
    "13: ['SP_PVBC:SP_PC'],\n",
    "14: ['SP_AA:SP_PC'], \n",
    "15: ['SP_BS:SP_PC'], \n",
    "16: ['SP_CCKBC:SP_PC'], \n",
    "17: ['SR_SCA:SP_PC'],\n",
    "18: ['SP_PVBC:SP_PVBC'], \n",
    "19: ['SP_PVBC:SP_AA'], \n",
    "100: ['SP_PC:SP_PC'],\n",
    "101: ['SP_PC:SO_OLM', 'SP_PC:SO_BS', 'SP_PC:SO_Tri', 'SP_PC:SO_BP'],\n",
    "102: ['SP_PC:SR_SCA', 'SP_PC:SP_AA'], \n",
    "109: ['SP_PC:SP_PVBC'],\n",
    "110: ['SP_PC:SP_CCKBC'],\n",
    "111: ['SP_PC:SP_BS'], \n",
    "112: ['SP_PC:SP_Ivy']}"
   ]
  },
  {
   "cell_type": "markdown",
   "id": "5bcb9885",
   "metadata": {
    "id": "5TgzM4VyrGtO"
   },
   "source": [
    "# Synapses Per Connection"
   ]
  },
  {
   "cell_type": "code",
   "execution_count": 94,
   "id": "3250cd26",
   "metadata": {},
   "outputs": [],
   "source": [
    "import itertools\n",
    "import numpy as np\n",
    "import pandas as pd\n",
    "import matplotlib.pyplot as plt\n",
    "import seaborn\n",
    "\n",
    "from bluepysnap import Circuit\n",
    "from bluepysnap.bbp import Cell"
   ]
  },
  {
   "cell_type": "code",
   "execution_count": 95,
   "id": "c33f7e46",
   "metadata": {},
   "outputs": [],
   "source": [
    "circuit_path = '/home/fernando/Documentos/ca1data20191017/circuit_config.json'\n",
    "circuit = Circuit(circuit_path)\n",
    "cells = circuit.nodes[\"hippocampus_neurons\"]\n",
    "conn = circuit.edges[\"hippocampus_neurons__hippocampus_neurons__chemical\"]"
   ]
  },
  {
   "cell_type": "code",
   "execution_count": 96,
   "id": "b031e3b8",
   "metadata": {},
   "outputs": [],
   "source": [
    "mtypes = cells.property_values(Cell.MTYPE)\n",
    "model_mean = pd.DataFrame(index=mtypes, columns=mtypes, dtype=float)\n",
    "model_std = pd.DataFrame(index=mtypes, columns=mtypes, dtype=float)"
   ]
  },
  {
   "cell_type": "code",
   "execution_count": 97,
   "id": "4ab8eae9",
   "metadata": {},
   "outputs": [],
   "source": [
    "nsample = 10000\n",
    "def sample_nsyn(pre, post):\n",
    "    it = conn.iter_connections(pre, post, return_edge_count=True)\n",
    "    return np.array([p[2] for p in itertools.islice(it, nsample)])"
   ]
  },
  {
   "cell_type": "code",
   "execution_count": 98,
   "id": "d017107d",
   "metadata": {},
   "outputs": [
    {
     "name": "stdout",
     "output_type": "stream",
     "text": [
      "127\n"
     ]
    }
   ],
   "source": [
    "number = 0\n",
    "unique_mtypes = []\n",
    "\n",
    "for pre_mtype in mtypes:\n",
    "    for post_mtype in mtypes:\n",
    "        \n",
    "        proj = '%s:%s' % (pre_mtype, post_mtype)\n",
    "        \n",
    "        data = sample_nsyn(\n",
    "            pre={Cell.MTYPE: pre_mtype},\n",
    "            post={Cell.MTYPE: post_mtype}#                 post={Cell.MTYPE: post_mtype, Cell.REGION: {'$regex': mcsss}}\n",
    "        )\n",
    "        if len(data) != 0:\n",
    "            model_mean[post_mtype][pre_mtype] = data.mean()\n",
    "            model_std[post_mtype][pre_mtype] = data.std()\n",
    "            \n",
    "            if proj not in unique_mtypes:\n",
    "                unique_mtypes.append(proj)\n",
    "                number+= 1\n",
    "\n",
    "print(number)"
   ]
  },
  {
   "cell_type": "code",
   "execution_count": 100,
   "id": "1433086b",
   "metadata": {},
   "outputs": [
    {
     "data": {
      "text/html": [
       "<div>\n",
       "<style scoped>\n",
       "    .dataframe tbody tr th:only-of-type {\n",
       "        vertical-align: middle;\n",
       "    }\n",
       "\n",
       "    .dataframe tbody tr th {\n",
       "        vertical-align: top;\n",
       "    }\n",
       "\n",
       "    .dataframe thead th {\n",
       "        text-align: right;\n",
       "    }\n",
       "</style>\n",
       "<table border=\"1\" class=\"dataframe\">\n",
       "  <thead>\n",
       "    <tr style=\"text-align: right;\">\n",
       "      <th></th>\n",
       "      <th>SP_AA</th>\n",
       "      <th>SP_PC</th>\n",
       "      <th>SO_BS</th>\n",
       "      <th>SO_OLM</th>\n",
       "      <th>SP_BS</th>\n",
       "      <th>SP_PVBC</th>\n",
       "      <th>SR_SCA</th>\n",
       "      <th>SP_CCKBC</th>\n",
       "      <th>SP_Ivy</th>\n",
       "      <th>SLM_PPA</th>\n",
       "      <th>SO_BP</th>\n",
       "      <th>SO_Tri</th>\n",
       "    </tr>\n",
       "  </thead>\n",
       "  <tbody>\n",
       "    <tr>\n",
       "      <th>SP_AA</th>\n",
       "      <td>NaN</td>\n",
       "      <td>7.116700</td>\n",
       "      <td>NaN</td>\n",
       "      <td>NaN</td>\n",
       "      <td>NaN</td>\n",
       "      <td>NaN</td>\n",
       "      <td>NaN</td>\n",
       "      <td>NaN</td>\n",
       "      <td>NaN</td>\n",
       "      <td>NaN</td>\n",
       "      <td>NaN</td>\n",
       "      <td>NaN</td>\n",
       "    </tr>\n",
       "    <tr>\n",
       "      <th>SP_PC</th>\n",
       "      <td>4.577300</td>\n",
       "      <td>1.286900</td>\n",
       "      <td>6.629100</td>\n",
       "      <td>2.917500</td>\n",
       "      <td>3.917600</td>\n",
       "      <td>4.918100</td>\n",
       "      <td>2.931300</td>\n",
       "      <td>3.031000</td>\n",
       "      <td>3.433900</td>\n",
       "      <td>NaN</td>\n",
       "      <td>3.188800</td>\n",
       "      <td>5.192500</td>\n",
       "    </tr>\n",
       "    <tr>\n",
       "      <th>SO_BS</th>\n",
       "      <td>1.591837</td>\n",
       "      <td>6.676600</td>\n",
       "      <td>1.166667</td>\n",
       "      <td>1.364486</td>\n",
       "      <td>2.183673</td>\n",
       "      <td>3.039387</td>\n",
       "      <td>1.486111</td>\n",
       "      <td>1.583333</td>\n",
       "      <td>2.649469</td>\n",
       "      <td>1.000000</td>\n",
       "      <td>1.263158</td>\n",
       "      <td>1.719298</td>\n",
       "    </tr>\n",
       "    <tr>\n",
       "      <th>SO_OLM</th>\n",
       "      <td>3.888889</td>\n",
       "      <td>10.953300</td>\n",
       "      <td>1.000000</td>\n",
       "      <td>1.230769</td>\n",
       "      <td>1.303797</td>\n",
       "      <td>3.741176</td>\n",
       "      <td>1.310345</td>\n",
       "      <td>3.874488</td>\n",
       "      <td>1.457746</td>\n",
       "      <td>4.533333</td>\n",
       "      <td>1.307692</td>\n",
       "      <td>1.250000</td>\n",
       "    </tr>\n",
       "    <tr>\n",
       "      <th>SP_BS</th>\n",
       "      <td>2.768150</td>\n",
       "      <td>6.398500</td>\n",
       "      <td>1.581081</td>\n",
       "      <td>1.852503</td>\n",
       "      <td>4.140592</td>\n",
       "      <td>4.662974</td>\n",
       "      <td>2.863830</td>\n",
       "      <td>1.846957</td>\n",
       "      <td>3.589277</td>\n",
       "      <td>1.000000</td>\n",
       "      <td>2.017544</td>\n",
       "      <td>3.168459</td>\n",
       "    </tr>\n",
       "    <tr>\n",
       "      <th>SP_PVBC</th>\n",
       "      <td>1.282051</td>\n",
       "      <td>11.609700</td>\n",
       "      <td>1.163265</td>\n",
       "      <td>1.292181</td>\n",
       "      <td>3.011673</td>\n",
       "      <td>2.777324</td>\n",
       "      <td>1.225746</td>\n",
       "      <td>1.239012</td>\n",
       "      <td>2.035203</td>\n",
       "      <td>NaN</td>\n",
       "      <td>1.241830</td>\n",
       "      <td>1.438119</td>\n",
       "    </tr>\n",
       "    <tr>\n",
       "      <th>SR_SCA</th>\n",
       "      <td>1.198020</td>\n",
       "      <td>5.309400</td>\n",
       "      <td>1.314286</td>\n",
       "      <td>1.217391</td>\n",
       "      <td>1.270936</td>\n",
       "      <td>1.339926</td>\n",
       "      <td>3.357143</td>\n",
       "      <td>1.177778</td>\n",
       "      <td>1.260154</td>\n",
       "      <td>1.000000</td>\n",
       "      <td>1.000000</td>\n",
       "      <td>1.229508</td>\n",
       "    </tr>\n",
       "    <tr>\n",
       "      <th>SP_CCKBC</th>\n",
       "      <td>1.669763</td>\n",
       "      <td>8.619600</td>\n",
       "      <td>1.400000</td>\n",
       "      <td>1.318182</td>\n",
       "      <td>4.985646</td>\n",
       "      <td>3.920752</td>\n",
       "      <td>1.434555</td>\n",
       "      <td>1.416558</td>\n",
       "      <td>3.258709</td>\n",
       "      <td>NaN</td>\n",
       "      <td>2.544118</td>\n",
       "      <td>2.797436</td>\n",
       "    </tr>\n",
       "    <tr>\n",
       "      <th>SP_Ivy</th>\n",
       "      <td>3.036281</td>\n",
       "      <td>13.919300</td>\n",
       "      <td>1.296970</td>\n",
       "      <td>1.306452</td>\n",
       "      <td>5.686432</td>\n",
       "      <td>6.384000</td>\n",
       "      <td>2.924528</td>\n",
       "      <td>2.797954</td>\n",
       "      <td>4.874500</td>\n",
       "      <td>1.000000</td>\n",
       "      <td>1.514066</td>\n",
       "      <td>3.578091</td>\n",
       "    </tr>\n",
       "    <tr>\n",
       "      <th>SLM_PPA</th>\n",
       "      <td>3.600000</td>\n",
       "      <td>3.982424</td>\n",
       "      <td>NaN</td>\n",
       "      <td>NaN</td>\n",
       "      <td>1.000000</td>\n",
       "      <td>2.680000</td>\n",
       "      <td>1.000000</td>\n",
       "      <td>2.857143</td>\n",
       "      <td>1.470588</td>\n",
       "      <td>2.000000</td>\n",
       "      <td>1.000000</td>\n",
       "      <td>1.000000</td>\n",
       "    </tr>\n",
       "    <tr>\n",
       "      <th>SO_BP</th>\n",
       "      <td>2.428571</td>\n",
       "      <td>7.343894</td>\n",
       "      <td>1.222222</td>\n",
       "      <td>1.250000</td>\n",
       "      <td>3.162791</td>\n",
       "      <td>3.472222</td>\n",
       "      <td>1.312500</td>\n",
       "      <td>1.701389</td>\n",
       "      <td>2.613924</td>\n",
       "      <td>1.000000</td>\n",
       "      <td>1.166667</td>\n",
       "      <td>2.875000</td>\n",
       "    </tr>\n",
       "    <tr>\n",
       "      <th>SO_Tri</th>\n",
       "      <td>2.106742</td>\n",
       "      <td>6.935800</td>\n",
       "      <td>2.788732</td>\n",
       "      <td>2.940945</td>\n",
       "      <td>3.208609</td>\n",
       "      <td>3.381333</td>\n",
       "      <td>1.378947</td>\n",
       "      <td>1.302778</td>\n",
       "      <td>2.905953</td>\n",
       "      <td>NaN</td>\n",
       "      <td>2.739130</td>\n",
       "      <td>2.896552</td>\n",
       "    </tr>\n",
       "  </tbody>\n",
       "</table>\n",
       "</div>"
      ],
      "text/plain": [
       "             SP_AA      SP_PC     SO_BS    SO_OLM     SP_BS   SP_PVBC  \\\n",
       "SP_AA          NaN   7.116700       NaN       NaN       NaN       NaN   \n",
       "SP_PC     4.577300   1.286900  6.629100  2.917500  3.917600  4.918100   \n",
       "SO_BS     1.591837   6.676600  1.166667  1.364486  2.183673  3.039387   \n",
       "SO_OLM    3.888889  10.953300  1.000000  1.230769  1.303797  3.741176   \n",
       "SP_BS     2.768150   6.398500  1.581081  1.852503  4.140592  4.662974   \n",
       "SP_PVBC   1.282051  11.609700  1.163265  1.292181  3.011673  2.777324   \n",
       "SR_SCA    1.198020   5.309400  1.314286  1.217391  1.270936  1.339926   \n",
       "SP_CCKBC  1.669763   8.619600  1.400000  1.318182  4.985646  3.920752   \n",
       "SP_Ivy    3.036281  13.919300  1.296970  1.306452  5.686432  6.384000   \n",
       "SLM_PPA   3.600000   3.982424       NaN       NaN  1.000000  2.680000   \n",
       "SO_BP     2.428571   7.343894  1.222222  1.250000  3.162791  3.472222   \n",
       "SO_Tri    2.106742   6.935800  2.788732  2.940945  3.208609  3.381333   \n",
       "\n",
       "            SR_SCA  SP_CCKBC    SP_Ivy   SLM_PPA     SO_BP    SO_Tri  \n",
       "SP_AA          NaN       NaN       NaN       NaN       NaN       NaN  \n",
       "SP_PC     2.931300  3.031000  3.433900       NaN  3.188800  5.192500  \n",
       "SO_BS     1.486111  1.583333  2.649469  1.000000  1.263158  1.719298  \n",
       "SO_OLM    1.310345  3.874488  1.457746  4.533333  1.307692  1.250000  \n",
       "SP_BS     2.863830  1.846957  3.589277  1.000000  2.017544  3.168459  \n",
       "SP_PVBC   1.225746  1.239012  2.035203       NaN  1.241830  1.438119  \n",
       "SR_SCA    3.357143  1.177778  1.260154  1.000000  1.000000  1.229508  \n",
       "SP_CCKBC  1.434555  1.416558  3.258709       NaN  2.544118  2.797436  \n",
       "SP_Ivy    2.924528  2.797954  4.874500  1.000000  1.514066  3.578091  \n",
       "SLM_PPA   1.000000  2.857143  1.470588  2.000000  1.000000  1.000000  \n",
       "SO_BP     1.312500  1.701389  2.613924  1.000000  1.166667  2.875000  \n",
       "SO_Tri    1.378947  1.302778  2.905953       NaN  2.739130  2.896552  "
      ]
     },
     "execution_count": 100,
     "metadata": {},
     "output_type": "execute_result"
    }
   ],
   "source": [
    "model_mean"
   ]
  },
  {
   "cell_type": "code",
   "execution_count": 101,
   "id": "3980e4aa",
   "metadata": {},
   "outputs": [
    {
     "name": "stderr",
     "output_type": "stream",
     "text": [
      "/home/fernando/anaconda3/envs/p37/lib/python3.7/site-packages/ipykernel_launcher.py:11: UserWarning: Matplotlib is currently using module://matplotlib_inline.backend_inline, which is a non-GUI backend, so cannot show the figure.\n",
      "  # This is added back by InteractiveShellApp.init_path()\n"
     ]
    },
    {
     "data": {
      "image/png": "[encoded data removed]",
      "text/plain": [
       "<Figure size 432x288 with 2 Axes>"
      ]
     },
     "metadata": {
      "needs_background": "light"
     },
     "output_type": "display_data"
    }
   ],
   "source": [
    "ax = seaborn.heatmap(model_mean)\n",
    "\n",
    "fig = plt.gcf()\n",
    "fig.suptitle('Number of synapses per connection', )\n",
    "\n",
    "ax.set_xlabel('presynaptic mtype')\n",
    "ax.set_ylabel('postsynaptic mtype')\n",
    "\n",
    "ax.collections[0].colorbar.set_label(\"# synapses\")\n",
    "\n",
    "fig.show()"
   ]
  },
  {
   "cell_type": "code",
   "execution_count": 102,
   "id": "6e4aa345",
   "metadata": {
    "id": "i-GYyuzogpLL"
   },
   "outputs": [],
   "source": [
    "pre_mtypes = []\n",
    "post_mtypes = []\n",
    "for proj in unique_mtypes:\n",
    "    split = proj.split(sep=':')\n",
    "    pre_mtypes.append(split[0])\n",
    "    post_mtypes.append(split[1])"
   ]
  },
  {
   "cell_type": "code",
   "execution_count": 104,
   "id": "04d1f048",
   "metadata": {
    "id": "zsPyaXYyYf0d"
   },
   "outputs": [],
   "source": [
    "synsPerConn = {}\n",
    "synsPerConn['pre'] = pre_mtypes\n",
    "synsPerConn['post'] = post_mtypes\n",
    "synsPerConn['proj'] = unique_mtypes\n",
    "synsPerConn['n_syns'] = []\n",
    "for i,proj in enumerate(unique_mtypes):\n",
    "    synsPerConn['n_syns'].append(model_mean[str(pre_mtypes[i])][str(post_mtypes[i])]) "
   ]
  },
  {
   "cell_type": "code",
   "execution_count": 105,
   "id": "1423c86e",
   "metadata": {
    "colab": {
     "base_uri": "https://localhost:8080/",
     "height": 1000
    },
    "executionInfo": {
     "elapsed": 9,
     "status": "ok",
     "timestamp": 1632616435232,
     "user": {
      "displayName": "Lavinia Mitiko Takarabe",
      "photoUrl": "https://lh3.googleusercontent.com/a/default-user=s64",
      "userId": "11900514963050471931"
     },
     "user_tz": 180
    },
    "id": "u2sv7ryhf9eB",
    "outputId": "996f8a81-21b6-41a8-fba9-97e896bf8850"
   },
   "outputs": [
    {
     "data": {
      "text/html": [
       "<div>\n",
       "<style scoped>\n",
       "    .dataframe tbody tr th:only-of-type {\n",
       "        vertical-align: middle;\n",
       "    }\n",
       "\n",
       "    .dataframe tbody tr th {\n",
       "        vertical-align: top;\n",
       "    }\n",
       "\n",
       "    .dataframe thead th {\n",
       "        text-align: right;\n",
       "    }\n",
       "</style>\n",
       "<table border=\"1\" class=\"dataframe\">\n",
       "  <thead>\n",
       "    <tr style=\"text-align: right;\">\n",
       "      <th></th>\n",
       "      <th>pre</th>\n",
       "      <th>post</th>\n",
       "      <th>proj</th>\n",
       "      <th>n_syns</th>\n",
       "    </tr>\n",
       "  </thead>\n",
       "  <tbody>\n",
       "    <tr>\n",
       "      <th>0</th>\n",
       "      <td>SP_AA</td>\n",
       "      <td>SP_PC</td>\n",
       "      <td>SP_AA:SP_PC</td>\n",
       "      <td>4.577300</td>\n",
       "    </tr>\n",
       "    <tr>\n",
       "      <th>1</th>\n",
       "      <td>SP_PC</td>\n",
       "      <td>SP_AA</td>\n",
       "      <td>SP_PC:SP_AA</td>\n",
       "      <td>7.116700</td>\n",
       "    </tr>\n",
       "    <tr>\n",
       "      <th>2</th>\n",
       "      <td>SP_PC</td>\n",
       "      <td>SP_PC</td>\n",
       "      <td>SP_PC:SP_PC</td>\n",
       "      <td>1.286900</td>\n",
       "    </tr>\n",
       "    <tr>\n",
       "      <th>3</th>\n",
       "      <td>SP_PC</td>\n",
       "      <td>SO_BS</td>\n",
       "      <td>SP_PC:SO_BS</td>\n",
       "      <td>6.676600</td>\n",
       "    </tr>\n",
       "    <tr>\n",
       "      <th>4</th>\n",
       "      <td>SP_PC</td>\n",
       "      <td>SO_OLM</td>\n",
       "      <td>SP_PC:SO_OLM</td>\n",
       "      <td>10.953300</td>\n",
       "    </tr>\n",
       "    <tr>\n",
       "      <th>...</th>\n",
       "      <td>...</td>\n",
       "      <td>...</td>\n",
       "      <td>...</td>\n",
       "      <td>...</td>\n",
       "    </tr>\n",
       "    <tr>\n",
       "      <th>122</th>\n",
       "      <td>SO_Tri</td>\n",
       "      <td>SR_SCA</td>\n",
       "      <td>SO_Tri:SR_SCA</td>\n",
       "      <td>1.229508</td>\n",
       "    </tr>\n",
       "    <tr>\n",
       "      <th>123</th>\n",
       "      <td>SO_Tri</td>\n",
       "      <td>SP_CCKBC</td>\n",
       "      <td>SO_Tri:SP_CCKBC</td>\n",
       "      <td>2.797436</td>\n",
       "    </tr>\n",
       "    <tr>\n",
       "      <th>124</th>\n",
       "      <td>SO_Tri</td>\n",
       "      <td>SP_Ivy</td>\n",
       "      <td>SO_Tri:SP_Ivy</td>\n",
       "      <td>3.578091</td>\n",
       "    </tr>\n",
       "    <tr>\n",
       "      <th>125</th>\n",
       "      <td>SO_Tri</td>\n",
       "      <td>SO_BP</td>\n",
       "      <td>SO_Tri:SO_BP</td>\n",
       "      <td>2.875000</td>\n",
       "    </tr>\n",
       "    <tr>\n",
       "      <th>126</th>\n",
       "      <td>SO_Tri</td>\n",
       "      <td>SO_Tri</td>\n",
       "      <td>SO_Tri:SO_Tri</td>\n",
       "      <td>2.896552</td>\n",
       "    </tr>\n",
       "  </tbody>\n",
       "</table>\n",
       "<p>127 rows × 4 columns</p>\n",
       "</div>"
      ],
      "text/plain": [
       "        pre      post             proj     n_syns\n",
       "0     SP_AA     SP_PC      SP_AA:SP_PC   4.577300\n",
       "1     SP_PC     SP_AA      SP_PC:SP_AA   7.116700\n",
       "2     SP_PC     SP_PC      SP_PC:SP_PC   1.286900\n",
       "3     SP_PC     SO_BS      SP_PC:SO_BS   6.676600\n",
       "4     SP_PC    SO_OLM     SP_PC:SO_OLM  10.953300\n",
       "..      ...       ...              ...        ...\n",
       "122  SO_Tri    SR_SCA    SO_Tri:SR_SCA   1.229508\n",
       "123  SO_Tri  SP_CCKBC  SO_Tri:SP_CCKBC   2.797436\n",
       "124  SO_Tri    SP_Ivy    SO_Tri:SP_Ivy   3.578091\n",
       "125  SO_Tri     SO_BP     SO_Tri:SO_BP   2.875000\n",
       "126  SO_Tri    SO_Tri    SO_Tri:SO_Tri   2.896552\n",
       "\n",
       "[127 rows x 4 columns]"
      ]
     },
     "execution_count": 105,
     "metadata": {},
     "output_type": "execute_result"
    }
   ],
   "source": [
    "synsPerConn = pd.DataFrame(synsPerConn)\n",
    "synsPerConn"
   ]
  },
  {
   "cell_type": "code",
   "execution_count": 106,
   "id": "02497380",
   "metadata": {
    "id": "-LuQvVMYhxyF"
   },
   "outputs": [],
   "source": [
    "import seaborn as sns"
   ]
  },
  {
   "cell_type": "code",
   "execution_count": 107,
   "id": "8aebf740",
   "metadata": {
    "colab": {
     "base_uri": "https://localhost:8080/",
     "height": 265
    },
    "executionInfo": {
     "elapsed": 577,
     "status": "ok",
     "timestamp": 1632617777168,
     "user": {
      "displayName": "Lavinia Mitiko Takarabe",
      "photoUrl": "https://lh3.googleusercontent.com/a/default-user=s64",
      "userId": "11900514963050471931"
     },
     "user_tz": 180
    },
    "id": "amz7WOkCjMkM",
    "outputId": "f6327d29-4ea3-4632-95c1-5d1c6cb27e3d"
   },
   "outputs": [
    {
     "data": {
      "image/png": "[encoded data removed]",
      "text/plain": [
       "<Figure size 432x288 with 1 Axes>"
      ]
     },
     "metadata": {
      "needs_background": "light"
     },
     "output_type": "display_data"
    }
   ],
   "source": [
    "synsPerMtype = []\n",
    "for pre in mtypes:\n",
    "  line = []\n",
    "  for post in mtypes:\n",
    "    proj = '%s:%s' % (pre, post)\n",
    "    if proj in unique_mtypes:\n",
    "      line.append(float(synsPerConn[synsPerConn['proj']==proj]['n_syns']))\n",
    "    else:\n",
    "      line.append(0)\n",
    "  synsPerMtype.append(line)\n",
    "\n",
    "df = pd.DataFrame(synsPerMtype, index=mtypes, columns=mtypes)\n",
    "\n",
    "plt.pcolor(df)\n",
    "plt.yticks(np.arange(0.5, len(df.index), 1), df.index)\n",
    "plt.xticks(np.arange(0.5, len(df.columns), 1), df.columns)\n",
    "plt.show()"
   ]
  },
  {
   "cell_type": "code",
   "execution_count": 108,
   "id": "4fbabd20",
   "metadata": {
    "colab": {
     "base_uri": "https://localhost:8080/",
     "height": 500
    },
    "executionInfo": {
     "elapsed": 752,
     "status": "ok",
     "timestamp": 1632618182316,
     "user": {
      "displayName": "Lavinia Mitiko Takarabe",
      "photoUrl": "https://lh3.googleusercontent.com/a/default-user=s64",
      "userId": "11900514963050471931"
     },
     "user_tz": 180
    },
    "id": "f5mZI5mLmsFo",
    "outputId": "04ba5766-5c6d-466f-fc63-71ac3be17efc"
   },
   "outputs": [
    {
     "data": {
      "image/png": "[encoded data removed]",
      "text/plain": [
       "<Figure size 720x576 with 2 Axes>"
      ]
     },
     "metadata": {
      "needs_background": "light"
     },
     "output_type": "display_data"
    }
   ],
   "source": [
    "plt.figure(figsize=(10,8))\n",
    "plt.title('Synapses per connection')\n",
    "ax = sns.heatmap(df)"
   ]
  },
  {
   "cell_type": "markdown",
   "id": "5b7772a1",
   "metadata": {},
   "source": [
    "## Figures Mean and Std"
   ]
  },
  {
   "cell_type": "code",
   "execution_count": 134,
   "id": "0660a9a8",
   "metadata": {},
   "outputs": [
    {
     "data": {
      "text/plain": [
       "[array([2.144013 , 2.144013 , 2.144013 , ..., 2.1386657, 1.8377395,\n",
       "        1.8377395], dtype=float32)]"
      ]
     },
     "execution_count": 134,
     "metadata": {},
     "output_type": "execute_result"
    }
   ],
   "source": [
    "conductance"
   ]
  },
  {
   "cell_type": "code",
   "execution_count": 144,
   "id": "84cfffa7",
   "metadata": {},
   "outputs": [
    {
     "data": {
      "image/png": "[encoded data removed]",
      "text/plain": [
       "<Figure size 1728x1728 with 19 Axes>"
      ]
     },
     "metadata": {
      "needs_background": "light"
     },
     "output_type": "display_data"
    }
   ],
   "source": [
    "plt.figure(figsize=(24,24))\n",
    "\n",
    "for i,synid in enumerate(listofsyntypes):\n",
    "    \n",
    "    parameter = 'conductance'\n",
    "    # synid = 4\n",
    "\n",
    "    conductance = []\n",
    "    conductance.append(np.array(f['edges']['hippocampus_neurons__hippocampus_neurons__chemical']['0'][parameter])[np.where(syn_type_id==synid)])\n",
    "    conductance_mean = np.mean(np.array(f['edges']['hippocampus_neurons__hippocampus_neurons__chemical']['0'][parameter])[np.where(syn_type_id==synid)])\n",
    "    conductance_std =  np.std(np.array(f['edges']['hippocampus_neurons__hippocampus_neurons__chemical']['0'][parameter])[np.where(syn_type_id==synid)])\n",
    "\n",
    "    plt.subplot(5, 4, 1+i) \n",
    "    histg = plt.hist(conductance, bins=100, facecolor='b', alpha=0.75)\n",
    "#     plt.xlabel('g (nS)', fontsize=16)\n",
    "#     plt.ylabel('#syns', fontsize=16)\n",
    "    # plt.xlim(0, 2000)\n",
    "    # plt.ylim(-100, 40)\n",
    "    titlestr = '%s_%d = %.2f ± %.2f (%d)' % (parameter,synid,conductance_mean,conductance_std,np.size(conductance))\n",
    "    plt.title(titlestr, fontsize=14)    \n",
    "\n",
    "plt.savefig(parameter + '.png', facecolor = 'white', bbox_inches='tight' , dpi=300)"
   ]
  },
  {
   "cell_type": "code",
   "execution_count": null,
   "id": "06901c38",
   "metadata": {},
   "outputs": [],
   "source": [
    "conductance = []\n",
    "conductance_std = []\n",
    "\n",
    "for proj in unique_mtypes:\n",
    "    conductance.append(np.mean(np.array(parameters['edges']['conductance'])[np.where(proj_mtypes==proj)[0]]))\n",
    "    conductance_std.append(np.std(np.array(parameters['edges']['conductance'])[np.where(proj_mtypes==proj)[0]]))\n",
    "    "
   ]
  },
  {
   "cell_type": "code",
   "execution_count": null,
   "id": "d14bae93",
   "metadata": {},
   "outputs": [],
   "source": [
    "projs = np.unique(proj_mtypes)\n",
    "proj_mtypes = np.array(proj_mtypes)\n",
    "\n",
    "conductance = []\n",
    "conductance_std = []\n",
    "\n",
    "decay_time = []\n",
    "decay_time_std = []\n",
    "\n",
    "u_syn = []\n",
    "u_syn_std = []\n",
    "\n",
    "depression_time = []\n",
    "depression_time_std = []\n",
    "\n",
    "facilitation_time = []\n",
    "facilitation_time_std = []\n",
    "\n",
    "delay = []\n",
    "\n",
    "n_rrp_vesicles = []\n",
    "\n",
    "\n",
    "for proj in projs:\n",
    "    conductance.append(np.mean(np.array(parameters['edges']['conductance'])[np.where(proj_mtypes==proj)[0]]))\n",
    "    conductance_std.append(np.std(np.array(parameters['edges']['conductance'])[np.where(proj_mtypes==proj)[0]]))\n",
    "    \n",
    "    decay_time.append(np.mean(np.array(parameters['edges']['decay_time'])[np.where(proj_mtypes==proj)[0]]))\n",
    "    decay_time_std.append(np.std(np.array(parameters['edges']['decay_time'])[np.where(proj_mtypes==proj)[0]]))\n",
    "\n",
    "    u_syn.append(np.mean(np.array(parameters['edges']['u_syn'])[np.where(proj_mtypes==proj)[0]]))\n",
    "    u_syn_std.append(np.std(np.array(parameters['edges']['u_syn'])[np.where(proj_mtypes==proj)[0]]))\n",
    "    \n",
    "    depression_time.append(np.mean(np.array(parameters['edges']['depression_time'])[np.where(proj_mtypes==proj)[0]]))\n",
    "    depression_time_std.append(np.std(np.array(parameters['edges']['depression_time'])[np.where(proj_mtypes==proj)[0]]))\n",
    "\n",
    "    facilitation_time.append(np.mean(np.array(parameters['edges']['facilitation_time'])[np.where(proj_mtypes==proj)[0]]))\n",
    "    facilitation_time_std.append(np.std(np.array(parameters['edges']['facilitation_time'])[np.where(proj_mtypes==proj)[0]]))\n",
    "\n",
    "    delay.append(np.mean(np.array(parameters['edges']['delay'])[np.where(proj_mtypes==proj)[0]]))\n",
    "\n",
    "    n_rrp_vesicles.append(np.mean(np.array(parameters['edges']['n_rrp_vesicles'])[np.where(proj_mtypes==proj)[0]]))"
   ]
  },
  {
   "cell_type": "code",
   "execution_count": null,
   "id": "b63822a3",
   "metadata": {},
   "outputs": [],
   "source": []
  },
  {
   "cell_type": "markdown",
   "id": "768a5af3",
   "metadata": {},
   "source": [
    "## Netpyne"
   ]
  },
  {
   "cell_type": "code",
   "execution_count": null,
   "id": "58641747",
   "metadata": {
    "id": "-Od93Oi1aX0m"
   },
   "outputs": [],
   "source": [
    "pre = str(connCa1['edges']['source_node_id'][0])\n",
    "post = str(connCa1['edges']['target_node_id'][0])\n",
    "connNumber = 0\n",
    "connList = {}\n",
    "connList[connNumber] = []\n",
    "connList[connNumber].append(str(connCa1['edges']['source_node_id'][0]))\n",
    "connListpost = []\n",
    "connListpost.append(str(connCa1['edges']['target_node_id'][0]))\n",
    "\n",
    "for synID in range(1,133352):\n",
    "  if pre == str(connCa1['edges']['source_node_id'][synID]) and post == str(connCa1['edges']['target_node_id'][synID]):\n",
    "    connList[connNumber].append(str(connCa1['edges']['source_node_id'][synID]))\n",
    "  else:\n",
    "    connNumber+=1\n",
    "    connList[connNumber] = []\n",
    "    connList[connNumber].append(str(connCa1['edges']['source_node_id'][synID]))\n",
    "    connListpost.append(str(connCa1['edges']['target_node_id'][synID]))\n",
    "\n",
    "    if pre in Epops:\n",
    "      netParams.synMechParams['synMech_' + pre + '_' + post] = {'mod': 'DetAMPANMDA', \n",
    "                                                'tau_d_AMPA':connCa1['edges']['decay_time'][synID],\n",
    "                                                'Use': connCa1['edges']['u_syn'][synID], \n",
    "                                                'Dep': connCa1['edges']['depression_time'][synID], \n",
    "                                                'Fac': connCa1['edges']['facilitation_time'][synID]}\n",
    "\n",
    "    else:\n",
    "      netParams.synMechParams['synMech_' + pre + '_' + post]={'mod':'DetGABAAB', \n",
    "                                        'tau_d_GABAA':connCa1['edges']['decay_time'][synID],\n",
    "                                        'Use': connCa1['edges']['u_syn'][synID], \n",
    "                                        'Dep': connCa1['edges']['depression_time'][synID], \n",
    "                                        'Fac': connCa1['edges']['facilitation_time'][synID]} \n",
    "\n",
    "  pre = str(connCa1['edges']['source_node_id'][synID])\n",
    "  post = str(connCa1['edges']['target_node_id'][synID])\n",
    "\n",
    "connNumber = 0\n",
    "synID = 0\n",
    "\n",
    "for connID in range(24647):\n",
    "    pre = connList[connNumber][0]\n",
    "    post = connListpost[connNumber]\n",
    "        \n",
    "    netParams.connParams['connID_' + pre + '_' + post] = {        \n",
    "        'preConds': {'pop': pre},\n",
    "        'postConds': {'pop': post},\n",
    "        'synsPerConn': np.size(connList[connNumber]),\n",
    "        'sec': connCa1['edges']['efferent_section_id'][synID:synID+np.size(connList[connNumber])], # se não der certo -> connCa1['edges']['efferent_section_id'][synID]\n",
    "        'synMech': 'synMech_' + pre + '_' + post,\n",
    "        'weight': connCa1['edges']['conductance'][synID:synID+np.size(connList[connNumber])],\n",
    "        'delay': connCa1['edges']['delay'][synID:synID+np.size(connList[connNumber])]\n",
    "        }\n",
    "    connNumber+=1\n",
    "    synID+=np.size(connList[connNumber])\n",
    "\n",
    "\n",
    "for synID in range(133352):\n",
    "    netParams.connParams['synID_' + str(synID)] = {\n",
    "        \n",
    "        pre = connCa1['edges']['source_node_id'][synID]\n",
    "        post = connCa1['edges']['target_node_id'][synID]\n",
    "        \n",
    "        preMype = str(f1['nodes']['hippocampus_neurons']['0']['@library']['mtype'][f1['nodes']['hippocampus_neurons']['0']['mtype'][pre]])\n",
    "        preMype = preMype[2:-1]        \n",
    "        postMype = str(f1['nodes']['hippocampus_neurons']['0']['@library']['mtype'][f1['nodes']['hippocampus_neurons']['0']['mtype'][post]])\n",
    "        postMype = postMype[2:-1]\n",
    "        \n",
    "        'preConds': {'pop': str(pre)},\n",
    "        'postConds': {'pop': str(post)},\n",
    "        'sec': connCa1['edges']['efferent_section_id'],\n",
    "        'synsPerConn': 1,\n",
    "        'synMech': matrix['synTape'][preMype][postMype],\n",
    "        'weight': connCa1['edges']['conductance'],\n",
    "        'delay': connCa1['edges']['delay']\n",
    "        }"
   ]
  }
 ],
 "metadata": {
  "colab": {
   "collapsed_sections": [],
   "name": "connections_mc2r100.ipynb",
   "provenance": [
    {
     "file_id": "1A8ei7TUY5YC-0umsXpT0uzE4CWse4sjB",
     "timestamp": 1632013482326
    }
   ]
  },
  "interpreter": {
   "hash": "ed47345c720decac6c54a666e8bc700bce294771cb2524ad4c2ab04933817aa2"
  },
  "kernelspec": {
   "display_name": "Python 3 (ipykernel)",
   "language": "python",
   "name": "python3"
  },
  "language_info": {
   "codemirror_mode": {
    "name": "ipython",
    "version": 3
   },
   "file_extension": ".py",
   "mimetype": "text/x-python",
   "name": "python",
   "nbconvert_exporter": "python",
   "pygments_lexer": "ipython3",
   "version": "3.7.11"
  }
 },
 "nbformat": 4,
 "nbformat_minor": 5
}
