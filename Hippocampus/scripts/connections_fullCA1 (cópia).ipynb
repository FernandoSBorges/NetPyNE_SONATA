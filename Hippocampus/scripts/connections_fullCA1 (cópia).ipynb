{
 "cells": [
  {
   "cell_type": "code",
   "execution_count": null,
   "id": "673c7922",
   "metadata": {
    "id": "9SwzxCWrQHl3"
   },
   "outputs": [],
   "source": [
    "import os\n",
    "\n",
    "import h5py\n",
    "import numpy as np\n",
    "import pandas as pd\n",
    "import json\n",
    "\n",
    "import matplotlib.pyplot as plt\n",
    "\n",
    "\n",
    "f = h5py.File('/home/fernando/Documentos/ca1data20191017/sonata/edges/edges.h5', 'r') # 2.4 Gb not in github\n",
    "f1 = h5py.File('../info/data-bbp/20191017/sonata/nodes/nodes.h5', 'r')\n",
    "f2 = h5py.File('../info/gdrive/connhipp_mc2r100.h5', 'r')\n",
    "\n",
    "mtypes = ['SLM_PPA','SO_BP','SO_BS','SO_OLM','SO_Tri','SP_AA','SP_BS','SP_CCKBC','SP_Ivy','SP_PC','SP_PVBC','SR_SCA']\n",
    "\n",
    "for itens in list(f['edges']['hippocampus_neurons__hippocampus_neurons__chemical']):\n",
    "    print(itens,np.shape(f['edges']['hippocampus_neurons__hippocampus_neurons__chemical'][itens]))\n",
    "\n",
    "print('\\n0')  \n",
    "for itens in list(f['edges']['hippocampus_neurons__hippocampus_neurons__chemical']['0']):\n",
    "    print(itens,np.shape(f['edges']['hippocampus_neurons__hippocampus_neurons__chemical']['0'][itens]))\n",
    "\n",
    "print('\\nindices[source_to_target]')  \n",
    "for itens in list(f['edges']['hippocampus_neurons__hippocampus_neurons__chemical']['indices']['source_to_target']):\n",
    "    print(itens,np.shape(f['edges']['hippocampus_neurons__hippocampus_neurons__chemical']['indices']['source_to_target'][itens]))\n",
    "    \n",
    "print('\\nindices[target_to_source]')  \n",
    "for itens in list(f['edges']['hippocampus_neurons__hippocampus_neurons__chemical']['indices']['target_to_source']):\n",
    "    print(itens,np.shape(f['edges']['hippocampus_neurons__hippocampus_neurons__chemical']['indices']['target_to_source'][itens]))\n",
    "\n",
    "\n",
    "syn_type_id = np.array(f['edges']['hippocampus_neurons__hippocampus_neurons__chemical']['0']['syn_type_id'])\n",
    "\n",
    "histog = plt.hist(syn_type_id, bins=500)\n",
    "\n",
    "listofsyntypes = []\n",
    "synNumber = {}\n",
    "\n",
    "number = 0\n",
    "for i,y in enumerate(histog[0]):\n",
    "    if y>0:\n",
    "        number += y\n",
    "        print('%d [%.1f %.1f] %d %d' % (int(histog[1][1+i]),histog[1][i],histog[1][1+i],y,number))\n",
    "        listofsyntypes.append(int(histog[1][1+i]))\n",
    "        synNumber[int(histog[1][1+i])] = int(y)\n",
    "\n",
    "conductance = []\n",
    "conductance.append(np.array(f['edges']['hippocampus_neurons__hippocampus_neurons__chemical']['0']['conductance'])[np.where(syn_type_id==4)])\n",
    "histg = plt.hist(conductance, bins=200)\n",
    "\n",
    "syns_mtypes = {}\n",
    "for j in listofsyntypes:\n",
    "    syns_mtypes[j] = []\n",
    "\n",
    "for j in listofsyntypes[15:]:\n",
    "    if synNumber[j] > 100000:\n",
    "        maxconn = 100000\n",
    "    else:\n",
    "        maxconn = synNumber[j]\n",
    "        \n",
    "    print(j,maxconn,synNumber[j])\n",
    "\n",
    "    for i in list([np.where(syn_type_id==j)])[0][0][0:maxconn]:\n",
    "        source_id = f['edges']['hippocampus_neurons__hippocampus_neurons__chemical']['source_node_id'][i]\n",
    "        target_id = f['edges']['hippocampus_neurons__hippocampus_neurons__chemical']['target_node_id'][i]\n",
    "\n",
    "        pre_mtype = mtypes[f1['nodes']['hippocampus_neurons']['0']['mtype'][source_id]]\n",
    "        post_mtype = mtypes[f1['nodes']['hippocampus_neurons']['0']['mtype'][target_id]]\n",
    "        if pre_mtype + ':' + post_mtype not in syns_mtypes[j]:\n",
    "            syns_mtypes[j].append(pre_mtype + ':' + post_mtype)"
   ]
  },
  {
   "cell_type": "code",
   "execution_count": null,
   "id": "b315a88e",
   "metadata": {},
   "outputs": [],
   "source": [
    "syns_mtypes =\n",
    "{4: ['SLM_PPA:SP_PC'],\n",
    " 5: ['SO_OLM:SP_PC', 'SO_Tri:SP_PC', 'SO_BS:SP_PC', 'SO_BP:SP_PC'],\n",
    " 6: ['SP_Ivy:SP_PC'],\n",
    " 7: ['SO_OLM:SLM_PPA',\n",
    "  'SO_BS:SLM_PPA',\n",
    "  'SR_SCA:SLM_PPA',\n",
    "  'SP_Ivy:SLM_PPA',\n",
    "  'SP_BS:SLM_PPA',\n",
    "  'SO_BP:SLM_PPA',\n",
    "  'SP_PVBC:SR_SCA',\n",
    "  'SP_CCKBC:SR_SCA',\n",
    "  'SP_BS:SR_SCA',\n",
    "  'SP_Ivy:SR_SCA',\n",
    "  'SO_OLM:SR_SCA',\n",
    "  'SO_Tri:SR_SCA',\n",
    "  'SO_BP:SR_SCA',\n",
    "  'SO_BS:SR_SCA',\n",
    "  'SLM_PPA:SR_SCA',\n",
    "  'SR_SCA:SP_PVBC',\n",
    "  'SP_CCKBC:SP_PVBC',\n",
    "  'SP_BS:SP_PVBC',\n",
    "  'SP_Ivy:SP_PVBC',\n",
    "  'SO_OLM:SP_PVBC',\n",
    "  'SO_BS:SP_PVBC',\n",
    "  'SO_Tri:SP_PVBC',\n",
    "  'SO_BP:SP_PVBC',\n",
    "  'SLM_PPA:SP_PVBC'],\n",
    " 8: ['SLM_PPA:SLM_PPA', 'SR_SCA:SR_SCA', 'SP_CCKBC:SP_CCKBC'],\n",
    " 13: ['SP_PVBC:SP_PC'],\n",
    " 14: ['SP_AA:SP_PC'],\n",
    " 15: ['SP_BS:SP_PC'],\n",
    " 16: ['SP_CCKBC:SP_PC'],\n",
    " 17: ['SR_SCA:SP_PC'],\n",
    " 18: ['SP_PVBC:SP_PVBC'],\n",
    " 19: ['SP_PVBC:SP_AA'],\n",
    " 100: ['SP_PC:SP_PC'],\n",
    " 101: ['SP_PC:SO_OLM'],\n",
    " 102: ['SP_PC:SR_SCA', 'SP_PC:SP_AA'],\n",
    " 109: ['SP_PC:SP_PVBC'],\n",
    " 110: ['SP_PC:SP_CCKBC'],\n",
    " 111: ['SP_PC:SP_BS'],\n",
    " 112: ['SP_PC:SP_Ivy']}\n"
   ]
  },
  {
   "cell_type": "code",
   "execution_count": null,
   "id": "abedf583",
   "metadata": {},
   "outputs": [],
   "source": []
  },
  {
   "cell_type": "code",
   "execution_count": null,
   "id": "d8c82f5c",
   "metadata": {},
   "outputs": [],
   "source": []
  },
  {
   "cell_type": "code",
   "execution_count": 101,
   "id": "345996f4",
   "metadata": {},
   "outputs": [
    {
     "data": {
      "text/plain": [
       "{4: ['SLM_PPA:SP_PC'],\n",
       " 5: ['SO_OLM:SP_PC', 'SO_Tri:SP_PC', 'SO_BS:SP_PC', 'SO_BP:SP_PC'],\n",
       " 6: ['SP_Ivy:SP_PC'],\n",
       " 7: [],\n",
       " 8: [],\n",
       " 13: [],\n",
       " 14: [],\n",
       " 15: [],\n",
       " 16: [],\n",
       " 17: [],\n",
       " 18: [],\n",
       " 19: [],\n",
       " 100: [],\n",
       " 101: [],\n",
       " 102: [],\n",
       " 109: [],\n",
       " 110: [],\n",
       " 111: [],\n",
       " 112: []}"
      ]
     },
     "execution_count": 101,
     "metadata": {},
     "output_type": "execute_result"
    }
   ],
   "source": [
    "syns_mtypes"
   ]
  },
  {
   "cell_type": "code",
   "execution_count": null,
   "id": "23cda546",
   "metadata": {},
   "outputs": [],
   "source": [
    "projs = np.unique(proj_mtypes)\n",
    "proj_mtypes = np.array(proj_mtypes)\n",
    "\n",
    "conductance = []\n",
    "conductance_std = []\n",
    "\n",
    "decay_time = []\n",
    "decay_time_std = []\n",
    "\n",
    "u_syn = []\n",
    "u_syn_std = []\n",
    "\n",
    "depression_time = []\n",
    "depression_time_std = []\n",
    "\n",
    "facilitation_time = []\n",
    "facilitation_time_std = []\n",
    "\n",
    "delay = []\n",
    "\n",
    "n_rrp_vesicles = []\n",
    "\n",
    "\n",
    "for proj in projs:\n",
    "  conductance.append(np.mean(np.array(parameters['edges']['conductance'])[np.where(proj_mtypes==proj)[0]]))\n",
    "  conductance_std.append(np.std(np.array(parameters['edges']['conductance'])[np.where(proj_mtypes==proj)[0]]))\n",
    "  \n",
    "  decay_time.append(np.mean(np.array(parameters['edges']['decay_time'])[np.where(proj_mtypes==proj)[0]]))\n",
    "  decay_time_std.append(np.std(np.array(parameters['edges']['decay_time'])[np.where(proj_mtypes==proj)[0]]))\n",
    "\n",
    "  u_syn.append(np.mean(np.array(parameters['edges']['u_syn'])[np.where(proj_mtypes==proj)[0]]))\n",
    "  u_syn_std.append(np.std(np.array(parameters['edges']['u_syn'])[np.where(proj_mtypes==proj)[0]]))\n",
    "  \n",
    "  depression_time.append(np.mean(np.array(parameters['edges']['depression_time'])[np.where(proj_mtypes==proj)[0]]))\n",
    "  depression_time_std.append(np.std(np.array(parameters['edges']['depression_time'])[np.where(proj_mtypes==proj)[0]]))\n",
    "\n",
    "  facilitation_time.append(np.mean(np.array(parameters['edges']['facilitation_time'])[np.where(proj_mtypes==proj)[0]]))\n",
    "  facilitation_time_std.append(np.std(np.array(parameters['edges']['facilitation_time'])[np.where(proj_mtypes==proj)[0]]))\n",
    "\n",
    "  delay.append(np.mean(np.array(parameters['edges']['delay'])[np.where(proj_mtypes==proj)[0]]))\n",
    "\n",
    "  n_rrp_vesicles.append(np.mean(np.array(parameters['edges']['n_rrp_vesicles'])[np.where(proj_mtypes==proj)[0]]))"
   ]
  },
  {
   "cell_type": "code",
   "execution_count": 17,
   "id": "76305165",
   "metadata": {
    "scrolled": true
   },
   "outputs": [
    {
     "data": {
      "text/plain": [
       "[<matplotlib.lines.Line2D at 0x7f3a89cd1150>]"
      ]
     },
     "execution_count": 17,
     "metadata": {},
     "output_type": "execute_result"
    },
    {
     "data": {
      "image/png": "[encoded data removed]",
      "text/plain": [
       "<Figure size 432x288 with 1 Axes>"
      ]
     },
     "metadata": {
      "needs_background": "light"
     },
     "output_type": "display_data"
    }
   ],
   "source": [
    "nn = 73587\n",
    "plt.plot(list(f['edges']['hippocampus_neurons__hippocampus_neurons__chemical']['0']['synapse_type_id'][0:nn]),list(f['edges']['hippocampus_neurons__hippocampus_neurons__chemical']['0']['syn_type_id'][0:nn]),'.b')"
   ]
  },
  {
   "cell_type": "markdown",
   "id": "11e8f4f2",
   "metadata": {
    "id": "WdGvJIpeZ7XZ"
   },
   "source": [
    "Fernando\n"
   ]
  },
  {
   "cell_type": "code",
   "execution_count": null,
   "id": "be1930a1",
   "metadata": {
    "id": "-Od93Oi1aX0m"
   },
   "outputs": [],
   "source": [
    "pre = str(connCa1['edges']['source_node_id'][0])\n",
    "post = str(connCa1['edges']['target_node_id'][0])\n",
    "connNumber = 0\n",
    "connList = {}\n",
    "connList[connNumber] = []\n",
    "connList[connNumber].append(str(connCa1['edges']['source_node_id'][0]))\n",
    "connListpost = []\n",
    "connListpost.append(str(connCa1['edges']['target_node_id'][0]))\n",
    "\n",
    "for synID in range(1,133352):\n",
    "  if pre == str(connCa1['edges']['source_node_id'][synID]) and post == str(connCa1['edges']['target_node_id'][synID]):\n",
    "    connList[connNumber].append(str(connCa1['edges']['source_node_id'][synID]))\n",
    "  else:\n",
    "    connNumber+=1\n",
    "    connList[connNumber] = []\n",
    "    connList[connNumber].append(str(connCa1['edges']['source_node_id'][synID]))\n",
    "    connListpost.append(str(connCa1['edges']['target_node_id'][synID]))\n",
    "\n",
    "    if pre in Epops:\n",
    "      netParams.synMechParams['synMech_' + pre + '_' + post] = {'mod': 'DetAMPANMDA', \n",
    "                                                'tau_d_AMPA':connCa1['edges']['decay_time'][synID],\n",
    "                                                'Use': connCa1['edges']['u_syn'][synID], \n",
    "                                                'Dep': connCa1['edges']['depression_time'][synID], \n",
    "                                                'Fac': connCa1['edges']['facilitation_time'][synID]}\n",
    "\n",
    "    else:\n",
    "      netParams.synMechParams['synMech_' + pre + '_' + post]={'mod':'DetGABAAB', \n",
    "                                        'tau_d_GABAA':connCa1['edges']['decay_time'][synID],\n",
    "                                        'Use': connCa1['edges']['u_syn'][synID], \n",
    "                                        'Dep': connCa1['edges']['depression_time'][synID], \n",
    "                                        'Fac': connCa1['edges']['facilitation_time'][synID]} \n",
    "\n",
    "  pre = str(connCa1['edges']['source_node_id'][synID])\n",
    "  post = str(connCa1['edges']['target_node_id'][synID])"
   ]
  },
  {
   "cell_type": "code",
   "execution_count": null,
   "id": "081e719e",
   "metadata": {
    "colab": {
     "base_uri": "https://localhost:8080/"
    },
    "executionInfo": {
     "elapsed": 270,
     "status": "ok",
     "timestamp": 1632181456115,
     "user": {
      "displayName": "Fernando Borges",
      "photoUrl": "https://lh3.googleusercontent.com/a-/AOh14GjmnOv5Ub_NRxuhRL5o0txWMXjifczY9_5VpuxcpQ=s64",
      "userId": "10661481794494853642"
     },
     "user_tz": 180
    },
    "id": "KATU0FXFfKkW",
    "outputId": "48db646d-7f0e-4681-c5d4-665f3238c24a"
   },
   "outputs": [
    {
     "data": {
      "text/plain": [
       "24647"
      ]
     },
     "execution_count": 66,
     "metadata": {},
     "output_type": "execute_result"
    }
   ],
   "source": [
    "connNumber"
   ]
  },
  {
   "cell_type": "code",
   "execution_count": null,
   "id": "6eef31a5",
   "metadata": {
    "id": "c9lB3mxGiO9O"
   },
   "outputs": [],
   "source": [
    "connNumber = 0\n",
    "synID = 0\n",
    "\n",
    "for connID in range(24647):\n",
    "    pre = connList[connNumber][0]\n",
    "    post = connListpost[connNumber]\n",
    "        \n",
    "    netParams.connParams['connID_' + pre + '_' + post] = {        \n",
    "        'preConds': {'pop': pre},\n",
    "        'postConds': {'pop': post},\n",
    "        'synsPerConn': np.size(connList[connNumber]),\n",
    "        'sec': connCa1['edges']['efferent_section_id'][synID:synID+np.size(connList[connNumber])], # se não der certo -> connCa1['edges']['efferent_section_id'][synID]\n",
    "        'synMech': 'synMech_' + pre + '_' + post,\n",
    "        'weight': connCa1['edges']['conductance'][synID:synID+np.size(connList[connNumber])],\n",
    "        'delay': connCa1['edges']['delay'][synID:synID+np.size(connList[connNumber])]\n",
    "        }\n",
    "    connNumber+=1\n",
    "    synID+=np.size(connList[connNumber])\n"
   ]
  },
  {
   "cell_type": "code",
   "execution_count": null,
   "id": "ce03d5bb",
   "metadata": {
    "id": "V1EsnJEJZ2SS"
   },
   "outputs": [],
   "source": [
    "for synID in range(133352):\n",
    "    netParams.connParams['synID_' + str(synID)] = {\n",
    "        \n",
    "        pre = connCa1['edges']['source_node_id'][synID]\n",
    "        post = connCa1['edges']['target_node_id'][synID]\n",
    "        \n",
    "        preMype = str(f1['nodes']['hippocampus_neurons']['0']['@library']['mtype'][f1['nodes']['hippocampus_neurons']['0']['mtype'][pre]])\n",
    "        preMype = preMype[2:-1]        \n",
    "        postMype = str(f1['nodes']['hippocampus_neurons']['0']['@library']['mtype'][f1['nodes']['hippocampus_neurons']['0']['mtype'][post]])\n",
    "        postMype = postMype[2:-1]\n",
    "        \n",
    "        'preConds': {'pop': str(pre)},\n",
    "        'postConds': {'pop': str(post)},\n",
    "        'sec': connCa1['edges']['efferent_section_id'],\n",
    "        'synsPerConn': 1,\n",
    "        'synMech': matrix['synTape'][preMype][postMype],\n",
    "        'weight': connCa1['edges']['conductance'],\n",
    "        'delay': connCa1['edges']['delay']\n",
    "        }"
   ]
  },
  {
   "cell_type": "markdown",
   "id": "a6d9b868",
   "metadata": {
    "id": "eSU2dZdQA_Rq"
   },
   "source": [
    "\n",
    "\n",
    "---\n",
    "\n"
   ]
  },
  {
   "cell_type": "markdown",
   "id": "72078952",
   "metadata": {
    "id": "5TgzM4VyrGtO"
   },
   "source": [
    "# Synapses Per Connection"
   ]
  },
  {
   "cell_type": "code",
   "execution_count": 57,
   "id": "8f060020",
   "metadata": {},
   "outputs": [],
   "source": [
    "import itertools\n",
    "import numpy as np\n",
    "import pandas as pd\n",
    "import matplotlib.pyplot as plt\n",
    "import seaborn\n",
    "\n",
    "from bluepysnap import Circuit\n",
    "from bluepysnap.bbp import Cell"
   ]
  },
  {
   "cell_type": "code",
   "execution_count": 62,
   "id": "a0ead3eb",
   "metadata": {},
   "outputs": [],
   "source": [
    "circuit_path = '/home/fernando/Documentos/ca1data20191017/circuit_config.json'\n",
    "circuit = Circuit(circuit_path)\n",
    "cells = circuit.nodes[\"hippocampus_neurons\"]\n",
    "conn = circuit.edges[\"hippocampus_neurons__hippocampus_neurons__chemical\"]"
   ]
  },
  {
   "cell_type": "code",
   "execution_count": 63,
   "id": "f7918c96",
   "metadata": {},
   "outputs": [],
   "source": [
    "mtypes = cells.property_values(Cell.MTYPE)\n",
    "model_mean = pd.DataFrame(index=mtypes, columns=mtypes, dtype=float)\n",
    "model_std = pd.DataFrame(index=mtypes, columns=mtypes, dtype=float)"
   ]
  },
  {
   "cell_type": "code",
   "execution_count": 65,
   "id": "5f42fdfd",
   "metadata": {},
   "outputs": [],
   "source": [
    "nsample = 1000\n",
    "def sample_nsyn(pre, post):\n",
    "    it = conn.iter_connections(pre, post, return_edge_count=True)\n",
    "    return np.array([p[2] for p in itertools.islice(it, nsample)])"
   ]
  },
  {
   "cell_type": "code",
   "execution_count": 73,
   "id": "739d96d2",
   "metadata": {},
   "outputs": [
    {
     "name": "stdout",
     "output_type": "stream",
     "text": [
      "127\n"
     ]
    }
   ],
   "source": [
    "number = 0\n",
    "unique_mtypes = []\n",
    "\n",
    "for pre_mtype in mtypes:\n",
    "    for post_mtype in mtypes:\n",
    "        \n",
    "        proj = '%s:%s' % (pre_mtype, post_mtype)\n",
    "        \n",
    "        data = sample_nsyn(\n",
    "            pre={Cell.MTYPE: pre_mtype},\n",
    "            post={Cell.MTYPE: post_mtype}\n",
    "        )\n",
    "        if len(data) != 0:\n",
    "            model_mean[post_mtype][pre_mtype] = data.mean()\n",
    "            model_std[post_mtype][pre_mtype] = data.std()\n",
    "            \n",
    "            if proj not in unique_mtypes:\n",
    "                unique_mtypes.append(proj)\n",
    "                number+= 1\n",
    "\n",
    "print(number)"
   ]
  },
  {
   "cell_type": "code",
   "execution_count": 68,
   "id": "1b4aa8f9",
   "metadata": {},
   "outputs": [
    {
     "name": "stdout",
     "output_type": "stream",
     "text": [
      "123\n"
     ]
    }
   ],
   "source": [
    "# number = 0\n",
    "# unique_mtypes = []\n",
    "# for mcss in range(7):\n",
    "#     mcsss = 'mc' + str(mcss) + '.*'\n",
    "#     for pre_mtype in mtypes:\n",
    "#         for post_mtype in mtypes:\n",
    "            \n",
    "#             proj = '%s:%s' % (pre_mtype, post_mtype)\n",
    "            \n",
    "#             data = sample_nsyn(\n",
    "#                 pre={Cell.MTYPE: pre_mtype, Cell.REGION: {'$regex': mcsss}},\n",
    "#                 post={Cell.MTYPE: post_mtype, Cell.REGION: {'$regex': mcsss}}\n",
    "#             )\n",
    "#             if len(data) != 0:\n",
    "#                 model_mean[post_mtype][pre_mtype] = data.mean()\n",
    "#                 model_std[post_mtype][pre_mtype] = data.std()\n",
    "                \n",
    "#                 if proj not in unique_mtypes:\n",
    "#                     unique_mtypes.append(proj)\n",
    "#                     number+= 1\n",
    "\n",
    "# print(number)"
   ]
  },
  {
   "cell_type": "code",
   "execution_count": 74,
   "id": "7cd80ff1",
   "metadata": {},
   "outputs": [
    {
     "data": {
      "text/html": [
       "<div>\n",
       "<style scoped>\n",
       "    .dataframe tbody tr th:only-of-type {\n",
       "        vertical-align: middle;\n",
       "    }\n",
       "\n",
       "    .dataframe tbody tr th {\n",
       "        vertical-align: top;\n",
       "    }\n",
       "\n",
       "    .dataframe thead th {\n",
       "        text-align: right;\n",
       "    }\n",
       "</style>\n",
       "<table border=\"1\" class=\"dataframe\">\n",
       "  <thead>\n",
       "    <tr style=\"text-align: right;\">\n",
       "      <th></th>\n",
       "      <th>SLM_PPA</th>\n",
       "      <th>SO_BP</th>\n",
       "      <th>SP_CCKBC</th>\n",
       "      <th>SP_PC</th>\n",
       "      <th>SO_OLM</th>\n",
       "      <th>SP_BS</th>\n",
       "      <th>SO_Tri</th>\n",
       "      <th>SO_BS</th>\n",
       "      <th>SP_Ivy</th>\n",
       "      <th>SP_PVBC</th>\n",
       "      <th>SP_AA</th>\n",
       "      <th>SR_SCA</th>\n",
       "    </tr>\n",
       "  </thead>\n",
       "  <tbody>\n",
       "    <tr>\n",
       "      <th>SLM_PPA</th>\n",
       "      <td>2.000000</td>\n",
       "      <td>1.000000</td>\n",
       "      <td>2.857143</td>\n",
       "      <td>3.984</td>\n",
       "      <td>NaN</td>\n",
       "      <td>1.000000</td>\n",
       "      <td>1.000000</td>\n",
       "      <td>NaN</td>\n",
       "      <td>1.470588</td>\n",
       "      <td>2.680000</td>\n",
       "      <td>3.600000</td>\n",
       "      <td>1.000000</td>\n",
       "    </tr>\n",
       "    <tr>\n",
       "      <th>SO_BP</th>\n",
       "      <td>1.000000</td>\n",
       "      <td>1.166667</td>\n",
       "      <td>1.701389</td>\n",
       "      <td>7.305</td>\n",
       "      <td>1.250000</td>\n",
       "      <td>3.162791</td>\n",
       "      <td>2.875000</td>\n",
       "      <td>1.222222</td>\n",
       "      <td>2.613924</td>\n",
       "      <td>3.472222</td>\n",
       "      <td>2.428571</td>\n",
       "      <td>1.312500</td>\n",
       "    </tr>\n",
       "    <tr>\n",
       "      <th>SP_CCKBC</th>\n",
       "      <td>NaN</td>\n",
       "      <td>2.544118</td>\n",
       "      <td>1.432000</td>\n",
       "      <td>8.702</td>\n",
       "      <td>1.318182</td>\n",
       "      <td>5.052000</td>\n",
       "      <td>2.797436</td>\n",
       "      <td>1.400000</td>\n",
       "      <td>3.239000</td>\n",
       "      <td>3.989000</td>\n",
       "      <td>1.669763</td>\n",
       "      <td>1.434555</td>\n",
       "    </tr>\n",
       "    <tr>\n",
       "      <th>SP_PC</th>\n",
       "      <td>NaN</td>\n",
       "      <td>2.844000</td>\n",
       "      <td>3.069000</td>\n",
       "      <td>1.258</td>\n",
       "      <td>2.937000</td>\n",
       "      <td>4.126000</td>\n",
       "      <td>5.292000</td>\n",
       "      <td>6.916000</td>\n",
       "      <td>3.323000</td>\n",
       "      <td>5.393000</td>\n",
       "      <td>4.624000</td>\n",
       "      <td>2.844000</td>\n",
       "    </tr>\n",
       "    <tr>\n",
       "      <th>SO_OLM</th>\n",
       "      <td>4.533333</td>\n",
       "      <td>1.307692</td>\n",
       "      <td>3.874488</td>\n",
       "      <td>10.833</td>\n",
       "      <td>1.230769</td>\n",
       "      <td>1.303797</td>\n",
       "      <td>1.250000</td>\n",
       "      <td>1.000000</td>\n",
       "      <td>1.457746</td>\n",
       "      <td>3.727000</td>\n",
       "      <td>3.888889</td>\n",
       "      <td>1.310345</td>\n",
       "    </tr>\n",
       "    <tr>\n",
       "      <th>SP_BS</th>\n",
       "      <td>1.000000</td>\n",
       "      <td>2.017544</td>\n",
       "      <td>1.855000</td>\n",
       "      <td>6.230</td>\n",
       "      <td>1.852503</td>\n",
       "      <td>4.140592</td>\n",
       "      <td>3.168459</td>\n",
       "      <td>1.581081</td>\n",
       "      <td>3.554000</td>\n",
       "      <td>4.627000</td>\n",
       "      <td>2.768150</td>\n",
       "      <td>2.863830</td>\n",
       "    </tr>\n",
       "    <tr>\n",
       "      <th>SO_Tri</th>\n",
       "      <td>NaN</td>\n",
       "      <td>2.739130</td>\n",
       "      <td>1.302778</td>\n",
       "      <td>7.037</td>\n",
       "      <td>2.940945</td>\n",
       "      <td>3.208609</td>\n",
       "      <td>2.896552</td>\n",
       "      <td>2.788732</td>\n",
       "      <td>2.921000</td>\n",
       "      <td>3.373000</td>\n",
       "      <td>2.106742</td>\n",
       "      <td>1.378947</td>\n",
       "    </tr>\n",
       "    <tr>\n",
       "      <th>SO_BS</th>\n",
       "      <td>1.000000</td>\n",
       "      <td>1.263158</td>\n",
       "      <td>1.583333</td>\n",
       "      <td>6.590</td>\n",
       "      <td>1.364486</td>\n",
       "      <td>2.183673</td>\n",
       "      <td>1.719298</td>\n",
       "      <td>1.166667</td>\n",
       "      <td>2.649469</td>\n",
       "      <td>3.039387</td>\n",
       "      <td>1.591837</td>\n",
       "      <td>1.486111</td>\n",
       "    </tr>\n",
       "    <tr>\n",
       "      <th>SP_Ivy</th>\n",
       "      <td>1.000000</td>\n",
       "      <td>1.514066</td>\n",
       "      <td>2.814000</td>\n",
       "      <td>13.778</td>\n",
       "      <td>1.306452</td>\n",
       "      <td>5.732000</td>\n",
       "      <td>3.578091</td>\n",
       "      <td>1.296970</td>\n",
       "      <td>4.847000</td>\n",
       "      <td>6.477000</td>\n",
       "      <td>3.072000</td>\n",
       "      <td>2.924528</td>\n",
       "    </tr>\n",
       "    <tr>\n",
       "      <th>SP_PVBC</th>\n",
       "      <td>NaN</td>\n",
       "      <td>1.241830</td>\n",
       "      <td>1.244000</td>\n",
       "      <td>11.434</td>\n",
       "      <td>1.292181</td>\n",
       "      <td>2.988000</td>\n",
       "      <td>1.438119</td>\n",
       "      <td>1.163265</td>\n",
       "      <td>2.042000</td>\n",
       "      <td>2.773000</td>\n",
       "      <td>1.284000</td>\n",
       "      <td>1.225746</td>\n",
       "    </tr>\n",
       "    <tr>\n",
       "      <th>SP_AA</th>\n",
       "      <td>NaN</td>\n",
       "      <td>NaN</td>\n",
       "      <td>NaN</td>\n",
       "      <td>7.442</td>\n",
       "      <td>NaN</td>\n",
       "      <td>NaN</td>\n",
       "      <td>NaN</td>\n",
       "      <td>NaN</td>\n",
       "      <td>NaN</td>\n",
       "      <td>NaN</td>\n",
       "      <td>NaN</td>\n",
       "      <td>NaN</td>\n",
       "    </tr>\n",
       "    <tr>\n",
       "      <th>SR_SCA</th>\n",
       "      <td>1.000000</td>\n",
       "      <td>1.000000</td>\n",
       "      <td>1.177778</td>\n",
       "      <td>5.302</td>\n",
       "      <td>1.217391</td>\n",
       "      <td>1.270936</td>\n",
       "      <td>1.229508</td>\n",
       "      <td>1.314286</td>\n",
       "      <td>1.260154</td>\n",
       "      <td>1.339926</td>\n",
       "      <td>1.198020</td>\n",
       "      <td>3.357143</td>\n",
       "    </tr>\n",
       "  </tbody>\n",
       "</table>\n",
       "</div>"
      ],
      "text/plain": [
       "           SLM_PPA     SO_BP  SP_CCKBC   SP_PC    SO_OLM     SP_BS    SO_Tri  \\\n",
       "SLM_PPA   2.000000  1.000000  2.857143   3.984       NaN  1.000000  1.000000   \n",
       "SO_BP     1.000000  1.166667  1.701389   7.305  1.250000  3.162791  2.875000   \n",
       "SP_CCKBC       NaN  2.544118  1.432000   8.702  1.318182  5.052000  2.797436   \n",
       "SP_PC          NaN  2.844000  3.069000   1.258  2.937000  4.126000  5.292000   \n",
       "SO_OLM    4.533333  1.307692  3.874488  10.833  1.230769  1.303797  1.250000   \n",
       "SP_BS     1.000000  2.017544  1.855000   6.230  1.852503  4.140592  3.168459   \n",
       "SO_Tri         NaN  2.739130  1.302778   7.037  2.940945  3.208609  2.896552   \n",
       "SO_BS     1.000000  1.263158  1.583333   6.590  1.364486  2.183673  1.719298   \n",
       "SP_Ivy    1.000000  1.514066  2.814000  13.778  1.306452  5.732000  3.578091   \n",
       "SP_PVBC        NaN  1.241830  1.244000  11.434  1.292181  2.988000  1.438119   \n",
       "SP_AA          NaN       NaN       NaN   7.442       NaN       NaN       NaN   \n",
       "SR_SCA    1.000000  1.000000  1.177778   5.302  1.217391  1.270936  1.229508   \n",
       "\n",
       "             SO_BS    SP_Ivy   SP_PVBC     SP_AA    SR_SCA  \n",
       "SLM_PPA        NaN  1.470588  2.680000  3.600000  1.000000  \n",
       "SO_BP     1.222222  2.613924  3.472222  2.428571  1.312500  \n",
       "SP_CCKBC  1.400000  3.239000  3.989000  1.669763  1.434555  \n",
       "SP_PC     6.916000  3.323000  5.393000  4.624000  2.844000  \n",
       "SO_OLM    1.000000  1.457746  3.727000  3.888889  1.310345  \n",
       "SP_BS     1.581081  3.554000  4.627000  2.768150  2.863830  \n",
       "SO_Tri    2.788732  2.921000  3.373000  2.106742  1.378947  \n",
       "SO_BS     1.166667  2.649469  3.039387  1.591837  1.486111  \n",
       "SP_Ivy    1.296970  4.847000  6.477000  3.072000  2.924528  \n",
       "SP_PVBC   1.163265  2.042000  2.773000  1.284000  1.225746  \n",
       "SP_AA          NaN       NaN       NaN       NaN       NaN  \n",
       "SR_SCA    1.314286  1.260154  1.339926  1.198020  3.357143  "
      ]
     },
     "execution_count": 74,
     "metadata": {},
     "output_type": "execute_result"
    }
   ],
   "source": [
    "model_mean"
   ]
  },
  {
   "cell_type": "code",
   "execution_count": 75,
   "id": "6ca200d9",
   "metadata": {},
   "outputs": [
    {
     "name": "stderr",
     "output_type": "stream",
     "text": [
      "/home/fernando/anaconda3/envs/p37/lib/python3.7/site-packages/ipykernel_launcher.py:11: UserWarning: Matplotlib is currently using module://matplotlib_inline.backend_inline, which is a non-GUI backend, so cannot show the figure.\n",
      "  # This is added back by InteractiveShellApp.init_path()\n"
     ]
    },
    {
     "data": {
      "image/png": "[encoded data removed]",
      "text/plain": [
       "<Figure size 432x288 with 2 Axes>"
      ]
     },
     "metadata": {
      "needs_background": "light"
     },
     "output_type": "display_data"
    }
   ],
   "source": [
    "ax = seaborn.heatmap(model_mean)\n",
    "\n",
    "fig = plt.gcf()\n",
    "fig.suptitle('Number of synapses per connection', )\n",
    "\n",
    "ax.set_xlabel('presynaptic mtype')\n",
    "ax.set_ylabel('postsynaptic mtype')\n",
    "\n",
    "ax.collections[0].colorbar.set_label(\"# synapses\")\n",
    "\n",
    "fig.show()"
   ]
  },
  {
   "cell_type": "code",
   "execution_count": 64,
   "id": "585f0e63",
   "metadata": {},
   "outputs": [],
   "source": [
    "imc2r100 = list(f2['edges'])"
   ]
  },
  {
   "cell_type": "code",
   "execution_count": 67,
   "id": "b6e68313",
   "metadata": {},
   "outputs": [],
   "source": [
    "# imc2r100 = list(f['edges']['hippocampus_neurons__hippocampus_neurons__chemical']['source_node_id'])\n",
    "# np.size(imc2r100)"
   ]
  },
  {
   "cell_type": "code",
   "execution_count": 8,
   "id": "7489f3f4",
   "metadata": {},
   "outputs": [
    {
     "name": "stdout",
     "output_type": "stream",
     "text": [
      "73587\n"
     ]
    },
    {
     "ename": "NameError",
     "evalue": "name 'stop' is not defined",
     "output_type": "error",
     "traceback": [
      "\u001b[0;31m---------------------------------------------------------------------------\u001b[0m",
      "\u001b[0;31mNameError\u001b[0m                                 Traceback (most recent call last)",
      "\u001b[0;32m/tmp/ipykernel_46536/2913564416.py\u001b[0m in \u001b[0;36m<module>\u001b[0;34m\u001b[0m\n\u001b[1;32m      3\u001b[0m     \u001b[0;32mif\u001b[0m \u001b[0mmtypes\u001b[0m\u001b[0;34m[\u001b[0m\u001b[0mf1\u001b[0m\u001b[0;34m[\u001b[0m\u001b[0;34m'nodes'\u001b[0m\u001b[0;34m]\u001b[0m\u001b[0;34m[\u001b[0m\u001b[0;34m'hippocampus_neurons'\u001b[0m\u001b[0;34m]\u001b[0m\u001b[0;34m[\u001b[0m\u001b[0;34m'0'\u001b[0m\u001b[0;34m]\u001b[0m\u001b[0;34m[\u001b[0m\u001b[0;34m'mtype'\u001b[0m\u001b[0;34m]\u001b[0m\u001b[0;34m[\u001b[0m\u001b[0mtarget_id\u001b[0m\u001b[0;34m]\u001b[0m\u001b[0;34m]\u001b[0m \u001b[0;34m==\u001b[0m \u001b[0;34m'SP_PC'\u001b[0m\u001b[0;34m:\u001b[0m\u001b[0;34m\u001b[0m\u001b[0;34m\u001b[0m\u001b[0m\n\u001b[1;32m      4\u001b[0m         \u001b[0mprint\u001b[0m\u001b[0;34m(\u001b[0m\u001b[0mi\u001b[0m\u001b[0;34m)\u001b[0m\u001b[0;34m\u001b[0m\u001b[0;34m\u001b[0m\u001b[0m\n\u001b[0;32m----> 5\u001b[0;31m         \u001b[0mstop\u001b[0m\u001b[0;34m\u001b[0m\u001b[0;34m\u001b[0m\u001b[0m\n\u001b[0m\u001b[1;32m      6\u001b[0m \u001b[0;34m\u001b[0m\u001b[0m\n",
      "\u001b[0;31mNameError\u001b[0m: name 'stop' is not defined"
     ]
    }
   ],
   "source": [
    "for i in range(1,19698045):\n",
    "    target_id = f['edges']['hippocampus_neurons__hippocampus_neurons__chemical']['target_node_id'][i]\n",
    "    if mtypes[f1['nodes']['hippocampus_neurons']['0']['mtype'][target_id]] == 'SP_PC':\n",
    "        print(i)\n",
    "        stop\n",
    "        "
   ]
  },
  {
   "cell_type": "code",
   "execution_count": 51,
   "id": "36cab5a6",
   "metadata": {},
   "outputs": [
    {
     "name": "stdout",
     "output_type": "stream",
     "text": [
      "73587 425 SP_PC 36 SP_PC\n"
     ]
    }
   ],
   "source": [
    "i = 73587\n",
    "target_id = f['edges']['hippocampus_neurons__hippocampus_neurons__chemical']['target_node_id'][i]\n",
    "source_id = f['edges']['hippocampus_neurons__hippocampus_neurons__chemical']['source_node_id'][i]\n",
    "print(i,source_id,mtypes[f1['nodes']['hippocampus_neurons']['0']['mtype'][source_id]],target_id,mtypes[f1['nodes']['hippocampus_neurons']['0']['mtype'][target_id]])"
   ]
  },
  {
   "cell_type": "code",
   "execution_count": 56,
   "id": "b57aecde",
   "metadata": {},
   "outputs": [
    {
     "name": "stdout",
     "output_type": "stream",
     "text": [
      "73638\n"
     ]
    },
    {
     "ename": "NameError",
     "evalue": "name 'stop' is not defined",
     "output_type": "error",
     "traceback": [
      "\u001b[0;31m---------------------------------------------------------------------------\u001b[0m",
      "\u001b[0;31mNameError\u001b[0m                                 Traceback (most recent call last)",
      "\u001b[0;32m/tmp/ipykernel_46536/2284097813.py\u001b[0m in \u001b[0;36m<module>\u001b[0;34m\u001b[0m\n\u001b[1;32m      3\u001b[0m     \u001b[0;32mif\u001b[0m \u001b[0mmtypes\u001b[0m\u001b[0;34m[\u001b[0m\u001b[0mf1\u001b[0m\u001b[0;34m[\u001b[0m\u001b[0;34m'nodes'\u001b[0m\u001b[0;34m]\u001b[0m\u001b[0;34m[\u001b[0m\u001b[0;34m'hippocampus_neurons'\u001b[0m\u001b[0;34m]\u001b[0m\u001b[0;34m[\u001b[0m\u001b[0;34m'0'\u001b[0m\u001b[0;34m]\u001b[0m\u001b[0;34m[\u001b[0m\u001b[0;34m'mtype'\u001b[0m\u001b[0;34m]\u001b[0m\u001b[0;34m[\u001b[0m\u001b[0msource_id\u001b[0m\u001b[0;34m]\u001b[0m\u001b[0;34m]\u001b[0m \u001b[0;34m!=\u001b[0m \u001b[0;34m'SP_PC'\u001b[0m\u001b[0;34m:\u001b[0m\u001b[0;34m\u001b[0m\u001b[0;34m\u001b[0m\u001b[0m\n\u001b[1;32m      4\u001b[0m         \u001b[0mprint\u001b[0m\u001b[0;34m(\u001b[0m\u001b[0mi\u001b[0m\u001b[0;34m)\u001b[0m\u001b[0;34m\u001b[0m\u001b[0;34m\u001b[0m\u001b[0m\n\u001b[0;32m----> 5\u001b[0;31m         \u001b[0mstop\u001b[0m\u001b[0;34m\u001b[0m\u001b[0;34m\u001b[0m\u001b[0m\n\u001b[0m\u001b[1;32m      6\u001b[0m \u001b[0;34m\u001b[0m\u001b[0m\n",
      "\u001b[0;31mNameError\u001b[0m: name 'stop' is not defined"
     ]
    }
   ],
   "source": [
    "for i in range(73587,19698045):\n",
    "    source_id = f['edges']['hippocampus_neurons__hippocampus_neurons__chemical']['source_node_id'][i]\n",
    "    target_id = f['edges']['hippocampus_neurons__hippocampus_neurons__chemical']['target_node_id'][i]\n",
    "    if mtypes[f1['nodes']['hippocampus_neurons']['0']['mtype'][source_id]] != 'SP_PC':\n",
    "        print(i)\n",
    "        stop\n",
    "        "
   ]
  },
  {
   "cell_type": "code",
   "execution_count": 48,
   "id": "76f4785b",
   "metadata": {},
   "outputs": [
    {
     "data": {
      "text/plain": [
       "'SP_PC'"
      ]
     },
     "execution_count": 48,
     "metadata": {},
     "output_type": "execute_result"
    }
   ],
   "source": [
    "mtypes[f1['nodes']['hippocampus_neurons']['0']['mtype'][source_id]]"
   ]
  },
  {
   "cell_type": "code",
   "execution_count": 10,
   "id": "b45e51f7",
   "metadata": {
    "id": "ZgrqzzzhIJec"
   },
   "outputs": [],
   "source": [
    "source_id_anterior = f['edges']['hippocampus_neurons__hippocampus_neurons__chemical']['source_node_id'][0]\n",
    "target_id_anterior = f['edges']['hippocampus_neurons__hippocampus_neurons__chemical']['target_node_id'][0]\n",
    "count = 1\n",
    "syns_mtypes = []\n",
    "n_syns = []\n",
    "# index = 0\n",
    "\n",
    "# for i in imc2r100[1:]:\n",
    "#     index = index + 1\n",
    "for i in range(1,73587):\n",
    "    source_id = f['edges']['hippocampus_neurons__hippocampus_neurons__chemical']['source_node_id'][i]\n",
    "    target_id = f['edges']['hippocampus_neurons__hippocampus_neurons__chemical']['target_node_id'][i]\n",
    "    if source_id == source_id_anterior and target_id == target_id_anterior:\n",
    "        count = count + 1\n",
    "    else:\n",
    "        n_syns.append(count)\n",
    "        pre_mtype = mtypes[f1['nodes']['hippocampus_neurons']['0']['mtype'][source_id]]\n",
    "        post_mtype = mtypes[f1['nodes']['hippocampus_neurons']['0']['mtype'][target_id]]\n",
    "        syns_mtypes.append(pre_mtype + ':' + post_mtype)\n",
    "        count = 1\n",
    "#         syns_mtypes.append(proj_mtypes[index])\n",
    "        source_id_anterior = source_id\n",
    "        target_id_anterior = target_id     \n"
   ]
  },
  {
   "cell_type": "code",
   "execution_count": 11,
   "id": "abc3ef9b",
   "metadata": {},
   "outputs": [
    {
     "data": {
      "text/plain": [
       "'SO_BP:SR_SCA'"
      ]
     },
     "execution_count": 11,
     "metadata": {},
     "output_type": "execute_result"
    }
   ],
   "source": [
    "pre_mtype + ':' + post_mtype"
   ]
  },
  {
   "cell_type": "code",
   "execution_count": 31,
   "id": "06f6611c",
   "metadata": {},
   "outputs": [],
   "source": [
    "n_synsperconn = []\n",
    "n_syns = np.array(n_syns)ax = seaborn.heatmap(model_mean)\n",
    "\n",
    "fig = plt.gcf()\n",
    "fig.suptitle('Number of synapses per connection', )\n",
    "\n",
    "ax.set_xlabel('presynaptic mtype')\n",
    "ax.set_ylabel('postsynaptic mtype')\n",
    "\n",
    "ax.collections[0].colorbar.set_label(\"# synapses\")\n",
    "\n",
    "fig.show()\n",
    "unique_mtypes = []\n",
    "for pre in mtypes:\n",
    "    for post in mtypes:\n",
    "        proj = '%s:%s' % (pre, post)\n",
    "\n",
    "        if proj in syns_mtypes:\n",
    "            n_synsperconn.append(np.rint(np.mean(n_syns[np.where(np.array(syns_mtypes)==proj)[0]])))\n",
    "            if proj not in unique_mtypes:\n",
    "                unique_mtypes.append(proj)"
   ]
  },
  {
   "cell_type": "code",
   "execution_count": 32,
   "id": "cfac305a",
   "metadata": {},
   "outputs": [
    {
     "data": {
      "text/plain": [
       "['SLM_PPA:SLM_PPA',\n",
       " 'SLM_PPA:SR_SCA',\n",
       " 'SO_BP:SLM_PPA',\n",
       " 'SO_BP:SR_SCA',\n",
       " 'SO_BS:SLM_PPA',\n",
       " 'SO_BS:SR_SCA',\n",
       " 'SO_OLM:SLM_PPA',\n",
       " 'SO_OLM:SR_SCA',\n",
       " 'SO_Tri:SR_SCA',\n",
       " 'SP_BS:SLM_PPA',\n",
       " 'SP_BS:SR_SCA',\n",
       " 'SP_CCKBC:SR_SCA',\n",
       " 'SP_Ivy:SLM_PPA',\n",
       " 'SP_Ivy:SR_SCA',\n",
       " 'SP_PC:SR_SCA',\n",
       " 'SP_PVBC:SR_SCA',\n",
       " 'SR_SCA:SLM_PPA',\n",
       " 'SR_SCA:SR_SCA']"
      ]
     },
     "execution_count": 32,
     "metadata": {},
     "output_type": "execute_result"
    }
   ],
   "source": [
    "unique_mtypes"
   ]
  },
  {
   "cell_type": "code",
   "execution_count": 33,
   "id": "e66a2d10",
   "metadata": {
    "id": "5WAqyXzJXKyw",
    "scrolled": true
   },
   "outputs": [],
   "source": [
    "n_synsperconn = []\n",
    "n_syns = np.array(n_syns)\n",
    "\n",
    "for proj in unique_mtypes:\n",
    "    n_synsperconn.append(np.rint(np.mean(n_syns[np.where(np.array(syns_mtypes)==proj)[0]])))\n"
   ]
  },
  {
   "cell_type": "code",
   "execution_count": 34,
   "id": "20318596",
   "metadata": {
    "id": "i-GYyuzogpLL"
   },
   "outputs": [],
   "source": [
    "pre_mtypes = []\n",
    "post_mtypes = []\n",
    "for proj in unique_mtypes:\n",
    "    split = proj.split(sep=':')\n",
    "    pre_mtypes.append(split[0])\n",
    "    post_mtypes.append(split[1])"
   ]
  },
  {
   "cell_type": "code",
   "execution_count": 35,
   "id": "feedf40e",
   "metadata": {
    "id": "zsPyaXYyYf0d"
   },
   "outputs": [],
   "source": [
    "synsPerConn = {}\n",
    "synsPerConn['pre'] = pre_mtypes\n",
    "synsPerConn['post'] = post_mtypes\n",
    "synsPerConn['proj'] = unique_mtypes\n",
    "synsPerConn['n_syns'] = n_synsperconn"
   ]
  },
  {
   "cell_type": "code",
   "execution_count": 36,
   "id": "3f9087f6",
   "metadata": {
    "colab": {
     "base_uri": "https://localhost:8080/",
     "height": 1000
    },
    "executionInfo": {
     "elapsed": 9,
     "status": "ok",
     "timestamp": 1632616435232,
     "user": {
      "displayName": "Lavinia Mitiko Takarabe",
      "photoUrl": "https://lh3.googleusercontent.com/a/default-user=s64",
      "userId": "11900514963050471931"
     },
     "user_tz": 180
    },
    "id": "u2sv7ryhf9eB",
    "outputId": "996f8a81-21b6-41a8-fba9-97e896bf8850"
   },
   "outputs": [
    {
     "data": {
      "text/html": [
       "<div>\n",
       "<style scoped>\n",
       "    .dataframe tbody tr th:only-of-type {\n",
       "        vertical-align: middle;\n",
       "    }\n",
       "\n",
       "    .dataframe tbody tr th {\n",
       "        vertical-align: top;\n",
       "    }\n",
       "\n",
       "    .dataframe thead th {\n",
       "        text-align: right;\n",
       "    }\n",
       "</style>\n",
       "<table border=\"1\" class=\"dataframe\">\n",
       "  <thead>\n",
       "    <tr style=\"text-align: right;\">\n",
       "      <th></th>\n",
       "      <th>pre</th>\n",
       "      <th>post</th>\n",
       "      <th>proj</th>\n",
       "      <th>n_syns</th>\n",
       "    </tr>\n",
       "  </thead>\n",
       "  <tbody>\n",
       "    <tr>\n",
       "      <th>0</th>\n",
       "      <td>SLM_PPA</td>\n",
       "      <td>SLM_PPA</td>\n",
       "      <td>SLM_PPA:SLM_PPA</td>\n",
       "      <td>4.0</td>\n",
       "    </tr>\n",
       "    <tr>\n",
       "      <th>1</th>\n",
       "      <td>SLM_PPA</td>\n",
       "      <td>SR_SCA</td>\n",
       "      <td>SLM_PPA:SR_SCA</td>\n",
       "      <td>2.0</td>\n",
       "    </tr>\n",
       "    <tr>\n",
       "      <th>2</th>\n",
       "      <td>SO_BP</td>\n",
       "      <td>SLM_PPA</td>\n",
       "      <td>SO_BP:SLM_PPA</td>\n",
       "      <td>6.0</td>\n",
       "    </tr>\n",
       "    <tr>\n",
       "      <th>3</th>\n",
       "      <td>SO_BP</td>\n",
       "      <td>SR_SCA</td>\n",
       "      <td>SO_BP:SR_SCA</td>\n",
       "      <td>1.0</td>\n",
       "    </tr>\n",
       "    <tr>\n",
       "      <th>4</th>\n",
       "      <td>SO_BS</td>\n",
       "      <td>SLM_PPA</td>\n",
       "      <td>SO_BS:SLM_PPA</td>\n",
       "      <td>2.0</td>\n",
       "    </tr>\n",
       "    <tr>\n",
       "      <th>5</th>\n",
       "      <td>SO_BS</td>\n",
       "      <td>SR_SCA</td>\n",
       "      <td>SO_BS:SR_SCA</td>\n",
       "      <td>2.0</td>\n",
       "    </tr>\n",
       "    <tr>\n",
       "      <th>6</th>\n",
       "      <td>SO_OLM</td>\n",
       "      <td>SLM_PPA</td>\n",
       "      <td>SO_OLM:SLM_PPA</td>\n",
       "      <td>4.0</td>\n",
       "    </tr>\n",
       "    <tr>\n",
       "      <th>7</th>\n",
       "      <td>SO_OLM</td>\n",
       "      <td>SR_SCA</td>\n",
       "      <td>SO_OLM:SR_SCA</td>\n",
       "      <td>2.0</td>\n",
       "    </tr>\n",
       "    <tr>\n",
       "      <th>8</th>\n",
       "      <td>SO_Tri</td>\n",
       "      <td>SR_SCA</td>\n",
       "      <td>SO_Tri:SR_SCA</td>\n",
       "      <td>1.0</td>\n",
       "    </tr>\n",
       "    <tr>\n",
       "      <th>9</th>\n",
       "      <td>SP_BS</td>\n",
       "      <td>SLM_PPA</td>\n",
       "      <td>SP_BS:SLM_PPA</td>\n",
       "      <td>2.0</td>\n",
       "    </tr>\n",
       "    <tr>\n",
       "      <th>10</th>\n",
       "      <td>SP_BS</td>\n",
       "      <td>SR_SCA</td>\n",
       "      <td>SP_BS:SR_SCA</td>\n",
       "      <td>3.0</td>\n",
       "    </tr>\n",
       "    <tr>\n",
       "      <th>11</th>\n",
       "      <td>SP_CCKBC</td>\n",
       "      <td>SR_SCA</td>\n",
       "      <td>SP_CCKBC:SR_SCA</td>\n",
       "      <td>1.0</td>\n",
       "    </tr>\n",
       "    <tr>\n",
       "      <th>12</th>\n",
       "      <td>SP_Ivy</td>\n",
       "      <td>SLM_PPA</td>\n",
       "      <td>SP_Ivy:SLM_PPA</td>\n",
       "      <td>1.0</td>\n",
       "    </tr>\n",
       "    <tr>\n",
       "      <th>13</th>\n",
       "      <td>SP_Ivy</td>\n",
       "      <td>SR_SCA</td>\n",
       "      <td>SP_Ivy:SR_SCA</td>\n",
       "      <td>3.0</td>\n",
       "    </tr>\n",
       "    <tr>\n",
       "      <th>14</th>\n",
       "      <td>SP_PC</td>\n",
       "      <td>SR_SCA</td>\n",
       "      <td>SP_PC:SR_SCA</td>\n",
       "      <td>3.0</td>\n",
       "    </tr>\n",
       "    <tr>\n",
       "      <th>15</th>\n",
       "      <td>SP_PVBC</td>\n",
       "      <td>SR_SCA</td>\n",
       "      <td>SP_PVBC:SR_SCA</td>\n",
       "      <td>1.0</td>\n",
       "    </tr>\n",
       "    <tr>\n",
       "      <th>16</th>\n",
       "      <td>SR_SCA</td>\n",
       "      <td>SLM_PPA</td>\n",
       "      <td>SR_SCA:SLM_PPA</td>\n",
       "      <td>1.0</td>\n",
       "    </tr>\n",
       "    <tr>\n",
       "      <th>17</th>\n",
       "      <td>SR_SCA</td>\n",
       "      <td>SR_SCA</td>\n",
       "      <td>SR_SCA:SR_SCA</td>\n",
       "      <td>3.0</td>\n",
       "    </tr>\n",
       "  </tbody>\n",
       "</table>\n",
       "</div>"
      ],
      "text/plain": [
       "         pre     post             proj  n_syns\n",
       "0    SLM_PPA  SLM_PPA  SLM_PPA:SLM_PPA     4.0\n",
       "1    SLM_PPA   SR_SCA   SLM_PPA:SR_SCA     2.0\n",
       "2      SO_BP  SLM_PPA    SO_BP:SLM_PPA     6.0\n",
       "3      SO_BP   SR_SCA     SO_BP:SR_SCA     1.0\n",
       "4      SO_BS  SLM_PPA    SO_BS:SLM_PPA     2.0\n",
       "5      SO_BS   SR_SCA     SO_BS:SR_SCA     2.0\n",
       "6     SO_OLM  SLM_PPA   SO_OLM:SLM_PPA     4.0\n",
       "7     SO_OLM   SR_SCA    SO_OLM:SR_SCA     2.0\n",
       "8     SO_Tri   SR_SCA    SO_Tri:SR_SCA     1.0\n",
       "9      SP_BS  SLM_PPA    SP_BS:SLM_PPA     2.0\n",
       "10     SP_BS   SR_SCA     SP_BS:SR_SCA     3.0\n",
       "11  SP_CCKBC   SR_SCA  SP_CCKBC:SR_SCA     1.0\n",
       "12    SP_Ivy  SLM_PPA   SP_Ivy:SLM_PPA     1.0\n",
       "13    SP_Ivy   SR_SCA    SP_Ivy:SR_SCA     3.0\n",
       "14     SP_PC   SR_SCA     SP_PC:SR_SCA     3.0\n",
       "15   SP_PVBC   SR_SCA   SP_PVBC:SR_SCA     1.0\n",
       "16    SR_SCA  SLM_PPA   SR_SCA:SLM_PPA     1.0\n",
       "17    SR_SCA   SR_SCA    SR_SCA:SR_SCA     3.0"
      ]
     },
     "execution_count": 36,
     "metadata": {},
     "output_type": "execute_result"
    }
   ],
   "source": [
    "synsPerConn = pd.DataFrame(synsPerConn)\n",
    "synsPerConn"
   ]
  },
  {
   "cell_type": "code",
   "execution_count": 37,
   "id": "fb6a4f43",
   "metadata": {
    "id": "-LuQvVMYhxyF"
   },
   "outputs": [],
   "source": [
    "import seaborn as sns"
   ]
  },
  {
   "cell_type": "code",
   "execution_count": 38,
   "id": "e5a59476",
   "metadata": {
    "colab": {
     "base_uri": "https://localhost:8080/",
     "height": 265
    },
    "executionInfo": {
     "elapsed": 577,
     "status": "ok",
     "timestamp": 1632617777168,
     "user": {
      "displayName": "Lavinia Mitiko Takarabe",
      "photoUrl": "https://lh3.googleusercontent.com/a/default-user=s64",
      "userId": "11900514963050471931"
     },
     "user_tz": 180
    },
    "id": "amz7WOkCjMkM",
    "outputId": "f6327d29-4ea3-4632-95c1-5d1c6cb27e3d"
   },
   "outputs": [
    {
     "data": {
      "image/png": "[encoded data removed]",
      "text/plain": [
       "<Figure size 432x288 with 1 Axes>"
      ]
     },
     "metadata": {
      "needs_background": "light"
     },
     "output_type": "display_data"
    }
   ],
   "source": [
    "synsPerMtype = []\n",
    "for pre in mtypes:\n",
    "  line = []\n",
    "  for post in mtypes:\n",
    "    proj = '%s:%s' % (pre, post)\n",
    "    if proj in unique_mtypes:\n",
    "      line.append(float(synsPerConn[synsPerConn['proj']==proj]['n_syns']))\n",
    "    else:\n",
    "      line.append(0)\n",
    "  synsPerMtype.append(line)\n",
    "\n",
    "df = pd.DataFrame(synsPerMtype, index=mtypes, columns=mtypes)\n",
    "\n",
    "plt.pcolor(df)\n",
    "plt.yticks(np.arange(0.5, len(df.index), 1), df.index)\n",
    "plt.xticks(np.arange(0.5, len(df.columns), 1), df.columns)\n",
    "plt.show()"
   ]
  },
  {
   "cell_type": "code",
   "execution_count": 39,
   "id": "98fb1ecd",
   "metadata": {
    "colab": {
     "base_uri": "https://localhost:8080/",
     "height": 500
    },
    "executionInfo": {
     "elapsed": 752,
     "status": "ok",
     "timestamp": 1632618182316,
     "user": {
      "displayName": "Lavinia Mitiko Takarabe",
      "photoUrl": "https://lh3.googleusercontent.com/a/default-user=s64",
      "userId": "11900514963050471931"
     },
     "user_tz": 180
    },
    "id": "f5mZI5mLmsFo",
    "outputId": "04ba5766-5c6d-466f-fc63-71ac3be17efc"
   },
   "outputs": [
    {
     "data": {
      "image/png": "[encoded data removed]",
      "text/plain": [
       "<Figure size 720x576 with 2 Axes>"
      ]
     },
     "metadata": {
      "needs_background": "light"
     },
     "output_type": "display_data"
    }
   ],
   "source": [
    "plt.figure(figsize=(10,8))\n",
    "plt.title('Synapses per connection')\n",
    "ax = sns.heatmap(df)"
   ]
  },
  {
   "cell_type": "markdown",
   "id": "47ff9b07",
   "metadata": {
    "id": "Q5gzoX2He5PM"
   },
   "source": [
    "O código abaixo pode ser utilizado para importar o número de sinapses com mais detalhe!"
   ]
  },
  {
   "cell_type": "code",
   "execution_count": null,
   "id": "3bdd3de5",
   "metadata": {
    "id": "pkDK7XadW5Zx"
   },
   "outputs": [],
   "source": [
    "#synapses = []\n",
    "\n",
    "#for i in imc2r100[1:1000]:\n",
    "#  pre = f['edges']['hippocampus_neurons__hippocampus_neurons__chemical']['source_node_id'][i]\n",
    "#  post = f['edges']['hippocampus_neurons__hippocampus_neurons__chemical']['source_node_id'][i]\n",
    "  \n",
    "#  syn = '%s:%s' % (pre, post)\n",
    "\n",
    "#  synapses.append(syn)"
   ]
  },
  {
   "cell_type": "code",
   "execution_count": null,
   "id": "7159afeb",
   "metadata": {
    "id": "75iGoDvVeVbF"
   },
   "outputs": [],
   "source": [
    "#synapses_ids, number_synapses = np.unique(synapses, return_counts=True)"
   ]
  },
  {
   "cell_type": "code",
   "execution_count": null,
   "id": "cc742ab2",
   "metadata": {
    "colab": {
     "base_uri": "https://localhost:8080/"
    },
    "executionInfo": {
     "elapsed": 201,
     "status": "ok",
     "timestamp": 1632615723529,
     "user": {
      "displayName": "Lavinia Mitiko Takarabe",
      "photoUrl": "https://lh3.googleusercontent.com/a/default-user=s64",
      "userId": "11900514963050471931"
     },
     "user_tz": 180
    },
    "id": "YZQCf23Len62",
    "outputId": "dd4b7dc0-f8c9-49aa-c55c-5f75a405ee5b"
   },
   "outputs": [
    {
     "data": {
      "text/plain": [
       "array([ 1,  1,  2,  1,  1,  2,  2,  1,  2,  2,  2,  1,  1,  3,  4,  3,  2,\n",
       "        1,  1,  4,  6,  2,  2,  2,  4,  5,  4,  7,  4,  2,  4,  2,  2,  3,\n",
       "        2,  1,  1,  1,  2,  1,  3,  2,  1, 10,  2,  3,  2,  1,  3,  4,  2,\n",
       "        3,  1,  3,  3,  2,  1,  1,  2,  2,  2,  4,  3,  5,  2,  3,  1, 11,\n",
       "       34, 18, 27, 17, 10,  6, 36, 19, 15, 16, 18, 10, 15, 12, 14, 61, 31,\n",
       "       48, 47, 10, 27, 32, 38,  5, 38,  1,  1,  3,  4,  1,  3,  6,  9,  3,\n",
       "        3,  2,  2,  1,  1,  1,  3,  2,  2,  2,  1,  1,  5,  1,  4,  3,  8,\n",
       "        3,  1,  2,  1,  3,  2,  2,  2,  1,  2,  5,  1,  3,  1,  1,  3,  2,\n",
       "        1,  2,  9,  2,  2,  2,  1,  3,  1,  9,  4,  2,  2,  1,  1,  2,  1,\n",
       "        2,  2,  1,  3,  1,  5,  2,  3,  3,  2,  4,  4,  1,  1,  2,  2,  4,\n",
       "        1,  3,  2,  2,  3,  4,  2,  2,  2,  3])"
      ]
     },
     "execution_count": 129,
     "metadata": {},
     "output_type": "execute_result"
    }
   ],
   "source": [
    "#number_synapses"
   ]
  },
  {
   "cell_type": "markdown",
   "id": "cefd46c1",
   "metadata": {
    "id": "7YlodV8ax-1j"
   },
   "source": [
    "1*) cp from data to sim (ok)\n",
    "\n",
    "2º) run and compare (erro no colab)\n",
    "\n",
    "3 - testar os mods criando uma conexão para cada par de mtype se existe na tabela de 47 (criado, mas preciso pega os gids)\n",
    "\n",
    "4 - conectar todos os 531 usando os .h5 do BBP e rezar"
   ]
  }
 ],
 "metadata": {
  "colab": {
   "collapsed_sections": [],
   "name": "connections_mc2r100.ipynb",
   "provenance": [
    {
     "file_id": "1A8ei7TUY5YC-0umsXpT0uzE4CWse4sjB",
     "timestamp": 1632013482326
    }
   ]
  },
  "interpreter": {
   "hash": "ed47345c720decac6c54a666e8bc700bce294771cb2524ad4c2ab04933817aa2"
  },
  "kernelspec": {
   "display_name": "Python 3 (ipykernel)",
   "language": "python",
   "name": "python3"
  },
  "language_info": {
   "codemirror_mode": {
    "name": "ipython",
    "version": 3
   },
   "file_extension": ".py",
   "mimetype": "text/x-python",
   "name": "python",
   "nbconvert_exporter": "python",
   "pygments_lexer": "ipython3",
   "version": "3.8.16"
  }
 },
 "nbformat": 4,
 "nbformat_minor": 5
}
