{
 "cells": [
  {
   "cell_type": "markdown",
   "metadata": {
    "id": "fLaOhjgEEWBf"
   },
   "source": [
    "# Input-output properties cells"
   ]
  },
  {
   "cell_type": "code",
   "execution_count": 1,
   "metadata": {
    "colab": {
     "base_uri": "https://localhost:8080/"
    },
    "id": "2MNhcCA1EqmS",
    "outputId": "3d160344-9f7e-4480-80ce-98b60590f0d3"
   },
   "outputs": [],
   "source": [
    "# !git clone https://github.com/FernandoSBorges/NetPyNE_SONATA/tree/main/SCx_model/O1_data_physiology"
   ]
  },
  {
   "cell_type": "code",
   "execution_count": 2,
   "metadata": {
    "colab": {
     "base_uri": "https://localhost:8080/"
    },
    "id": "A1V7DJgeFED9",
    "outputId": "e4057c64-3ee2-4766-bdf9-03f5755cd669"
   },
   "outputs": [
    {
     "data": {
      "text/plain": [
       "'/home/fernando/NetPyNE_SONATA/SCx_model'"
      ]
     },
     "execution_count": 2,
     "metadata": {},
     "output_type": "execute_result"
    }
   ],
   "source": [
    "pwd"
   ]
  },
  {
   "cell_type": "code",
   "execution_count": 3,
   "metadata": {
    "id": "CyYkiSyfEWBj"
   },
   "outputs": [],
   "source": [
    "import numpy as np\n",
    "import json\n",
    "import os\n",
    "import pandas as pd\n",
    "import matplotlib.pyplot as plt"
   ]
  },
  {
   "cell_type": "code",
   "execution_count": 4,
   "metadata": {
    "colab": {
     "base_uri": "https://localhost:8080/"
    },
    "id": "DP1E1e8vipYR",
    "outputId": "3960c55e-a152-4f08-b0b7-6e30e59e63eb"
   },
   "outputs": [],
   "source": [
    "# !pip install bluepysnap\n",
    "# !pip install neuron\n",
    "# !pip install netpyne"
   ]
  },
  {
   "cell_type": "code",
   "execution_count": 5,
   "metadata": {},
   "outputs": [],
   "source": [
    "# CircuitPath = 'O1_data_physiology/' # edges files not inclued in https://github.com/FernandoSBorges/NetPyNE_SONATA/tree/main/SCx_model/O1_data_physiology\n",
    "\n",
    "CircuitPath = '/home/fernando/Documents/SCx_model/O1_data_physiology/'\n",
    "Atlas = CircuitPath + 'atlas/'\n",
    "Atlas2 = 'O1_data_physiology/voxel_atlas_data/'\n",
    "MorphologyPath = CircuitPath + 'morphologies/ascii/'\n",
    "nrnPath = CircuitPath + 'S1nonbarrel_neurons__S1nonbarrel_neurons__chemical/edges.h5'\n",
    "CellLibraryFile = CircuitPath + 'S1nonbarrel_neurons/nodes.h5'\n",
    "METypePath = CircuitPath + 'emodels_hoc/'\n",
    "\n",
    "\n",
    "# Path = CircuitPath + 'sonata/edges/edges_hippocampus_projections.h5'\n",
    "\n",
    "lst_properties = [ 'etype', 'exc_mini_frequency', 'inh_mini_frequency', 'layer', 'me_combo', 'model_template', 'model_type', 'morph_class', 'morphology', 'mtype', \n",
    "                  'orientation_w', 'orientation_x', 'orientation_y', 'orientation_z', 'population', 'region', 'synapse_class', '@dynamics:holding_current', \n",
    "                  '@dynamics:input_resistance', '@dynamics:resting_potential', '@dynamics:threshold_current', 'x', 'y', 'z']"
   ]
  },
  {
   "cell_type": "code",
   "execution_count": 6,
   "metadata": {
    "id": "atqn9gogEWBm"
   },
   "outputs": [],
   "source": [
    "# CircuitPath = '/home/fernando/CA1_netpyne/info/data-bbp/20191017/'\n",
    "# BioName = CircuitPath + 'bioname/'\n",
    "# Atlas = CircuitPath + 'atlas/'\n",
    "# MorphologyPath = CircuitPath + 'morphologies/swc/'\n",
    "# CellLibraryFile = CircuitPath + 'sonata/nodes/nodes_hippocampus.h5'\n",
    "# METypePath = CircuitPath + 'emodels/20190402/hoc/'\n",
    "# MEComboInfoFile = CircuitPath + 'emodels/20190402/mecombo_emodel.tsv'\n",
    "# UserTargetFile = CircuitPath + 'user.target'\n",
    "# StartTargetFile = CircuitPath + 'start.target'"
   ]
  },
  {
   "cell_type": "code",
   "execution_count": 7,
   "metadata": {
    "id": "zje0rMpeEWCg"
   },
   "outputs": [],
   "source": [
    "from bluepysnap import Circuit\n",
    "from bluepysnap.bbp import Cell\n",
    "circuit_path = CircuitPath + 'circuit_config.json'\n",
    "circuit = Circuit(circuit_path)\n",
    "\n",
    "cells = circuit.nodes[\"S1nonbarrel_neurons\"]\n",
    "proj_cells = circuit.nodes[\"external_S1nonbarrel_neurons__S1nonbarrel_neurons__chemical\"]\n",
    "cells_projections = proj_cells\n",
    "nodesinfo = cells.get()\n",
    "nodesinfo_projections = cells_projections.get()"
   ]
  },
  {
   "cell_type": "code",
   "execution_count": 8,
   "metadata": {
    "colab": {
     "base_uri": "https://localhost:8080/",
     "height": 422
    },
    "id": "udYTHOsCRsYl",
    "outputId": "dae541ad-c882-4fb1-f3f5-edb9bcb8893d"
   },
   "outputs": [
    {
     "data": {
      "text/html": [
       "<div>\n",
       "<style scoped>\n",
       "    .dataframe tbody tr th:only-of-type {\n",
       "        vertical-align: middle;\n",
       "    }\n",
       "\n",
       "    .dataframe tbody tr th {\n",
       "        vertical-align: top;\n",
       "    }\n",
       "\n",
       "    .dataframe thead th {\n",
       "        text-align: right;\n",
       "    }\n",
       "</style>\n",
       "<table border=\"1\" class=\"dataframe\">\n",
       "  <thead>\n",
       "    <tr style=\"text-align: right;\">\n",
       "      <th></th>\n",
       "      <th>etype</th>\n",
       "      <th>exc_mini_frequency</th>\n",
       "      <th>hexagon</th>\n",
       "      <th>inh_mini_frequency</th>\n",
       "      <th>layer</th>\n",
       "      <th>me_combo</th>\n",
       "      <th>model_template</th>\n",
       "      <th>model_type</th>\n",
       "      <th>morph_class</th>\n",
       "      <th>morphology</th>\n",
       "      <th>...</th>\n",
       "      <th>x</th>\n",
       "      <th>x_new</th>\n",
       "      <th>y</th>\n",
       "      <th>y_new</th>\n",
       "      <th>z</th>\n",
       "      <th>z_new</th>\n",
       "      <th>@dynamics:holding_current</th>\n",
       "      <th>@dynamics:input_resistance</th>\n",
       "      <th>@dynamics:resting_potential</th>\n",
       "      <th>@dynamics:threshold_current</th>\n",
       "    </tr>\n",
       "    <tr>\n",
       "      <th>node_ids</th>\n",
       "      <th></th>\n",
       "      <th></th>\n",
       "      <th></th>\n",
       "      <th></th>\n",
       "      <th></th>\n",
       "      <th></th>\n",
       "      <th></th>\n",
       "      <th></th>\n",
       "      <th></th>\n",
       "      <th></th>\n",
       "      <th></th>\n",
       "      <th></th>\n",
       "      <th></th>\n",
       "      <th></th>\n",
       "      <th></th>\n",
       "      <th></th>\n",
       "      <th></th>\n",
       "      <th></th>\n",
       "      <th></th>\n",
       "      <th></th>\n",
       "      <th></th>\n",
       "    </tr>\n",
       "  </thead>\n",
       "  <tbody>\n",
       "    <tr>\n",
       "      <th>175397</th>\n",
       "      <td>cADpyr</td>\n",
       "      <td>0.010108</td>\n",
       "      <td>4</td>\n",
       "      <td>0.233243</td>\n",
       "      <td>5</td>\n",
       "      <td>cADpyr_L5TPC_L5_UPC_5_dend-vd120112_idB_axon-v...</td>\n",
       "      <td>hoc:cADpyr_L5TPC</td>\n",
       "      <td>biophysical</td>\n",
       "      <td>PYR</td>\n",
       "      <td>dend-vd120112_idB_axon-vd130423_idB</td>\n",
       "      <td>...</td>\n",
       "      <td>3783.979592</td>\n",
       "      <td>1197.501656</td>\n",
       "      <td>-1726.950842</td>\n",
       "      <td>844.392074</td>\n",
       "      <td>-2621.002455</td>\n",
       "      <td>947.901133</td>\n",
       "      <td>-0.073128</td>\n",
       "      <td>96.699585</td>\n",
       "      <td>-78.179581</td>\n",
       "      <td>0.209156</td>\n",
       "    </tr>\n",
       "    <tr>\n",
       "      <th>175398</th>\n",
       "      <td>cADpyr</td>\n",
       "      <td>0.010108</td>\n",
       "      <td>1</td>\n",
       "      <td>0.233243</td>\n",
       "      <td>5</td>\n",
       "      <td>cADpyr_L5TPC_L5_UPC_5_dend-vd130423_idB_axon-F...</td>\n",
       "      <td>hoc:cADpyr_L5TPC</td>\n",
       "      <td>biophysical</td>\n",
       "      <td>PYR</td>\n",
       "      <td>dend-vd130423_idB_axon-Fluo15_right_-_Scale_x1...</td>\n",
       "      <td>...</td>\n",
       "      <td>3931.871542</td>\n",
       "      <td>37.637721</td>\n",
       "      <td>-568.664463</td>\n",
       "      <td>568.310246</td>\n",
       "      <td>-2346.674264</td>\n",
       "      <td>1079.239618</td>\n",
       "      <td>-0.056657</td>\n",
       "      <td>119.162033</td>\n",
       "      <td>-78.466377</td>\n",
       "      <td>0.171266</td>\n",
       "    </tr>\n",
       "    <tr>\n",
       "      <th>175399</th>\n",
       "      <td>cADpyr</td>\n",
       "      <td>0.010108</td>\n",
       "      <td>0</td>\n",
       "      <td>0.233243</td>\n",
       "      <td>5</td>\n",
       "      <td>cADpyr_L5TPC_L5_UPC_5_dend-rp110511_C1_idA_axo...</td>\n",
       "      <td>hoc:cADpyr_L5TPC</td>\n",
       "      <td>biophysical</td>\n",
       "      <td>PYR</td>\n",
       "      <td>dend-rp110511_C1_idA_axon-Fluo6_right_-_Scale_...</td>\n",
       "      <td>...</td>\n",
       "      <td>4000.858971</td>\n",
       "      <td>621.259451</td>\n",
       "      <td>-1187.016868</td>\n",
       "      <td>872.699325</td>\n",
       "      <td>-2564.674538</td>\n",
       "      <td>1042.144520</td>\n",
       "      <td>-0.047627</td>\n",
       "      <td>139.546387</td>\n",
       "      <td>-78.482635</td>\n",
       "      <td>0.137922</td>\n",
       "    </tr>\n",
       "    <tr>\n",
       "      <th>175400</th>\n",
       "      <td>cADpyr</td>\n",
       "      <td>0.010108</td>\n",
       "      <td>6</td>\n",
       "      <td>0.233243</td>\n",
       "      <td>5</td>\n",
       "      <td>cADpyr_L5TPC_L5_UPC_5_dend-rp101229_L5-1_idA_a...</td>\n",
       "      <td>hoc:cADpyr_L5TPC</td>\n",
       "      <td>biophysical</td>\n",
       "      <td>PYR</td>\n",
       "      <td>dend-rp101229_L5-1_idA_axon-rp110725_C2_idB_-_...</td>\n",
       "      <td>...</td>\n",
       "      <td>4051.578261</td>\n",
       "      <td>269.658907</td>\n",
       "      <td>-837.352989</td>\n",
       "      <td>908.497456</td>\n",
       "      <td>-2666.380189</td>\n",
       "      <td>940.769647</td>\n",
       "      <td>-0.051307</td>\n",
       "      <td>129.261276</td>\n",
       "      <td>-78.519058</td>\n",
       "      <td>0.154594</td>\n",
       "    </tr>\n",
       "    <tr>\n",
       "      <th>175401</th>\n",
       "      <td>cADpyr</td>\n",
       "      <td>0.010108</td>\n",
       "      <td>4</td>\n",
       "      <td>0.233243</td>\n",
       "      <td>5</td>\n",
       "      <td>cADpyr_L5TPC_L5_UPC_5_dend-rp110511_C1_idA_axo...</td>\n",
       "      <td>hoc:cADpyr_L5TPC</td>\n",
       "      <td>biophysical</td>\n",
       "      <td>PYR</td>\n",
       "      <td>dend-rp110511_C1_idA_axon-rp101213_L5-1_idC_-_...</td>\n",
       "      <td>...</td>\n",
       "      <td>4038.227764</td>\n",
       "      <td>931.110830</td>\n",
       "      <td>-1515.491111</td>\n",
       "      <td>981.329536</td>\n",
       "      <td>-2594.093027</td>\n",
       "      <td>1090.608972</td>\n",
       "      <td>-0.045801</td>\n",
       "      <td>141.744675</td>\n",
       "      <td>-78.627968</td>\n",
       "      <td>0.147016</td>\n",
       "    </tr>\n",
       "    <tr>\n",
       "      <th>...</th>\n",
       "      <td>...</td>\n",
       "      <td>...</td>\n",
       "      <td>...</td>\n",
       "      <td>...</td>\n",
       "      <td>...</td>\n",
       "      <td>...</td>\n",
       "      <td>...</td>\n",
       "      <td>...</td>\n",
       "      <td>...</td>\n",
       "      <td>...</td>\n",
       "      <td>...</td>\n",
       "      <td>...</td>\n",
       "      <td>...</td>\n",
       "      <td>...</td>\n",
       "      <td>...</td>\n",
       "      <td>...</td>\n",
       "      <td>...</td>\n",
       "      <td>...</td>\n",
       "      <td>...</td>\n",
       "      <td>...</td>\n",
       "      <td>...</td>\n",
       "    </tr>\n",
       "    <tr>\n",
       "      <th>177737</th>\n",
       "      <td>cADpyr</td>\n",
       "      <td>0.010108</td>\n",
       "      <td>4</td>\n",
       "      <td>0.233243</td>\n",
       "      <td>5</td>\n",
       "      <td>cADpyr_L5TPC_L5_UPC_5_dend-og061123b1-3_idA_ax...</td>\n",
       "      <td>hoc:cADpyr_L5TPC</td>\n",
       "      <td>biophysical</td>\n",
       "      <td>PYR</td>\n",
       "      <td>dend-og061123b1-3_idA_axon-rp100426-1_idF_-_Sc...</td>\n",
       "      <td>...</td>\n",
       "      <td>3944.576013</td>\n",
       "      <td>1200.103358</td>\n",
       "      <td>-1769.414648</td>\n",
       "      <td>904.506994</td>\n",
       "      <td>-2508.020263</td>\n",
       "      <td>1139.574784</td>\n",
       "      <td>-0.101044</td>\n",
       "      <td>71.732674</td>\n",
       "      <td>-78.083359</td>\n",
       "      <td>0.277359</td>\n",
       "    </tr>\n",
       "    <tr>\n",
       "      <th>177738</th>\n",
       "      <td>cADpyr</td>\n",
       "      <td>0.010108</td>\n",
       "      <td>3</td>\n",
       "      <td>0.233243</td>\n",
       "      <td>5</td>\n",
       "      <td>cADpyr_L5TPC_L5_UPC_5_dend-rp101229_L5-1_idC_a...</td>\n",
       "      <td>hoc:cADpyr_L5TPC</td>\n",
       "      <td>biophysical</td>\n",
       "      <td>PYR</td>\n",
       "      <td>dend-rp101229_L5-1_idC_axon-Fluo2_right_-_Scal...</td>\n",
       "      <td>...</td>\n",
       "      <td>3558.034865</td>\n",
       "      <td>1009.528435</td>\n",
       "      <td>-1477.324077</td>\n",
       "      <td>263.628585</td>\n",
       "      <td>-2038.157353</td>\n",
       "      <td>1231.543149</td>\n",
       "      <td>-0.066529</td>\n",
       "      <td>90.538918</td>\n",
       "      <td>-78.937279</td>\n",
       "      <td>0.265234</td>\n",
       "    </tr>\n",
       "    <tr>\n",
       "      <th>177739</th>\n",
       "      <td>cADpyr</td>\n",
       "      <td>0.010108</td>\n",
       "      <td>0</td>\n",
       "      <td>0.233243</td>\n",
       "      <td>5</td>\n",
       "      <td>cADpyr_L5TPC_L5_UPC_5_dend-Fluo15_left_axon-rp...</td>\n",
       "      <td>hoc:cADpyr_L5TPC</td>\n",
       "      <td>biophysical</td>\n",
       "      <td>PYR</td>\n",
       "      <td>dend-Fluo15_left_axon-rp120802_P-1_idB_-_Scale...</td>\n",
       "      <td>...</td>\n",
       "      <td>3808.513688</td>\n",
       "      <td>631.894580</td>\n",
       "      <td>-1150.325066</td>\n",
       "      <td>715.900872</td>\n",
       "      <td>-2559.055485</td>\n",
       "      <td>925.201333</td>\n",
       "      <td>-0.049468</td>\n",
       "      <td>140.076279</td>\n",
       "      <td>-78.270294</td>\n",
       "      <td>0.124281</td>\n",
       "    </tr>\n",
       "    <tr>\n",
       "      <th>177740</th>\n",
       "      <td>cADpyr</td>\n",
       "      <td>0.010108</td>\n",
       "      <td>4</td>\n",
       "      <td>0.233243</td>\n",
       "      <td>5</td>\n",
       "      <td>cADpyr_L5TPC_L5_UPC_5_dend-rp101213_L5-1_idC_a...</td>\n",
       "      <td>hoc:cADpyr_L5TPC</td>\n",
       "      <td>biophysical</td>\n",
       "      <td>PYR</td>\n",
       "      <td>dend-rp101213_L5-1_idC_axon-vd120112_idB_-_Sca...</td>\n",
       "      <td>...</td>\n",
       "      <td>3846.199557</td>\n",
       "      <td>1004.725333</td>\n",
       "      <td>-1543.760881</td>\n",
       "      <td>765.101144</td>\n",
       "      <td>-2472.593630</td>\n",
       "      <td>1074.413198</td>\n",
       "      <td>-0.051952</td>\n",
       "      <td>135.598038</td>\n",
       "      <td>-78.188133</td>\n",
       "      <td>0.131102</td>\n",
       "    </tr>\n",
       "    <tr>\n",
       "      <th>177741</th>\n",
       "      <td>cADpyr</td>\n",
       "      <td>0.010108</td>\n",
       "      <td>5</td>\n",
       "      <td>0.233243</td>\n",
       "      <td>5</td>\n",
       "      <td>cADpyr_L5TPC_L5_UPC_5_dend-rp101229_L5-1_idC_a...</td>\n",
       "      <td>hoc:cADpyr_L5TPC</td>\n",
       "      <td>biophysical</td>\n",
       "      <td>PYR</td>\n",
       "      <td>dend-rp101229_L5-1_idC_axon-vd130423_idB_-_Sca...</td>\n",
       "      <td>...</td>\n",
       "      <td>4061.097697</td>\n",
       "      <td>811.798556</td>\n",
       "      <td>-1398.237849</td>\n",
       "      <td>1095.285129</td>\n",
       "      <td>-2785.279130</td>\n",
       "      <td>936.978926</td>\n",
       "      <td>-0.065855</td>\n",
       "      <td>92.217010</td>\n",
       "      <td>-78.891396</td>\n",
       "      <td>0.274328</td>\n",
       "    </tr>\n",
       "  </tbody>\n",
       "</table>\n",
       "<p>2345 rows × 28 columns</p>\n",
       "</div>"
      ],
      "text/plain": [
       "           etype  exc_mini_frequency  hexagon  inh_mini_frequency layer  \\\n",
       "node_ids                                                                  \n",
       "175397    cADpyr            0.010108        4            0.233243     5   \n",
       "175398    cADpyr            0.010108        1            0.233243     5   \n",
       "175399    cADpyr            0.010108        0            0.233243     5   \n",
       "175400    cADpyr            0.010108        6            0.233243     5   \n",
       "175401    cADpyr            0.010108        4            0.233243     5   \n",
       "...          ...                 ...      ...                 ...   ...   \n",
       "177737    cADpyr            0.010108        4            0.233243     5   \n",
       "177738    cADpyr            0.010108        3            0.233243     5   \n",
       "177739    cADpyr            0.010108        0            0.233243     5   \n",
       "177740    cADpyr            0.010108        4            0.233243     5   \n",
       "177741    cADpyr            0.010108        5            0.233243     5   \n",
       "\n",
       "                                                   me_combo    model_template  \\\n",
       "node_ids                                                                        \n",
       "175397    cADpyr_L5TPC_L5_UPC_5_dend-vd120112_idB_axon-v...  hoc:cADpyr_L5TPC   \n",
       "175398    cADpyr_L5TPC_L5_UPC_5_dend-vd130423_idB_axon-F...  hoc:cADpyr_L5TPC   \n",
       "175399    cADpyr_L5TPC_L5_UPC_5_dend-rp110511_C1_idA_axo...  hoc:cADpyr_L5TPC   \n",
       "175400    cADpyr_L5TPC_L5_UPC_5_dend-rp101229_L5-1_idA_a...  hoc:cADpyr_L5TPC   \n",
       "175401    cADpyr_L5TPC_L5_UPC_5_dend-rp110511_C1_idA_axo...  hoc:cADpyr_L5TPC   \n",
       "...                                                     ...               ...   \n",
       "177737    cADpyr_L5TPC_L5_UPC_5_dend-og061123b1-3_idA_ax...  hoc:cADpyr_L5TPC   \n",
       "177738    cADpyr_L5TPC_L5_UPC_5_dend-rp101229_L5-1_idC_a...  hoc:cADpyr_L5TPC   \n",
       "177739    cADpyr_L5TPC_L5_UPC_5_dend-Fluo15_left_axon-rp...  hoc:cADpyr_L5TPC   \n",
       "177740    cADpyr_L5TPC_L5_UPC_5_dend-rp101213_L5-1_idC_a...  hoc:cADpyr_L5TPC   \n",
       "177741    cADpyr_L5TPC_L5_UPC_5_dend-rp101229_L5-1_idC_a...  hoc:cADpyr_L5TPC   \n",
       "\n",
       "           model_type morph_class  \\\n",
       "node_ids                            \n",
       "175397    biophysical         PYR   \n",
       "175398    biophysical         PYR   \n",
       "175399    biophysical         PYR   \n",
       "175400    biophysical         PYR   \n",
       "175401    biophysical         PYR   \n",
       "...               ...         ...   \n",
       "177737    biophysical         PYR   \n",
       "177738    biophysical         PYR   \n",
       "177739    biophysical         PYR   \n",
       "177740    biophysical         PYR   \n",
       "177741    biophysical         PYR   \n",
       "\n",
       "                                                 morphology  ...            x  \\\n",
       "node_ids                                                     ...                \n",
       "175397                  dend-vd120112_idB_axon-vd130423_idB  ...  3783.979592   \n",
       "175398    dend-vd130423_idB_axon-Fluo15_right_-_Scale_x1...  ...  3931.871542   \n",
       "175399    dend-rp110511_C1_idA_axon-Fluo6_right_-_Scale_...  ...  4000.858971   \n",
       "175400    dend-rp101229_L5-1_idA_axon-rp110725_C2_idB_-_...  ...  4051.578261   \n",
       "175401    dend-rp110511_C1_idA_axon-rp101213_L5-1_idC_-_...  ...  4038.227764   \n",
       "...                                                     ...  ...          ...   \n",
       "177737    dend-og061123b1-3_idA_axon-rp100426-1_idF_-_Sc...  ...  3944.576013   \n",
       "177738    dend-rp101229_L5-1_idC_axon-Fluo2_right_-_Scal...  ...  3558.034865   \n",
       "177739    dend-Fluo15_left_axon-rp120802_P-1_idB_-_Scale...  ...  3808.513688   \n",
       "177740    dend-rp101213_L5-1_idC_axon-vd120112_idB_-_Sca...  ...  3846.199557   \n",
       "177741    dend-rp101229_L5-1_idC_axon-vd130423_idB_-_Sca...  ...  4061.097697   \n",
       "\n",
       "                x_new            y        y_new            z        z_new  \\\n",
       "node_ids                                                                    \n",
       "175397    1197.501656 -1726.950842   844.392074 -2621.002455   947.901133   \n",
       "175398      37.637721  -568.664463   568.310246 -2346.674264  1079.239618   \n",
       "175399     621.259451 -1187.016868   872.699325 -2564.674538  1042.144520   \n",
       "175400     269.658907  -837.352989   908.497456 -2666.380189   940.769647   \n",
       "175401     931.110830 -1515.491111   981.329536 -2594.093027  1090.608972   \n",
       "...               ...          ...          ...          ...          ...   \n",
       "177737    1200.103358 -1769.414648   904.506994 -2508.020263  1139.574784   \n",
       "177738    1009.528435 -1477.324077   263.628585 -2038.157353  1231.543149   \n",
       "177739     631.894580 -1150.325066   715.900872 -2559.055485   925.201333   \n",
       "177740    1004.725333 -1543.760881   765.101144 -2472.593630  1074.413198   \n",
       "177741     811.798556 -1398.237849  1095.285129 -2785.279130   936.978926   \n",
       "\n",
       "         @dynamics:holding_current @dynamics:input_resistance  \\\n",
       "node_ids                                                        \n",
       "175397                   -0.073128                  96.699585   \n",
       "175398                   -0.056657                 119.162033   \n",
       "175399                   -0.047627                 139.546387   \n",
       "175400                   -0.051307                 129.261276   \n",
       "175401                   -0.045801                 141.744675   \n",
       "...                            ...                        ...   \n",
       "177737                   -0.101044                  71.732674   \n",
       "177738                   -0.066529                  90.538918   \n",
       "177739                   -0.049468                 140.076279   \n",
       "177740                   -0.051952                 135.598038   \n",
       "177741                   -0.065855                  92.217010   \n",
       "\n",
       "          @dynamics:resting_potential  @dynamics:threshold_current  \n",
       "node_ids                                                            \n",
       "175397                     -78.179581                     0.209156  \n",
       "175398                     -78.466377                     0.171266  \n",
       "175399                     -78.482635                     0.137922  \n",
       "175400                     -78.519058                     0.154594  \n",
       "175401                     -78.627968                     0.147016  \n",
       "...                               ...                          ...  \n",
       "177737                     -78.083359                     0.277359  \n",
       "177738                     -78.937279                     0.265234  \n",
       "177739                     -78.270294                     0.124281  \n",
       "177740                     -78.188133                     0.131102  \n",
       "177741                     -78.891396                     0.274328  \n",
       "\n",
       "[2345 rows x 28 columns]"
      ]
     },
     "execution_count": 8,
     "metadata": {},
     "output_type": "execute_result"
    }
   ],
   "source": [
    "nodesinfo[nodesinfo['mtype'] == 'L5_UPC']"
   ]
  },
  {
   "cell_type": "code",
   "execution_count": 9,
   "metadata": {
    "colab": {
     "base_uri": "https://localhost:8080/"
    },
    "id": "6-Y9YseGEWCr",
    "outputId": "730e115b-1258-45c0-9d23-8ea16eba0544"
   },
   "outputs": [],
   "source": [
    "# !nrnivmodl '/home/fernando/NetPyNE_SONATA/SCx_model/O1_data_physiology/mod/'"
   ]
  },
  {
   "cell_type": "code",
   "execution_count": 10,
   "metadata": {},
   "outputs": [],
   "source": [
    "def distance3D(gidpre,gidpost):\n",
    "    return np.sqrt(np.power(nodesinfo['x'][gidpre]-nodesinfo['x'][gidpost],2)+np.power(nodesinfo['y'][gidpre]-nodesinfo['y'][gidpost],2)+np.power(nodesinfo['z'][gidpre]-nodesinfo['z'][gidpost],2))\n",
    "\n",
    "def distance2D(gidpre,gidpost):\n",
    "    return np.sqrt(np.power(nodesinfo['x'][gidpre]-nodesinfo['x'][gidpost],2)+np.power(nodesinfo['y'][gidpre]-nodesinfo['y'][gidpost],2))\n",
    "\n",
    "def distance2Dmean(gidpre, mean_x, mean_y):\n",
    "    return np.sqrt(np.power(nodesinfo['x_new'][gidpre]-mean_x,2)+np.power(nodesinfo['y_new'][gidpre]-mean_y,2))"
   ]
  },
  {
   "cell_type": "code",
   "execution_count": 11,
   "metadata": {},
   "outputs": [
    {
     "name": "stdout",
     "output_type": "stream",
     "text": [
      "{'S1J', 'S1DZ', 'S1FL'}\n"
     ]
    }
   ],
   "source": [
    "print(cells.property_values(Cell.REGION))\n",
    "\n",
    "mtypes = sorted(cells.property_values(Cell.MTYPE))\n",
    "\n",
    "i = 0\n",
    "mntypes = {}\n",
    "for mn in sorted(mtypes):\n",
    "    mntypes[mn] = i\n",
    "    i+=1"
   ]
  },
  {
   "cell_type": "code",
   "execution_count": 12,
   "metadata": {},
   "outputs": [
    {
     "name": "stdout",
     "output_type": "stream",
     "text": [
      "1 172877 cADpyr_L5TPC_L5_TPC:C_5_dend-Fluo18_upper_axon-vd100825_INT_idA_-_Scale_x1.000_y0.950_z1.000_-_Clone_0\n",
      "2 173539 cSTUT_L6NGC_L5_LBC_5_og060904a1-3_idC_-_Scale_x1.000_y0.975_z1.000_-_Clone_4\n",
      "3 176162 cADpyr_L5TPC_L5_UPC_5_dend-vd110511_idI_axon-Fluo15_left_-_Scale_x1.000_y0.950_z1.000\n",
      "4 186706 cADpyr_L5TPC_L5_TPC:B_5_dend-rp120525_P_1_idC_axon-C060116A5_-_Clone_0\n",
      "5 187660 cADpyr_L5TPC_L5_TPC:B_5_dend-rp111213_C3_idA_axon-C060116A3_-_Scale_x1.000_y1.050_z1.000_-_Clone_0\n",
      "6 189951 cADpyr_L5TPC_L5_TPC:B_5_dend-C060202A5_axon-C060116A5_-_Scale_x1.000_y0.975_z1.000\n",
      "7 190969 cADpyr_L5TPC_L5_TPC:B_5_dend-vd111221_idB_axon-C080501B2_-_Scale_x1.000_y0.950_z1.000_-_Clone_0\n",
      "8 200304 cADpyr_L5TPC_L5_TPC:A_5_dend-rat_20160316_E2_LH3_cell1_axon-C060109A3_-_Scale_x1.000_y1.050_z1.000\n",
      "9 203645 cADpyr_L5TPC_L5_TPC:A_5_dend-C060109A3_axon-rat_20160906_E1_LH4_cell1_-_Scale_x1.000_y0.975_z1.000\n",
      "10 205580 cADpyr_L5TPC_L5_TPC:A_5_dend-rat_20151212_LH3_cell1_axon-C060114A4_-_Scale_x1.000_y0.950_z1.000\n"
     ]
    },
    {
     "data": {
      "text/plain": [
       "['L5_TPC:C', 'L5_LBC', 'L5_UPC', 'L5_TPC:B', 'L5_TPC:A']"
      ]
     },
     "execution_count": 12,
     "metadata": {},
     "output_type": "execute_result"
    }
   ],
   "source": [
    "f = open('node_sets.json') \n",
    "node_sets = json.load(f) \n",
    "\n",
    "mean_x, mean_y = np.mean(nodesinfo['x_new']), np.mean(nodesinfo['y_new'])\n",
    "\n",
    "node_gid = [] \n",
    "nodeprex_new = []\n",
    "nodeprez_new = []       \n",
    "nodeprey_new = [] \n",
    "nodepremtype_new = []    \n",
    "mtype_new = []     \n",
    "\n",
    "for gid in node_sets['hex0']['node_id']: \n",
    "#     if 'L' in nodesinfo['mtype'][gid] and distance2Dmean(gid, mean_x, mean_y)< 12.7:     100 cells\n",
    "    if 'L5' in nodesinfo['mtype'][gid] and distance2Dmean(gid, mean_x, mean_y)< 9.2:     \n",
    "        node_gid.append(gid)\n",
    "        nodeprex_new.append(nodesinfo['x_new'][gid])\n",
    "        nodeprey_new.append(nodesinfo['y_new'][gid])\n",
    "        nodeprez_new.append(nodesinfo['z_new'][gid])\n",
    "        nodepremtype_new.append(mntypes[nodesinfo['mtype'][gid]])\n",
    "        print(len(node_gid),gid,nodesinfo['me_combo'][gid])\n",
    "        if nodesinfo['mtype'][gid] not in mtype_new:\n",
    "            mtype_new.append(nodesinfo['mtype'][gid])\n",
    "        \n",
    "mtype_new"
   ]
  },
  {
   "cell_type": "markdown",
   "metadata": {},
   "source": [
    "# Exploring the Lists"
   ]
  },
  {
   "cell_type": "code",
   "execution_count": 13,
   "metadata": {},
   "outputs": [],
   "source": [
    "hoclist = sorted(cells.property_values(Cell.MODEL_TEMPLATE))\n",
    "Morpholist = sorted(cells.property_values(Cell.MORPHOLOGY))\n",
    "Mtypelist = sorted(cells.property_values(Cell.MTYPE))"
   ]
  },
  {
   "cell_type": "code",
   "execution_count": 14,
   "metadata": {},
   "outputs": [
    {
     "data": {
      "text/plain": [
       "(['L1_DAC', 'L1_HAC', 'L1_LAC'],\n",
       " ['hoc:bAC_L23BTC', 'hoc:bAC_L6BTC', 'hoc:bIR_L23BP'],\n",
       " ['C010306C', 'C010306C_-_Clone_0', 'C010306C_-_Clone_1'])"
      ]
     },
     "execution_count": 14,
     "metadata": {},
     "output_type": "execute_result"
    }
   ],
   "source": [
    "Mtypelist[0:3], hoclist[0:3], Morpholist[0:3]"
   ]
  },
  {
   "cell_type": "code",
   "execution_count": 15,
   "metadata": {},
   "outputs": [
    {
     "data": {
      "text/plain": [
       "[172877,\n",
       " 173539,\n",
       " 176162,\n",
       " 186706,\n",
       " 187660,\n",
       " 189951,\n",
       " 190969,\n",
       " 200304,\n",
       " 203645,\n",
       " 205580]"
      ]
     },
     "execution_count": 15,
     "metadata": {},
     "output_type": "execute_result"
    }
   ],
   "source": [
    "node_gid"
   ]
  },
  {
   "cell_type": "code",
   "execution_count": 16,
   "metadata": {},
   "outputs": [
    {
     "name": "stdout",
     "output_type": "stream",
     "text": [
      "hoc:cADpyr_L5TPC\n",
      " S1FL 4069.81 -1280.39 -2311.99\n",
      "hoc:cADpyr_L5TPC\n",
      " S1FL 3958.64 -1241.83 -2443.63\n"
     ]
    }
   ],
   "source": [
    "node_gid = [172877, 205580]  ## faster test\n",
    "\n",
    "most_central_10 = node_gid # - np.ones_like(most_central_10_SP_PC)\n",
    "\n",
    "most_central_10_SP_PC = most_central_10\n",
    "Morpholist = []\n",
    "hoclist = []\n",
    "for gid in most_central_10_SP_PC:\n",
    "    MorphoName = MorphologyPath + nodesinfo['morphology'][gid] + '.swc'\n",
    "    hocName = METypePath + nodesinfo['model_template'][gid][4:] + '.hoc'\n",
    "    cellName = nodesinfo['model_template'][gid][4:]  \n",
    "    mcName = nodesinfo['region'][gid][:3]  \n",
    "    layerName = nodesinfo['region'][gid][4:]  \n",
    "    print('%s\\n %s %.2f %.2f %.2f' % (nodesinfo['model_template'][gid],nodesinfo['region'][gid],nodesinfo['x'][gid],nodesinfo['y'][gid],nodesinfo['z'][gid]))\n",
    "    \n",
    "    if cellName not in hoclist:\n",
    "        hoclist.append(cellName)   \n",
    "        \n",
    "    if nodesinfo['morphology'][gid] not in Morpholist:\n",
    "        Morpholist.append(nodesinfo['morphology'][gid])\n",
    "        "
   ]
  },
  {
   "cell_type": "markdown",
   "metadata": {},
   "source": [
    "# NetPyNE"
   ]
  },
  {
   "cell_type": "code",
   "execution_count": 17,
   "metadata": {},
   "outputs": [],
   "source": [
    "from netpyne import specs, sim   \n",
    "\n",
    "# Network parameters\n",
    "netParams = specs.NetParams()  # object of class NetParams to store the network parameters"
   ]
  },
  {
   "cell_type": "code",
   "execution_count": 18,
   "metadata": {},
   "outputs": [
    {
     "name": "stdout",
     "output_type": "stream",
     "text": [
      "L5_TPC:C_cADpyr_S1F \n",
      " 172877 S1F L5_TPC:C \n",
      " hoc = cADpyr_L5TPC \n",
      " asc = dend-Fluo18_upper_axon-vd100825_INT_idA_-_Scale_x1.000_y0.950_z1.000_-_Clone_0.asc\n"
     ]
    }
   ],
   "source": [
    "gid = node_gid[0]\n",
    "MorphoName = nodesinfo['morphology'][gid] + '.asc'\n",
    "hocName = nodesinfo['model_template'][gid][4:]  \n",
    "mcName = nodesinfo['region'][gid][:3]  \n",
    "Mtype = nodesinfo['mtype'][gid]\n",
    "cellName = nodesinfo['mtype'][gid] + '_' + nodesinfo['etype'][gid] + '_' + nodesinfo['region'][gid][:3]\n",
    "MEName = nodesinfo['mtype'][gid] + '_' + nodesinfo['etype'][gid]\n",
    "MorphohocName = nodesinfo['morphology'][gid] + '__' + nodesinfo['model_template'][gid][4:]    \n",
    "\n",
    "print('%s \\n %d %s %s \\n hoc = %s \\n asc = %s' % (cellName,gid,mcName,Mtype,hocName,MorphoName))"
   ]
  },
  {
   "cell_type": "code",
   "execution_count": 19,
   "metadata": {},
   "outputs": [
    {
     "name": "stdout",
     "output_type": "stream",
     "text": [
      "L5_TPC:C_cADpyr_S1F \t 172877 S1F L5_TPC:C \t hoc = cADpyr_L5TPC \t asc = dend-Fluo18_upper_axon-vd100825_INT_idA_-_Scale_x1.000_y0.950_z1.000_-_Clone_0.asc\n",
      "L5_TPC:A_cADpyr_S1F \t 205580 S1F L5_TPC:A \t hoc = cADpyr_L5TPC \t asc = dend-rat_20151212_LH3_cell1_axon-C060114A4_-_Scale_x1.000_y0.950_z1.000.asc\n"
     ]
    },
    {
     "data": {
      "text/plain": [
       "{172877: 'L5_TPC:C_cADpyr_S1F_0', 205580: 'L5_TPC:A_cADpyr_S1F_0'}"
      ]
     },
     "execution_count": 19,
     "metadata": {},
     "output_type": "execute_result"
    }
   ],
   "source": [
    "cellName_list = {}\n",
    "cellName_list2 = []\n",
    "\n",
    "for gid in node_gid:\n",
    "    MorphoName = nodesinfo['morphology'][gid] + '.asc'\n",
    "    hocName = nodesinfo['model_template'][gid][4:]  \n",
    "    mcName = nodesinfo['region'][gid][:3]  \n",
    "    Mtype = nodesinfo['mtype'][gid]\n",
    "    cellName = nodesinfo['mtype'][gid] + '_' + nodesinfo['etype'][gid] + '_' + nodesinfo['region'][gid][:3]\n",
    "    MEName = nodesinfo['mtype'][gid] + '_' + nodesinfo['etype'][gid]\n",
    "    MorphohocName = nodesinfo['morphology'][gid] + '__' + nodesinfo['model_template'][gid][4:]    \n",
    "\n",
    "    if cellName not in cellName_list2:\n",
    "        cellName_list2 = []\n",
    "        \n",
    "    cellName_list2.append(cellName)\n",
    "    \n",
    "    cellName_list[gid] = cellName + '_' + str(len(cellName_list2)-1)\n",
    "    # print('%s \\n %d %s %s \\n hoc = %s \\n asc = %s' % (cellName,gid,mcName,Mtype,hocName,MorphoName))\n",
    "    print('%s \\t %d %s %s \\t hoc = %s \\t asc = %s' % (cellName,gid,mcName,Mtype,hocName,MorphoName))\n",
    "    \n",
    "cellName_list"
   ]
  },
  {
   "cell_type": "code",
   "execution_count": 20,
   "metadata": {},
   "outputs": [],
   "source": [
    "for gid in node_gid:\n",
    "    \n",
    "    MorphoName = nodesinfo['morphology'][gid] + '.asc'\n",
    "    hocName = nodesinfo['model_template'][gid][4:]  \n",
    "    \n",
    "    cellName = cellName_list[gid]\n",
    "    \n",
    "    cellRule = netParams.importCellParams(label=cellName, somaAtOrigin=False,\n",
    "        conds={'cellType': cellName, 'cellModel': 'HH_full'},\n",
    "        fileName='cellwrapper.py',\n",
    "        cellName='loadCell',\n",
    "        cellInstance = True,\n",
    "        cellArgs={'hocName': hocName, 'MorphoName': MorphoName})\n",
    "    # netParams.renameCellParamsSec(label=cellName, oldSec='soma_0', newSec='soma')\n",
    "    # del netParams.cellParams[cellName]['secs']['myelin_0']"
   ]
  },
  {
   "cell_type": "code",
   "execution_count": 21,
   "metadata": {},
   "outputs": [],
   "source": [
    "# netParams.cellParams[cellName]\n",
    "for cellName in netParams.cellParams.keys():    \n",
    "    netParams.popParams[cellName] = {'cellType': cellName, 'numCells': 1, 'cellModel': 'HH_full'}"
   ]
  },
  {
   "cell_type": "code",
   "execution_count": 22,
   "metadata": {},
   "outputs": [
    {
     "data": {
      "text/plain": [
       "{L5_TPC:C_cADpyr_S1F_0: {'cellType': 'L5_TPC:C_cADpyr_S1F_0', 'numCells': 1, 'cellModel': 'HH_full'}, L5_TPC:A_cADpyr_S1F_0: {'cellType': 'L5_TPC:A_cADpyr_S1F_0', 'numCells': 1, 'cellModel': 'HH_full'}}"
      ]
     },
     "execution_count": 22,
     "metadata": {},
     "output_type": "execute_result"
    }
   ],
   "source": [
    "netParams.popParams"
   ]
  },
  {
   "cell_type": "markdown",
   "metadata": {},
   "source": [
    "## Net info"
   ]
  },
  {
   "cell_type": "code",
   "execution_count": 23,
   "metadata": {},
   "outputs": [
    {
     "name": "stdout",
     "output_type": "stream",
     "text": [
      "['POm', 'S1nonbarrel_neurons', 'VPM', 'external_S1nonbarrel_neurons__S1nonbarrel_neurons__chemical', 'external_midrange__S1nonbarrel_neurons__chemical']\n",
      "['POm__S1nonbarrel_neurons__chemical', 'S1nonbarrel_neurons__S1nonbarrel_neurons__chemical', 'VPM__S1nonbarrel_neurons__chemical', 'external_S1nonbarrel_neurons__S1nonbarrel_neurons__chemical', 'external_midrange__S1nonbarrel_neurons__chemical', 'midrange__S1nonbarrel_neurons__chemical']\n"
     ]
    }
   ],
   "source": [
    "print(list(circuit.nodes))\n",
    "print(list(circuit.edges))"
   ]
  },
  {
   "cell_type": "code",
   "execution_count": 24,
   "metadata": {},
   "outputs": [
    {
     "name": "stdout",
     "output_type": "stream",
     "text": [
      "211712\n",
      "407127134\n",
      "549126\n",
      "104319446\n"
     ]
    }
   ],
   "source": [
    "cells = circuit.nodes[\"S1nonbarrel_neurons\"]\n",
    "conn = circuit.edges[\"S1nonbarrel_neurons__S1nonbarrel_neurons__chemical\"]\n",
    "\n",
    "proj_cells = circuit.nodes[\"external_S1nonbarrel_neurons__S1nonbarrel_neurons__chemical\"]\n",
    "proj_conn = circuit.edges[\"external_S1nonbarrel_neurons__S1nonbarrel_neurons__chemical\"]\n",
    "print(cells.size)\n",
    "print(conn.size)\n",
    "print(proj_cells.size)\n",
    "print(proj_conn.size)"
   ]
  },
  {
   "cell_type": "markdown",
   "metadata": {},
   "source": [
    "### Synaptic connectivity\n",
    "\n",
    "The synaptic connectivity of the model is accessed using circ_extr.edges.\n",
    "As an example, let's find out which neurons innervate an exemplary neuron"
   ]
  },
  {
   "cell_type": "code",
   "execution_count": 25,
   "metadata": {},
   "outputs": [
    {
     "name": "stdout",
     "output_type": "stream",
     "text": [
      "gid = 172877 L5_TPC:C_cADpyr_S1F_0 \t coonected with \t gid = 205580 L5_TPC:A_cADpyr_S1F_0 \t with 6 connections\n"
     ]
    }
   ],
   "source": [
    "for gid2 in node_gid:\n",
    "# afferent edges of node_ids[gid2]\n",
    "    sampled_edge_ids = conn.afferent_edges(gid2)\n",
    "    \n",
    "    # var_list_a = sorted(conn.property_names)\n",
    "    var_list_a = ['@source_node','@target_node','conductance','conductance_scale_factor','decay_time','delay','depression_time',\n",
    "                  'facilitation_time','n_rrp_vesicles','spine_length','syn_type_id','u_hill_coefficient','u_syn']\n",
    "    connsinfo = conn.get(sampled_edge_ids,var_list_a)\n",
    "    \n",
    "    unique, counts = np.unique(list(connsinfo['@source_node'].values), return_counts=True)\n",
    "    # unique, counts \n",
    "    synNumber = dict(zip(unique, counts))\n",
    "    # synNumber\n",
    "    \n",
    "    for gid in node_gid:\n",
    "        try:\n",
    "            print(\"gid =\",gid, cellName_list[gid], \"\\t coonected with \\t gid =\",gid2,cellName_list[gid2],'\\t with',synNumber[gid], 'connections')\n",
    "        except:\n",
    "            pass #print(gid,cellName_list[gid], \"\\tnot coonected with \\t gid =\",gid2,cellName_list[gid2])"
   ]
  },
  {
   "cell_type": "code",
   "execution_count": 26,
   "metadata": {},
   "outputs": [
    {
     "data": {
      "text/html": [
       "<div>\n",
       "<style scoped>\n",
       "    .dataframe tbody tr th:only-of-type {\n",
       "        vertical-align: middle;\n",
       "    }\n",
       "\n",
       "    .dataframe tbody tr th {\n",
       "        vertical-align: top;\n",
       "    }\n",
       "\n",
       "    .dataframe thead th {\n",
       "        text-align: right;\n",
       "    }\n",
       "</style>\n",
       "<table border=\"1\" class=\"dataframe\">\n",
       "  <thead>\n",
       "    <tr style=\"text-align: right;\">\n",
       "      <th></th>\n",
       "      <th>@source_node</th>\n",
       "      <th>@target_node</th>\n",
       "      <th>conductance</th>\n",
       "      <th>conductance_scale_factor</th>\n",
       "      <th>decay_time</th>\n",
       "      <th>delay</th>\n",
       "      <th>depression_time</th>\n",
       "      <th>facilitation_time</th>\n",
       "      <th>n_rrp_vesicles</th>\n",
       "      <th>spine_length</th>\n",
       "      <th>syn_type_id</th>\n",
       "      <th>u_hill_coefficient</th>\n",
       "      <th>u_syn</th>\n",
       "    </tr>\n",
       "  </thead>\n",
       "  <tbody>\n",
       "    <tr>\n",
       "      <th>384244805</th>\n",
       "      <td>172877</td>\n",
       "      <td>205580</td>\n",
       "      <td>1.352354</td>\n",
       "      <td>0.7</td>\n",
       "      <td>1.701816</td>\n",
       "      <td>0.277626</td>\n",
       "      <td>657.764893</td>\n",
       "      <td>18.532022</td>\n",
       "      <td>1</td>\n",
       "      <td>1.997101</td>\n",
       "      <td>114</td>\n",
       "      <td>2.79</td>\n",
       "      <td>0.503898</td>\n",
       "    </tr>\n",
       "    <tr>\n",
       "      <th>384244806</th>\n",
       "      <td>172877</td>\n",
       "      <td>205580</td>\n",
       "      <td>1.352354</td>\n",
       "      <td>0.7</td>\n",
       "      <td>1.701816</td>\n",
       "      <td>0.753199</td>\n",
       "      <td>657.764893</td>\n",
       "      <td>18.532022</td>\n",
       "      <td>1</td>\n",
       "      <td>0.949710</td>\n",
       "      <td>114</td>\n",
       "      <td>2.79</td>\n",
       "      <td>0.503898</td>\n",
       "    </tr>\n",
       "    <tr>\n",
       "      <th>384244807</th>\n",
       "      <td>172877</td>\n",
       "      <td>205580</td>\n",
       "      <td>1.352354</td>\n",
       "      <td>0.7</td>\n",
       "      <td>1.701816</td>\n",
       "      <td>0.985259</td>\n",
       "      <td>657.764893</td>\n",
       "      <td>18.532022</td>\n",
       "      <td>1</td>\n",
       "      <td>2.430257</td>\n",
       "      <td>114</td>\n",
       "      <td>2.79</td>\n",
       "      <td>0.503898</td>\n",
       "    </tr>\n",
       "    <tr>\n",
       "      <th>384244808</th>\n",
       "      <td>172877</td>\n",
       "      <td>205580</td>\n",
       "      <td>1.352354</td>\n",
       "      <td>0.7</td>\n",
       "      <td>1.701816</td>\n",
       "      <td>1.012307</td>\n",
       "      <td>657.764893</td>\n",
       "      <td>18.532022</td>\n",
       "      <td>1</td>\n",
       "      <td>1.919856</td>\n",
       "      <td>114</td>\n",
       "      <td>2.79</td>\n",
       "      <td>0.503898</td>\n",
       "    </tr>\n",
       "    <tr>\n",
       "      <th>384244809</th>\n",
       "      <td>172877</td>\n",
       "      <td>205580</td>\n",
       "      <td>1.352354</td>\n",
       "      <td>0.7</td>\n",
       "      <td>1.701816</td>\n",
       "      <td>1.228024</td>\n",
       "      <td>657.764893</td>\n",
       "      <td>18.532022</td>\n",
       "      <td>1</td>\n",
       "      <td>1.060411</td>\n",
       "      <td>114</td>\n",
       "      <td>2.79</td>\n",
       "      <td>0.503898</td>\n",
       "    </tr>\n",
       "    <tr>\n",
       "      <th>384244810</th>\n",
       "      <td>172877</td>\n",
       "      <td>205580</td>\n",
       "      <td>1.352354</td>\n",
       "      <td>0.7</td>\n",
       "      <td>1.701816</td>\n",
       "      <td>1.475011</td>\n",
       "      <td>657.764893</td>\n",
       "      <td>18.532022</td>\n",
       "      <td>1</td>\n",
       "      <td>0.051591</td>\n",
       "      <td>114</td>\n",
       "      <td>2.79</td>\n",
       "      <td>0.503898</td>\n",
       "    </tr>\n",
       "  </tbody>\n",
       "</table>\n",
       "</div>"
      ],
      "text/plain": [
       "           @source_node  @target_node  conductance  conductance_scale_factor  \\\n",
       "384244805        172877        205580     1.352354                       0.7   \n",
       "384244806        172877        205580     1.352354                       0.7   \n",
       "384244807        172877        205580     1.352354                       0.7   \n",
       "384244808        172877        205580     1.352354                       0.7   \n",
       "384244809        172877        205580     1.352354                       0.7   \n",
       "384244810        172877        205580     1.352354                       0.7   \n",
       "\n",
       "           decay_time     delay  depression_time  facilitation_time  \\\n",
       "384244805    1.701816  0.277626       657.764893          18.532022   \n",
       "384244806    1.701816  0.753199       657.764893          18.532022   \n",
       "384244807    1.701816  0.985259       657.764893          18.532022   \n",
       "384244808    1.701816  1.012307       657.764893          18.532022   \n",
       "384244809    1.701816  1.228024       657.764893          18.532022   \n",
       "384244810    1.701816  1.475011       657.764893          18.532022   \n",
       "\n",
       "           n_rrp_vesicles  spine_length  syn_type_id  u_hill_coefficient  \\\n",
       "384244805               1      1.997101          114                2.79   \n",
       "384244806               1      0.949710          114                2.79   \n",
       "384244807               1      2.430257          114                2.79   \n",
       "384244808               1      1.919856          114                2.79   \n",
       "384244809               1      1.060411          114                2.79   \n",
       "384244810               1      0.051591          114                2.79   \n",
       "\n",
       "              u_syn  \n",
       "384244805  0.503898  \n",
       "384244806  0.503898  \n",
       "384244807  0.503898  \n",
       "384244808  0.503898  \n",
       "384244809  0.503898  \n",
       "384244810  0.503898  "
      ]
     },
     "execution_count": 26,
     "metadata": {},
     "output_type": "execute_result"
    }
   ],
   "source": [
    "var_list_a = ['@source_node','@target_node','conductance','conductance_scale_factor','decay_time','delay','depression_time',\n",
    "                  'facilitation_time','n_rrp_vesicles','spine_length','syn_type_id','u_hill_coefficient','u_syn']\n",
    "\n",
    "connsinfo = conn.get(sampled_edge_ids,var_list_a)\n",
    "connsinfo.get(connsinfo['@source_node']==172877)"
   ]
  },
  {
   "cell_type": "code",
   "execution_count": 27,
   "metadata": {},
   "outputs": [],
   "source": [
    "#E2 -> syn 134\n",
    "netParams.synMechParams['L5_TPC:L5_TPC'] = {'mod': 'ProbAMPANMDA_EMS',\n",
    "                                          'Dep': np.mean(connsinfo.get(connsinfo['@source_node']==172877)['depression_time'].values),\n",
    "                                          'Fac': np.mean(connsinfo.get(connsinfo['@source_node']==172877)['facilitation_time'].values),\n",
    "                                          'Use': np.mean(connsinfo.get(connsinfo['@source_node']==172877)['u_syn'].values),\n",
    "                                          'tau_d_AMPA': np.mean(connsinfo.get(connsinfo['@source_node']==172877)['decay_time'].values),\n",
    "                                          'NMDA_ratio': 0.8}"
   ]
  },
  {
   "cell_type": "code",
   "execution_count": 28,
   "metadata": {},
   "outputs": [],
   "source": [
    "# create custom list of spike times\n",
    "spkTimes = [1500, 2500,2550,2600,2650,2700,2750,2800,2850,2900,3400]\n",
    "\n",
    "netParams.popParams['presyn'] = {'cellModel': 'VecStim', 'numCells': 1, 'spkTimes': spkTimes}  # VecStim with spike times"
   ]
  },
  {
   "cell_type": "code",
   "execution_count": 29,
   "metadata": {},
   "outputs": [],
   "source": [
    "## Cell connectivity rules\n",
    "netParams.connParams['pre->post'] = { \n",
    "        'preConds': {'pop': 'presyn'},\n",
    "        'postConds': {'pop': list(netParams.popParams.keys())[0:-1]},\n",
    "        'sec': 'basal',                  # target postsyn section\n",
    "        'synMech': 'L5_TPC:L5_TPC',              # target synaptic mechanism\n",
    "        'weight': np.mean(connsinfo.get(connsinfo['@source_node']==172877)['conductance'].values),                 # synaptic weight \n",
    "        'synsPerConn': 6,\n",
    "        'delay': 0.5}      "
   ]
  },
  {
   "cell_type": "code",
   "execution_count": 30,
   "metadata": {},
   "outputs": [
    {
     "data": {
      "text/html": [
       "<div>\n",
       "<style scoped>\n",
       "    .dataframe tbody tr th:only-of-type {\n",
       "        vertical-align: middle;\n",
       "    }\n",
       "\n",
       "    .dataframe tbody tr th {\n",
       "        vertical-align: top;\n",
       "    }\n",
       "\n",
       "    .dataframe thead th {\n",
       "        text-align: right;\n",
       "    }\n",
       "</style>\n",
       "<table border=\"1\" class=\"dataframe\">\n",
       "  <thead>\n",
       "    <tr style=\"text-align: right;\">\n",
       "      <th></th>\n",
       "      <th>@dynamics:threshold_current</th>\n",
       "    </tr>\n",
       "    <tr>\n",
       "      <th>node_ids</th>\n",
       "      <th></th>\n",
       "    </tr>\n",
       "  </thead>\n",
       "  <tbody>\n",
       "    <tr>\n",
       "      <th>172877</th>\n",
       "      <td>0.190969</td>\n",
       "    </tr>\n",
       "    <tr>\n",
       "      <th>205580</th>\n",
       "      <td>0.218250</td>\n",
       "    </tr>\n",
       "  </tbody>\n",
       "</table>\n",
       "</div>"
      ],
      "text/plain": [
       "          @dynamics:threshold_current\n",
       "node_ids                             \n",
       "172877                       0.190969\n",
       "205580                       0.218250"
      ]
     },
     "execution_count": 30,
     "metadata": {},
     "output_type": "execute_result"
    }
   ],
   "source": [
    "cells.get(node_gid,['@dynamics:threshold_current'])"
   ]
  },
  {
   "cell_type": "code",
   "execution_count": 31,
   "metadata": {},
   "outputs": [
    {
     "data": {
      "text/html": [
       "<div>\n",
       "<style scoped>\n",
       "    .dataframe tbody tr th:only-of-type {\n",
       "        vertical-align: middle;\n",
       "    }\n",
       "\n",
       "    .dataframe tbody tr th {\n",
       "        vertical-align: top;\n",
       "    }\n",
       "\n",
       "    .dataframe thead th {\n",
       "        text-align: right;\n",
       "    }\n",
       "</style>\n",
       "<table border=\"1\" class=\"dataframe\">\n",
       "  <thead>\n",
       "    <tr style=\"text-align: right;\">\n",
       "      <th></th>\n",
       "      <th>@dynamics:holding_current</th>\n",
       "    </tr>\n",
       "    <tr>\n",
       "      <th>node_ids</th>\n",
       "      <th></th>\n",
       "    </tr>\n",
       "  </thead>\n",
       "  <tbody>\n",
       "    <tr>\n",
       "      <th>172877</th>\n",
       "      <td>-0.075951</td>\n",
       "    </tr>\n",
       "    <tr>\n",
       "      <th>205580</th>\n",
       "      <td>-0.090970</td>\n",
       "    </tr>\n",
       "  </tbody>\n",
       "</table>\n",
       "</div>"
      ],
      "text/plain": [
       "          @dynamics:holding_current\n",
       "node_ids                           \n",
       "172877                    -0.075951\n",
       "205580                    -0.090970"
      ]
     },
     "execution_count": 31,
     "metadata": {},
     "output_type": "execute_result"
    }
   ],
   "source": [
    "cells.get(node_gid,['@dynamics:holding_current'])"
   ]
  },
  {
   "cell_type": "code",
   "execution_count": 32,
   "metadata": {},
   "outputs": [],
   "source": [
    "# Options\n",
    "ampstim =  [-0.075951, -0.090970, 0.190969, 0.218250]\n",
    "\n",
    "netParams.stimSourceParams['Input'] = {'type': 'IClamp', 'del': 500.0, 'dur': 1000.0, 'amp': ampstim[0]}\n",
    "netParams.stimSourceParams['Inputb'] = {'type': 'IClamp', 'del': 1000.0, 'dur': 1000.0, 'amp': ampstim[2]}\n",
    "netParams.stimSourceParams['Input2'] = {'type': 'IClamp', 'del': 500.0, 'dur': 1000.0, 'amp': ampstim[1]}\n",
    "netParams.stimSourceParams['Input2b'] = {'type': 'IClamp', 'del': 1000.0, 'dur': 1000.0, 'amp': ampstim[3]}\n",
    "\n",
    "netParams.stimTargetParams['Input->all'] = {'source': 'Input', 'sec':'soma_0', 'loc': 0.5, 'conds': {'pop':'L5_TPC:C_cADpyr_S1F_0'}}\n",
    "netParams.stimTargetParams['Input->allb'] = {'source': 'Inputb', 'sec':'soma_0', 'loc': 0.5, 'conds': {'pop':'L5_TPC:C_cADpyr_S1F_0'}}\n",
    "netParams.stimTargetParams['Input->all2'] = {'source': 'Input2', 'sec':'soma_0', 'loc': 0.5, 'conds': {'pop':'L5_TPC:A_cADpyr_S1F_0'}}\n",
    "netParams.stimTargetParams['Input->all2b'] = {'source': 'Input2b', 'sec':'soma_0', 'loc': 0.5, 'conds': {'pop':'L5_TPC:A_cADpyr_S1F_0'}}"
   ]
  },
  {
   "cell_type": "code",
   "execution_count": 33,
   "metadata": {},
   "outputs": [],
   "source": [
    "#------------------------------------------------------------------------------\n",
    "# General network parameters\n",
    "#------------------------------------------------------------------------------\n",
    "netParams.scale = 1.0 # Scale factor for number of cells\n",
    "netParams.sizeX = 420.0 # x-dimension (horizontal length) size in um\n",
    "netParams.sizeY = 500.0 # y-dimension (vertical height or cortical depth) size in um\n",
    "netParams.sizeZ = 420.0 # z-dimension (horizontal depth) size in um\n",
    "netParams.shape = 'cylinder' # cylindrical (column-like) volume\n",
    "   "
   ]
  },
  {
   "cell_type": "code",
   "execution_count": 34,
   "metadata": {},
   "outputs": [],
   "source": [
    "#------------------------------------------------------------------------------\n",
    "#\n",
    "# SIMULATION CONFIGURATION\n",
    "#\n",
    "#------------------------------------------------------------------------------\n",
    "\n",
    "cfg = specs.SimConfig()\t\t\t\t\t            # object of class SimConfig to store simulation configuration\n",
    "\n",
    "cfg.coreneuron = False\n",
    "\n",
    "#------------------------------------------------------------------------------\n",
    "# Run parameters\n",
    "#------------------------------------------------------------------------------\n",
    "cfg.duration = 2.2*1e3 ## Duration of the sim, in ms  \n",
    "cfg.dt = 0.05\n",
    "cfg.seeds = {'conn': 4321, 'stim': 1000, 'loc': 4321} \n",
    "cfg.hParams = {'celsius': 34, 'v_init': -69.5}  \n",
    "cfg.verbose = False\n",
    "cfg.createNEURONObj = True\n",
    "cfg.createPyStruct = True  \n",
    "cfg.cvode_active = False\n",
    "cfg.cvode_atol = 1e-6\n",
    "cfg.cache_efficient = True\n",
    "cfg.printRunTime = 0.1\n",
    "\n",
    "cfg.includeParamsLabel = False\n",
    "cfg.printPopAvgRates = True\n",
    "cfg.checkErrors = False\n",
    "\n",
    "#--------------------------------------------------------------------------\n",
    "# Recording \n",
    "#--------------------------------------------------------------------------\n",
    "cfg.recordTraces = {'V_soma': {'sec':'soma_0', 'loc':0.5, 'var':'v'}}  ## Dict with traces to record\n",
    "cfg.recordStim = False\t\t\t\n",
    "cfg.recordTime = False  \t\t\n",
    "cfg.recordStep = 0.1       \n",
    "\n",
    "#------------------------------------------------------------------------------\n",
    "# Saving\n",
    "#------------------------------------------------------------------------------\n",
    "cfg.simLabel = 'v0_batch0'       #   + str(cfg.cynradNumber)\n",
    "cfg.saveFolder = 'exploration/data/'+cfg.simLabel\n",
    "# cfg.filename =                \t## Set file output name\n",
    "cfg.savePickle = False\t        \t## Save pkl file\n",
    "cfg.saveJson = False           \t## Save json file\n",
    "cfg.saveDataInclude = ['simData', 'simConfig', 'net', 'netParams'] ## ['simData'] ##  ['simData'] ##, , 'simConfig', 'netParams'\n",
    "cfg.backupCfgFile = None \t\t##  \n",
    "cfg.gatherOnlySimData = False\t##  \n",
    "cfg.saveCellSecs = True\t\t\t\n",
    "cfg.saveCellConns = True\t\n",
    "\n",
    "#------------------------------------------------------------------------------\n",
    "# Analysis and plotting \n",
    "# ------------------------------------------------------------------------------\n",
    "# cfg.analysis['plotRaster'] = {'include': cfg.S1cells, 'saveFig': True, 'showFig': False,'orderInverse': True, 'timeRange': [0,cfg.duration], 'figSize': (24,24), 'fontSize':4, 'markerSize':4, 'marker': 'o', 'dpi': 300} \n",
    "# cfg.analysis['plot2Dnet']   = {'include': ['presyn_L23_PC_cAD','presyn_L5_TTPC2_cAD', 'presyn_VPM_sTC','L23_PC_cAD','L5_TTPC2_cAD'],'saveFig': True, 'showConns': False, 'figSize': (24,24), 'view': 'xz', 'fontSize':16}   # Plot 2D cells xy\n",
    "# cfg.analysis['plotTraces'] = {'include': cfg.recordCells, 'oneFigPer': 'trace', 'overlay': True, 'timeRange': [0,cfg.duration], 'ylim': [-100,50], 'saveFig': True, 'showFig': False, 'figSize':(24,24)}\n",
    "\n",
    "cfg.analysis['plotTraces'] = {'include': [ii for ii in range(len(node_gid))], 'timeRange': [300,cfg.duration], 'saveFig': True, 'showFig': True, 'figSize':(12,4)} # , 'ylim': [-90,30] Plot recorded traces for this list of cells\n",
    "# cfg.analysis['plotShape'] = {'includePre':  [ii for ii in range(10)],'includePre':  [ii for ii in range(10)], 'saveFig': True, 'showFig': True, 'figSize':(12,12)}"
   ]
  },
  {
   "cell_type": "code",
   "execution_count": 35,
   "metadata": {},
   "outputs": [
    {
     "name": "stdout",
     "output_type": "stream",
     "text": [
      "\n",
      "Start time:  2023-11-17 21:12:56.923831\n"
     ]
    },
    {
     "data": {
      "text/plain": [
       "{L5_TPC:C_cADpyr_S1F_0: <netpyne.network.pop.Pop object at 0x7fed15bcd220>, L5_TPC:A_cADpyr_S1F_0: <netpyne.network.pop.Pop object at 0x7fed15bcde20>, presyn: <netpyne.network.pop.Pop object at 0x7fed159fb5e0>}"
      ]
     },
     "execution_count": 35,
     "metadata": {},
     "output_type": "execute_result"
    }
   ],
   "source": [
    "sim.initialize(\n",
    "    simConfig = cfg, \t\n",
    "    netParams = netParams)  \t\t\t\t# create network object and set cfg and net params\n",
    "sim.net.createPops()               \t\t\t# instantiate network populations"
   ]
  },
  {
   "cell_type": "code",
   "execution_count": 36,
   "metadata": {},
   "outputs": [
    {
     "name": "stdout",
     "output_type": "stream",
     "text": [
      "\n",
      "Creating network of 3 cell populations on 1 hosts...\n",
      "  Number of cells on node 0: 3 \n",
      "  Done; cell creation time = 0.21 s.\n"
     ]
    },
    {
     "data": {
      "text/plain": [
       "[compartCell_L5_TPC:C_cADpyr_S1F_0_HH_full_0,\n",
       " compartCell_L5_TPC:A_cADpyr_S1F_0_HH_full_1,\n",
       " pointCell_VecStim_2]"
      ]
     },
     "execution_count": 36,
     "metadata": {},
     "output_type": "execute_result"
    }
   ],
   "source": [
    "sim.net.createCells()              \t\t\t# instantiate network cells based on defined populations"
   ]
  },
  {
   "cell_type": "code",
   "execution_count": 37,
   "metadata": {
    "scrolled": true
   },
   "outputs": [
    {
     "name": "stdout",
     "output_type": "stream",
     "text": [
      "Making connections...\n",
      "  Number of connections on node 0: 2 \n",
      "  Number of synaptic contacts on node 0: 12 \n",
      "  Done; cell connection time = 0.00 s.\n"
     ]
    },
    {
     "data": {
      "text/plain": [
       "[[{preGid: 2, sec: 'dend_3', loc: 0.6226759639647111, synMech: 'L5_TPC:L5_TPC', weight: 1.352353572845459, delay: 0.5, preLoc: 0.5, hObj: NetCon[0]},\n",
       "  {preGid: 2, sec: 'dend_11', loc: 0.39197995105611305, synMech: 'L5_TPC:L5_TPC', weight: 1.352353572845459, delay: 0.5, preLoc: 0.5, hObj: NetCon[1]},\n",
       "  {preGid: 2, sec: 'dend_17', loc: 0.7540334479847718, synMech: 'L5_TPC:L5_TPC', weight: 1.352353572845459, delay: 0.5, preLoc: 0.5, hObj: NetCon[2]},\n",
       "  {preGid: 2, sec: 'dend_26', loc: 0.3466579287627079, synMech: 'L5_TPC:L5_TPC', weight: 1.352353572845459, delay: 0.5, preLoc: 0.5, hObj: NetCon[3]},\n",
       "  {preGid: 2, sec: 'dend_33', loc: 0.5340239935601745, synMech: 'L5_TPC:L5_TPC', weight: 1.352353572845459, delay: 0.5, preLoc: 0.5, hObj: NetCon[4]},\n",
       "  {preGid: 2, sec: 'dend_43', loc: 0.7813008101815427, synMech: 'L5_TPC:L5_TPC', weight: 1.352353572845459, delay: 0.5, preLoc: 0.5, hObj: NetCon[5]}],\n",
       " [{preGid: 2, sec: 'dend_7', loc: 0.22609404481874928, synMech: 'L5_TPC:L5_TPC', weight: 1.352353572845459, delay: 0.5, preLoc: 0.5, hObj: NetCon[6]},\n",
       "  {preGid: 2, sec: 'dend_22', loc: 0.7236231459621412, synMech: 'L5_TPC:L5_TPC', weight: 1.352353572845459, delay: 0.5, preLoc: 0.5, hObj: NetCon[7]},\n",
       "  {preGid: 2, sec: 'dend_38', loc: 0.8998620062476932, synMech: 'L5_TPC:L5_TPC', weight: 1.352353572845459, delay: 0.5, preLoc: 0.5, hObj: NetCon[8]},\n",
       "  {preGid: 2, sec: 'dend_51', loc: 0.7892984267835483, synMech: 'L5_TPC:L5_TPC', weight: 1.352353572845459, delay: 0.5, preLoc: 0.5, hObj: NetCon[9]},\n",
       "  {preGid: 2, sec: 'dend_60', loc: 0.9650214338036212, synMech: 'L5_TPC:L5_TPC', weight: 1.352353572845459, delay: 0.5, preLoc: 0.5, hObj: NetCon[10]},\n",
       "  {preGid: 2, sec: 'dend_74', loc: 0.31032764456893225, synMech: 'L5_TPC:L5_TPC', weight: 1.352353572845459, delay: 0.5, preLoc: 0.5, hObj: NetCon[11]}],\n",
       " []]"
      ]
     },
     "execution_count": 37,
     "metadata": {},
     "output_type": "execute_result"
    }
   ],
   "source": [
    "sim.net.connectCells()            \t\t\t# create connections between cells based on params"
   ]
  },
  {
   "cell_type": "code",
   "execution_count": 38,
   "metadata": {},
   "outputs": [
    {
     "name": "stdout",
     "output_type": "stream",
     "text": [
      "Adding stims...\n",
      "  Number of stims on node 0: 4 \n",
      "  Done; cell stims creation time = 0.00 s.\n"
     ]
    },
    {
     "data": {
      "text/plain": [
       "[[{label: 'Input->all', source: 'Input', sec: 'soma_0', loc: 0.5, type: 'IClamp', del: 500.0, dur: 1000.0, amp: -0.075951, hObj: IClamp[0]},\n",
       "  {label: 'Input->allb', source: 'Inputb', sec: 'soma_0', loc: 0.5, type: 'IClamp', del: 1000.0, dur: 1000.0, amp: 0.190969, hObj: IClamp[1]}],\n",
       " [{label: 'Input->all2', source: 'Input2', sec: 'soma_0', loc: 0.5, type: 'IClamp', del: 500.0, dur: 1000.0, amp: -0.09097, hObj: IClamp[2]},\n",
       "  {label: 'Input->all2b', source: 'Input2b', sec: 'soma_0', loc: 0.5, type: 'IClamp', del: 1000.0, dur: 1000.0, amp: 0.21825, hObj: IClamp[3]}],\n",
       " []]"
      ]
     },
     "execution_count": 38,
     "metadata": {},
     "output_type": "execute_result"
    }
   ],
   "source": [
    "sim.net.addStims() \t\t\t\t\t\t\t# add network stimulation"
   ]
  },
  {
   "cell_type": "code",
   "execution_count": 39,
   "metadata": {},
   "outputs": [
    {
     "name": "stdout",
     "output_type": "stream",
     "text": [
      "Recording 2 traces of 1 types on node 0\n"
     ]
    },
    {
     "data": {
      "text/plain": [
       "{spkt: Vector[50990], spkid: Vector[50991], V_soma: {cell_0: Vector[50992], cell_1: Vector[50993]}, _repr_mimebundle_: {}}"
      ]
     },
     "execution_count": 39,
     "metadata": {},
     "output_type": "execute_result"
    }
   ],
   "source": [
    "sim.setupRecording()              \t\t\t# setup variables to record for each cell (spikes, V traces, etc)"
   ]
  },
  {
   "cell_type": "code",
   "execution_count": 40,
   "metadata": {},
   "outputs": [
    {
     "name": "stdout",
     "output_type": "stream",
     "text": [
      "0.0s\n",
      "\n",
      "Running simulation using NEURON for 2200.0 ms...\n",
      "0.1s\n",
      "0.2s\n",
      "0.3s\n",
      "0.4s\n",
      "0.5s\n",
      "0.6s\n",
      "0.7s\n",
      "0.8s\n",
      "0.9s\n",
      "1.0s\n",
      "1.1s\n",
      "1.2s\n",
      "1.3s\n",
      "1.4s\n",
      "1.5s\n",
      "1.6s\n",
      "1.7s\n",
      "1.8s\n",
      "1.9s\n",
      "2.0s\n",
      "2.1s\n",
      "2.2s\n",
      "  Done; run time = 60.10 s; real-time ratio: 0.04.\n"
     ]
    }
   ],
   "source": [
    "sim.runSim()                      \t\t\t# run parallel Neuron simulation  "
   ]
  },
  {
   "cell_type": "code",
   "execution_count": 41,
   "metadata": {},
   "outputs": [
    {
     "name": "stdout",
     "output_type": "stream",
     "text": [
      "\n",
      "Gathering data...\n",
      "  Done; gather time = 0.08 s.\n",
      "\n",
      "Analyzing...\n",
      "  Cells: 3\n",
      "  Connections: 2 (0.67 per cell)\n",
      "  Synaptic contacts: 12 (4.00 per cell)\n",
      "  Spikes: 11 (1.67 Hz)\n",
      "  Simulated time: 2.2 s; 1 workers\n",
      "  Run time: 60.10 s\n",
      "   L5_TPC:C_cADpyr_S1F_0 : 2.273 Hz\n",
      "   L5_TPC:A_cADpyr_S1F_0 : 2.273 Hz\n",
      "   presyn : 0.455 Hz\n"
     ]
    }
   ],
   "source": [
    "sim.gatherData();                  \t\t\t# gather spiking data and cell info from each node"
   ]
  },
  {
   "cell_type": "code",
   "execution_count": 42,
   "metadata": {},
   "outputs": [
    {
     "name": "stdout",
     "output_type": "stream",
     "text": [
      "Warning: data won't be saved. No output format specified (consider sim.cfg.savePickle, sim.cfg.saveJson etc.)\n",
      "Plotting recorded cell traces ... cell\n"
     ]
    },
    {
     "data": {
      "image/png": "[encoded data removed]",
      "text/plain": [
       "<Figure size 1200x400 with 1 Axes>"
      ]
     },
     "metadata": {},
     "output_type": "display_data"
    },
    {
     "data": {
      "image/png": "[encoded data removed]",
      "text/plain": [
       "<Figure size 1200x400 with 1 Axes>"
      ]
     },
     "metadata": {},
     "output_type": "display_data"
    },
    {
     "name": "stdout",
     "output_type": "stream",
     "text": [
      "  Done; plotting time = 0.37 s\n",
      "\n",
      "Total time = 60.83 s\n"
     ]
    }
   ],
   "source": [
    "sim.saveData()                    \t\t\t# save params, cell info and sim output to file (pickle,mat,txt,etc)#\n",
    "sim.analysis.plotData()         \t\t\t# plot spike raster etc"
   ]
  },
  {
   "cell_type": "code",
   "execution_count": 43,
   "metadata": {},
   "outputs": [
    {
     "name": "stdout",
     "output_type": "stream",
     "text": [
      "Plotting 3D cell shape ...\n"
     ]
    },
    {
     "data": {
      "text/plain": [
       "(<Figure size 640x480 with 1 Axes>, {})"
      ]
     },
     "execution_count": 43,
     "metadata": {},
     "output_type": "execute_result"
    }
   ],
   "source": [
    "sim.analysis.plotShape(includePre= [ii for ii in range(len(node_gid))], includePost= [ii for ii in range(len(node_gid))],\n",
    "    axis=None,\n",
    "    showSyns=False,\n",
    "    showElectrodes=False,\n",
    "    synStyle='.',\n",
    "    synSize=3,\n",
    "    dist=0.6,\n",
    "    elev=90,\n",
    "    azim=-90,\n",
    "    cvar=None,\n",
    "    cvals=None,\n",
    "    clim=None,\n",
    "    iv=False,\n",
    "    ivprops=None,\n",
    "    includeAxon=False,\n",
    "    bkgColor=None,\n",
    "    aspect='auto',\n",
    "    axisLabels=False,\n",
    "    kind='shape',\n",
    "    returnPlotter=False, saveFig=True)"
   ]
  },
  {
   "cell_type": "code",
   "execution_count": 44,
   "metadata": {
    "scrolled": true
   },
   "outputs": [],
   "source": [
    "# sim.analysis.plotConn(graphType='matrix', saveFig=False)"
   ]
  },
  {
   "cell_type": "code",
   "execution_count": 45,
   "metadata": {},
   "outputs": [],
   "source": [
    "# sim.analysis.plotRaster()"
   ]
  },
  {
   "cell_type": "code",
   "execution_count": 46,
   "metadata": {},
   "outputs": [
    {
     "data": {
      "text/html": [
       "<div>\n",
       "<style scoped>\n",
       "    .dataframe tbody tr th:only-of-type {\n",
       "        vertical-align: middle;\n",
       "    }\n",
       "\n",
       "    .dataframe tbody tr th {\n",
       "        vertical-align: top;\n",
       "    }\n",
       "\n",
       "    .dataframe thead th {\n",
       "        text-align: right;\n",
       "    }\n",
       "</style>\n",
       "<table border=\"1\" class=\"dataframe\">\n",
       "  <thead>\n",
       "    <tr style=\"text-align: right;\">\n",
       "      <th></th>\n",
       "      <th>@dynamics:resting_potential</th>\n",
       "    </tr>\n",
       "    <tr>\n",
       "      <th>node_ids</th>\n",
       "      <th></th>\n",
       "    </tr>\n",
       "  </thead>\n",
       "  <tbody>\n",
       "    <tr>\n",
       "      <th>172877</th>\n",
       "      <td>-78.350899</td>\n",
       "    </tr>\n",
       "    <tr>\n",
       "      <th>205580</th>\n",
       "      <td>-77.704384</td>\n",
       "    </tr>\n",
       "  </tbody>\n",
       "</table>\n",
       "</div>"
      ],
      "text/plain": [
       "          @dynamics:resting_potential\n",
       "node_ids                             \n",
       "172877                     -78.350899\n",
       "205580                     -77.704384"
      ]
     },
     "execution_count": 46,
     "metadata": {},
     "output_type": "execute_result"
    }
   ],
   "source": [
    "cells.get(node_gid,['@dynamics:resting_potential'])"
   ]
  },
  {
   "cell_type": "code",
   "execution_count": 47,
   "metadata": {},
   "outputs": [
    {
     "name": "stdout",
     "output_type": "stream",
     "text": [
      "Plotting recorded cell traces ... trace\n"
     ]
    },
    {
     "data": {
      "image/png": "[encoded data removed]",
      "text/plain": [
       "<Figure size 1200x500 with 1 Axes>"
      ]
     },
     "metadata": {},
     "output_type": "display_data"
    }
   ],
   "source": [
    "sim.analysis.plotTraces(oneFigPer='trace',title=None,subtitles=False,overlay=True,colors=None,timeRange=[490,500], ylim=None,axis=True,legend=True,scaleBarLoc=1,\n",
    "                        figSize=(12, 5),fontSize=12,saveData=None,saveFig=None,showFig=True);"
   ]
  },
  {
   "cell_type": "code",
   "execution_count": 48,
   "metadata": {},
   "outputs": [
    {
     "name": "stdout",
     "output_type": "stream",
     "text": [
      "Plotting recorded cell traces ... trace\n"
     ]
    },
    {
     "data": {
      "image/png": "[encoded data removed]",
      "text/plain": [
       "<Figure size 1200x500 with 1 Axes>"
      ]
     },
     "metadata": {},
     "output_type": "display_data"
    }
   ],
   "source": [
    "sim.analysis.plotTraces(oneFigPer='trace',title=None,subtitles=False,overlay=True,colors=None,timeRange=[990,1000], ylim=None,axis=True,legend=True,scaleBarLoc=1,\n",
    "                        figSize=(12, 5),fontSize=12,saveData=None,saveFig=None,showFig=True);"
   ]
  },
  {
   "cell_type": "code",
   "execution_count": 49,
   "metadata": {
    "id": "GAKTsysQrUI_"
   },
   "outputs": [
    {
     "name": "stdout",
     "output_type": "stream",
     "text": [
      "Plotting 2D representation of network cell locations and connections...\n"
     ]
    },
    {
     "data": {
      "image/png": "[encoded data removed]",
      "text/plain": [
       "<Figure size 500x500 with 1 Axes>"
      ]
     },
     "metadata": {},
     "output_type": "display_data"
    }
   ],
   "source": [
    "sim.analysis.plot2Dnet(showConns=True, figSize=(5, 5),fontSize=12);"
   ]
  }
 ],
 "metadata": {
  "colab": {
   "collapsed_sections": [],
   "name": "NetProject.ipynb",
   "provenance": []
  },
  "kernelspec": {
   "display_name": "Python 3 (ipykernel)",
   "language": "python",
   "name": "python3"
  },
  "language_info": {
   "codemirror_mode": {
    "name": "ipython",
    "version": 3
   },
   "file_extension": ".py",
   "mimetype": "text/x-python",
   "name": "python",
   "nbconvert_exporter": "python",
   "pygments_lexer": "ipython3",
   "version": "3.8.16"
  }
 },
 "nbformat": 4,
 "nbformat_minor": 4
}
