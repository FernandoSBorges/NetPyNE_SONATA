{
 "cells": [
  {
   "cell_type": "code",
   "execution_count": 1,
   "id": "fa4cf670",
   "metadata": {},
   "outputs": [
    {
     "data": {
      "text/html": [
       "<style>.container { width:100% !important; }</style>"
      ],
      "text/plain": [
       "<IPython.core.display.HTML object>"
      ]
     },
     "metadata": {},
     "output_type": "display_data"
    }
   ],
   "source": [
    "from IPython.display import display, HTML\n",
    "display(HTML(\"<style>.container { width:100% !important; }</style>\"))"
   ]
  },
  {
   "cell_type": "code",
   "execution_count": 2,
   "id": "44fd089c",
   "metadata": {},
   "outputs": [
    {
     "name": "stdout",
     "output_type": "stream",
     "text": [
      " 2023.05.17.541168v3.full.pdf            \u001b[0m\u001b[01;34mO1_data_anatomy\u001b[0m/\r\n",
      "'Analyze connectivity reach.ipynb'       \u001b[01;31mO1_data_anatomy.xz\u001b[0m\r\n",
      "'Analyze connectivity strengths.ipynb'   \u001b[01;34mO1_data_physiology\u001b[0m/\r\n",
      " Circuitexamples.ipynb                   \u001b[01;31mO1_data_physiology_withfix.xz\u001b[0m\r\n",
      "'Circuit exploration examples.ipynb'     save_new_positions_3Dplots.ipynb\r\n",
      " import_3Dplots_rearange.ipynb           \u001b[01;34mSpontaneousSimulations\u001b[0m/\r\n",
      " \u001b[01;32mimport_h5infos.ipynb\u001b[0m*                  'Synaptic innervation patterns.ipynb'\r\n",
      " import_sonatafiles.ipynb                topology_analysis.log\r\n",
      " node_sets.json                          \u001b[01;34mvoxel_atlas_data\u001b[0m/\r\n",
      " nodes_new.h5\r\n"
     ]
    }
   ],
   "source": [
    "ls"
   ]
  },
  {
   "cell_type": "code",
   "execution_count": 3,
   "id": "6c59fe3c",
   "metadata": {},
   "outputs": [],
   "source": [
    "import os\n",
    "import bluepysnap  # https://bluebrainsnap.readthedocs.io/en/stable/\n",
    "import neurom  # https://neurom.readthedocs.io/en/stable/\n",
    "import pandas\n",
    "import numpy\n",
    "import scipy\n",
    "\n",
    "from neurom import viewer\n",
    "\n",
    "# fn_extr = \"/gpfs/bbp.cscs.ch/project/proj83/jira-tickets/NSETM-1948-extract-hex-O1/data/O1_data_anatomy/circuit_config.json\"\n",
    "fn_extr = \"O1_data_anatomy/circuit_config.json\"\n",
    "circ_extr = bluepysnap.Circuit(fn_extr)\n"
   ]
  },
  {
   "cell_type": "markdown",
   "id": "6b95c8aa",
   "metadata": {},
   "source": [
    "### Neuron populations and their properties\n",
    "\n",
    "The model contains a number of neuron (or node) populations. Let's list them, then I'll explain them"
   ]
  },
  {
   "cell_type": "code",
   "execution_count": 4,
   "id": "a03ced50",
   "metadata": {},
   "outputs": [
    {
     "name": "stdout",
     "output_type": "stream",
     "text": [
      "['POm', 'S1nonbarrel_neurons', 'VPM', 'external_S1nonbarrel_neurons__S1nonbarrel_neurons__chemical', 'external_midrange__S1nonbarrel_neurons__chemical']\n"
     ]
    }
   ],
   "source": [
    "print(circ_extr.nodes.population_names)"
   ]
  },
  {
   "cell_type": "markdown",
   "id": "34af5095",
   "metadata": {},
   "source": [
    "We find five populations. One population is the most important one: 'S1nonbarrel_neurons' denotes the neurons actually in the model. The ones that can be simulated. The other four denote external populations that innervate the 'S1nonbarrel_neurons':\n",
    "\n",
    "'POm' and 'VPM' are innervating neurons from those thalamic nuclei respectively. Representing a \"matrix-type\" and \"core-type\" projection respectively.\n",
    "'external_S1nonbarrel_neurons__S1nonbarrel_neurons__chemical' and 'external_midrange__S1nonbarrel_neurons__chemical' denote nonbarrel S1 neurons outside the modeled population that innervate the modeled population. The difference between them is as follows: 'external_midrange...' innervates via long-range connections, while 'external_S1...' innervates via local connections. For an explanation of \"local\" vs. \"long-range\" connections, see the accompanying manuscript. \n",
    "\n",
    "\n",
    "Now we can load the properties of the neurons in these populations."
   ]
  },
  {
   "cell_type": "code",
   "execution_count": 5,
   "id": "d90f09ce",
   "metadata": {},
   "outputs": [
    {
     "ename": "AttributeError",
     "evalue": "'generator' object has no attribute 'loc'",
     "output_type": "error",
     "traceback": [
      "\u001b[0;31m---------------------------------------------------------------------------\u001b[0m",
      "\u001b[0;31mAttributeError\u001b[0m                            Traceback (most recent call last)",
      "Cell \u001b[0;32mIn[5], line 6\u001b[0m\n\u001b[1;32m      1\u001b[0m lst_properties \u001b[38;5;241m=\u001b[39m [\u001b[38;5;124m'\u001b[39m\u001b[38;5;124mlayer\u001b[39m\u001b[38;5;124m'\u001b[39m, \u001b[38;5;124m'\u001b[39m\u001b[38;5;124mregion\u001b[39m\u001b[38;5;124m'\u001b[39m, \u001b[38;5;124m'\u001b[39m\u001b[38;5;124msynapse_class\u001b[39m\u001b[38;5;124m'\u001b[39m, \u001b[38;5;124m'\u001b[39m\u001b[38;5;124mpopulation\u001b[39m\u001b[38;5;124m'\u001b[39m,\n\u001b[1;32m      2\u001b[0m                   \u001b[38;5;124m'\u001b[39m\u001b[38;5;124morientation_x\u001b[39m\u001b[38;5;124m'\u001b[39m, \u001b[38;5;124m'\u001b[39m\u001b[38;5;124morientation_y\u001b[39m\u001b[38;5;124m'\u001b[39m, \u001b[38;5;124m'\u001b[39m\u001b[38;5;124morientation_z\u001b[39m\u001b[38;5;124m'\u001b[39m, \u001b[38;5;124m'\u001b[39m\u001b[38;5;124morientation_w\u001b[39m\u001b[38;5;124m'\u001b[39m,\n\u001b[1;32m      3\u001b[0m                   \u001b[38;5;124m'\u001b[39m\u001b[38;5;124mmorph_class\u001b[39m\u001b[38;5;124m'\u001b[39m, \u001b[38;5;124m'\u001b[39m\u001b[38;5;124mmodel_type\u001b[39m\u001b[38;5;124m'\u001b[39m, \u001b[38;5;124m'\u001b[39m\u001b[38;5;124mmtype\u001b[39m\u001b[38;5;124m'\u001b[39m, \u001b[38;5;124m'\u001b[39m\u001b[38;5;124mmorphology\u001b[39m\u001b[38;5;124m'\u001b[39m,\n\u001b[1;32m      4\u001b[0m                   \u001b[38;5;124m'\u001b[39m\u001b[38;5;124mx\u001b[39m\u001b[38;5;124m'\u001b[39m, \u001b[38;5;124m'\u001b[39m\u001b[38;5;124my\u001b[39m\u001b[38;5;124m'\u001b[39m, \u001b[38;5;124m'\u001b[39m\u001b[38;5;124mz\u001b[39m\u001b[38;5;124m'\u001b[39m]\n\u001b[1;32m      5\u001b[0m n_props \u001b[38;5;241m=\u001b[39m circ_extr\u001b[38;5;241m.\u001b[39mnodes\u001b[38;5;241m.\u001b[39mget(properties\u001b[38;5;241m=\u001b[39mlst_properties)\n\u001b[0;32m----> 6\u001b[0m display(\u001b[43mn_props\u001b[49m\u001b[38;5;241;43m.\u001b[39;49m\u001b[43mloc\u001b[49m[\u001b[38;5;124m'\u001b[39m\u001b[38;5;124mS1nonbarrel_neurons\u001b[39m\u001b[38;5;124m'\u001b[39m])\n",
      "\u001b[0;31mAttributeError\u001b[0m: 'generator' object has no attribute 'loc'"
     ]
    }
   ],
   "source": [
    "lst_properties = ['layer', 'region', 'synapse_class', 'population',\n",
    "                  'orientation_x', 'orientation_y', 'orientation_z', 'orientation_w',\n",
    "                  'morph_class', 'model_type', 'mtype', 'morphology',\n",
    "                  'x', 'y', 'z']\n",
    "n_props = circ_extr.nodes.get(properties=lst_properties)\n",
    "display(n_props.loc['S1nonbarrel_neurons'])"
   ]
  },
  {
   "cell_type": "code",
   "execution_count": 6,
   "id": "7cc40148",
   "metadata": {},
   "outputs": [],
   "source": [
    "lst_properties = ['layer']\n",
    "n_props = circ_extr.nodes.get(properties=lst_properties)"
   ]
  },
  {
   "cell_type": "code",
   "execution_count": 7,
   "id": "7db30312",
   "metadata": {},
   "outputs": [
    {
     "data": {
      "text/plain": [
       "<generator object NetworkObject.get at 0x7f606fb3ef90>"
      ]
     },
     "execution_count": 7,
     "metadata": {},
     "output_type": "execute_result"
    }
   ],
   "source": [
    "n_props"
   ]
  },
  {
   "cell_type": "markdown",
   "id": "40eee57f",
   "metadata": {},
   "source": [
    "'layer', 'region' specify in which cortical region and layer a neuron was placed.\n",
    "\n",
    "'x', 'y', 'z' specify the exact coordinate (in um) in the atlas that a neuron was placed at.\n",
    "\n",
    "'orientation_x', 'orientation_y', 'orientation_z', 'orientation_w' define a quarternion that specifies the rotation that is applied to the neuron morphology in placement.\n",
    "\n",
    "'synapse_class', 'morph_class', 'mtype' specify the class of neuron in terms of being excitatory vs inhibitory, pyramidal vs interneuron and the morphological type.\n",
    "\n",
    "'morphology' specifies the name of the morphological reconstruction of the neuron\n",
    "\n",
    "'model_type' specifies whether a neuron is actually part of the model that can be simulated (\"biophysical\") or an external innervator (\"virtual\"). As explained above, all 'S1nonbarrel_neurons' are \"biophysical\", the others are all \"virtual\".\n",
    "\n",
    "\n",
    "Note that for the \"virtual\" neurons some properties are unassigned and therefore reported as NaN. "
   ]
  },
  {
   "cell_type": "code",
   "execution_count": 14,
   "id": "00758ca2",
   "metadata": {},
   "outputs": [
    {
     "ename": "AttributeError",
     "evalue": "'generator' object has no attribute 'loc'",
     "output_type": "error",
     "traceback": [
      "\u001b[0;31m---------------------------------------------------------------------------\u001b[0m",
      "\u001b[0;31mAttributeError\u001b[0m                            Traceback (most recent call last)",
      "Cell \u001b[0;32mIn[14], line 1\u001b[0m\n\u001b[0;32m----> 1\u001b[0m display(\u001b[43mn_props\u001b[49m\u001b[38;5;241;43m.\u001b[39;49m\u001b[43mloc\u001b[49m[\u001b[38;5;124m'\u001b[39m\u001b[38;5;124mexternal_S1nonbarrel_neurons__S1nonbarrel_neurons__chemical\u001b[39m\u001b[38;5;124m'\u001b[39m])  \u001b[38;5;66;03m# Some columns are NaN\u001b[39;00m\n",
      "\u001b[0;31mAttributeError\u001b[0m: 'generator' object has no attribute 'loc'"
     ]
    }
   ],
   "source": [
    "display(n_props.loc['external_S1nonbarrel_neurons__S1nonbarrel_neurons__chemical'])  # Some columns are NaN"
   ]
  },
  {
   "cell_type": "markdown",
   "id": "2116c3de",
   "metadata": {},
   "source": [
    "### Neuron morphologies\n",
    "\n",
    "For the 'S1nonbarrel_neurons' population, we can then load their morphologies with some simple helper functions.\n",
    "\n",
    "For this example, we load and draw and exemplary neuron. For more that can be done with the loaded morphology, see the NeuroM documentation linked in the first cell of this notebook."
   ]
  },
  {
   "cell_type": "code",
   "execution_count": 21,
   "id": "fc745998",
   "metadata": {},
   "outputs": [
    {
     "ename": "AttributeError",
     "evalue": "'generator' object has no attribute 'loc'",
     "output_type": "error",
     "traceback": [
      "\u001b[0;31m---------------------------------------------------------------------------\u001b[0m",
      "\u001b[0;31mAttributeError\u001b[0m                            Traceback (most recent call last)",
      "Cell \u001b[0;32mIn[21], line 21\u001b[0m\n\u001b[1;32m     18\u001b[0m         nrn \u001b[38;5;241m=\u001b[39m transform_neuron(nrn, neuron_row)\n\u001b[1;32m     19\u001b[0m     \u001b[38;5;28;01mreturn\u001b[39;00m nrn\n\u001b[0;32m---> 21\u001b[0m nrn_morph \u001b[38;5;241m=\u001b[39m load_neuron(S1nonbarrel_cfg, \u001b[43mn_props\u001b[49m\u001b[38;5;241;43m.\u001b[39;49m\u001b[43mloc\u001b[49m[(\u001b[38;5;124m'\u001b[39m\u001b[38;5;124mS1nonbarrel_neurons\u001b[39m\u001b[38;5;124m'\u001b[39m, \u001b[38;5;241m0\u001b[39m)])\n\u001b[1;32m     22\u001b[0m viewer\u001b[38;5;241m.\u001b[39mdraw(nrn_morph)\n",
      "\u001b[0;31mAttributeError\u001b[0m: 'generator' object has no attribute 'loc'"
     ]
    }
   ],
   "source": [
    "S1nonbarrel_cfg = circ_extr.config[\"networks\"][\"nodes\"][0][\"populations\"][\"S1nonbarrel_neurons\"]\n",
    "\n",
    "def transform_neuron(nrn_morph, neuron_row):\n",
    "    rot = scipy.spatial.transform.Rotation.from_quat(neuron_row[[\"orientation_x\", \"orientation_y\",\n",
    "                                                                 \"orientation_z\", \"orientation_w\"]].values)\n",
    "    rot = neurom.geom.transform.Rotation(rot.as_matrix())\n",
    "    tl = neurom.geom.transform.Translation(neuron_row[[\"x\", \"y\", \"z\"]].values)\n",
    "    return nrn_morph.transform(rot).transform(tl)\n",
    "    \n",
    "def load_neuron(population_cfg, neuron_row, transform=True):\n",
    "    assert neuron_row[\"model_type\"] == \"biophysical\", \"Cannot load morphologies of virtual neurons\"\n",
    "    fn = os.path.join(\n",
    "        population_cfg[\"alternate_morphologies\"][\"neurolucida-asc\"],\n",
    "        neuron_row[\"morphology\"] + \".asc\"\n",
    "    )\n",
    "    nrn = neurom.load_neuron(fn)\n",
    "    if transform:\n",
    "        nrn = transform_neuron(nrn, neuron_row)\n",
    "    return nrn\n",
    "\n",
    "nrn_morph = load_neuron(S1nonbarrel_cfg, n_props.loc[('S1nonbarrel_neurons', 0)])\n",
    "viewer.draw(nrn_morph)"
   ]
  },
  {
   "cell_type": "markdown",
   "id": "b2b5a18d",
   "metadata": {},
   "source": [
    "### Synaptic connectivity\n",
    "\n",
    "The synaptic connectivity of the model is accessed using circ_extr.edges.\n",
    "As an example, let's find out which neurons innervate an exemplary neuron"
   ]
  },
  {
   "cell_type": "code",
   "execution_count": 22,
   "id": "b2bb8a6d",
   "metadata": {},
   "outputs": [
    {
     "ename": "AttributeError",
     "evalue": "'generator' object has no attribute 'loc'",
     "output_type": "error",
     "traceback": [
      "\u001b[0;31m---------------------------------------------------------------------------\u001b[0m",
      "\u001b[0;31mAttributeError\u001b[0m                            Traceback (most recent call last)",
      "Cell \u001b[0;32mIn[22], line 5\u001b[0m\n\u001b[1;32m      2\u001b[0m node_ids \u001b[38;5;241m=\u001b[39m circ_extr\u001b[38;5;241m.\u001b[39mnodes\u001b[38;5;241m.\u001b[39mids()\u001b[38;5;241m.\u001b[39mfilter_population(\u001b[38;5;124m\"\u001b[39m\u001b[38;5;124mS1nonbarrel_neurons\u001b[39m\u001b[38;5;124m\"\u001b[39m)\n\u001b[1;32m      4\u001b[0m \u001b[38;5;66;03m# This will be our examplary neuron. Let's look at its properties\u001b[39;00m\n\u001b[0;32m----> 5\u001b[0m display(\u001b[43mn_props\u001b[49m\u001b[38;5;241;43m.\u001b[39;49m\u001b[43mloc\u001b[49m[node_ids[\u001b[38;5;241m0\u001b[39m]])\n\u001b[1;32m      7\u001b[0m \u001b[38;5;66;03m# Which neurons are afferent to the first one?\u001b[39;00m\n\u001b[1;32m      8\u001b[0m aff \u001b[38;5;241m=\u001b[39m circ_extr\u001b[38;5;241m.\u001b[39medges\u001b[38;5;241m.\u001b[39mafferent_nodes(node_ids[\u001b[38;5;241m0\u001b[39m])\n",
      "\u001b[0;31mAttributeError\u001b[0m: 'generator' object has no attribute 'loc'"
     ]
    }
   ],
   "source": [
    "# The method we use below requires node ids as input. So we load the ids of the \"S1nonbarrel_neurons\"\n",
    "node_ids = circ_extr.nodes.ids().filter_population(\"S1nonbarrel_neurons\")\n",
    "\n",
    "# This will be our examplary neuron. Let's look at its properties\n",
    "display(n_props.loc[node_ids[0]])\n",
    "\n",
    "# Which neurons are afferent to the first one?\n",
    "aff = circ_extr.edges.afferent_nodes(node_ids[0])\n",
    "# What's returned can be used as index into the neuron properties data frame\n",
    "aff_props = n_props.loc[aff]\n",
    "\n",
    "# Look at the regions of neurons innervating the exemplary one from within the model population\n",
    "display(aff_props[\"region\"][\"S1nonbarrel_neurons\"].value_counts())"
   ]
  },
  {
   "cell_type": "markdown",
   "id": "22d8b554",
   "metadata": {},
   "source": [
    "We see that the exemplary neuron is a L1_DAC neuron in the S1FL (front limb) area. From within the modeled population, it is mostly innervated by other S1FL neurons.\n",
    "\n",
    "Let's see what external neurons innervate it."
   ]
  },
  {
   "cell_type": "code",
   "execution_count": 6,
   "id": "60ec58c8",
   "metadata": {},
   "outputs": [
    {
     "data": {
      "text/plain": [
       "S1FL     37\n",
       "S1DZ      9\n",
       "S1J       8\n",
       "S1ULp     6\n",
       "Name: region, dtype: int64"
      ]
     },
     "metadata": {},
     "output_type": "display_data"
    },
    {
     "data": {
      "text/plain": [
       "S1ULp    135\n",
       "S1HL      84\n",
       "S1FL      43\n",
       "S1DZ      37\n",
       "S1J       36\n",
       "S1Tr      36\n",
       "S1DZO      6\n",
       "S1Sh       5\n",
       "Name: region, dtype: int64"
      ]
     },
     "metadata": {},
     "output_type": "display_data"
    }
   ],
   "source": [
    "# External innervation via local connections\n",
    "display(aff_props[\"region\"][\"external_S1nonbarrel_neurons__S1nonbarrel_neurons__chemical\"].value_counts())\n",
    "\n",
    "# External innervation via long-range connections\n",
    "display(aff_props[\"region\"][\"external_midrange__S1nonbarrel_neurons__chemical\"].value_counts())\n"
   ]
  },
  {
   "cell_type": "markdown",
   "id": "e7588e6d",
   "metadata": {},
   "source": [
    "Unsurprisingly, we see that external innervation via local connection comes also mostly from S1FL. For long-range connections though, S1ULp is dominating."
   ]
  },
  {
   "cell_type": "markdown",
   "id": "bd83772d",
   "metadata": {},
   "source": [
    "Properties of the synapses (such as their dendritic and axon locations) can be accessed as follows:"
   ]
  },
  {
   "cell_type": "code",
   "execution_count": 10,
   "id": "e7659f05",
   "metadata": {},
   "outputs": [
    {
     "data": {
      "text/html": [
       "<div>\n",
       "<style scoped>\n",
       "    .dataframe tbody tr th:only-of-type {\n",
       "        vertical-align: middle;\n",
       "    }\n",
       "\n",
       "    .dataframe tbody tr th {\n",
       "        vertical-align: top;\n",
       "    }\n",
       "\n",
       "    .dataframe thead th {\n",
       "        text-align: right;\n",
       "    }\n",
       "</style>\n",
       "<table border=\"1\" class=\"dataframe\">\n",
       "  <thead>\n",
       "    <tr style=\"text-align: right;\">\n",
       "      <th></th>\n",
       "      <th></th>\n",
       "      <th>afferent_section_id</th>\n",
       "      <th>afferent_segment_id</th>\n",
       "      <th>afferent_segment_offset</th>\n",
       "    </tr>\n",
       "    <tr>\n",
       "      <th>population</th>\n",
       "      <th>edge_ids</th>\n",
       "      <th></th>\n",
       "      <th></th>\n",
       "      <th></th>\n",
       "    </tr>\n",
       "  </thead>\n",
       "  <tbody>\n",
       "    <tr>\n",
       "      <th rowspan=\"5\" valign=\"top\">POm__S1nonbarrel_neurons__chemical</th>\n",
       "      <th>0</th>\n",
       "      <td>208</td>\n",
       "      <td>96</td>\n",
       "      <td>0.687199</td>\n",
       "    </tr>\n",
       "    <tr>\n",
       "      <th>1</th>\n",
       "      <td>208</td>\n",
       "      <td>47</td>\n",
       "      <td>0.731116</td>\n",
       "    </tr>\n",
       "    <tr>\n",
       "      <th>2</th>\n",
       "      <td>201</td>\n",
       "      <td>107</td>\n",
       "      <td>3.612747</td>\n",
       "    </tr>\n",
       "    <tr>\n",
       "      <th>3</th>\n",
       "      <td>201</td>\n",
       "      <td>100</td>\n",
       "      <td>1.182481</td>\n",
       "    </tr>\n",
       "    <tr>\n",
       "      <th>4</th>\n",
       "      <td>212</td>\n",
       "      <td>97</td>\n",
       "      <td>0.85173</td>\n",
       "    </tr>\n",
       "    <tr>\n",
       "      <th>...</th>\n",
       "      <th>...</th>\n",
       "      <td>...</td>\n",
       "      <td>...</td>\n",
       "      <td>...</td>\n",
       "    </tr>\n",
       "    <tr>\n",
       "      <th rowspan=\"5\" valign=\"top\">external_midrange__S1nonbarrel_neurons__chemical</th>\n",
       "      <th>543</th>\n",
       "      <td>176</td>\n",
       "      <td>8</td>\n",
       "      <td>1.091046</td>\n",
       "    </tr>\n",
       "    <tr>\n",
       "      <th>544</th>\n",
       "      <td>178</td>\n",
       "      <td>78</td>\n",
       "      <td>0.093693</td>\n",
       "    </tr>\n",
       "    <tr>\n",
       "      <th>545</th>\n",
       "      <td>185</td>\n",
       "      <td>71</td>\n",
       "      <td>0.189781</td>\n",
       "    </tr>\n",
       "    <tr>\n",
       "      <th>546</th>\n",
       "      <td>185</td>\n",
       "      <td>146</td>\n",
       "      <td>0.38004</td>\n",
       "    </tr>\n",
       "    <tr>\n",
       "      <th>547</th>\n",
       "      <td>182</td>\n",
       "      <td>9</td>\n",
       "      <td>1.365389</td>\n",
       "    </tr>\n",
       "  </tbody>\n",
       "</table>\n",
       "<p>1179 rows × 3 columns</p>\n",
       "</div>"
      ],
      "text/plain": [
       "                                                          afferent_section_id  \\\n",
       "population                                       edge_ids                       \n",
       "POm__S1nonbarrel_neurons__chemical               0                        208   \n",
       "                                                 1                        208   \n",
       "                                                 2                        201   \n",
       "                                                 3                        201   \n",
       "                                                 4                        212   \n",
       "...                                                                       ...   \n",
       "external_midrange__S1nonbarrel_neurons__chemical 543                      176   \n",
       "                                                 544                      178   \n",
       "                                                 545                      185   \n",
       "                                                 546                      185   \n",
       "                                                 547                      182   \n",
       "\n",
       "                                                          afferent_segment_id  \\\n",
       "population                                       edge_ids                       \n",
       "POm__S1nonbarrel_neurons__chemical               0                         96   \n",
       "                                                 1                         47   \n",
       "                                                 2                        107   \n",
       "                                                 3                        100   \n",
       "                                                 4                         97   \n",
       "...                                                                       ...   \n",
       "external_midrange__S1nonbarrel_neurons__chemical 543                        8   \n",
       "                                                 544                       78   \n",
       "                                                 545                       71   \n",
       "                                                 546                      146   \n",
       "                                                 547                        9   \n",
       "\n",
       "                                                          afferent_segment_offset  \n",
       "population                                       edge_ids                          \n",
       "POm__S1nonbarrel_neurons__chemical               0                       0.687199  \n",
       "                                                 1                       0.731116  \n",
       "                                                 2                       3.612747  \n",
       "                                                 3                       1.182481  \n",
       "                                                 4                        0.85173  \n",
       "...                                                                           ...  \n",
       "external_midrange__S1nonbarrel_neurons__chemical 543                     1.091046  \n",
       "                                                 544                     0.093693  \n",
       "                                                 545                     0.189781  \n",
       "                                                 546                      0.38004  \n",
       "                                                 547                     1.365389  \n",
       "\n",
       "[1179 rows x 3 columns]"
      ]
     },
     "execution_count": 10,
     "metadata": {},
     "output_type": "execute_result"
    }
   ],
   "source": [
    "circ_extr.edges.afferent_edges(node_ids[0], properties=['afferent_section_id',\n",
    "                                                        'afferent_segment_id', \n",
    "                                                        'afferent_segment_offset'])"
   ]
  },
  {
   "cell_type": "markdown",
   "id": "033d8cbc",
   "metadata": {},
   "source": [
    "These were just simple examples. For more analyses on the connectivity, see the SONATA documentation, and the bluepysnap documentation linked in the first cell."
   ]
  }
 ],
 "metadata": {
  "kernelspec": {
   "display_name": "Python 3 (ipykernel)",
   "language": "python",
   "name": "python3"
  },
  "language_info": {
   "codemirror_mode": {
    "name": "ipython",
    "version": 3
   },
   "file_extension": ".py",
   "mimetype": "text/x-python",
   "name": "python",
   "nbconvert_exporter": "python",
   "pygments_lexer": "ipython3",
   "version": "3.8.16"
  }
 },
 "nbformat": 4,
 "nbformat_minor": 5
}
